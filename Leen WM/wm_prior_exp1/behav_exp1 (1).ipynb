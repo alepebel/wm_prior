{
 "cells": [
  {
   "cell_type": "code",
   "execution_count": 10,
   "metadata": {},
   "outputs": [],
   "source": [
    "#pip install scikits-bootstrap --user\n",
    "#pip install pymicro --user\n",
    "#pip install vtk --user"
   ]
  },
  {
   "cell_type": "markdown",
   "metadata": {},
   "source": [
    "Basic imports"
   ]
  },
  {
   "cell_type": "code",
   "execution_count": 11,
   "metadata": {},
   "outputs": [],
   "source": [
    "import psychopy\n"
   ]
  },
  {
   "cell_type": "code",
   "execution_count": 12,
   "metadata": {},
   "outputs": [],
   "source": [
    "import os, glob, platform, sys\n",
    "import numpy as np\n",
    "import numpy.matlib\n",
    "import pickle\n",
    "import pandas as pd\n",
    "import matplotlib.pyplot as plt\n",
    "import seaborn as sns\n",
    "import sys\n",
    "\n",
    "from scipy import *\n",
    "from matplotlib.pyplot import *"
   ]
  },
  {
   "cell_type": "code",
   "execution_count": 2,
   "metadata": {},
   "outputs": [
    {
     "ename": "NameError",
     "evalue": "name 'os' is not defined",
     "output_type": "error",
     "traceback": [
      "\u001b[0;31m---------------------------------------------------------------------------\u001b[0m",
      "\u001b[0;31mNameError\u001b[0m                                 Traceback (most recent call last)",
      "\u001b[0;32m/var/folders/r9/cr9dfv5j4v9ghnsqpsk0syy40000gn/T/ipykernel_35548/725977321.py\u001b[0m in \u001b[0;36m<module>\u001b[0;34m\u001b[0m\n\u001b[1;32m      1\u001b[0m \u001b[0;31m# Importing behavioral data from experiment\u001b[0m\u001b[0;34m\u001b[0m\u001b[0;34m\u001b[0m\u001b[0;34m\u001b[0m\u001b[0m\n\u001b[0;32m----> 2\u001b[0;31m \u001b[0msys_dir\u001b[0m \u001b[0;34m=\u001b[0m \u001b[0mos\u001b[0m\u001b[0;34m.\u001b[0m\u001b[0mpath\u001b[0m\u001b[0;34m.\u001b[0m\u001b[0mjoin\u001b[0m\u001b[0;34m(\u001b[0m\u001b[0;34m'/Users'\u001b[0m\u001b[0;34m,\u001b[0m\u001b[0;34m'leenfarah'\u001b[0m\u001b[0;34m,\u001b[0m\u001b[0;34m'Desktop'\u001b[0m\u001b[0;34m)\u001b[0m\u001b[0;34m\u001b[0m\u001b[0;34m\u001b[0m\u001b[0m\n\u001b[0m\u001b[1;32m      3\u001b[0m \u001b[0mproj_dir\u001b[0m \u001b[0;34m=\u001b[0m \u001b[0mos\u001b[0m\u001b[0;34m.\u001b[0m\u001b[0mpath\u001b[0m\u001b[0;34m.\u001b[0m\u001b[0mjoin\u001b[0m\u001b[0;34m(\u001b[0m\u001b[0msys_dir\u001b[0m\u001b[0;34m,\u001b[0m\u001b[0;34m'wm_prior'\u001b[0m\u001b[0;34m,\u001b[0m\u001b[0;34m'SResults'\u001b[0m\u001b[0;34m)\u001b[0m\u001b[0;34m\u001b[0m\u001b[0;34m\u001b[0m\u001b[0m\n\u001b[1;32m      4\u001b[0m \u001b[0mos\u001b[0m\u001b[0;34m.\u001b[0m\u001b[0mchdir\u001b[0m\u001b[0;34m(\u001b[0m\u001b[0;34m\"/Users/leenfarah/Desktop/wm_prior/SResults/\"\u001b[0m\u001b[0;34m)\u001b[0m\u001b[0;34m\u001b[0m\u001b[0;34m\u001b[0m\u001b[0m\n\u001b[1;32m      5\u001b[0m \u001b[0mprint\u001b[0m\u001b[0;34m(\u001b[0m\u001b[0mos\u001b[0m\u001b[0;34m.\u001b[0m\u001b[0mgetcwd\u001b[0m\u001b[0;34m(\u001b[0m\u001b[0;34m)\u001b[0m\u001b[0;34m)\u001b[0m\u001b[0;34m\u001b[0m\u001b[0;34m\u001b[0m\u001b[0m\n",
      "\u001b[0;31mNameError\u001b[0m: name 'os' is not defined"
     ]
    }
   ],
   "source": [
    "# Importing behavioral data from experiment \n",
    "sys_dir = os.path.join('/Users','leenfarah','Desktop')\n",
    "proj_dir = os.path.join(sys_dir,'wm_prior','SResults')\n",
    "os.chdir(\"/Users/leenfarah/Desktop/wm_prior/SResults/\")\n",
    "print(os.getcwd()) \n"
   ]
  },
  {
   "cell_type": "code",
   "execution_count": 3,
   "metadata": {},
   "outputs": [
    {
     "name": "stdout",
     "output_type": "stream",
     "text": [
      "Requirement already satisfied: mne in /opt/anaconda3/envs/wm_exp/lib/python3.8/site-packages (1.3.1)\n",
      "Requirement already satisfied: pooch>=1.5 in /opt/anaconda3/envs/wm_exp/lib/python3.8/site-packages (from mne) (1.7.0)\n",
      "Requirement already satisfied: jinja2 in /opt/anaconda3/envs/wm_exp/lib/python3.8/site-packages (from mne) (3.1.2)\n",
      "Requirement already satisfied: numpy>=1.15.4 in /opt/anaconda3/envs/wm_exp/lib/python3.8/site-packages (from mne) (1.21.5)\n",
      "Requirement already satisfied: tqdm in /opt/anaconda3/envs/wm_exp/lib/python3.8/site-packages (from mne) (4.64.1)\n",
      "Requirement already satisfied: matplotlib in /opt/anaconda3/envs/wm_exp/lib/python3.8/site-packages (from mne) (3.6.2)\n",
      "Requirement already satisfied: decorator in /opt/anaconda3/envs/wm_exp/lib/python3.8/site-packages (from mne) (4.4.2)\n",
      "Requirement already satisfied: scipy>=1.1.0 in /opt/anaconda3/envs/wm_exp/lib/python3.8/site-packages (from mne) (1.7.3)\n",
      "Requirement already satisfied: packaging in /opt/anaconda3/envs/wm_exp/lib/python3.8/site-packages (from mne) (22.0)\n",
      "Requirement already satisfied: platformdirs>=2.5.0 in /opt/anaconda3/envs/wm_exp/lib/python3.8/site-packages (from pooch>=1.5->mne) (2.5.2)\n",
      "Requirement already satisfied: requests>=2.19.0 in /opt/anaconda3/envs/wm_exp/lib/python3.8/site-packages (from pooch>=1.5->mne) (2.28.1)\n",
      "Requirement already satisfied: MarkupSafe>=2.0 in /opt/anaconda3/envs/wm_exp/lib/python3.8/site-packages (from jinja2->mne) (2.1.1)\n",
      "Requirement already satisfied: kiwisolver>=1.0.1 in /opt/anaconda3/envs/wm_exp/lib/python3.8/site-packages (from matplotlib->mne) (1.4.4)\n",
      "Requirement already satisfied: contourpy>=1.0.1 in /opt/anaconda3/envs/wm_exp/lib/python3.8/site-packages (from matplotlib->mne) (1.0.5)\n",
      "Requirement already satisfied: cycler>=0.10 in /opt/anaconda3/envs/wm_exp/lib/python3.8/site-packages (from matplotlib->mne) (0.11.0)\n",
      "Requirement already satisfied: python-dateutil>=2.7 in /opt/anaconda3/envs/wm_exp/lib/python3.8/site-packages (from matplotlib->mne) (2.8.2)\n",
      "Requirement already satisfied: pillow>=6.2.0 in /opt/anaconda3/envs/wm_exp/lib/python3.8/site-packages (from matplotlib->mne) (9.3.0)\n",
      "Requirement already satisfied: fonttools>=4.22.0 in /opt/anaconda3/envs/wm_exp/lib/python3.8/site-packages (from matplotlib->mne) (4.25.0)\n",
      "Requirement already satisfied: pyparsing>=2.2.1 in /opt/anaconda3/envs/wm_exp/lib/python3.8/site-packages (from matplotlib->mne) (3.0.9)\n",
      "Requirement already satisfied: six>=1.5 in /opt/anaconda3/envs/wm_exp/lib/python3.8/site-packages (from python-dateutil>=2.7->matplotlib->mne) (1.16.0)\n",
      "Requirement already satisfied: charset-normalizer<3,>=2 in /opt/anaconda3/envs/wm_exp/lib/python3.8/site-packages (from requests>=2.19.0->pooch>=1.5->mne) (2.0.4)\n",
      "Requirement already satisfied: idna<4,>=2.5 in /opt/anaconda3/envs/wm_exp/lib/python3.8/site-packages (from requests>=2.19.0->pooch>=1.5->mne) (3.4)\n",
      "Requirement already satisfied: urllib3<1.27,>=1.21.1 in /opt/anaconda3/envs/wm_exp/lib/python3.8/site-packages (from requests>=2.19.0->pooch>=1.5->mne) (1.26.14)\n",
      "Requirement already satisfied: certifi>=2017.4.17 in /opt/anaconda3/envs/wm_exp/lib/python3.8/site-packages (from requests>=2.19.0->pooch>=1.5->mne) (2022.12.7)\n"
     ]
    }
   ],
   "source": [
    "from random import shuffle, sample\n",
    "from numpy.linalg import norm\n",
    "import statsmodels.nonparametric.smoothers_lowess as loess\n",
    "from scipy.io import *\n",
    "from circ_stats import * \t\t\t\t\t\t\t\t# File needs to be in the wd\n",
    "from time import time, sleep\n",
    "\n",
    "%matplotlib inline\n",
    "\n",
    "!pip install mne\n",
    "\n",
    "# mne libraries\n",
    "import shutil as sh\n",
    "import mne\n",
    "from mne.datasets import eegbci\n",
    "from pymicro.view.vol_utils import compute_affine_transform\n",
    "\n",
    "\n",
    "\n",
    "\n"
   ]
  },
  {
   "attachments": {},
   "cell_type": "markdown",
   "metadata": {},
   "source": [
    "__Reading the behavioral data__\n",
    "\n",
    "Generating paths"
   ]
  },
  {
   "cell_type": "code",
   "execution_count": 4,
   "metadata": {
    "ExecuteTime": {
     "end_time": "2021-08-10T19:48:09.263735Z",
     "start_time": "2021-08-10T19:48:09.248579Z"
    }
   },
   "outputs": [],
   "source": [
    "#%% FUNCTIONS\n",
    "def len2(x):\n",
    "\tif type(x) is not type([]):\n",
    "\t\tif type(x) is not type(array([])):\n",
    "\t\t\treturn -1\n",
    "\treturn len(x)\n",
    "\n",
    "def circdist(angles1,angles2):\n",
    "    if len2(angles2) < 0:\n",
    "        if len2(angles1) > 0:\n",
    "            angles2 = [angles2]*len(angles1)\n",
    "        else:\n",
    "            angles2 = [angles2]\n",
    "            angles1 = [angles1]\n",
    "    if len2(angles1) < 0:\n",
    "        angles1 = [angles1]*len(angles2)\n",
    "        \n",
    "    return np.angle(exp(1j*angles1)/exp(1j*angles2))\n",
    "        \n",
    "    #return amap(lambda a1,a2: phase2(exp(1j*a1)/exp(1j*a2)), angles1,angles2)\n",
    "\n",
    "def circ_mean(x):\n",
    "\treturn circmean(x,low=-pi,high=pi)\n",
    "\n",
    "def rem_sys_err(report,target,w):\n",
    "    n=[]\n",
    "    for x in arange(-pi,pi,w):\n",
    "        d=circdist(target,x)\n",
    "        idx = (d >= x) & (d<x+w)\n",
    "        report[idx] = circdist(report[idx],circmean(circdist(report[idx],target[idx]),low=-pi,high=pi))\n",
    "        n.append(sum(idx))\n",
    "        \n",
    "    return report,n\n",
    "\n",
    "def rem_sys_err2(report,target,frac=.25):\n",
    "    #''' Removes from the response the systematic error of the subject.'''\n",
    "    fit_resp = loess.lowess(report, target, frac = frac, return_sorted = False)\n",
    "    fit_error = circdist(fit_resp, target)\n",
    "    clean_res = circdist(report, fit_error) # Clean response ?\n",
    "    return clean_res\n",
    "\n",
    "def circdist(angles1,angles2):       \n",
    "    return np.angle(np.exp(1j*angles1)/np.exp(1j*angles2))"
   ]
  },
  {
   "cell_type": "code",
   "execution_count": 5,
   "metadata": {},
   "outputs": [],
   "source": [
    "def vfilter(x, var):\n",
    "    return x.loc[(abs(x[var] ) < 3*std(abs(x[var] ))) & (abs(x[var] ) > 1)]"
   ]
  },
  {
   "cell_type": "code",
   "execution_count": 6,
   "metadata": {},
   "outputs": [],
   "source": [
    "def circular_hist(ax, x, bins=16, density=True, offset=0, gaps=True, color = 'C0'):\n",
    "    \"\"\"\n",
    "    Produce a circular histogram of angles on ax.\n",
    "\n",
    "    Parameters\n",
    "    ----------\n",
    "    ax : matplotlib.axes._subplots.PolarAxesSubplot\n",
    "        axis instance created with subplot_kw=dict(projection='polar').\n",
    "\n",
    "    x : array\n",
    "        Angles to plot, expected in units of radians.\n",
    "\n",
    "    bins : int, optional\n",
    "        Defines the number of equal-width bins in the range. The default is 16.\n",
    "\n",
    "    density : bool, optional\n",
    "        If True plot frequency proportional to area. If False plot frequency\n",
    "        proportional to radius. The default is True.\n",
    "\n",
    "    offset : float, optional\n",
    "        Sets the offset for the location of the 0 direction in units of\n",
    "        radians. The default is 0.\n",
    "\n",
    "    gaps : bool, optional\n",
    "        Whether to allow gaps between bins. When gaps = False the bins are\n",
    "        forced to partition the entire [-pi, pi] range. The default is True.\n",
    "\n",
    "    Returns\n",
    "    -------\n",
    "    n : array or list of arrays\n",
    "        The number of values in each bin.\n",
    "\n",
    "    bins : array\n",
    "        The edges of the bins.\n",
    "\n",
    "    patches : `.BarContainer` or list of a single `.Polygon`\n",
    "        Container of individual artists used to create the histogram\n",
    "        or list of such containers if there are multiple input datasets.\n",
    "    \"\"\"\n",
    "    # Wrap angles to [-pi, pi)\n",
    "    x = (x+np.pi) % (2*np.pi) - np.pi\n",
    "\n",
    "    # Force bins to partition entire circle\n",
    "    if not gaps:\n",
    "        bins = np.linspace(-np.pi, np.pi, num=bins+1)\n",
    "\n",
    "    # Bin data and record counts\n",
    "    n, bins = np.histogram(x, bins=bins)\n",
    "\n",
    "    # Compute width of each bin\n",
    "    widths = np.diff(bins)\n",
    "\n",
    "    # By default plot frequency proportional to area\n",
    "    if density:\n",
    "        # Area to assign each bin\n",
    "        area = n / x.size\n",
    "        # Calculate corresponding bin radius\n",
    "        radius = (area/np.pi) ** .5\n",
    "    # Otherwise plot frequency proportional to radius\n",
    "    else:\n",
    "        radius = n\n",
    "\n",
    "    # Plot data on ax\n",
    "    patches = ax.bar(bins[:-1], radius, zorder=1, align='edge', width=widths,\n",
    "                     edgecolor=color, fill=False, linewidth=1)\n",
    "\n",
    "    # Set the direction of the zero angle\n",
    "    ax.set_theta_offset(offset)\n",
    "\n",
    "    # Remove ylabels for area plots (they are mostly obstructive)\n",
    "    if density:\n",
    "        ax.set_yticks([])\n",
    "\n",
    "    return n, bins, patches"
   ]
  },
  {
   "cell_type": "code",
   "execution_count": 7,
   "metadata": {},
   "outputs": [
    {
     "ename": "NameError",
     "evalue": "name 'proj_dir' is not defined",
     "output_type": "error",
     "traceback": [
      "\u001b[0;31m---------------------------------------------------------------------------\u001b[0m",
      "\u001b[0;31mNameError\u001b[0m                                 Traceback (most recent call last)",
      "\u001b[0;32m/var/folders/r9/cr9dfv5j4v9ghnsqpsk0syy40000gn/T/ipykernel_35548/367678135.py\u001b[0m in \u001b[0;36m<module>\u001b[0;34m\u001b[0m\n\u001b[0;32m----> 1\u001b[0;31m \u001b[0mproj_dir\u001b[0m\u001b[0;34m\u001b[0m\u001b[0;34m\u001b[0m\u001b[0m\n\u001b[0m",
      "\u001b[0;31mNameError\u001b[0m: name 'proj_dir' is not defined"
     ]
    }
   ],
   "source": [
    "proj_dir"
   ]
  },
  {
   "cell_type": "code",
   "execution_count": 8,
   "metadata": {},
   "outputs": [
    {
     "ename": "NameError",
     "evalue": "name 'os' is not defined",
     "output_type": "error",
     "traceback": [
      "\u001b[0;31m---------------------------------------------------------------------------\u001b[0m",
      "\u001b[0;31mNameError\u001b[0m                                 Traceback (most recent call last)",
      "\u001b[0;32m/var/folders/r9/cr9dfv5j4v9ghnsqpsk0syy40000gn/T/ipykernel_35548/1725675234.py\u001b[0m in \u001b[0;36m<module>\u001b[0;34m\u001b[0m\n\u001b[0;32m----> 1\u001b[0;31m \u001b[0mos\u001b[0m\u001b[0;34m.\u001b[0m\u001b[0mpath\u001b[0m\u001b[0;34m.\u001b[0m\u001b[0mjoin\u001b[0m\u001b[0;34m(\u001b[0m\u001b[0mproj_dir\u001b[0m\u001b[0;34m,\u001b[0m\u001b[0mfile\u001b[0m\u001b[0;34m)\u001b[0m\u001b[0;34m\u001b[0m\u001b[0;34m\u001b[0m\u001b[0m\n\u001b[0m",
      "\u001b[0;31mNameError\u001b[0m: name 'os' is not defined"
     ]
    }
   ],
   "source": [
    "os.path.join(proj_dir,file)"
   ]
  },
  {
   "cell_type": "code",
   "execution_count": 138,
   "metadata": {},
   "outputs": [
    {
     "name": "stdout",
     "output_type": "stream",
     "text": [
      "Object `` not found.\n",
      "File `'.py'` not found.\n"
     ]
    }
   ],
   "source": [
    " /Users/leenfarah/Desktop/wm_prior/SResults/\n"
   ]
  },
  {
   "cell_type": "code",
   "execution_count": 15,
   "metadata": {},
   "outputs": [
    {
     "ename": "UnicodeDecodeError",
     "evalue": "'utf-8' codec can't decode byte 0x80 in position 0: invalid start byte",
     "output_type": "error",
     "traceback": [
      "\u001b[0;31m---------------------------------------------------------------------------\u001b[0m",
      "\u001b[0;31mUnicodeDecodeError\u001b[0m                        Traceback (most recent call last)",
      "\u001b[0;32m/var/folders/r9/cr9dfv5j4v9ghnsqpsk0syy40000gn/T/ipykernel_1245/706785834.py\u001b[0m in \u001b[0;36m<module>\u001b[0;34m\u001b[0m\n\u001b[1;32m      6\u001b[0m     \u001b[0msubjdata\u001b[0m \u001b[0;34m=\u001b[0m \u001b[0mpd\u001b[0m\u001b[0;34m.\u001b[0m\u001b[0mDataFrame\u001b[0m\u001b[0;34m(\u001b[0m\u001b[0;34m[\u001b[0m\u001b[0;34m]\u001b[0m\u001b[0;34m)\u001b[0m \u001b[0;31m# initialize individual subject data variable container\u001b[0m\u001b[0;34m\u001b[0m\u001b[0;34m\u001b[0m\u001b[0m\n\u001b[1;32m      7\u001b[0m     \u001b[0mpfile\u001b[0m \u001b[0;34m=\u001b[0m  \u001b[0mopen\u001b[0m\u001b[0;34m(\u001b[0m\u001b[0mos\u001b[0m\u001b[0;34m.\u001b[0m\u001b[0mpath\u001b[0m\u001b[0;34m.\u001b[0m\u001b[0mjoin\u001b[0m\u001b[0;34m(\u001b[0m\u001b[0mproj_dir\u001b[0m\u001b[0;34m,\u001b[0m\u001b[0mfile\u001b[0m\u001b[0;34m)\u001b[0m\u001b[0;34m)\u001b[0m\u001b[0;34m\u001b[0m\u001b[0;34m\u001b[0m\u001b[0m\n\u001b[0;32m----> 8\u001b[0;31m     \u001b[0mdat\u001b[0m \u001b[0;34m=\u001b[0m \u001b[0mpickle\u001b[0m\u001b[0;34m.\u001b[0m\u001b[0mload\u001b[0m\u001b[0;34m(\u001b[0m\u001b[0mpfile\u001b[0m\u001b[0;34m)\u001b[0m\u001b[0;34m\u001b[0m\u001b[0;34m\u001b[0m\u001b[0m\n\u001b[0m\u001b[1;32m      9\u001b[0m     \u001b[0msubjdata\u001b[0m \u001b[0;34m=\u001b[0m \u001b[0mpd\u001b[0m\u001b[0;34m.\u001b[0m\u001b[0mDataFrame\u001b[0m\u001b[0;34m(\u001b[0m\u001b[0;34m[\u001b[0m\u001b[0;34m]\u001b[0m\u001b[0;34m)\u001b[0m \u001b[0;31m# initialize individual subject data variable container\u001b[0m\u001b[0;34m\u001b[0m\u001b[0;34m\u001b[0m\u001b[0m\n\u001b[1;32m     10\u001b[0m     \u001b[0;32mfor\u001b[0m \u001b[0mblock\u001b[0m \u001b[0;32min\u001b[0m \u001b[0mdat\u001b[0m\u001b[0;34m[\u001b[0m\u001b[0;34m'main_exp'\u001b[0m\u001b[0;34m]\u001b[0m\u001b[0;34m[\u001b[0m\u001b[0;34m'Exp_blocks'\u001b[0m\u001b[0;34m]\u001b[0m\u001b[0;34m:\u001b[0m\u001b[0;34m\u001b[0m\u001b[0;34m\u001b[0m\u001b[0m\n",
      "\u001b[0;32m/opt/anaconda3/envs/wm_exp/lib/python3.8/codecs.py\u001b[0m in \u001b[0;36mdecode\u001b[0;34m(self, input, final)\u001b[0m\n\u001b[1;32m    320\u001b[0m         \u001b[0;31m# decode input (taking the buffer into account)\u001b[0m\u001b[0;34m\u001b[0m\u001b[0;34m\u001b[0m\u001b[0;34m\u001b[0m\u001b[0m\n\u001b[1;32m    321\u001b[0m         \u001b[0mdata\u001b[0m \u001b[0;34m=\u001b[0m \u001b[0mself\u001b[0m\u001b[0;34m.\u001b[0m\u001b[0mbuffer\u001b[0m \u001b[0;34m+\u001b[0m \u001b[0minput\u001b[0m\u001b[0;34m\u001b[0m\u001b[0;34m\u001b[0m\u001b[0m\n\u001b[0;32m--> 322\u001b[0;31m         \u001b[0;34m(\u001b[0m\u001b[0mresult\u001b[0m\u001b[0;34m,\u001b[0m \u001b[0mconsumed\u001b[0m\u001b[0;34m)\u001b[0m \u001b[0;34m=\u001b[0m \u001b[0mself\u001b[0m\u001b[0;34m.\u001b[0m\u001b[0m_buffer_decode\u001b[0m\u001b[0;34m(\u001b[0m\u001b[0mdata\u001b[0m\u001b[0;34m,\u001b[0m \u001b[0mself\u001b[0m\u001b[0;34m.\u001b[0m\u001b[0merrors\u001b[0m\u001b[0;34m,\u001b[0m \u001b[0mfinal\u001b[0m\u001b[0;34m)\u001b[0m\u001b[0;34m\u001b[0m\u001b[0;34m\u001b[0m\u001b[0m\n\u001b[0m\u001b[1;32m    323\u001b[0m         \u001b[0;31m# keep undecoded input until the next call\u001b[0m\u001b[0;34m\u001b[0m\u001b[0;34m\u001b[0m\u001b[0;34m\u001b[0m\u001b[0m\n\u001b[1;32m    324\u001b[0m         \u001b[0mself\u001b[0m\u001b[0;34m.\u001b[0m\u001b[0mbuffer\u001b[0m \u001b[0;34m=\u001b[0m \u001b[0mdata\u001b[0m\u001b[0;34m[\u001b[0m\u001b[0mconsumed\u001b[0m\u001b[0;34m:\u001b[0m\u001b[0;34m]\u001b[0m\u001b[0;34m\u001b[0m\u001b[0;34m\u001b[0m\u001b[0m\n",
      "\u001b[0;31mUnicodeDecodeError\u001b[0m: 'utf-8' codec can't decode byte 0x80 in position 0: invalid start byte"
     ]
    }
   ],
   "source": [
    "# LEEN DELETE THIS BLOCK AFTER IT WORKS (this is step by step of the block under)\n",
    "all_df = pd.DataFrame([]) # concatenate all behav subject data together\n",
    "ddata = pd.DataFrame([]) \n",
    "\n",
    "for file in sorted(glob.glob(\"*.psydat\")): \n",
    "    subjdata = pd.DataFrame([]) # initialize individual subject data variable container\n",
    "    pfile =  open(os.path.join(proj_dir,file))\n",
    "    dat = pickle.load(pfile)\n",
    "    subjdata = pd.DataFrame([]) # initialize individual subject data variable container\n",
    "    for block in dat['main_exp']['Exp_blocks']:\n",
    "        ddata = pd.DataFrame(block['data'])\n",
    "        ddata.columns = ddata.iloc[0]\n",
    "        ddata = ddata.iloc[1:,:]\n",
    "        ddata.reset_index(drop=True, inplace=True)\n",
    "        subjdata = pd.concat([subjdata, ddata], axis = 0)\n",
    "    \n",
    "    \n",
    "    all_df = pd.concat([all_df, subjdata], axis = 0) #concatenate each new subject\n",
    "    \n",
    "\n",
    "# changing the format of the prior column from array to value\n",
    "all_df.reset_index(drop=True, inplace=True)\n",
    "for i in range(len(all_df.prior)):\n",
    "    try:\n",
    "        all_df.prior[i] = all_df.prior[i][0]\n",
    "    except:\n",
    "        pass\n"
   ]
  },
  {
   "cell_type": "code",
   "execution_count": 10,
   "metadata": {},
   "outputs": [
    {
     "ename": "NameError",
     "evalue": "name 'pd' is not defined",
     "output_type": "error",
     "traceback": [
      "\u001b[0;31m---------------------------------------------------------------------------\u001b[0m",
      "\u001b[0;31mNameError\u001b[0m                                 Traceback (most recent call last)",
      "\u001b[0;32m/var/folders/r9/cr9dfv5j4v9ghnsqpsk0syy40000gn/T/ipykernel_35548/2016999455.py\u001b[0m in \u001b[0;36m<module>\u001b[0;34m\u001b[0m\n\u001b[0;32m----> 1\u001b[0;31m \u001b[0mall_df\u001b[0m \u001b[0;34m=\u001b[0m \u001b[0mpd\u001b[0m\u001b[0;34m.\u001b[0m\u001b[0mDataFrame\u001b[0m\u001b[0;34m(\u001b[0m\u001b[0;34m[\u001b[0m\u001b[0;34m]\u001b[0m\u001b[0;34m)\u001b[0m \u001b[0;31m# concatenate all behav subject data together\u001b[0m\u001b[0;34m\u001b[0m\u001b[0;34m\u001b[0m\u001b[0m\n\u001b[0m\u001b[1;32m      2\u001b[0m \u001b[0mddata\u001b[0m \u001b[0;34m=\u001b[0m \u001b[0mpd\u001b[0m\u001b[0;34m.\u001b[0m\u001b[0mDataFrame\u001b[0m\u001b[0;34m(\u001b[0m\u001b[0;34m[\u001b[0m\u001b[0;34m]\u001b[0m\u001b[0;34m)\u001b[0m \u001b[0;31m# concatenate here behav data + dv + orientations\u001b[0m\u001b[0;34m\u001b[0m\u001b[0;34m\u001b[0m\u001b[0m\n\u001b[1;32m      3\u001b[0m \u001b[0;34m\u001b[0m\u001b[0m\n\u001b[1;32m      4\u001b[0m \u001b[0;32mfor\u001b[0m \u001b[0mfile\u001b[0m \u001b[0;32min\u001b[0m \u001b[0msorted\u001b[0m\u001b[0;34m(\u001b[0m\u001b[0mglob\u001b[0m\u001b[0;34m.\u001b[0m\u001b[0mglob\u001b[0m\u001b[0;34m(\u001b[0m\u001b[0;34m\"*.psydat\"\u001b[0m\u001b[0;34m)\u001b[0m\u001b[0;34m)\u001b[0m\u001b[0;34m:\u001b[0m\u001b[0;34m\u001b[0m\u001b[0;34m\u001b[0m\u001b[0m\n\u001b[1;32m      5\u001b[0m     \u001b[0msubjdata\u001b[0m \u001b[0;34m=\u001b[0m \u001b[0mpd\u001b[0m\u001b[0;34m.\u001b[0m\u001b[0mDataFrame\u001b[0m\u001b[0;34m(\u001b[0m\u001b[0;34m[\u001b[0m\u001b[0;34m]\u001b[0m\u001b[0;34m)\u001b[0m \u001b[0;31m# initialize individual subject data variable container\u001b[0m\u001b[0;34m\u001b[0m\u001b[0;34m\u001b[0m\u001b[0m\n",
      "\u001b[0;31mNameError\u001b[0m: name 'pd' is not defined"
     ]
    }
   ],
   "source": [
    "\n",
    "all_df = pd.DataFrame([]) # concatenate all behav subject data together\n",
    "ddata = pd.DataFrame([]) # concatenate here behav data + dv + orientations\n",
    "\n",
    "for file in sorted(glob.glob(\"*.psydat\")): \n",
    "    subjdata = pd.DataFrame([]) # initialize individual subject data variable container\n",
    "    pfile =  open(os.path.join(results_dir, file),\"rb\")\n",
    "    dat = pickle.load(pfile)\n",
    "    subjdata = pd.DataFrame([]) # initialize individual subject data variable container\n",
    "    for block in dat['main_exp']['Exp_blocks']:\n",
    "        ddata = pd.DataFrame(block['data'])\n",
    "        ddata.columns = ddata.iloc[0]\n",
    "        ddata = ddata.iloc[1:,:]\n",
    "        ddata.reset_index(drop=True, inplace=True)\n",
    "        subjdata = pd.concat([subjdata, ddata], axis = 0)\n",
    "    \n",
    "    \n",
    "    all_df = pd.concat([all_df, subjdata], axis = 0) #concatenate each new subject\n",
    "\n",
    "\n",
    "# changing the format of the prior column from array to value\n",
    "all_df.reset_index(drop=True, inplace=True)\n",
    "for i in range(len(all_df.prior)):\n",
    "    try:\n",
    "        all_df.prior[i] = all_df.prior[i][0]\n",
    "    except:\n",
    "        pass\n",
    "\n",
    "\n",
    "# Here I am reaaranging orientations to fall between -180 and 180\n",
    "all_df['T_Angle'] = all_df['T_Angle'].astype(float)\n",
    "\n",
    "# remeber to remove the first trial of each block\n",
    "\n",
    "all_df['preT'] = all_df['T_Angle'].shift(1) \n",
    "all_df['preT'] = all_df['preT'].astype(float)\n",
    "\n",
    "all_df['choiceAngle'] = all_df['choiceAngle'].astype(float)\n",
    "mask = (all_df['choiceAngle']>180)\n",
    "df_valid = all_df[mask]\n",
    "all_df.loc[mask, 'choiceAngle'] = df_valid['choiceAngle'] - 360\n",
    "mask = (all_df['T_Angle']>180)\n",
    "df_valid = all_df[mask]\n",
    "all_df.loc[mask, 'T_Angle'] = df_valid['T_Angle'] - 360\n",
    "\n",
    "\n",
    "all_df.reset_index(drop=True, inplace=True)\n",
    "\n",
    "all_df.head(-4)"
   ]
  },
  {
   "attachments": {},
   "cell_type": "markdown",
   "metadata": {},
   "source": [
    "Filtering data without catchtrials"
   ]
  },
  {
   "cell_type": "markdown",
   "metadata": {},
   "source": [
    "__Creating bins for data plotting__"
   ]
  },
  {
   "cell_type": "markdown",
   "metadata": {},
   "source": [
    "breaks = 20 # step size\n",
    "bins = arange(-180,180+breaks,breaks)\n",
    "bin_labels = []\n",
    "for i in arange(len(bins)):\n",
    "    #bin_labels.append(bins[i]+breaks/2)\n",
    "    bin_labels.append(bins[i]+breaks/2)\n",
    "bin_labels = bin_labels[:-1]"
   ]
  },
  {
   "cell_type": "code",
   "execution_count": null,
   "metadata": {},
   "outputs": [],
   "source": [
    "df = all_df[['subj','block','trial','prior','ct','delay','preT','T_Angle','choiceAngle','keypressed','RT']]\n",
    "\n",
    "# removing preT nan values\n",
    "df = df.dropna(subset=['preT'])\n",
    "df = df[df['keypressed'] != 'space']\n",
    "df.reset_index(drop=True, inplace=True)\n",
    "\n",
    "df.insert(8, 'preDiff', np.rad2deg(circdist( np.deg2rad(df['preT']),np.deg2rad(df['T_Angle'])))) \n",
    "df['preDiff'] = df['preDiff'].astype(float)\n",
    "df.insert(9, 'err', np.rad2deg(circdist( np.deg2rad(df['choiceAngle']),np.deg2rad(df['T_Angle'])))) \n",
    "df['prior'] = df['prior'].astype(float)\n",
    "#df['bin_Tangle'] = pd.cut(df['T_Angle'], bins=bins, labels = bin_labels)\n",
    "#df['bin_preDiff'] = pd.cut(df['preDiff'], bins=bins, labels = bin_labels)\n",
    "#df['bin_err'] = pd.cut(df['err'], bins=bins, labels = bin_labels)\n",
    "#df['bin_preDiff'] = df['bin_preDiff'].astype(float)\n"
   ]
  },
  {
   "cell_type": "code",
   "execution_count": 87,
   "metadata": {},
   "outputs": [],
   "source": [
    "#%% PARAMETERS\n",
    "flip = False\n",
    "rm_bias = True\n",
    "bins = {}\n",
    "bins['step'] =  pi/50\n",
    "bins['step_int'] =  pi/2\n",
    "bins['x'] = arange(-pi,pi-bins['step_int']+bins['step'],bins['step'])\n"
   ]
  },
  {
   "cell_type": "code",
   "execution_count": 88,
   "metadata": {},
   "outputs": [],
   "source": [
    "def compute_serial(x, report,target,ref_target,bins,flip=None, rm_bias = False, ref_report=False):\n",
    "\treport = radians(x[report])\n",
    "\ttarget = radians(x[target])\n",
    "\tif ref_target == 'null':\n",
    "\t\tref_target = zeros(len(target))\n",
    "\telse:\n",
    "\t\tref_target = radians(x[ref_target])\n",
    "\t\t\n",
    "\txxx = bins['x']\n",
    "\n",
    "\tif rm_bias:\n",
    "\t\treport = rem_sys_err2(array(report),array(target))\n",
    "\t\t\n",
    "\t# calculating difference between estimates and targets\t\n",
    "\terr = circdist(report,target)\n",
    "\t\n",
    "\t# a reference orientation - current cue (e.g. previous, 0 or prior)\n",
    "\td = circdist(ref_target,target) #\n",
    "\n",
    "\tif ref_report:\n",
    "\t\td=circdist(report[:-1],target[1:])\n",
    "\t\n",
    "\t# remove outliers\n",
    "\tidx_clean=(abs(err)<3*std((err))) & (abs(err)<1)\n",
    "\t#idx_clean = idx_clean & (report[1:] !=0)\n",
    "\t\n",
    "\terr=err[idx_clean]\n",
    "\td=d[idx_clean]\n",
    "\t\n",
    "\tm_err=[]; std_err=[]; count=[]; cis=[]\n",
    "\tif flip:\n",
    "\t\terr = sign(d)*err\n",
    "\t\td=abs(d)\n",
    "\t\n",
    "\tpoints_idx= []\n",
    "\t\n",
    "\tfor t in xxx:\n",
    "\t\tidx=(d>=t)&(d<=t+bins['step_int'])\n",
    "\t\tm_err.append(circ_mean(err[idx]))\n",
    "\t\tstd_err.append(circstd(err[idx])/sqrt(sum(idx)))\n",
    "\t\t#count.append(sum(idx))\n",
    "\t\t#points_idx.append(idx)\n",
    "\t\n",
    "\tx = xxx #+bins['step_int']\n",
    "\tout = pd.DataFrame([x ,m_err, std_err]).T\n",
    "\tout.columns=['x','m_err','std_err']\n",
    "\t\n",
    "\treturn out\n"
   ]
  },
  {
   "attachments": {},
   "cell_type": "markdown",
   "metadata": {},
   "source": [
    "__Plotting histograms of T_angles per block types and subjects__ "
   ]
  },
  {
   "cell_type": "code",
   "execution_count": null,
   "metadata": {},
   "outputs": [],
   "source": [
    "df.subj.unique()"
   ]
  },
  {
   "cell_type": "code",
   "execution_count": 30,
   "metadata": {},
   "outputs": [
    {
     "data": {
      "text/plain": [
       "(array([ 3,  2,  3, 13, 12, 17, 18, 23, 18, 11, 10,  6,  2,  0,  0,  2]),\n",
       " array([-1.17800787, -0.9894763 , -0.80094473, -0.61241316, -0.42388159,\n",
       "        -0.23535002, -0.04681845,  0.14171312,  0.33024469,  0.51877626,\n",
       "         0.70730783,  0.8958394 ,  1.08437097,  1.27290254,  1.46143411,\n",
       "         1.64996568,  1.83849725]),\n",
       " <BarContainer object of 16 artists>)"
      ]
     },
     "execution_count": 30,
     "metadata": {},
     "output_type": "execute_result"
    },
    {
     "data": {
      "image/png": "[encoded data removed]",
      "text/plain": [
       "<Figure size 432x288 with 1 Axes>"
      ]
     },
     "metadata": {
      "needs_background": "light"
     },
     "output_type": "display_data"
    }
   ],
   "source": [
    "df_subj = df[df['subj'] == 'S02']\n",
    "priors = df_subj.prior.unique()\n",
    "\n",
    "angles0 = np.deg2rad(df_subj[df_subj.prior ==  priors[0]].T_Angle)\n",
    "angles1 = np.deg2rad(df_subj[df_subj.prior ==  priors[1]].T_Angle)\n",
    "angles2 = np.deg2rad(df_subj[df_subj.prior ==  priors[2]].T_Angle)\n",
    "\n",
    "# Construct figure and axis to plot on\n",
    "fig, ax = plt.subplots(1, 1, subplot_kw=dict(projection='polar'))\n",
    "\n",
    "# Visualise by area of bins\n",
    "circular_hist(ax, angles0, color = 'blue')\n",
    "circular_hist(ax, angles1, color = 'red')\n",
    "circular_hist(ax, angles2, color = 'green')\n"
   ]
  },
  {
   "cell_type": "code",
   "execution_count": 33,
   "metadata": {},
   "outputs": [
    {
     "data": {
      "text/html": [
       "<div>\n",
       "<style scoped>\n",
       "    .dataframe tbody tr th:only-of-type {\n",
       "        vertical-align: middle;\n",
       "    }\n",
       "\n",
       "    .dataframe tbody tr th {\n",
       "        vertical-align: top;\n",
       "    }\n",
       "\n",
       "    .dataframe thead th {\n",
       "        text-align: right;\n",
       "    }\n",
       "</style>\n",
       "<table border=\"1\" class=\"dataframe\">\n",
       "  <thead>\n",
       "    <tr style=\"text-align: right;\">\n",
       "      <th></th>\n",
       "      <th>subj</th>\n",
       "      <th>block</th>\n",
       "      <th>trial</th>\n",
       "      <th>prior</th>\n",
       "      <th>ct</th>\n",
       "      <th>delay</th>\n",
       "      <th>preT</th>\n",
       "      <th>T_Angle</th>\n",
       "      <th>preDiff</th>\n",
       "      <th>err</th>\n",
       "      <th>choiceAngle</th>\n",
       "      <th>keypressed</th>\n",
       "      <th>RT</th>\n",
       "    </tr>\n",
       "  </thead>\n",
       "  <tbody>\n",
       "    <tr>\n",
       "      <th>0</th>\n",
       "      <td>S01</td>\n",
       "      <td>0</td>\n",
       "      <td>1</td>\n",
       "      <td>0.0</td>\n",
       "      <td>True</td>\n",
       "      <td>3000</td>\n",
       "      <td>77.308098</td>\n",
       "      <td>139.469019</td>\n",
       "      <td>-62.160921</td>\n",
       "      <td>9.760981</td>\n",
       "      <td>149.23</td>\n",
       "      <td>None</td>\n",
       "      <td>5.749991</td>\n",
       "    </tr>\n",
       "    <tr>\n",
       "      <th>1</th>\n",
       "      <td>S01</td>\n",
       "      <td>0</td>\n",
       "      <td>2</td>\n",
       "      <td>0.0</td>\n",
       "      <td>True</td>\n",
       "      <td>1000</td>\n",
       "      <td>139.469019</td>\n",
       "      <td>78.503047</td>\n",
       "      <td>60.965972</td>\n",
       "      <td>-4.753047</td>\n",
       "      <td>73.75</td>\n",
       "      <td>None</td>\n",
       "      <td>4.33456</td>\n",
       "    </tr>\n",
       "    <tr>\n",
       "      <th>2</th>\n",
       "      <td>S01</td>\n",
       "      <td>0</td>\n",
       "      <td>3</td>\n",
       "      <td>0.0</td>\n",
       "      <td>False</td>\n",
       "      <td>3000</td>\n",
       "      <td>78.503047</td>\n",
       "      <td>-111.634428</td>\n",
       "      <td>-169.862525</td>\n",
       "      <td>-9.785572</td>\n",
       "      <td>-121.42</td>\n",
       "      <td>None</td>\n",
       "      <td>4.166987</td>\n",
       "    </tr>\n",
       "    <tr>\n",
       "      <th>3</th>\n",
       "      <td>S01</td>\n",
       "      <td>0</td>\n",
       "      <td>4</td>\n",
       "      <td>0.0</td>\n",
       "      <td>False</td>\n",
       "      <td>3000</td>\n",
       "      <td>-111.634428</td>\n",
       "      <td>-163.381749</td>\n",
       "      <td>51.747321</td>\n",
       "      <td>14.151749</td>\n",
       "      <td>-149.23</td>\n",
       "      <td>None</td>\n",
       "      <td>3.150066</td>\n",
       "    </tr>\n",
       "    <tr>\n",
       "      <th>4</th>\n",
       "      <td>S01</td>\n",
       "      <td>0</td>\n",
       "      <td>5</td>\n",
       "      <td>0.0</td>\n",
       "      <td>False</td>\n",
       "      <td>1000</td>\n",
       "      <td>-163.381749</td>\n",
       "      <td>-35.046439</td>\n",
       "      <td>-128.335310</td>\n",
       "      <td>-12.623561</td>\n",
       "      <td>-47.67</td>\n",
       "      <td>None</td>\n",
       "      <td>6.366445</td>\n",
       "    </tr>\n",
       "  </tbody>\n",
       "</table>\n",
       "</div>"
      ],
      "text/plain": [
       "0 subj block trial  prior     ct delay        preT     T_Angle     preDiff  \\\n",
       "0  S01     0     1    0.0   True  3000   77.308098  139.469019  -62.160921   \n",
       "1  S01     0     2    0.0   True  1000  139.469019   78.503047   60.965972   \n",
       "2  S01     0     3    0.0  False  3000   78.503047 -111.634428 -169.862525   \n",
       "3  S01     0     4    0.0  False  3000 -111.634428 -163.381749   51.747321   \n",
       "4  S01     0     5    0.0  False  1000 -163.381749  -35.046439 -128.335310   \n",
       "\n",
       "0        err  choiceAngle keypressed        RT  \n",
       "0   9.760981       149.23       None  5.749991  \n",
       "1  -4.753047        73.75       None   4.33456  \n",
       "2  -9.785572      -121.42       None  4.166987  \n",
       "3  14.151749      -149.23       None  3.150066  \n",
       "4 -12.623561       -47.67       None  6.366445  "
      ]
     },
     "execution_count": 33,
     "metadata": {},
     "output_type": "execute_result"
    }
   ],
   "source": [
    "df.head()\n"
   ]
  },
  {
   "cell_type": "code",
   "execution_count": 13,
   "metadata": {},
   "outputs": [],
   "source": [
    "test = df.groupby(['subj', 'prior']).apply(compute_serial,'choiceAngle','T_Angle','preT',bins,flip=None, rm_bias = False, ref_report=False)\n",
    "test.reset_index( inplace=True)\n",
    "test['abs_err'] = abs(test.m_err)\n",
    "test.x = rad2deg(test.x+bins['step_int']/2)"
   ]
  },
  {
   "cell_type": "code",
   "execution_count": 16,
   "metadata": {},
   "outputs": [
    {
     "data": {
      "image/png": "[encoded data removed]",
      "text/plain": [
       "<Figure size 432x288 with 1 Axes>"
      ]
     },
     "metadata": {
      "needs_background": "light"
     },
     "output_type": "display_data"
    }
   ],
   "source": [
    "ax = sns.lineplot(data=test[test.prior == 0], x=\"x\", y=\"m_err\",hue = 'subj',linewidth = 2)"
   ]
  },
  {
   "cell_type": "code",
   "execution_count": 28,
   "metadata": {},
   "outputs": [],
   "source": [
    "test = df.groupby(['subj', 'prior']).apply(compute_serial,'choiceAngle','T_Angle','prior',bins,flip=None, rm_bias = False, ref_report=False)\n",
    "test.reset_index(inplace=True)\n",
    "test['abs_err'] = abs(test.m_err)\n",
    "test.x = rad2deg(test.x+bins['step_int']/2)"
   ]
  },
  {
   "cell_type": "code",
   "execution_count": 29,
   "metadata": {},
   "outputs": [
    {
     "data": {
      "image/png": "[encoded data removed]",
      "text/plain": [
       "<Figure size 432x288 with 1 Axes>"
      ]
     },
     "metadata": {
      "needs_background": "light"
     },
     "output_type": "display_data"
    }
   ],
   "source": [
    "ax = sns.lineplot(data=test[test.prior != 0], x=\"x\", y=\"m_err\",linewidth = 2)"
   ]
  },
  {
   "cell_type": "code",
   "execution_count": 24,
   "metadata": {},
   "outputs": [],
   "source": [
    "test = df.groupby(['subj', 'prior']).apply(compute_serial,'choiceAngle','T_Angle','null',bins,flip=None, rm_bias = False, ref_report=False)\n",
    "test.reset_index( inplace=True)\n",
    "test['abs_err'] = abs(test.m_err)\n",
    "test.x = rad2deg(test.x+bins['step_int']/2)"
   ]
  },
  {
   "cell_type": "code",
   "execution_count": 27,
   "metadata": {},
   "outputs": [
    {
     "data": {
      "image/png": "[encoded data removed]",
      "text/plain": [
       "<Figure size 432x288 with 1 Axes>"
      ]
     },
     "metadata": {
      "needs_background": "light"
     },
     "output_type": "display_data"
    }
   ],
   "source": [
    "ax = sns.lineplot(data=test[test.prior == 0], x=\"x\", y=\"abs_err\", hue = 'subj', linewidth = 2)"
   ]
  },
  {
   "cell_type": "code",
   "execution_count": 65,
   "metadata": {},
   "outputs": [
    {
     "data": {
      "text/plain": [
       "(array([34., 33., 26., 20., 23., 38., 26., 25., 38., 24., 38., 35., 30.,\n",
       "        37., 36., 37., 34., 43., 33., 46., 48., 45., 41., 50., 56., 56.,\n",
       "        43., 48., 39., 24., 30., 32., 35., 22., 29., 35., 30., 22., 33.,\n",
       "        30., 40., 41., 36., 36., 42., 28., 53., 49., 37., 43.]),\n",
       " array([-1.79626596e+02, -1.72443527e+02, -1.65260458e+02, -1.58077389e+02,\n",
       "        -1.50894321e+02, -1.43711252e+02, -1.36528183e+02, -1.29345114e+02,\n",
       "        -1.22162045e+02, -1.14978976e+02, -1.07795907e+02, -1.00612838e+02,\n",
       "        -9.34297690e+01, -8.62467001e+01, -7.90636311e+01, -7.18805622e+01,\n",
       "        -6.46974932e+01, -5.75144243e+01, -5.03313554e+01, -4.31482864e+01,\n",
       "        -3.59652175e+01, -2.87821485e+01, -2.15990796e+01, -1.44160107e+01,\n",
       "        -7.23294171e+00, -4.98727742e-02,  7.13319617e+00,  1.43162651e+01,\n",
       "         2.14993340e+01,  2.86824030e+01,  3.58654719e+01,  4.30485409e+01,\n",
       "         5.02316098e+01,  5.74146787e+01,  6.45977477e+01,  7.17808166e+01,\n",
       "         7.89638856e+01,  8.61469545e+01,  9.33300234e+01,  1.00513092e+02,\n",
       "         1.07696161e+02,  1.14879230e+02,  1.22062299e+02,  1.29245368e+02,\n",
       "         1.36428437e+02,  1.43611506e+02,  1.50794575e+02,  1.57977644e+02,\n",
       "         1.65160713e+02,  1.72343782e+02,  1.79526851e+02]),\n",
       " <BarContainer object of 50 artists>)"
      ]
     },
     "execution_count": 65,
     "metadata": {},
     "output_type": "execute_result"
    },
    {
     "data": {
      "image/png": "[encoded data removed]",
      "text/plain": [
       "<Figure size 640x480 with 1 Axes>"
      ]
     },
     "metadata": {},
     "output_type": "display_data"
    }
   ],
   "source": [
    "plt.hist((df.T_Angle), bins=50)"
   ]
  },
  {
   "cell_type": "code",
   "execution_count": 36,
   "metadata": {},
   "outputs": [
    {
     "name": "stdout",
     "output_type": "stream",
     "text": [
      "[0.97690011 0.00829813 1.024191  ]\n"
     ]
    },
    {
     "data": {
      "image/png": "[encoded data removed]",
      "text/plain": [
       "<Figure size 640x480 with 1 Axes>"
      ]
     },
     "metadata": {},
     "output_type": "display_data"
    }
   ],
   "source": [
    "from scipy.optimize import curve_fit\n",
    "\n",
    "def derivative_gaussian(x, A, mu, sigma):\n",
    "    return -A * (x - mu) * np.exp(-(x - mu)**2 / (2 * sigma**2)) / sigma**2\n",
    "\n",
    "# Generate some example data\n",
    "x_data = np.linspace(-5, 5, 100)\n",
    "y_data = derivative_gaussian(x_data, 1, 0, 1) + np.random.normal(0, 0.1, 100)\n",
    "\n",
    "# Fit the function to the data\n",
    "popt, pcov = curve_fit(derivative_gaussian, x_data, y_data)\n",
    "\n",
    "# Print the optimized parameters\n",
    "print(popt)\n",
    "\n",
    "# Plot the original data and the fitted curve\n",
    "import matplotlib.pyplot as plt\n",
    "plt.scatter(x_data, y_data)\n",
    "plt.plot(x_data, derivative_gaussian(x_data, *popt), 'r-', label='fit')\n",
    "plt.legend()\n",
    "plt.show()"
   ]
  },
  {
   "cell_type": "code",
   "execution_count": null,
   "metadata": {},
   "outputs": [],
   "source": [
    "compute_serial(df, 'choiceAngle','T_Angle','preT',bins,flip=None, rm_bias = False, ref_report=False)"
   ]
  },
  {
   "cell_type": "code",
   "execution_count": null,
   "metadata": {},
   "outputs": [],
   "source": [
    "report = radians(df.choiceAngle)\n",
    "target = radians(df.T_Angle)\n",
    "ref_target = radians(df.preT)"
   ]
  },
  {
   "cell_type": "code",
   "execution_count": null,
   "metadata": {},
   "outputs": [],
   "source": [
    "err = circdist(report,target)\n",
    "d = circdist(ref_target,target) #a reference orientation - current cue (e.g. previous, 0 or prior)\n",
    "err = radians(df.err)\n",
    "d = radians(df.preDiff)\n",
    "# remove outliers\n",
    "idx_clean=(abs(err)<3*std((err))) & (abs(err)<1)\n",
    "#idx_clean = idx_clean & (report[1:] !=0)\n",
    "\n",
    "err=err[idx_clean]\n",
    "d=d[idx_clean]\n",
    "m_err=[]\n",
    "std_err=[]\n",
    "count=[]\n",
    "cis=[]\n",
    "if flip:\n",
    "\terr = sign(d)*err\n",
    "\td=abs(d)\n",
    "points_idx=[]\n",
    "for t in xxx:\n",
    "\tidx=(d>=t)&(d<=t+w2)\n",
    "\tm_err.append(circ_mean(err[idx]))\n",
    "\tstd_err.append(circstd(err[idx])/sqrt(sum(idx)))\n",
    "\tcount.append(sum(idx))\n",
    "\tpoints_idx.append(idx)\n"
   ]
  },
  {
   "cell_type": "code",
   "execution_count": null,
   "metadata": {},
   "outputs": [
    {
     "data": {
      "text/plain": [
       "[<matplotlib.lines.Line2D at 0x7fd4af177ed0>]"
      ]
     },
     "metadata": {},
     "output_type": "display_data"
    },
    {
     "data": {
      "image/png": "[encoded data removed]",
      "text/plain": [
       "<Figure size 432x288 with 1 Axes>"
      ]
     },
     "metadata": {},
     "output_type": "display_data"
    }
   ],
   "source": [
    "plt.plot(np.rad2deg(xxx+w2/2),np.rad2deg(m_err))"
   ]
  },
  {
   "cell_type": "code",
   "execution_count": 944,
   "metadata": {},
   "outputs": [],
   "source": [
    "def circ_stats(dat,x,y): # this function was used to calculate the log linear regression between two vectors\n",
    "    x = circ_mean(np.deg2rad(dat[x]))\n",
    "    y = circ_mean(np.deg2rad(dat[y]))\n",
    "    #std_err = circstd(np.deg2rad(dat[y])) #/sqrt(len(dat[y]))\t 'std_err': std_err\n",
    "    out = pd.DataFrame({'x': x , 'y': y}, index=[0])\n",
    "    return out "
   ]
  },
  {
   "cell_type": "code",
   "execution_count": 945,
   "metadata": {},
   "outputs": [
    {
     "ename": "TypeError",
     "evalue": "circ_stats() missing 2 required positional arguments: 'x' and 'y'",
     "output_type": "error",
     "traceback": [
      "\u001b[0;31m---------------------------------------------------------------------------\u001b[0m",
      "\u001b[0;31mTypeError\u001b[0m                                 Traceback (most recent call last)",
      "\u001b[0;32m~/opt/anaconda3/envs/mne/lib/python3.7/site-packages/pandas/core/groupby/groupby.py\u001b[0m in \u001b[0;36mapply\u001b[0;34m(self, func, *args, **kwargs)\u001b[0m\n\u001b[1;32m   1274\u001b[0m             \u001b[0;32mtry\u001b[0m\u001b[0;34m:\u001b[0m\u001b[0;34m\u001b[0m\u001b[0;34m\u001b[0m\u001b[0m\n\u001b[0;32m-> 1275\u001b[0;31m                 \u001b[0mresult\u001b[0m \u001b[0;34m=\u001b[0m \u001b[0mself\u001b[0m\u001b[0;34m.\u001b[0m\u001b[0m_python_apply_general\u001b[0m\u001b[0;34m(\u001b[0m\u001b[0mf\u001b[0m\u001b[0;34m,\u001b[0m \u001b[0mself\u001b[0m\u001b[0;34m.\u001b[0m\u001b[0m_selected_obj\u001b[0m\u001b[0;34m)\u001b[0m\u001b[0;34m\u001b[0m\u001b[0;34m\u001b[0m\u001b[0m\n\u001b[0m\u001b[1;32m   1276\u001b[0m             \u001b[0;32mexcept\u001b[0m \u001b[0mTypeError\u001b[0m\u001b[0;34m:\u001b[0m\u001b[0;34m\u001b[0m\u001b[0;34m\u001b[0m\u001b[0m\n",
      "\u001b[0;32m~/opt/anaconda3/envs/mne/lib/python3.7/site-packages/pandas/core/groupby/groupby.py\u001b[0m in \u001b[0;36m_python_apply_general\u001b[0;34m(self, f, data)\u001b[0m\n\u001b[1;32m   1308\u001b[0m         \"\"\"\n\u001b[0;32m-> 1309\u001b[0;31m         \u001b[0mkeys\u001b[0m\u001b[0;34m,\u001b[0m \u001b[0mvalues\u001b[0m\u001b[0;34m,\u001b[0m \u001b[0mmutated\u001b[0m \u001b[0;34m=\u001b[0m \u001b[0mself\u001b[0m\u001b[0;34m.\u001b[0m\u001b[0mgrouper\u001b[0m\u001b[0;34m.\u001b[0m\u001b[0mapply\u001b[0m\u001b[0;34m(\u001b[0m\u001b[0mf\u001b[0m\u001b[0;34m,\u001b[0m \u001b[0mdata\u001b[0m\u001b[0;34m,\u001b[0m \u001b[0mself\u001b[0m\u001b[0;34m.\u001b[0m\u001b[0maxis\u001b[0m\u001b[0;34m)\u001b[0m\u001b[0;34m\u001b[0m\u001b[0;34m\u001b[0m\u001b[0m\n\u001b[0m\u001b[1;32m   1310\u001b[0m \u001b[0;34m\u001b[0m\u001b[0m\n",
      "\u001b[0;32m~/opt/anaconda3/envs/mne/lib/python3.7/site-packages/pandas/core/groupby/ops.py\u001b[0m in \u001b[0;36mapply\u001b[0;34m(self, f, data, axis)\u001b[0m\n\u001b[1;32m    851\u001b[0m             \u001b[0mgroup_axes\u001b[0m \u001b[0;34m=\u001b[0m \u001b[0mgroup\u001b[0m\u001b[0;34m.\u001b[0m\u001b[0maxes\u001b[0m\u001b[0;34m\u001b[0m\u001b[0;34m\u001b[0m\u001b[0m\n\u001b[0;32m--> 852\u001b[0;31m             \u001b[0mres\u001b[0m \u001b[0;34m=\u001b[0m \u001b[0mf\u001b[0m\u001b[0;34m(\u001b[0m\u001b[0mgroup\u001b[0m\u001b[0;34m)\u001b[0m\u001b[0;34m\u001b[0m\u001b[0;34m\u001b[0m\u001b[0m\n\u001b[0m\u001b[1;32m    853\u001b[0m             \u001b[0;32mif\u001b[0m \u001b[0;32mnot\u001b[0m \u001b[0m_is_indexed_like\u001b[0m\u001b[0;34m(\u001b[0m\u001b[0mres\u001b[0m\u001b[0;34m,\u001b[0m \u001b[0mgroup_axes\u001b[0m\u001b[0;34m,\u001b[0m \u001b[0maxis\u001b[0m\u001b[0;34m)\u001b[0m\u001b[0;34m:\u001b[0m\u001b[0;34m\u001b[0m\u001b[0;34m\u001b[0m\u001b[0m\n",
      "\u001b[0;31mTypeError\u001b[0m: circ_stats() missing 2 required positional arguments: 'x' and 'y'",
      "\nDuring handling of the above exception, another exception occurred:\n",
      "\u001b[0;31mTypeError\u001b[0m                                 Traceback (most recent call last)",
      "\u001b[0;32m/var/folders/4m/3h_3fwxd7v33qzl6mfvbj3tr0000gn/T/ipykernel_20919/1114737406.py\u001b[0m in \u001b[0;36m<module>\u001b[0;34m\u001b[0m\n\u001b[0;32m----> 1\u001b[0;31m \u001b[0mtest\u001b[0m \u001b[0;34m=\u001b[0m \u001b[0mdf\u001b[0m\u001b[0;34m.\u001b[0m\u001b[0mgroupby\u001b[0m\u001b[0;34m(\u001b[0m\u001b[0;34m[\u001b[0m\u001b[0;34m'subj'\u001b[0m\u001b[0;34m,\u001b[0m\u001b[0;34m'bin_Tangle'\u001b[0m\u001b[0;34m]\u001b[0m\u001b[0;34m)\u001b[0m\u001b[0;34m.\u001b[0m\u001b[0mapply\u001b[0m\u001b[0;34m(\u001b[0m\u001b[0mcirc_stats\u001b[0m\u001b[0;34m)\u001b[0m\u001b[0;34m\u001b[0m\u001b[0;34m\u001b[0m\u001b[0m\n\u001b[0m\u001b[1;32m      2\u001b[0m \u001b[0;34m\u001b[0m\u001b[0m\n",
      "\u001b[0;32m~/opt/anaconda3/envs/mne/lib/python3.7/site-packages/pandas/core/groupby/groupby.py\u001b[0m in \u001b[0;36mapply\u001b[0;34m(self, func, *args, **kwargs)\u001b[0m\n\u001b[1;32m   1284\u001b[0m \u001b[0;34m\u001b[0m\u001b[0m\n\u001b[1;32m   1285\u001b[0m                 \u001b[0;32mwith\u001b[0m \u001b[0mgroup_selection_context\u001b[0m\u001b[0;34m(\u001b[0m\u001b[0mself\u001b[0m\u001b[0;34m)\u001b[0m\u001b[0;34m:\u001b[0m\u001b[0;34m\u001b[0m\u001b[0;34m\u001b[0m\u001b[0m\n\u001b[0;32m-> 1286\u001b[0;31m                     \u001b[0;32mreturn\u001b[0m \u001b[0mself\u001b[0m\u001b[0;34m.\u001b[0m\u001b[0m_python_apply_general\u001b[0m\u001b[0;34m(\u001b[0m\u001b[0mf\u001b[0m\u001b[0;34m,\u001b[0m \u001b[0mself\u001b[0m\u001b[0;34m.\u001b[0m\u001b[0m_selected_obj\u001b[0m\u001b[0;34m)\u001b[0m\u001b[0;34m\u001b[0m\u001b[0;34m\u001b[0m\u001b[0m\n\u001b[0m\u001b[1;32m   1287\u001b[0m \u001b[0;34m\u001b[0m\u001b[0m\n\u001b[1;32m   1288\u001b[0m         \u001b[0;32mreturn\u001b[0m \u001b[0mresult\u001b[0m\u001b[0;34m\u001b[0m\u001b[0;34m\u001b[0m\u001b[0m\n",
      "\u001b[0;32m~/opt/anaconda3/envs/mne/lib/python3.7/site-packages/pandas/core/groupby/groupby.py\u001b[0m in \u001b[0;36m_python_apply_general\u001b[0;34m(self, f, data)\u001b[0m\n\u001b[1;32m   1307\u001b[0m             \u001b[0mdata\u001b[0m \u001b[0mafter\u001b[0m \u001b[0mapplying\u001b[0m \u001b[0mf\u001b[0m\u001b[0;34m\u001b[0m\u001b[0;34m\u001b[0m\u001b[0m\n\u001b[1;32m   1308\u001b[0m         \"\"\"\n\u001b[0;32m-> 1309\u001b[0;31m         \u001b[0mkeys\u001b[0m\u001b[0;34m,\u001b[0m \u001b[0mvalues\u001b[0m\u001b[0;34m,\u001b[0m \u001b[0mmutated\u001b[0m \u001b[0;34m=\u001b[0m \u001b[0mself\u001b[0m\u001b[0;34m.\u001b[0m\u001b[0mgrouper\u001b[0m\u001b[0;34m.\u001b[0m\u001b[0mapply\u001b[0m\u001b[0;34m(\u001b[0m\u001b[0mf\u001b[0m\u001b[0;34m,\u001b[0m \u001b[0mdata\u001b[0m\u001b[0;34m,\u001b[0m \u001b[0mself\u001b[0m\u001b[0;34m.\u001b[0m\u001b[0maxis\u001b[0m\u001b[0;34m)\u001b[0m\u001b[0;34m\u001b[0m\u001b[0;34m\u001b[0m\u001b[0m\n\u001b[0m\u001b[1;32m   1310\u001b[0m \u001b[0;34m\u001b[0m\u001b[0m\n\u001b[1;32m   1311\u001b[0m         return self._wrap_applied_output(\n",
      "\u001b[0;32m~/opt/anaconda3/envs/mne/lib/python3.7/site-packages/pandas/core/groupby/ops.py\u001b[0m in \u001b[0;36mapply\u001b[0;34m(self, f, data, axis)\u001b[0m\n\u001b[1;32m    850\u001b[0m             \u001b[0;31m# group might be modified\u001b[0m\u001b[0;34m\u001b[0m\u001b[0;34m\u001b[0m\u001b[0;34m\u001b[0m\u001b[0m\n\u001b[1;32m    851\u001b[0m             \u001b[0mgroup_axes\u001b[0m \u001b[0;34m=\u001b[0m \u001b[0mgroup\u001b[0m\u001b[0;34m.\u001b[0m\u001b[0maxes\u001b[0m\u001b[0;34m\u001b[0m\u001b[0;34m\u001b[0m\u001b[0m\n\u001b[0;32m--> 852\u001b[0;31m             \u001b[0mres\u001b[0m \u001b[0;34m=\u001b[0m \u001b[0mf\u001b[0m\u001b[0;34m(\u001b[0m\u001b[0mgroup\u001b[0m\u001b[0;34m)\u001b[0m\u001b[0;34m\u001b[0m\u001b[0;34m\u001b[0m\u001b[0m\n\u001b[0m\u001b[1;32m    853\u001b[0m             \u001b[0;32mif\u001b[0m \u001b[0;32mnot\u001b[0m \u001b[0m_is_indexed_like\u001b[0m\u001b[0;34m(\u001b[0m\u001b[0mres\u001b[0m\u001b[0;34m,\u001b[0m \u001b[0mgroup_axes\u001b[0m\u001b[0;34m,\u001b[0m \u001b[0maxis\u001b[0m\u001b[0;34m)\u001b[0m\u001b[0;34m:\u001b[0m\u001b[0;34m\u001b[0m\u001b[0;34m\u001b[0m\u001b[0m\n\u001b[1;32m    854\u001b[0m                 \u001b[0mmutated\u001b[0m \u001b[0;34m=\u001b[0m \u001b[0;32mTrue\u001b[0m\u001b[0;34m\u001b[0m\u001b[0;34m\u001b[0m\u001b[0m\n",
      "\u001b[0;31mTypeError\u001b[0m: circ_stats() missing 2 required positional arguments: 'x' and 'y'"
     ]
    }
   ],
   "source": [
    "test = df.groupby(['subj','bin_Tangle']).apply(circ_stats)\n",
    "\n"
   ]
  },
  {
   "cell_type": "code",
   "execution_count": 43,
   "metadata": {
    "ExecuteTime": {
     "end_time": "2021-08-10T19:48:10.189073Z",
     "start_time": "2021-08-10T19:48:10.181242Z"
    }
   },
   "outputs": [],
   "source": [
    "#%% PARAMETERS\n",
    "w1=pi/50\n",
    "w2=pi/2\n",
    "xxx=arange(-pi,pi-w2+w1,w1)\n",
    "flip = False\n",
    "rm_bias =True"
   ]
  },
  {
   "cell_type": "markdown",
   "metadata": {},
   "source": [
    "1. Calcula valores de error en funcion de trial anterior para cada triangular\n",
    "2. Calcula valores en funcion del prior"
   ]
  },
  {
   "cell_type": "code",
   "execution_count": 44,
   "metadata": {},
   "outputs": [
    {
     "name": "stdout",
     "output_type": "stream",
     "text": [
      "6.5\n"
     ]
    }
   ],
   "source": [
    "prior = priors[0]\n",
    "print(prior)\n",
    "dat_s = df[(df['subj'] == 'S01') & (df['prior'] == prior)]\n",
    "dat_s['preT'] = dat_s['T_Angle'].shift(1)\n",
    "dat_s.reset_index(drop=True, inplace=True)"
   ]
  },
  {
   "cell_type": "code",
   "execution_count": 45,
   "metadata": {},
   "outputs": [
    {
     "ename": "IndexError",
     "evalue": "arrays used as indices must be of integer (or boolean) type",
     "output_type": "error",
     "traceback": [
      "\u001b[0;31m---------------------------------------------------------------------------\u001b[0m",
      "\u001b[0;31mIndexError\u001b[0m                                Traceback (most recent call last)",
      "Cell \u001b[0;32mIn[45], line 17\u001b[0m\n\u001b[1;32m     14\u001b[0m REF \u001b[39m=\u001b[39m radians(prior\u001b[39m*\u001b[39mnp\u001b[39m.\u001b[39mones(np\u001b[39m.\u001b[39mshape(R)))\n\u001b[1;32m     15\u001b[0m \u001b[39m#REF = np.zeros(np.shape(R))\u001b[39;00m\n\u001b[0;32m---> 17\u001b[0m err,d,m_err,std_err,count,points_idx \u001b[39m=\u001b[39m compute_serial(R,T,REF,xxx,flip,rm_bias,\u001b[39mFalse\u001b[39;49;00m)\n\u001b[1;32m     20\u001b[0m m_err\u001b[39m=\u001b[39mrad2deg(m_err)\n\u001b[1;32m     21\u001b[0m std_err\u001b[39m=\u001b[39mrad2deg(std_err)\n",
      "Cell \u001b[0;32mIn[21], line 2\u001b[0m, in \u001b[0;36mcompute_serial\u001b[0;34m(x, report, target, ref_target, bins, flip, rm_bias, ref_report)\u001b[0m\n\u001b[1;32m      1\u001b[0m \u001b[39mdef\u001b[39;00m \u001b[39mcompute_serial\u001b[39m(x, report,target,ref_target,bins,flip\u001b[39m=\u001b[39m\u001b[39mNone\u001b[39;00m, rm_bias \u001b[39m=\u001b[39m \u001b[39mFalse\u001b[39;00m, ref_report\u001b[39m=\u001b[39m\u001b[39mFalse\u001b[39;00m):\n\u001b[0;32m----> 2\u001b[0m \treport \u001b[39m=\u001b[39m radians(x[report])\n\u001b[1;32m      3\u001b[0m \ttarget \u001b[39m=\u001b[39m radians(x[target])\n\u001b[1;32m      4\u001b[0m \t\u001b[39mif\u001b[39;00m ref_target \u001b[39m==\u001b[39m \u001b[39m'\u001b[39m\u001b[39mnull\u001b[39m\u001b[39m'\u001b[39m:\n",
      "\u001b[0;31mIndexError\u001b[0m: arrays used as indices must be of integer (or boolean) type"
     ]
    },
    {
     "data": {
      "text/plain": [
       "<Figure size 500x500 with 0 Axes>"
      ]
     },
     "metadata": {},
     "output_type": "display_data"
    }
   ],
   "source": [
    "dat = dat_s.copy()\n",
    "#sns.set_context('poster')\n",
    "T = radians(array(dat['T_Angle']))\n",
    "R = radians(array(dat['choiceAngle']))\n",
    "P = radians(array(dat['preT']))\n",
    "\n",
    "\n",
    "figure(figsize=[5,5])\n",
    "#plt.subplot(4,1,isubj+1)\n",
    "xxx=arange(-pi,pi-w2+w1,w1)\n",
    "flip = False\n",
    "\n",
    "#REF = P\n",
    "REF = radians(prior*np.ones(np.shape(R)))\n",
    "#REF = np.zeros(np.shape(R))\n",
    "\n",
    "err,d,m_err,std_err,count,points_idx = compute_serial(R,T,REF,xxx,flip,rm_bias,False)\n",
    "\n",
    "\n",
    "m_err=rad2deg(m_err)\n",
    "std_err=rad2deg(std_err)\n",
    "\n",
    "# Plot\n",
    "plot(rad2deg(xxx+w2/2),m_err,linewidth=1.5)\n",
    "fill_between(rad2deg(xxx+w2/2), m_err + std_err, m_err - std_err,alpha=.2)\n",
    "plot(rad2deg(xxx+w2/2),zeros(len(xxx)),\"k--\",linewidth=1)\n",
    "xlabel(r'$\\theta_{n-1}^S - \\theta_n^S$ ($^o$)', fontsize=14); ylabel(r'$\\theta_n^e$ ($^o$)', fontsize=14);\n",
    "sns.despine()\n",
    "\n",
    "\n",
    "adict={}\n",
    "adict['m_err']=m_err\n",
    "adict['std_err']=std_err\n",
    "adict['xxx']=xxx\n",
    "adict['w2']=w2"
   ]
  },
  {
   "cell_type": "code",
   "execution_count": 674,
   "metadata": {},
   "outputs": [
    {
     "data": {
      "image/png": "[encoded data removed]",
      "text/plain": [
       "<Figure size 360x360 with 1 Axes>"
      ]
     },
     "metadata": {
      "needs_background": "light"
     },
     "output_type": "display_data"
    }
   ],
   "source": [
    "dat = df.copy()\n",
    "#sns.set_context('poster')\n",
    "T = radians(array(dat['T_Angle']))\n",
    "R = radians(array(dat['choiceAngle']))\n",
    "P = radians(array(dat['preT']))\n",
    "\n",
    "\n",
    "figure(figsize=[5,5])\n",
    "#plt.subplot(4,1,isubj+1)\n",
    "xxx=arange(-pi,pi-w2+w1,w1)\n",
    "flip = False\n",
    "\n",
    "REF = P\n",
    "#REF = radians(prior*np.ones(np.shape(R)))\n",
    "#REF = np.zeros(np.shape(R))\n",
    "\n",
    "err,d,m_err,std_err,count,points_idx = compute_serial(R,T,REF,xxx,flip,rm_bias,False)\n",
    "\n",
    "\n",
    "m_err=rad2deg(m_err)\n",
    "std_err=rad2deg(std_err)\n",
    "\n",
    "# Plot\n",
    "plot(rad2deg(xxx+w2/2),m_err,linewidth=1.5)\n",
    "fill_between(rad2deg(xxx+w2/2), m_err + std_err, m_err - std_err,alpha=.2)\n",
    "plot(rad2deg(xxx+w2/2),zeros(len(xxx)),\"k--\",linewidth=1)\n",
    "xlabel(r'$\\theta_{n-1}^S - \\theta_n^S$ ($^o$)', fontsize=14); ylabel(r'$\\theta_n^e$ ($^o$)', fontsize=14);\n",
    "sns.despine()\n",
    "\n",
    "\n",
    "adict={}\n",
    "adict['m_err']=m_err\n",
    "adict['std_err']=std_err\n",
    "adict['xxx']=xxx\n",
    "adict['w2']=w2"
   ]
  },
  {
   "cell_type": "code",
   "execution_count": 879,
   "metadata": {},
   "outputs": [],
   "source": [
    "breaks = 30 # step size\n",
    "bins = arange(-180,180+breaks,breaks)\n",
    "bin_labels = []\n",
    "for i in arange(len(bins)):\n",
    "    #bin_labels.append(bins[i]+breaks/2)\n",
    "    bin_labels.append(bins[i]+breaks/2)\n",
    "bin_labels = bin_labels[:-1]"
   ]
  },
  {
   "cell_type": "code",
   "execution_count": 880,
   "metadata": {},
   "outputs": [
    {
     "name": "stderr",
     "output_type": "stream",
     "text": [
      "/Users/alex/opt/anaconda3/envs/mne/lib/python3.7/site-packages/ipykernel_launcher.py:2: SettingWithCopyWarning: \n",
      "A value is trying to be set on a copy of a slice from a DataFrame.\n",
      "Try using .loc[row_indexer,col_indexer] = value instead\n",
      "\n",
      "See the caveats in the documentation: https://pandas.pydata.org/pandas-docs/stable/user_guide/indexing.html#returning-a-view-versus-a-copy\n",
      "  \n"
     ]
    }
   ],
   "source": [
    "df = all_df[['subj','block','trial','prior','ct','delay','preT','T_Angle','choiceAngle','keypressed','RT']]\n",
    "df['bin_Tangle'] = pd.cut(df['T_Angle'], bins=bins, labels = bin_labels)\n",
    "\n",
    "# removing preT nan values\n",
    "df = df.dropna(subset=['preT'])\n",
    "df = df[df['keypressed'] != 'space']\n",
    "\n",
    "\n",
    "df.insert(8, 'preDiff', np.rad2deg(circdist( np.deg2rad(df['preT']),np.deg2rad(df['T_Angle'])))) \n",
    "df.insert(9, 'err', np.rad2deg(circdist( np.deg2rad(df['choiceAngle']),np.deg2rad(df['T_Angle'])))) \n",
    "\n",
    "df['bin_preDiff'] = pd.cut(df['preDiff'], bins=bins, labels = bin_labels)\n",
    "df['bin_err'] = pd.cut(df['err'], bins=bins, labels = bin_labels)\n",
    "df['bin_preDiff'] = df['bin_preDiff'].astype(float)\n",
    "df['preDiff'] = df['preDiff'].astype(float)\n",
    "df.reset_index(drop=True, inplace=True)"
   ]
  },
  {
   "cell_type": "code",
   "execution_count": 873,
   "metadata": {},
   "outputs": [
    {
     "data": {
      "text/html": [
       "<div>\n",
       "<style scoped>\n",
       "    .dataframe tbody tr th:only-of-type {\n",
       "        vertical-align: middle;\n",
       "    }\n",
       "\n",
       "    .dataframe tbody tr th {\n",
       "        vertical-align: top;\n",
       "    }\n",
       "\n",
       "    .dataframe thead th {\n",
       "        text-align: right;\n",
       "    }\n",
       "</style>\n",
       "<table border=\"1\" class=\"dataframe\">\n",
       "  <thead>\n",
       "    <tr style=\"text-align: right;\">\n",
       "      <th></th>\n",
       "      <th>subj</th>\n",
       "      <th>block</th>\n",
       "      <th>trial</th>\n",
       "      <th>prior</th>\n",
       "      <th>ct</th>\n",
       "      <th>delay</th>\n",
       "      <th>preT</th>\n",
       "      <th>T_Angle</th>\n",
       "      <th>preDiff</th>\n",
       "      <th>err</th>\n",
       "      <th>choiceAngle</th>\n",
       "      <th>keypressed</th>\n",
       "      <th>RT</th>\n",
       "      <th>bin_Tangle</th>\n",
       "      <th>bin_preDiff</th>\n",
       "      <th>bin_err</th>\n",
       "    </tr>\n",
       "  </thead>\n",
       "  <tbody>\n",
       "    <tr>\n",
       "      <th>0</th>\n",
       "      <td>Leen</td>\n",
       "      <td>0</td>\n",
       "      <td>1</td>\n",
       "      <td>0</td>\n",
       "      <td>False</td>\n",
       "      <td>1000</td>\n",
       "      <td>-113.216174</td>\n",
       "      <td>-34.676601</td>\n",
       "      <td>-78.539573</td>\n",
       "      <td>1.836601</td>\n",
       "      <td>-32.84</td>\n",
       "      <td>None</td>\n",
       "      <td>2.099349</td>\n",
       "      <td>-37.5</td>\n",
       "      <td>-82.5</td>\n",
       "      <td>7.5</td>\n",
       "    </tr>\n",
       "    <tr>\n",
       "      <th>1</th>\n",
       "      <td>Leen</td>\n",
       "      <td>0</td>\n",
       "      <td>2</td>\n",
       "      <td>0</td>\n",
       "      <td>False</td>\n",
       "      <td>3000</td>\n",
       "      <td>-34.676601</td>\n",
       "      <td>102.311261</td>\n",
       "      <td>-136.987861</td>\n",
       "      <td>19.508739</td>\n",
       "      <td>121.82</td>\n",
       "      <td>None</td>\n",
       "      <td>4.450077</td>\n",
       "      <td>97.5</td>\n",
       "      <td>-142.5</td>\n",
       "      <td>22.5</td>\n",
       "    </tr>\n",
       "    <tr>\n",
       "      <th>2</th>\n",
       "      <td>Leen</td>\n",
       "      <td>0</td>\n",
       "      <td>3</td>\n",
       "      <td>0</td>\n",
       "      <td>False</td>\n",
       "      <td>1000</td>\n",
       "      <td>102.311261</td>\n",
       "      <td>20.665683</td>\n",
       "      <td>81.645578</td>\n",
       "      <td>-1.505683</td>\n",
       "      <td>19.16</td>\n",
       "      <td>None</td>\n",
       "      <td>2.949058</td>\n",
       "      <td>22.5</td>\n",
       "      <td>82.5</td>\n",
       "      <td>-7.5</td>\n",
       "    </tr>\n",
       "    <tr>\n",
       "      <th>3</th>\n",
       "      <td>Leen</td>\n",
       "      <td>0</td>\n",
       "      <td>4</td>\n",
       "      <td>0</td>\n",
       "      <td>False</td>\n",
       "      <td>1000</td>\n",
       "      <td>20.665683</td>\n",
       "      <td>177.726916</td>\n",
       "      <td>-157.061232</td>\n",
       "      <td>4.453084</td>\n",
       "      <td>-177.82</td>\n",
       "      <td>None</td>\n",
       "      <td>1.933458</td>\n",
       "      <td>172.5</td>\n",
       "      <td>-157.5</td>\n",
       "      <td>7.5</td>\n",
       "    </tr>\n",
       "    <tr>\n",
       "      <th>4</th>\n",
       "      <td>Leen</td>\n",
       "      <td>0</td>\n",
       "      <td>5</td>\n",
       "      <td>0</td>\n",
       "      <td>False</td>\n",
       "      <td>3000</td>\n",
       "      <td>177.726916</td>\n",
       "      <td>-102.394972</td>\n",
       "      <td>-79.878112</td>\n",
       "      <td>-110.415028</td>\n",
       "      <td>147.19</td>\n",
       "      <td>None</td>\n",
       "      <td>3.899956</td>\n",
       "      <td>-97.5</td>\n",
       "      <td>-82.5</td>\n",
       "      <td>-112.5</td>\n",
       "    </tr>\n",
       "  </tbody>\n",
       "</table>\n",
       "</div>"
      ],
      "text/plain": [
       "0  subj block trial prior     ct delay        preT     T_Angle     preDiff  \\\n",
       "0  Leen     0     1     0  False  1000 -113.216174  -34.676601  -78.539573   \n",
       "1  Leen     0     2     0  False  3000  -34.676601  102.311261 -136.987861   \n",
       "2  Leen     0     3     0  False  1000  102.311261   20.665683   81.645578   \n",
       "3  Leen     0     4     0  False  1000   20.665683  177.726916 -157.061232   \n",
       "4  Leen     0     5     0  False  3000  177.726916 -102.394972  -79.878112   \n",
       "\n",
       "0         err  choiceAngle keypressed        RT bin_Tangle  bin_preDiff  \\\n",
       "0    1.836601       -32.84       None  2.099349      -37.5        -82.5   \n",
       "1   19.508739       121.82       None  4.450077       97.5       -142.5   \n",
       "2   -1.505683        19.16       None  2.949058       22.5         82.5   \n",
       "3    4.453084      -177.82       None  1.933458      172.5       -157.5   \n",
       "4 -110.415028       147.19       None  3.899956      -97.5        -82.5   \n",
       "\n",
       "0 bin_err  \n",
       "0     7.5  \n",
       "1    22.5  \n",
       "2    -7.5  \n",
       "3     7.5  \n",
       "4  -112.5  "
      ]
     },
     "execution_count": 873,
     "metadata": {},
     "output_type": "execute_result"
    }
   ],
   "source": [
    "df.head()"
   ]
  },
  {
   "cell_type": "code",
   "execution_count": 756,
   "metadata": {},
   "outputs": [],
   "source": [
    "def circ_stats(dat,x,y): # this function was used to calculate the log linear regression between two vectors\n",
    "    ref = np.rad2deg(circ_mean(np.deg2rad(dat[x])))\n",
    "    pred = np.rad2deg(circ_mean(np.deg2rad(dat[y])))\n",
    "    std_err = np.rad2deg(circstd(np.deg2rad(dat[y]))) #/sqrt(len(dat[y]))\t\n",
    "    out = pd.DataFrame({'ref': ref , 'pred': pred, 'std_err': std_err}, index=[0])\n",
    "    return out "
   ]
  },
  {
   "cell_type": "code",
   "execution_count": 874,
   "metadata": {},
   "outputs": [
    {
     "ename": "TypeError",
     "evalue": "circ_stats() got an unexpected keyword argument 'x'",
     "output_type": "error",
     "traceback": [
      "\u001b[0;31m---------------------------------------------------------------------------\u001b[0m",
      "\u001b[0;31mTypeError\u001b[0m                                 Traceback (most recent call last)",
      "\u001b[0;32m~/opt/anaconda3/envs/mne/lib/python3.7/site-packages/pandas/core/groupby/groupby.py\u001b[0m in \u001b[0;36mapply\u001b[0;34m(self, func, *args, **kwargs)\u001b[0m\n\u001b[1;32m   1274\u001b[0m             \u001b[0;32mtry\u001b[0m\u001b[0;34m:\u001b[0m\u001b[0;34m\u001b[0m\u001b[0;34m\u001b[0m\u001b[0m\n\u001b[0;32m-> 1275\u001b[0;31m                 \u001b[0mresult\u001b[0m \u001b[0;34m=\u001b[0m \u001b[0mself\u001b[0m\u001b[0;34m.\u001b[0m\u001b[0m_python_apply_general\u001b[0m\u001b[0;34m(\u001b[0m\u001b[0mf\u001b[0m\u001b[0;34m,\u001b[0m \u001b[0mself\u001b[0m\u001b[0;34m.\u001b[0m\u001b[0m_selected_obj\u001b[0m\u001b[0;34m)\u001b[0m\u001b[0;34m\u001b[0m\u001b[0;34m\u001b[0m\u001b[0m\n\u001b[0m\u001b[1;32m   1276\u001b[0m             \u001b[0;32mexcept\u001b[0m \u001b[0mTypeError\u001b[0m\u001b[0;34m:\u001b[0m\u001b[0;34m\u001b[0m\u001b[0;34m\u001b[0m\u001b[0m\n",
      "\u001b[0;32m~/opt/anaconda3/envs/mne/lib/python3.7/site-packages/pandas/core/groupby/groupby.py\u001b[0m in \u001b[0;36m_python_apply_general\u001b[0;34m(self, f, data)\u001b[0m\n\u001b[1;32m   1308\u001b[0m         \"\"\"\n\u001b[0;32m-> 1309\u001b[0;31m         \u001b[0mkeys\u001b[0m\u001b[0;34m,\u001b[0m \u001b[0mvalues\u001b[0m\u001b[0;34m,\u001b[0m \u001b[0mmutated\u001b[0m \u001b[0;34m=\u001b[0m \u001b[0mself\u001b[0m\u001b[0;34m.\u001b[0m\u001b[0mgrouper\u001b[0m\u001b[0;34m.\u001b[0m\u001b[0mapply\u001b[0m\u001b[0;34m(\u001b[0m\u001b[0mf\u001b[0m\u001b[0;34m,\u001b[0m \u001b[0mdata\u001b[0m\u001b[0;34m,\u001b[0m \u001b[0mself\u001b[0m\u001b[0;34m.\u001b[0m\u001b[0maxis\u001b[0m\u001b[0;34m)\u001b[0m\u001b[0;34m\u001b[0m\u001b[0;34m\u001b[0m\u001b[0m\n\u001b[0m\u001b[1;32m   1310\u001b[0m \u001b[0;34m\u001b[0m\u001b[0m\n",
      "\u001b[0;32m~/opt/anaconda3/envs/mne/lib/python3.7/site-packages/pandas/core/groupby/ops.py\u001b[0m in \u001b[0;36mapply\u001b[0;34m(self, f, data, axis)\u001b[0m\n\u001b[1;32m    851\u001b[0m             \u001b[0mgroup_axes\u001b[0m \u001b[0;34m=\u001b[0m \u001b[0mgroup\u001b[0m\u001b[0;34m.\u001b[0m\u001b[0maxes\u001b[0m\u001b[0;34m\u001b[0m\u001b[0;34m\u001b[0m\u001b[0m\n\u001b[0;32m--> 852\u001b[0;31m             \u001b[0mres\u001b[0m \u001b[0;34m=\u001b[0m \u001b[0mf\u001b[0m\u001b[0;34m(\u001b[0m\u001b[0mgroup\u001b[0m\u001b[0;34m)\u001b[0m\u001b[0;34m\u001b[0m\u001b[0;34m\u001b[0m\u001b[0m\n\u001b[0m\u001b[1;32m    853\u001b[0m             \u001b[0;32mif\u001b[0m \u001b[0;32mnot\u001b[0m \u001b[0m_is_indexed_like\u001b[0m\u001b[0;34m(\u001b[0m\u001b[0mres\u001b[0m\u001b[0;34m,\u001b[0m \u001b[0mgroup_axes\u001b[0m\u001b[0;34m,\u001b[0m \u001b[0maxis\u001b[0m\u001b[0;34m)\u001b[0m\u001b[0;34m:\u001b[0m\u001b[0;34m\u001b[0m\u001b[0;34m\u001b[0m\u001b[0m\n",
      "\u001b[0;32m~/opt/anaconda3/envs/mne/lib/python3.7/site-packages/pandas/core/groupby/groupby.py\u001b[0m in \u001b[0;36mf\u001b[0;34m(g)\u001b[0m\n\u001b[1;32m   1258\u001b[0m                     \u001b[0;32mwith\u001b[0m \u001b[0mnp\u001b[0m\u001b[0;34m.\u001b[0m\u001b[0merrstate\u001b[0m\u001b[0;34m(\u001b[0m\u001b[0mall\u001b[0m\u001b[0;34m=\u001b[0m\u001b[0;34m\"ignore\"\u001b[0m\u001b[0;34m)\u001b[0m\u001b[0;34m:\u001b[0m\u001b[0;34m\u001b[0m\u001b[0;34m\u001b[0m\u001b[0m\n\u001b[0;32m-> 1259\u001b[0;31m                         \u001b[0;32mreturn\u001b[0m \u001b[0mfunc\u001b[0m\u001b[0;34m(\u001b[0m\u001b[0mg\u001b[0m\u001b[0;34m,\u001b[0m \u001b[0;34m*\u001b[0m\u001b[0margs\u001b[0m\u001b[0;34m,\u001b[0m \u001b[0;34m**\u001b[0m\u001b[0mkwargs\u001b[0m\u001b[0;34m)\u001b[0m\u001b[0;34m\u001b[0m\u001b[0;34m\u001b[0m\u001b[0m\n\u001b[0m\u001b[1;32m   1260\u001b[0m \u001b[0;34m\u001b[0m\u001b[0m\n",
      "\u001b[0;31mTypeError\u001b[0m: circ_stats() got an unexpected keyword argument 'x'",
      "\nDuring handling of the above exception, another exception occurred:\n",
      "\u001b[0;31mTypeError\u001b[0m                                 Traceback (most recent call last)",
      "\u001b[0;32m/var/folders/4m/3h_3fwxd7v33qzl6mfvbj3tr0000gn/T/ipykernel_20919/2608609962.py\u001b[0m in \u001b[0;36m<module>\u001b[0;34m\u001b[0m\n\u001b[0;32m----> 1\u001b[0;31m \u001b[0mtest\u001b[0m \u001b[0;34m=\u001b[0m \u001b[0mdf\u001b[0m\u001b[0;34m.\u001b[0m\u001b[0mgroupby\u001b[0m\u001b[0;34m(\u001b[0m\u001b[0;34m[\u001b[0m\u001b[0;34m'subj'\u001b[0m\u001b[0;34m,\u001b[0m\u001b[0;34m'bin_Tangle'\u001b[0m\u001b[0;34m]\u001b[0m\u001b[0;34m)\u001b[0m\u001b[0;34m.\u001b[0m\u001b[0mapply\u001b[0m\u001b[0;34m(\u001b[0m\u001b[0mcirc_stats\u001b[0m\u001b[0;34m,\u001b[0m \u001b[0mx\u001b[0m \u001b[0;34m=\u001b[0m \u001b[0;34m'T_Angle'\u001b[0m\u001b[0;34m,\u001b[0m \u001b[0my\u001b[0m \u001b[0;34m=\u001b[0m \u001b[0;34m'err'\u001b[0m\u001b[0;34m)\u001b[0m\u001b[0;34m\u001b[0m\u001b[0;34m\u001b[0m\u001b[0m\n\u001b[0m\u001b[1;32m      2\u001b[0m \u001b[0mtest\u001b[0m\u001b[0;34m.\u001b[0m\u001b[0mreset_index\u001b[0m\u001b[0;34m(\u001b[0m\u001b[0minplace\u001b[0m\u001b[0;34m=\u001b[0m\u001b[0;32mTrue\u001b[0m\u001b[0;34m)\u001b[0m\u001b[0;34m\u001b[0m\u001b[0;34m\u001b[0m\u001b[0m\n\u001b[1;32m      3\u001b[0m \u001b[0mtest\u001b[0m\u001b[0;34m[\u001b[0m\u001b[0;34m'lb'\u001b[0m\u001b[0;34m]\u001b[0m \u001b[0;34m=\u001b[0m \u001b[0mtest\u001b[0m\u001b[0;34m.\u001b[0m\u001b[0mpred\u001b[0m \u001b[0;34m-\u001b[0m \u001b[0mtest\u001b[0m\u001b[0;34m.\u001b[0m\u001b[0mstd_err\u001b[0m\u001b[0;34m\u001b[0m\u001b[0;34m\u001b[0m\u001b[0m\n\u001b[1;32m      4\u001b[0m \u001b[0mtest\u001b[0m\u001b[0;34m[\u001b[0m\u001b[0;34m'hb'\u001b[0m\u001b[0;34m]\u001b[0m \u001b[0;34m=\u001b[0m \u001b[0mtest\u001b[0m\u001b[0;34m.\u001b[0m\u001b[0mpred\u001b[0m \u001b[0;34m+\u001b[0m \u001b[0mtest\u001b[0m\u001b[0;34m.\u001b[0m\u001b[0mstd_err\u001b[0m\u001b[0;34m\u001b[0m\u001b[0;34m\u001b[0m\u001b[0m\n",
      "\u001b[0;32m~/opt/anaconda3/envs/mne/lib/python3.7/site-packages/pandas/core/groupby/groupby.py\u001b[0m in \u001b[0;36mapply\u001b[0;34m(self, func, *args, **kwargs)\u001b[0m\n\u001b[1;32m   1284\u001b[0m \u001b[0;34m\u001b[0m\u001b[0m\n\u001b[1;32m   1285\u001b[0m                 \u001b[0;32mwith\u001b[0m \u001b[0mgroup_selection_context\u001b[0m\u001b[0;34m(\u001b[0m\u001b[0mself\u001b[0m\u001b[0;34m)\u001b[0m\u001b[0;34m:\u001b[0m\u001b[0;34m\u001b[0m\u001b[0;34m\u001b[0m\u001b[0m\n\u001b[0;32m-> 1286\u001b[0;31m                     \u001b[0;32mreturn\u001b[0m \u001b[0mself\u001b[0m\u001b[0;34m.\u001b[0m\u001b[0m_python_apply_general\u001b[0m\u001b[0;34m(\u001b[0m\u001b[0mf\u001b[0m\u001b[0;34m,\u001b[0m \u001b[0mself\u001b[0m\u001b[0;34m.\u001b[0m\u001b[0m_selected_obj\u001b[0m\u001b[0;34m)\u001b[0m\u001b[0;34m\u001b[0m\u001b[0;34m\u001b[0m\u001b[0m\n\u001b[0m\u001b[1;32m   1287\u001b[0m \u001b[0;34m\u001b[0m\u001b[0m\n\u001b[1;32m   1288\u001b[0m         \u001b[0;32mreturn\u001b[0m \u001b[0mresult\u001b[0m\u001b[0;34m\u001b[0m\u001b[0;34m\u001b[0m\u001b[0m\n",
      "\u001b[0;32m~/opt/anaconda3/envs/mne/lib/python3.7/site-packages/pandas/core/groupby/groupby.py\u001b[0m in \u001b[0;36m_python_apply_general\u001b[0;34m(self, f, data)\u001b[0m\n\u001b[1;32m   1307\u001b[0m             \u001b[0mdata\u001b[0m \u001b[0mafter\u001b[0m \u001b[0mapplying\u001b[0m \u001b[0mf\u001b[0m\u001b[0;34m\u001b[0m\u001b[0;34m\u001b[0m\u001b[0m\n\u001b[1;32m   1308\u001b[0m         \"\"\"\n\u001b[0;32m-> 1309\u001b[0;31m         \u001b[0mkeys\u001b[0m\u001b[0;34m,\u001b[0m \u001b[0mvalues\u001b[0m\u001b[0;34m,\u001b[0m \u001b[0mmutated\u001b[0m \u001b[0;34m=\u001b[0m \u001b[0mself\u001b[0m\u001b[0;34m.\u001b[0m\u001b[0mgrouper\u001b[0m\u001b[0;34m.\u001b[0m\u001b[0mapply\u001b[0m\u001b[0;34m(\u001b[0m\u001b[0mf\u001b[0m\u001b[0;34m,\u001b[0m \u001b[0mdata\u001b[0m\u001b[0;34m,\u001b[0m \u001b[0mself\u001b[0m\u001b[0;34m.\u001b[0m\u001b[0maxis\u001b[0m\u001b[0;34m)\u001b[0m\u001b[0;34m\u001b[0m\u001b[0;34m\u001b[0m\u001b[0m\n\u001b[0m\u001b[1;32m   1310\u001b[0m \u001b[0;34m\u001b[0m\u001b[0m\n\u001b[1;32m   1311\u001b[0m         return self._wrap_applied_output(\n",
      "\u001b[0;32m~/opt/anaconda3/envs/mne/lib/python3.7/site-packages/pandas/core/groupby/ops.py\u001b[0m in \u001b[0;36mapply\u001b[0;34m(self, f, data, axis)\u001b[0m\n\u001b[1;32m    850\u001b[0m             \u001b[0;31m# group might be modified\u001b[0m\u001b[0;34m\u001b[0m\u001b[0;34m\u001b[0m\u001b[0;34m\u001b[0m\u001b[0m\n\u001b[1;32m    851\u001b[0m             \u001b[0mgroup_axes\u001b[0m \u001b[0;34m=\u001b[0m \u001b[0mgroup\u001b[0m\u001b[0;34m.\u001b[0m\u001b[0maxes\u001b[0m\u001b[0;34m\u001b[0m\u001b[0;34m\u001b[0m\u001b[0m\n\u001b[0;32m--> 852\u001b[0;31m             \u001b[0mres\u001b[0m \u001b[0;34m=\u001b[0m \u001b[0mf\u001b[0m\u001b[0;34m(\u001b[0m\u001b[0mgroup\u001b[0m\u001b[0;34m)\u001b[0m\u001b[0;34m\u001b[0m\u001b[0;34m\u001b[0m\u001b[0m\n\u001b[0m\u001b[1;32m    853\u001b[0m             \u001b[0;32mif\u001b[0m \u001b[0;32mnot\u001b[0m \u001b[0m_is_indexed_like\u001b[0m\u001b[0;34m(\u001b[0m\u001b[0mres\u001b[0m\u001b[0;34m,\u001b[0m \u001b[0mgroup_axes\u001b[0m\u001b[0;34m,\u001b[0m \u001b[0maxis\u001b[0m\u001b[0;34m)\u001b[0m\u001b[0;34m:\u001b[0m\u001b[0;34m\u001b[0m\u001b[0;34m\u001b[0m\u001b[0m\n\u001b[1;32m    854\u001b[0m                 \u001b[0mmutated\u001b[0m \u001b[0;34m=\u001b[0m \u001b[0;32mTrue\u001b[0m\u001b[0;34m\u001b[0m\u001b[0;34m\u001b[0m\u001b[0m\n",
      "\u001b[0;32m~/opt/anaconda3/envs/mne/lib/python3.7/site-packages/pandas/core/groupby/groupby.py\u001b[0m in \u001b[0;36mf\u001b[0;34m(g)\u001b[0m\n\u001b[1;32m   1257\u001b[0m                 \u001b[0;32mdef\u001b[0m \u001b[0mf\u001b[0m\u001b[0;34m(\u001b[0m\u001b[0mg\u001b[0m\u001b[0;34m)\u001b[0m\u001b[0;34m:\u001b[0m\u001b[0;34m\u001b[0m\u001b[0;34m\u001b[0m\u001b[0m\n\u001b[1;32m   1258\u001b[0m                     \u001b[0;32mwith\u001b[0m \u001b[0mnp\u001b[0m\u001b[0;34m.\u001b[0m\u001b[0merrstate\u001b[0m\u001b[0;34m(\u001b[0m\u001b[0mall\u001b[0m\u001b[0;34m=\u001b[0m\u001b[0;34m\"ignore\"\u001b[0m\u001b[0;34m)\u001b[0m\u001b[0;34m:\u001b[0m\u001b[0;34m\u001b[0m\u001b[0;34m\u001b[0m\u001b[0m\n\u001b[0;32m-> 1259\u001b[0;31m                         \u001b[0;32mreturn\u001b[0m \u001b[0mfunc\u001b[0m\u001b[0;34m(\u001b[0m\u001b[0mg\u001b[0m\u001b[0;34m,\u001b[0m \u001b[0;34m*\u001b[0m\u001b[0margs\u001b[0m\u001b[0;34m,\u001b[0m \u001b[0;34m**\u001b[0m\u001b[0mkwargs\u001b[0m\u001b[0;34m)\u001b[0m\u001b[0;34m\u001b[0m\u001b[0;34m\u001b[0m\u001b[0m\n\u001b[0m\u001b[1;32m   1260\u001b[0m \u001b[0;34m\u001b[0m\u001b[0m\n\u001b[1;32m   1261\u001b[0m             \u001b[0;32melif\u001b[0m \u001b[0mhasattr\u001b[0m\u001b[0;34m(\u001b[0m\u001b[0mnanops\u001b[0m\u001b[0;34m,\u001b[0m \u001b[0;34m\"nan\"\u001b[0m \u001b[0;34m+\u001b[0m \u001b[0mfunc\u001b[0m\u001b[0;34m)\u001b[0m\u001b[0;34m:\u001b[0m\u001b[0;34m\u001b[0m\u001b[0;34m\u001b[0m\u001b[0m\n",
      "\u001b[0;31mTypeError\u001b[0m: circ_stats() got an unexpected keyword argument 'x'"
     ]
    }
   ],
   "source": [
    "test = df.groupby(['subj','bin_Tangle']).apply(circ_stats, x = 'T_Angle', y = 'err')\n",
    "test.reset_index(inplace=True)\n",
    "test['lb'] = test.pred - test.std_err\n",
    "test['hb'] = test.pred + test.std_err\n"
   ]
  },
  {
   "cell_type": "code",
   "execution_count": 758,
   "metadata": {},
   "outputs": [
    {
     "data": {
      "text/html": [
       "<div>\n",
       "<style scoped>\n",
       "    .dataframe tbody tr th:only-of-type {\n",
       "        vertical-align: middle;\n",
       "    }\n",
       "\n",
       "    .dataframe tbody tr th {\n",
       "        vertical-align: top;\n",
       "    }\n",
       "\n",
       "    .dataframe thead th {\n",
       "        text-align: right;\n",
       "    }\n",
       "</style>\n",
       "<table border=\"1\" class=\"dataframe\">\n",
       "  <thead>\n",
       "    <tr style=\"text-align: right;\">\n",
       "      <th></th>\n",
       "      <th>subj</th>\n",
       "      <th>block</th>\n",
       "      <th>trial</th>\n",
       "      <th>prior</th>\n",
       "      <th>ct</th>\n",
       "      <th>delay</th>\n",
       "      <th>preT</th>\n",
       "      <th>T_Angle</th>\n",
       "      <th>preDiff</th>\n",
       "      <th>err</th>\n",
       "      <th>choiceAngle</th>\n",
       "      <th>keypressed</th>\n",
       "      <th>RT</th>\n",
       "      <th>bin_Tangle</th>\n",
       "      <th>bin_preDiff</th>\n",
       "      <th>bin_err</th>\n",
       "    </tr>\n",
       "  </thead>\n",
       "  <tbody>\n",
       "    <tr>\n",
       "      <th>0</th>\n",
       "      <td>Leen</td>\n",
       "      <td>0</td>\n",
       "      <td>1</td>\n",
       "      <td>0</td>\n",
       "      <td>False</td>\n",
       "      <td>1000</td>\n",
       "      <td>-113.216174</td>\n",
       "      <td>-34.676601</td>\n",
       "      <td>-78.539573</td>\n",
       "      <td>1.836601</td>\n",
       "      <td>-32.84</td>\n",
       "      <td>None</td>\n",
       "      <td>2.099349</td>\n",
       "      <td>-32.5</td>\n",
       "      <td>-77.5</td>\n",
       "      <td>2.5</td>\n",
       "    </tr>\n",
       "    <tr>\n",
       "      <th>1</th>\n",
       "      <td>Leen</td>\n",
       "      <td>0</td>\n",
       "      <td>2</td>\n",
       "      <td>0</td>\n",
       "      <td>False</td>\n",
       "      <td>3000</td>\n",
       "      <td>-34.676601</td>\n",
       "      <td>102.311261</td>\n",
       "      <td>-136.987861</td>\n",
       "      <td>19.508739</td>\n",
       "      <td>121.82</td>\n",
       "      <td>None</td>\n",
       "      <td>4.450077</td>\n",
       "      <td>102.5</td>\n",
       "      <td>-137.5</td>\n",
       "      <td>17.5</td>\n",
       "    </tr>\n",
       "    <tr>\n",
       "      <th>2</th>\n",
       "      <td>Leen</td>\n",
       "      <td>0</td>\n",
       "      <td>3</td>\n",
       "      <td>0</td>\n",
       "      <td>False</td>\n",
       "      <td>1000</td>\n",
       "      <td>102.311261</td>\n",
       "      <td>20.665683</td>\n",
       "      <td>81.645578</td>\n",
       "      <td>-1.505683</td>\n",
       "      <td>19.16</td>\n",
       "      <td>None</td>\n",
       "      <td>2.949058</td>\n",
       "      <td>22.5</td>\n",
       "      <td>82.5</td>\n",
       "      <td>-2.5</td>\n",
       "    </tr>\n",
       "    <tr>\n",
       "      <th>3</th>\n",
       "      <td>Leen</td>\n",
       "      <td>0</td>\n",
       "      <td>4</td>\n",
       "      <td>0</td>\n",
       "      <td>False</td>\n",
       "      <td>1000</td>\n",
       "      <td>20.665683</td>\n",
       "      <td>177.726916</td>\n",
       "      <td>-157.061232</td>\n",
       "      <td>4.453084</td>\n",
       "      <td>-177.82</td>\n",
       "      <td>None</td>\n",
       "      <td>1.933458</td>\n",
       "      <td>177.5</td>\n",
       "      <td>-157.5</td>\n",
       "      <td>2.5</td>\n",
       "    </tr>\n",
       "    <tr>\n",
       "      <th>4</th>\n",
       "      <td>Leen</td>\n",
       "      <td>0</td>\n",
       "      <td>5</td>\n",
       "      <td>0</td>\n",
       "      <td>False</td>\n",
       "      <td>3000</td>\n",
       "      <td>177.726916</td>\n",
       "      <td>-102.394972</td>\n",
       "      <td>-79.878112</td>\n",
       "      <td>-110.415028</td>\n",
       "      <td>147.19</td>\n",
       "      <td>None</td>\n",
       "      <td>3.899956</td>\n",
       "      <td>-102.5</td>\n",
       "      <td>-77.5</td>\n",
       "      <td>-112.5</td>\n",
       "    </tr>\n",
       "  </tbody>\n",
       "</table>\n",
       "</div>"
      ],
      "text/plain": [
       "0  subj block trial prior     ct delay        preT     T_Angle     preDiff  \\\n",
       "0  Leen     0     1     0  False  1000 -113.216174  -34.676601  -78.539573   \n",
       "1  Leen     0     2     0  False  3000  -34.676601  102.311261 -136.987861   \n",
       "2  Leen     0     3     0  False  1000  102.311261   20.665683   81.645578   \n",
       "3  Leen     0     4     0  False  1000   20.665683  177.726916 -157.061232   \n",
       "4  Leen     0     5     0  False  3000  177.726916 -102.394972  -79.878112   \n",
       "\n",
       "0         err  choiceAngle keypressed        RT bin_Tangle bin_preDiff bin_err  \n",
       "0    1.836601       -32.84       None  2.099349      -32.5       -77.5     2.5  \n",
       "1   19.508739       121.82       None  4.450077      102.5      -137.5    17.5  \n",
       "2   -1.505683        19.16       None  2.949058       22.5        82.5    -2.5  \n",
       "3    4.453084      -177.82       None  1.933458      177.5      -157.5     2.5  \n",
       "4 -110.415028       147.19       None  3.899956     -102.5       -77.5  -112.5  "
      ]
     },
     "execution_count": 758,
     "metadata": {},
     "output_type": "execute_result"
    }
   ],
   "source": [
    "df.head()"
   ]
  },
  {
   "cell_type": "code",
   "execution_count": 875,
   "metadata": {},
   "outputs": [],
   "source": [
    "def circ_stats(dat,x,y): # this function was used to calculate the log linear regression between two vectors\n",
    "    ref = np.rad2deg(circ_mean(np.deg2rad(dat[x])))\n",
    "    pred = np.rad2deg(circ_mean(np.deg2rad(dat[y])))\n",
    "    std_err = np.rad2deg(circstd(np.deg2rad(dat[y]))) #/sqrt(len(dat[y]))\t\n",
    "    out = pd.DataFrame({'ref': ref , 'pred': pred, 'std_err': std_err}, index=[0])\n",
    "    return out "
   ]
  },
  {
   "cell_type": "code",
   "execution_count": 876,
   "metadata": {},
   "outputs": [],
   "source": [
    "def circ_stats(dat): # this function was used to calculate the log linear regression between two vectors\n",
    "    ref = np.rad2deg(circ_mean(np.deg2rad(dat.preDiff)))\n",
    "    pred = np.rad2deg(circ_mean(np.deg2rad(dat.err)))\n",
    "    std_err = np.rad2deg(circstd(np.deg2rad(dat.err))) #/sqrt(len(dat[y]))\t\n",
    "    out = pd.DataFrame({'ref': ref , 'pred': pred, 'std_err': std_err}, index=[0])\n",
    "    return out "
   ]
  },
  {
   "cell_type": "code",
   "execution_count": 881,
   "metadata": {},
   "outputs": [],
   "source": [
    "test = df.groupby(['bin_preDiff']).apply(circ_stats)\n",
    "#test.ref = np.rad2deg(test.ref)\n",
    "#test.pred = np.rad2deg(test.pred)\n",
    "test.reset_index(inplace=True)\n",
    "test['lb'] = test.pred - test.std_err\n",
    "test['hb'] = test.pred + test.std_err\n"
   ]
  },
  {
   "cell_type": "code",
   "execution_count": 882,
   "metadata": {},
   "outputs": [
    {
     "data": {
      "image/png": "[encoded data removed]",
      "text/plain": [
       "<Figure size 432x288 with 1 Axes>"
      ]
     },
     "metadata": {
      "needs_background": "light"
     },
     "output_type": "display_data"
    }
   ],
   "source": [
    "ax = sns.lineplot(data=test, x=\"bin_preDiff\", y=\"pred\",linewidth = 2)"
   ]
  },
  {
   "cell_type": "code",
   "execution_count": 774,
   "metadata": {},
   "outputs": [
    {
     "data": {
      "text/plain": [
       "array([-180, -175, -170, -165, -160, -155, -150, -145, -140, -135, -130,\n",
       "       -125, -120, -115, -110, -105, -100,  -95,  -90,  -85,  -80,  -75,\n",
       "        -70,  -65,  -60,  -55,  -50,  -45,  -40,  -35,  -30,  -25,  -20,\n",
       "        -15,  -10,   -5,    0,    5,   10,   15,   20,   25,   30,   35,\n",
       "         40,   45,   50,   55,   60,   65,   70,   75,   80,   85,   90,\n",
       "         95,  100,  105,  110,  115,  120,  125,  130,  135,  140,  145,\n",
       "        150,  155,  160,  165,  170,  175,  180])"
      ]
     },
     "execution_count": 774,
     "metadata": {},
     "output_type": "execute_result"
    }
   ],
   "source": []
  },
  {
   "cell_type": "code",
   "execution_count": 856,
   "metadata": {},
   "outputs": [],
   "source": [
    "df['bin_preDiffbinrads'] = np.deg2rad(df.bin_preDiff)\n",
    "df['err_rads'] = np.deg2rad(df.err)"
   ]
  },
  {
   "cell_type": "code",
   "execution_count": 844,
   "metadata": {},
   "outputs": [
    {
     "data": {
      "text/plain": [
       "Index(['subj', 'block', 'trial', 'prior', 'ct', 'delay', 'preT', 'T_Angle',\n",
       "       'preDiff', 'err', 'choiceAngle', 'keypressed', 'RT', 'bin_Tangle',\n",
       "       'bin_preDiff', 'bin_err'],\n",
       "      dtype='object', name=0)"
      ]
     },
     "execution_count": 844,
     "metadata": {},
     "output_type": "execute_result"
    }
   ],
   "source": [
    "df.columns"
   ]
  },
  {
   "cell_type": "code",
   "execution_count": 853,
   "metadata": {},
   "outputs": [
    {
     "data": {
      "text/plain": [
       "0        True\n",
       "1       False\n",
       "2       False\n",
       "3       False\n",
       "4        True\n",
       "        ...  \n",
       "1362    False\n",
       "1363    False\n",
       "1364    False\n",
       "1365    False\n",
       "1366    False\n",
       "Name: bin_preDiff, Length: 1367, dtype: bool"
      ]
     },
     "execution_count": 853,
     "metadata": {},
     "output_type": "execute_result"
    }
   ],
   "source": [
    "df.bin_preDiffbinrads == t"
   ]
  },
  {
   "cell_type": "code",
   "execution_count": 855,
   "metadata": {},
   "outputs": [
    {
     "ename": "AttributeError",
     "evalue": "'DataFrame' object has no attribute 'err_rads'",
     "output_type": "error",
     "traceback": [
      "\u001b[0;31m---------------------------------------------------------------------------\u001b[0m",
      "\u001b[0;31mAttributeError\u001b[0m                            Traceback (most recent call last)",
      "\u001b[0;32m/var/folders/4m/3h_3fwxd7v33qzl6mfvbj3tr0000gn/T/ipykernel_20919/983665331.py\u001b[0m in \u001b[0;36m<module>\u001b[0;34m\u001b[0m\n\u001b[0;32m----> 1\u001b[0;31m \u001b[0mdf\u001b[0m\u001b[0;34m[\u001b[0m\u001b[0mdf\u001b[0m\u001b[0;34m.\u001b[0m\u001b[0mbin_preDiffbinrads\u001b[0m \u001b[0;34m==\u001b[0m \u001b[0mt\u001b[0m \u001b[0;34m]\u001b[0m\u001b[0;34m.\u001b[0m\u001b[0merr_rads\u001b[0m\u001b[0;34m\u001b[0m\u001b[0;34m\u001b[0m\u001b[0m\n\u001b[0m",
      "\u001b[0;32m~/opt/anaconda3/envs/mne/lib/python3.7/site-packages/pandas/core/generic.py\u001b[0m in \u001b[0;36m__getattr__\u001b[0;34m(self, name)\u001b[0m\n\u001b[1;32m   5485\u001b[0m         ):\n\u001b[1;32m   5486\u001b[0m             \u001b[0;32mreturn\u001b[0m \u001b[0mself\u001b[0m\u001b[0;34m[\u001b[0m\u001b[0mname\u001b[0m\u001b[0;34m]\u001b[0m\u001b[0;34m\u001b[0m\u001b[0;34m\u001b[0m\u001b[0m\n\u001b[0;32m-> 5487\u001b[0;31m         \u001b[0;32mreturn\u001b[0m \u001b[0mobject\u001b[0m\u001b[0;34m.\u001b[0m\u001b[0m__getattribute__\u001b[0m\u001b[0;34m(\u001b[0m\u001b[0mself\u001b[0m\u001b[0;34m,\u001b[0m \u001b[0mname\u001b[0m\u001b[0;34m)\u001b[0m\u001b[0;34m\u001b[0m\u001b[0;34m\u001b[0m\u001b[0m\n\u001b[0m\u001b[1;32m   5488\u001b[0m \u001b[0;34m\u001b[0m\u001b[0m\n\u001b[1;32m   5489\u001b[0m     \u001b[0;32mdef\u001b[0m \u001b[0m__setattr__\u001b[0m\u001b[0;34m(\u001b[0m\u001b[0mself\u001b[0m\u001b[0;34m,\u001b[0m \u001b[0mname\u001b[0m\u001b[0;34m:\u001b[0m \u001b[0mstr\u001b[0m\u001b[0;34m,\u001b[0m \u001b[0mvalue\u001b[0m\u001b[0;34m)\u001b[0m \u001b[0;34m->\u001b[0m \u001b[0;32mNone\u001b[0m\u001b[0;34m:\u001b[0m\u001b[0;34m\u001b[0m\u001b[0;34m\u001b[0m\u001b[0m\n",
      "\u001b[0;31mAttributeError\u001b[0m: 'DataFrame' object has no attribute 'err_rads'"
     ]
    }
   ],
   "source": [
    "df[df.bin_preDiffbinrads == t ].err_rads"
   ]
  },
  {
   "cell_type": "code",
   "execution_count": 861,
   "metadata": {},
   "outputs": [
    {
     "data": {
      "text/plain": [
       "array([-3.14159265e+00, -3.07876080e+00, -3.01592895e+00, -2.95309709e+00,\n",
       "       -2.89026524e+00, -2.82743339e+00, -2.76460154e+00, -2.70176968e+00,\n",
       "       -2.63893783e+00, -2.57610598e+00, -2.51327412e+00, -2.45044227e+00,\n",
       "       -2.38761042e+00, -2.32477856e+00, -2.26194671e+00, -2.19911486e+00,\n",
       "       -2.13628300e+00, -2.07345115e+00, -2.01061930e+00, -1.94778745e+00,\n",
       "       -1.88495559e+00, -1.82212374e+00, -1.75929189e+00, -1.69646003e+00,\n",
       "       -1.63362818e+00, -1.57079633e+00, -1.50796447e+00, -1.44513262e+00,\n",
       "       -1.38230077e+00, -1.31946891e+00, -1.25663706e+00, -1.19380521e+00,\n",
       "       -1.13097336e+00, -1.06814150e+00, -1.00530965e+00, -9.42477796e-01,\n",
       "       -8.79645943e-01, -8.16814090e-01, -7.53982237e-01, -6.91150384e-01,\n",
       "       -6.28318531e-01, -5.65486678e-01, -5.02654825e-01, -4.39822972e-01,\n",
       "       -3.76991118e-01, -3.14159265e-01, -2.51327412e-01, -1.88495559e-01,\n",
       "       -1.25663706e-01, -6.28318531e-02,  4.44089210e-15,  6.28318531e-02,\n",
       "        1.25663706e-01,  1.88495559e-01,  2.51327412e-01,  3.14159265e-01,\n",
       "        3.76991118e-01,  4.39822972e-01,  5.02654825e-01,  5.65486678e-01,\n",
       "        6.28318531e-01,  6.91150384e-01,  7.53982237e-01,  8.16814090e-01,\n",
       "        8.79645943e-01,  9.42477796e-01,  1.00530965e+00,  1.06814150e+00,\n",
       "        1.13097336e+00,  1.19380521e+00,  1.25663706e+00,  1.31946891e+00,\n",
       "        1.38230077e+00,  1.44513262e+00,  1.50796447e+00,  1.57079633e+00])"
      ]
     },
     "execution_count": 861,
     "metadata": {},
     "output_type": "execute_result"
    }
   ],
   "source": [
    "xxx"
   ]
  },
  {
   "cell_type": "code",
   "execution_count": 859,
   "metadata": {},
   "outputs": [],
   "source": [
    "m_err=[]\n",
    "std_err=[]\n",
    "count=[]\n",
    "cis=[]\n",
    "if flip:\n",
    "\terr = sign(d)*err\n",
    "\td=abs(d)\n",
    "points_idx=[]\n",
    "\n",
    "for t in df.bin_preDiffbinrads.unique():\n",
    "\tx  =df[df.bin_preDiffbinrads == t ].err_rads\n",
    "\tx.reset_index(drop=True, inplace=True)\n",
    "\tm_err.append(circ_mean(x))\n",
    "\t#idx=(d>=t)&(d<=t+w2)\n",
    "\t#m_err.append(circ_mean(err[idx]))\n",
    "\t#std_err.append(circstd(err[idx])/sqrt(sum(idx)))\n",
    "\t#count.append(sum(idx))\n",
    "\t#points_idx.append(idx)\n"
   ]
  },
  {
   "cell_type": "code",
   "execution_count": 818,
   "metadata": {},
   "outputs": [
    {
     "name": "stderr",
     "output_type": "stream",
     "text": [
      "/Users/alex/opt/anaconda3/envs/mne/lib/python3.7/site-packages/pandas/io/formats/format.py:1429: FutureWarning: Index.ravel returning ndarray is deprecated; in a future version this will return a view on self.\n",
      "  for val, m in zip(values.ravel(), mask.ravel())\n"
     ]
    },
    {
     "data": {
      "text/plain": [
       "[-77.5, -137.5, 82.5, -157.5, 37.5, ..., -127.5, -167.5, -117.5, 162.5, 27.5]\n",
       "Length: 72\n",
       "Categories (72, float64): [-177.5 < -172.5 < -167.5 < -162.5 ... 162.5 < 167.5 < 172.5 < 177.5]"
      ]
     },
     "execution_count": 818,
     "metadata": {},
     "output_type": "execute_result"
    }
   ],
   "source": [
    "df.bin_preDiff.unique()"
   ]
  },
  {
   "cell_type": "code",
   "execution_count": 860,
   "metadata": {},
   "outputs": [
    {
     "data": {
      "text/plain": [
       "[<matplotlib.lines.Line2D at 0x7fd4ac55b7d0>]"
      ]
     },
     "execution_count": 860,
     "metadata": {},
     "output_type": "execute_result"
    },
    {
     "data": {
      "image/png": "[encoded data removed]",
      "text/plain": [
       "<Figure size 432x288 with 1 Axes>"
      ]
     },
     "metadata": {
      "needs_background": "light"
     },
     "output_type": "display_data"
    }
   ],
   "source": [
    "plt.plot(np.unique(df.bin_preDiff ),np.rad2deg(m_err))"
   ]
  },
  {
   "cell_type": "code",
   "execution_count": 810,
   "metadata": {},
   "outputs": [
    {
     "data": {
      "text/html": [
       "<div>\n",
       "<style scoped>\n",
       "    .dataframe tbody tr th:only-of-type {\n",
       "        vertical-align: middle;\n",
       "    }\n",
       "\n",
       "    .dataframe tbody tr th {\n",
       "        vertical-align: top;\n",
       "    }\n",
       "\n",
       "    .dataframe thead th {\n",
       "        text-align: right;\n",
       "    }\n",
       "</style>\n",
       "<table border=\"1\" class=\"dataframe\">\n",
       "  <thead>\n",
       "    <tr style=\"text-align: right;\">\n",
       "      <th></th>\n",
       "      <th>subj</th>\n",
       "      <th>block</th>\n",
       "      <th>trial</th>\n",
       "      <th>prior</th>\n",
       "      <th>ct</th>\n",
       "      <th>delay</th>\n",
       "      <th>preT</th>\n",
       "      <th>T_Angle</th>\n",
       "      <th>preDiff</th>\n",
       "      <th>err</th>\n",
       "      <th>choiceAngle</th>\n",
       "      <th>keypressed</th>\n",
       "      <th>RT</th>\n",
       "      <th>bin_Tangle</th>\n",
       "      <th>bin_preDiff</th>\n",
       "      <th>bin_err</th>\n",
       "    </tr>\n",
       "  </thead>\n",
       "  <tbody>\n",
       "    <tr>\n",
       "      <th>88</th>\n",
       "      <td>Leen</td>\n",
       "      <td>2</td>\n",
       "      <td>0</td>\n",
       "      <td>57.980777</td>\n",
       "      <td>False</td>\n",
       "      <td>1000</td>\n",
       "      <td>-147.590020</td>\n",
       "      <td>34.889180</td>\n",
       "      <td>177.520800</td>\n",
       "      <td>-4.929180</td>\n",
       "      <td>29.96</td>\n",
       "      <td>None</td>\n",
       "      <td>1.351658</td>\n",
       "      <td>32.5</td>\n",
       "      <td>177.5</td>\n",
       "      <td>-2.5</td>\n",
       "    </tr>\n",
       "    <tr>\n",
       "      <th>133</th>\n",
       "      <td>Leen</td>\n",
       "      <td>2</td>\n",
       "      <td>46</td>\n",
       "      <td>57.980777</td>\n",
       "      <td>False</td>\n",
       "      <td>3000</td>\n",
       "      <td>113.498105</td>\n",
       "      <td>-63.558437</td>\n",
       "      <td>177.056542</td>\n",
       "      <td>17.478437</td>\n",
       "      <td>-46.08</td>\n",
       "      <td>None</td>\n",
       "      <td>2.350028</td>\n",
       "      <td>-62.5</td>\n",
       "      <td>177.5</td>\n",
       "      <td>17.5</td>\n",
       "    </tr>\n",
       "    <tr>\n",
       "      <th>149</th>\n",
       "      <td>Leen</td>\n",
       "      <td>3</td>\n",
       "      <td>14</td>\n",
       "      <td>57.980777</td>\n",
       "      <td>False</td>\n",
       "      <td>3000</td>\n",
       "      <td>-2.135937</td>\n",
       "      <td>-179.852770</td>\n",
       "      <td>177.716833</td>\n",
       "      <td>-0.407230</td>\n",
       "      <td>179.74</td>\n",
       "      <td>None</td>\n",
       "      <td>1.999258</td>\n",
       "      <td>-177.5</td>\n",
       "      <td>177.5</td>\n",
       "      <td>-2.5</td>\n",
       "    </tr>\n",
       "    <tr>\n",
       "      <th>187</th>\n",
       "      <td>Leen</td>\n",
       "      <td>4</td>\n",
       "      <td>7</td>\n",
       "      <td>57.980777</td>\n",
       "      <td>False</td>\n",
       "      <td>1000</td>\n",
       "      <td>-26.263597</td>\n",
       "      <td>153.991639</td>\n",
       "      <td>179.744765</td>\n",
       "      <td>0.378361</td>\n",
       "      <td>154.37</td>\n",
       "      <td>None</td>\n",
       "      <td>3.983155</td>\n",
       "      <td>152.5</td>\n",
       "      <td>177.5</td>\n",
       "      <td>2.5</td>\n",
       "    </tr>\n",
       "    <tr>\n",
       "      <th>564</th>\n",
       "      <td>leentest</td>\n",
       "      <td>2</td>\n",
       "      <td>15</td>\n",
       "      <td>[314.7077255793419]</td>\n",
       "      <td>False</td>\n",
       "      <td>3000</td>\n",
       "      <td>225.419208</td>\n",
       "      <td>46.779311</td>\n",
       "      <td>178.639897</td>\n",
       "      <td>-10.759311</td>\n",
       "      <td>36.02</td>\n",
       "      <td>None</td>\n",
       "      <td>2.499177</td>\n",
       "      <td>47.5</td>\n",
       "      <td>177.5</td>\n",
       "      <td>-12.5</td>\n",
       "    </tr>\n",
       "    <tr>\n",
       "      <th>604</th>\n",
       "      <td>leentest</td>\n",
       "      <td>3</td>\n",
       "      <td>8</td>\n",
       "      <td>[314.7077255793419]</td>\n",
       "      <td>False</td>\n",
       "      <td>1000</td>\n",
       "      <td>459.231721</td>\n",
       "      <td>-78.988985</td>\n",
       "      <td>178.220706</td>\n",
       "      <td>2.648985</td>\n",
       "      <td>-76.34</td>\n",
       "      <td>None</td>\n",
       "      <td>4.683176</td>\n",
       "      <td>-77.5</td>\n",
       "      <td>177.5</td>\n",
       "      <td>2.5</td>\n",
       "    </tr>\n",
       "    <tr>\n",
       "      <th>632</th>\n",
       "      <td>leentest</td>\n",
       "      <td>3</td>\n",
       "      <td>37</td>\n",
       "      <td>[314.7077255793419]</td>\n",
       "      <td>True</td>\n",
       "      <td>3000</td>\n",
       "      <td>170.303146</td>\n",
       "      <td>-5.207308</td>\n",
       "      <td>175.510455</td>\n",
       "      <td>-2.262692</td>\n",
       "      <td>-7.47</td>\n",
       "      <td>None</td>\n",
       "      <td>1.483481</td>\n",
       "      <td>-7.5</td>\n",
       "      <td>177.5</td>\n",
       "      <td>-2.5</td>\n",
       "    </tr>\n",
       "    <tr>\n",
       "      <th>636</th>\n",
       "      <td>leentest</td>\n",
       "      <td>3</td>\n",
       "      <td>41</td>\n",
       "      <td>[314.7077255793419]</td>\n",
       "      <td>False</td>\n",
       "      <td>1000</td>\n",
       "      <td>437.820940</td>\n",
       "      <td>-102.118188</td>\n",
       "      <td>179.939129</td>\n",
       "      <td>6.398188</td>\n",
       "      <td>-95.72</td>\n",
       "      <td>None</td>\n",
       "      <td>2.100448</td>\n",
       "      <td>-102.5</td>\n",
       "      <td>177.5</td>\n",
       "      <td>7.5</td>\n",
       "    </tr>\n",
       "    <tr>\n",
       "      <th>659</th>\n",
       "      <td>leentest</td>\n",
       "      <td>4</td>\n",
       "      <td>14</td>\n",
       "      <td>[314.7077255793419]</td>\n",
       "      <td>False</td>\n",
       "      <td>1000</td>\n",
       "      <td>218.561130</td>\n",
       "      <td>39.308258</td>\n",
       "      <td>179.252872</td>\n",
       "      <td>-4.468258</td>\n",
       "      <td>34.84</td>\n",
       "      <td>None</td>\n",
       "      <td>3.466727</td>\n",
       "      <td>37.5</td>\n",
       "      <td>177.5</td>\n",
       "      <td>-2.5</td>\n",
       "    </tr>\n",
       "    <tr>\n",
       "      <th>808</th>\n",
       "      <td>leentest</td>\n",
       "      <td>7</td>\n",
       "      <td>26</td>\n",
       "      <td>[179.7077255793419]</td>\n",
       "      <td>False</td>\n",
       "      <td>3000</td>\n",
       "      <td>159.869765</td>\n",
       "      <td>-17.966950</td>\n",
       "      <td>177.836715</td>\n",
       "      <td>-8.883050</td>\n",
       "      <td>-26.85</td>\n",
       "      <td>None</td>\n",
       "      <td>1.032882</td>\n",
       "      <td>-17.5</td>\n",
       "      <td>177.5</td>\n",
       "      <td>-7.5</td>\n",
       "    </tr>\n",
       "    <tr>\n",
       "      <th>843</th>\n",
       "      <td>leentest</td>\n",
       "      <td>8</td>\n",
       "      <td>13</td>\n",
       "      <td>[179.7077255793419]</td>\n",
       "      <td>False</td>\n",
       "      <td>1000</td>\n",
       "      <td>213.159183</td>\n",
       "      <td>34.213639</td>\n",
       "      <td>178.945545</td>\n",
       "      <td>1.806361</td>\n",
       "      <td>36.02</td>\n",
       "      <td>None</td>\n",
       "      <td>2.715974</td>\n",
       "      <td>32.5</td>\n",
       "      <td>177.5</td>\n",
       "      <td>2.5</td>\n",
       "    </tr>\n",
       "    <tr>\n",
       "      <th>954</th>\n",
       "      <td>leentrial</td>\n",
       "      <td>0</td>\n",
       "      <td>31</td>\n",
       "      <td>0</td>\n",
       "      <td>False</td>\n",
       "      <td>3000</td>\n",
       "      <td>-24.807166</td>\n",
       "      <td>160.190321</td>\n",
       "      <td>175.002513</td>\n",
       "      <td>7.089679</td>\n",
       "      <td>167.28</td>\n",
       "      <td>None</td>\n",
       "      <td>1.766738</td>\n",
       "      <td>162.5</td>\n",
       "      <td>177.5</td>\n",
       "      <td>7.5</td>\n",
       "    </tr>\n",
       "    <tr>\n",
       "      <th>1178</th>\n",
       "      <td>leentrial</td>\n",
       "      <td>5</td>\n",
       "      <td>31</td>\n",
       "      <td>0</td>\n",
       "      <td>False</td>\n",
       "      <td>3000</td>\n",
       "      <td>13.329256</td>\n",
       "      <td>-162.311253</td>\n",
       "      <td>175.640509</td>\n",
       "      <td>7.721253</td>\n",
       "      <td>-154.59</td>\n",
       "      <td>None</td>\n",
       "      <td>1.734249</td>\n",
       "      <td>-162.5</td>\n",
       "      <td>177.5</td>\n",
       "      <td>7.5</td>\n",
       "    </tr>\n",
       "    <tr>\n",
       "      <th>1184</th>\n",
       "      <td>leentrial</td>\n",
       "      <td>5</td>\n",
       "      <td>37</td>\n",
       "      <td>0</td>\n",
       "      <td>False</td>\n",
       "      <td>3000</td>\n",
       "      <td>95.895903</td>\n",
       "      <td>-80.117305</td>\n",
       "      <td>176.013208</td>\n",
       "      <td>4.007305</td>\n",
       "      <td>-76.11</td>\n",
       "      <td>None</td>\n",
       "      <td>1.700327</td>\n",
       "      <td>-82.5</td>\n",
       "      <td>177.5</td>\n",
       "      <td>2.5</td>\n",
       "    </tr>\n",
       "  </tbody>\n",
       "</table>\n",
       "</div>"
      ],
      "text/plain": [
       "0          subj block trial                prior     ct delay        preT  \\\n",
       "88         Leen     2     0            57.980777  False  1000 -147.590020   \n",
       "133        Leen     2    46            57.980777  False  3000  113.498105   \n",
       "149        Leen     3    14            57.980777  False  3000   -2.135937   \n",
       "187        Leen     4     7            57.980777  False  1000  -26.263597   \n",
       "564    leentest     2    15  [314.7077255793419]  False  3000  225.419208   \n",
       "604    leentest     3     8  [314.7077255793419]  False  1000  459.231721   \n",
       "632    leentest     3    37  [314.7077255793419]   True  3000  170.303146   \n",
       "636    leentest     3    41  [314.7077255793419]  False  1000  437.820940   \n",
       "659    leentest     4    14  [314.7077255793419]  False  1000  218.561130   \n",
       "808    leentest     7    26  [179.7077255793419]  False  3000  159.869765   \n",
       "843    leentest     8    13  [179.7077255793419]  False  1000  213.159183   \n",
       "954   leentrial     0    31                    0  False  3000  -24.807166   \n",
       "1178  leentrial     5    31                    0  False  3000   13.329256   \n",
       "1184  leentrial     5    37                    0  False  3000   95.895903   \n",
       "\n",
       "0        T_Angle     preDiff        err  choiceAngle keypressed        RT  \\\n",
       "88     34.889180  177.520800  -4.929180        29.96       None  1.351658   \n",
       "133   -63.558437  177.056542  17.478437       -46.08       None  2.350028   \n",
       "149  -179.852770  177.716833  -0.407230       179.74       None  1.999258   \n",
       "187   153.991639  179.744765   0.378361       154.37       None  3.983155   \n",
       "564    46.779311  178.639897 -10.759311        36.02       None  2.499177   \n",
       "604   -78.988985  178.220706   2.648985       -76.34       None  4.683176   \n",
       "632    -5.207308  175.510455  -2.262692        -7.47       None  1.483481   \n",
       "636  -102.118188  179.939129   6.398188       -95.72       None  2.100448   \n",
       "659    39.308258  179.252872  -4.468258        34.84       None  3.466727   \n",
       "808   -17.966950  177.836715  -8.883050       -26.85       None  1.032882   \n",
       "843    34.213639  178.945545   1.806361        36.02       None  2.715974   \n",
       "954   160.190321  175.002513   7.089679       167.28       None  1.766738   \n",
       "1178 -162.311253  175.640509   7.721253      -154.59       None  1.734249   \n",
       "1184  -80.117305  176.013208   4.007305       -76.11       None  1.700327   \n",
       "\n",
       "0    bin_Tangle bin_preDiff bin_err  \n",
       "88         32.5       177.5    -2.5  \n",
       "133       -62.5       177.5    17.5  \n",
       "149      -177.5       177.5    -2.5  \n",
       "187       152.5       177.5     2.5  \n",
       "564        47.5       177.5   -12.5  \n",
       "604       -77.5       177.5     2.5  \n",
       "632        -7.5       177.5    -2.5  \n",
       "636      -102.5       177.5     7.5  \n",
       "659        37.5       177.5    -2.5  \n",
       "808       -17.5       177.5    -7.5  \n",
       "843        32.5       177.5     2.5  \n",
       "954       162.5       177.5     7.5  \n",
       "1178     -162.5       177.5     7.5  \n",
       "1184      -82.5       177.5     2.5  "
      ]
     },
     "execution_count": 810,
     "metadata": {},
     "output_type": "execute_result"
    }
   ],
   "source": [
    "df[df.bin_preDiff == t ]"
   ]
  },
  {
   "cell_type": "code",
   "execution_count": null,
   "metadata": {},
   "outputs": [
    {
     "data": {
      "text/plain": [
       "[<matplotlib.lines.Line2D at 0x7fd48bc347d0>]"
      ]
     },
     "metadata": {},
     "output_type": "display_data"
    },
    {
     "data": {
      "image/png": "[encoded data removed]",
      "text/plain": [
       "<Figure size 432x288 with 1 Axes>"
      ]
     },
     "metadata": {},
     "output_type": "display_data"
    }
   ],
   "source": [
    "plt.plot(bins,np.rad2deg(m_err))"
   ]
  },
  {
   "cell_type": "code",
   "execution_count": 795,
   "metadata": {},
   "outputs": [
    {
     "data": {
      "text/plain": [
       "177.5"
      ]
     },
     "execution_count": 795,
     "metadata": {},
     "output_type": "execute_result"
    }
   ],
   "source": [
    "t"
   ]
  },
  {
   "cell_type": "code",
   "execution_count": 793,
   "metadata": {},
   "outputs": [
    {
     "data": {
      "text/plain": [
       "array([-177.5, -172.5, -167.5, -162.5, -157.5, -152.5, -147.5, -142.5,\n",
       "       -137.5, -132.5, -127.5, -122.5, -117.5, -112.5, -107.5, -102.5,\n",
       "        -97.5,  -92.5,  -87.5,  -82.5,  -77.5,  -72.5,  -67.5,  -62.5,\n",
       "        -57.5,  -52.5,  -47.5,  -42.5,  -37.5,  -32.5,  -27.5,  -22.5,\n",
       "        -17.5,  -12.5,   -7.5,   -2.5,    2.5,    7.5,   12.5,   17.5,\n",
       "         22.5,   27.5,   32.5,   37.5,   42.5,   47.5,   52.5,   57.5,\n",
       "         62.5,   67.5,   72.5,   77.5,   82.5,   87.5,   92.5,   97.5,\n",
       "        102.5,  107.5,  112.5,  117.5,  122.5,  127.5,  132.5,  137.5,\n",
       "        142.5,  147.5,  152.5,  157.5,  162.5,  167.5,  172.5,  177.5])"
      ]
     },
     "execution_count": 793,
     "metadata": {},
     "output_type": "execute_result"
    }
   ],
   "source": [
    "np.unique(df.bin_preDiff )"
   ]
  },
  {
   "cell_type": "code",
   "execution_count": 796,
   "metadata": {},
   "outputs": [
    {
     "data": {
      "text/html": [
       "<div>\n",
       "<style scoped>\n",
       "    .dataframe tbody tr th:only-of-type {\n",
       "        vertical-align: middle;\n",
       "    }\n",
       "\n",
       "    .dataframe tbody tr th {\n",
       "        vertical-align: top;\n",
       "    }\n",
       "\n",
       "    .dataframe thead th {\n",
       "        text-align: right;\n",
       "    }\n",
       "</style>\n",
       "<table border=\"1\" class=\"dataframe\">\n",
       "  <thead>\n",
       "    <tr style=\"text-align: right;\">\n",
       "      <th></th>\n",
       "      <th>subj</th>\n",
       "      <th>block</th>\n",
       "      <th>trial</th>\n",
       "      <th>prior</th>\n",
       "      <th>ct</th>\n",
       "      <th>delay</th>\n",
       "      <th>preT</th>\n",
       "      <th>T_Angle</th>\n",
       "      <th>preDiff</th>\n",
       "      <th>err</th>\n",
       "      <th>choiceAngle</th>\n",
       "      <th>keypressed</th>\n",
       "      <th>RT</th>\n",
       "      <th>bin_Tangle</th>\n",
       "      <th>bin_preDiff</th>\n",
       "      <th>bin_err</th>\n",
       "    </tr>\n",
       "  </thead>\n",
       "  <tbody>\n",
       "    <tr>\n",
       "      <th>88</th>\n",
       "      <td>Leen</td>\n",
       "      <td>2</td>\n",
       "      <td>0</td>\n",
       "      <td>57.980777</td>\n",
       "      <td>False</td>\n",
       "      <td>1000</td>\n",
       "      <td>-147.590020</td>\n",
       "      <td>34.889180</td>\n",
       "      <td>177.520800</td>\n",
       "      <td>-4.929180</td>\n",
       "      <td>29.96</td>\n",
       "      <td>None</td>\n",
       "      <td>1.351658</td>\n",
       "      <td>32.5</td>\n",
       "      <td>177.5</td>\n",
       "      <td>-2.5</td>\n",
       "    </tr>\n",
       "    <tr>\n",
       "      <th>133</th>\n",
       "      <td>Leen</td>\n",
       "      <td>2</td>\n",
       "      <td>46</td>\n",
       "      <td>57.980777</td>\n",
       "      <td>False</td>\n",
       "      <td>3000</td>\n",
       "      <td>113.498105</td>\n",
       "      <td>-63.558437</td>\n",
       "      <td>177.056542</td>\n",
       "      <td>17.478437</td>\n",
       "      <td>-46.08</td>\n",
       "      <td>None</td>\n",
       "      <td>2.350028</td>\n",
       "      <td>-62.5</td>\n",
       "      <td>177.5</td>\n",
       "      <td>17.5</td>\n",
       "    </tr>\n",
       "    <tr>\n",
       "      <th>149</th>\n",
       "      <td>Leen</td>\n",
       "      <td>3</td>\n",
       "      <td>14</td>\n",
       "      <td>57.980777</td>\n",
       "      <td>False</td>\n",
       "      <td>3000</td>\n",
       "      <td>-2.135937</td>\n",
       "      <td>-179.852770</td>\n",
       "      <td>177.716833</td>\n",
       "      <td>-0.407230</td>\n",
       "      <td>179.74</td>\n",
       "      <td>None</td>\n",
       "      <td>1.999258</td>\n",
       "      <td>-177.5</td>\n",
       "      <td>177.5</td>\n",
       "      <td>-2.5</td>\n",
       "    </tr>\n",
       "    <tr>\n",
       "      <th>187</th>\n",
       "      <td>Leen</td>\n",
       "      <td>4</td>\n",
       "      <td>7</td>\n",
       "      <td>57.980777</td>\n",
       "      <td>False</td>\n",
       "      <td>1000</td>\n",
       "      <td>-26.263597</td>\n",
       "      <td>153.991639</td>\n",
       "      <td>179.744765</td>\n",
       "      <td>0.378361</td>\n",
       "      <td>154.37</td>\n",
       "      <td>None</td>\n",
       "      <td>3.983155</td>\n",
       "      <td>152.5</td>\n",
       "      <td>177.5</td>\n",
       "      <td>2.5</td>\n",
       "    </tr>\n",
       "    <tr>\n",
       "      <th>564</th>\n",
       "      <td>leentest</td>\n",
       "      <td>2</td>\n",
       "      <td>15</td>\n",
       "      <td>[314.7077255793419]</td>\n",
       "      <td>False</td>\n",
       "      <td>3000</td>\n",
       "      <td>225.419208</td>\n",
       "      <td>46.779311</td>\n",
       "      <td>178.639897</td>\n",
       "      <td>-10.759311</td>\n",
       "      <td>36.02</td>\n",
       "      <td>None</td>\n",
       "      <td>2.499177</td>\n",
       "      <td>47.5</td>\n",
       "      <td>177.5</td>\n",
       "      <td>-12.5</td>\n",
       "    </tr>\n",
       "    <tr>\n",
       "      <th>604</th>\n",
       "      <td>leentest</td>\n",
       "      <td>3</td>\n",
       "      <td>8</td>\n",
       "      <td>[314.7077255793419]</td>\n",
       "      <td>False</td>\n",
       "      <td>1000</td>\n",
       "      <td>459.231721</td>\n",
       "      <td>-78.988985</td>\n",
       "      <td>178.220706</td>\n",
       "      <td>2.648985</td>\n",
       "      <td>-76.34</td>\n",
       "      <td>None</td>\n",
       "      <td>4.683176</td>\n",
       "      <td>-77.5</td>\n",
       "      <td>177.5</td>\n",
       "      <td>2.5</td>\n",
       "    </tr>\n",
       "    <tr>\n",
       "      <th>632</th>\n",
       "      <td>leentest</td>\n",
       "      <td>3</td>\n",
       "      <td>37</td>\n",
       "      <td>[314.7077255793419]</td>\n",
       "      <td>True</td>\n",
       "      <td>3000</td>\n",
       "      <td>170.303146</td>\n",
       "      <td>-5.207308</td>\n",
       "      <td>175.510455</td>\n",
       "      <td>-2.262692</td>\n",
       "      <td>-7.47</td>\n",
       "      <td>None</td>\n",
       "      <td>1.483481</td>\n",
       "      <td>-7.5</td>\n",
       "      <td>177.5</td>\n",
       "      <td>-2.5</td>\n",
       "    </tr>\n",
       "    <tr>\n",
       "      <th>636</th>\n",
       "      <td>leentest</td>\n",
       "      <td>3</td>\n",
       "      <td>41</td>\n",
       "      <td>[314.7077255793419]</td>\n",
       "      <td>False</td>\n",
       "      <td>1000</td>\n",
       "      <td>437.820940</td>\n",
       "      <td>-102.118188</td>\n",
       "      <td>179.939129</td>\n",
       "      <td>6.398188</td>\n",
       "      <td>-95.72</td>\n",
       "      <td>None</td>\n",
       "      <td>2.100448</td>\n",
       "      <td>-102.5</td>\n",
       "      <td>177.5</td>\n",
       "      <td>7.5</td>\n",
       "    </tr>\n",
       "    <tr>\n",
       "      <th>659</th>\n",
       "      <td>leentest</td>\n",
       "      <td>4</td>\n",
       "      <td>14</td>\n",
       "      <td>[314.7077255793419]</td>\n",
       "      <td>False</td>\n",
       "      <td>1000</td>\n",
       "      <td>218.561130</td>\n",
       "      <td>39.308258</td>\n",
       "      <td>179.252872</td>\n",
       "      <td>-4.468258</td>\n",
       "      <td>34.84</td>\n",
       "      <td>None</td>\n",
       "      <td>3.466727</td>\n",
       "      <td>37.5</td>\n",
       "      <td>177.5</td>\n",
       "      <td>-2.5</td>\n",
       "    </tr>\n",
       "    <tr>\n",
       "      <th>808</th>\n",
       "      <td>leentest</td>\n",
       "      <td>7</td>\n",
       "      <td>26</td>\n",
       "      <td>[179.7077255793419]</td>\n",
       "      <td>False</td>\n",
       "      <td>3000</td>\n",
       "      <td>159.869765</td>\n",
       "      <td>-17.966950</td>\n",
       "      <td>177.836715</td>\n",
       "      <td>-8.883050</td>\n",
       "      <td>-26.85</td>\n",
       "      <td>None</td>\n",
       "      <td>1.032882</td>\n",
       "      <td>-17.5</td>\n",
       "      <td>177.5</td>\n",
       "      <td>-7.5</td>\n",
       "    </tr>\n",
       "    <tr>\n",
       "      <th>843</th>\n",
       "      <td>leentest</td>\n",
       "      <td>8</td>\n",
       "      <td>13</td>\n",
       "      <td>[179.7077255793419]</td>\n",
       "      <td>False</td>\n",
       "      <td>1000</td>\n",
       "      <td>213.159183</td>\n",
       "      <td>34.213639</td>\n",
       "      <td>178.945545</td>\n",
       "      <td>1.806361</td>\n",
       "      <td>36.02</td>\n",
       "      <td>None</td>\n",
       "      <td>2.715974</td>\n",
       "      <td>32.5</td>\n",
       "      <td>177.5</td>\n",
       "      <td>2.5</td>\n",
       "    </tr>\n",
       "    <tr>\n",
       "      <th>954</th>\n",
       "      <td>leentrial</td>\n",
       "      <td>0</td>\n",
       "      <td>31</td>\n",
       "      <td>0</td>\n",
       "      <td>False</td>\n",
       "      <td>3000</td>\n",
       "      <td>-24.807166</td>\n",
       "      <td>160.190321</td>\n",
       "      <td>175.002513</td>\n",
       "      <td>7.089679</td>\n",
       "      <td>167.28</td>\n",
       "      <td>None</td>\n",
       "      <td>1.766738</td>\n",
       "      <td>162.5</td>\n",
       "      <td>177.5</td>\n",
       "      <td>7.5</td>\n",
       "    </tr>\n",
       "    <tr>\n",
       "      <th>1178</th>\n",
       "      <td>leentrial</td>\n",
       "      <td>5</td>\n",
       "      <td>31</td>\n",
       "      <td>0</td>\n",
       "      <td>False</td>\n",
       "      <td>3000</td>\n",
       "      <td>13.329256</td>\n",
       "      <td>-162.311253</td>\n",
       "      <td>175.640509</td>\n",
       "      <td>7.721253</td>\n",
       "      <td>-154.59</td>\n",
       "      <td>None</td>\n",
       "      <td>1.734249</td>\n",
       "      <td>-162.5</td>\n",
       "      <td>177.5</td>\n",
       "      <td>7.5</td>\n",
       "    </tr>\n",
       "    <tr>\n",
       "      <th>1184</th>\n",
       "      <td>leentrial</td>\n",
       "      <td>5</td>\n",
       "      <td>37</td>\n",
       "      <td>0</td>\n",
       "      <td>False</td>\n",
       "      <td>3000</td>\n",
       "      <td>95.895903</td>\n",
       "      <td>-80.117305</td>\n",
       "      <td>176.013208</td>\n",
       "      <td>4.007305</td>\n",
       "      <td>-76.11</td>\n",
       "      <td>None</td>\n",
       "      <td>1.700327</td>\n",
       "      <td>-82.5</td>\n",
       "      <td>177.5</td>\n",
       "      <td>2.5</td>\n",
       "    </tr>\n",
       "  </tbody>\n",
       "</table>\n",
       "</div>"
      ],
      "text/plain": [
       "0          subj block trial                prior     ct delay        preT  \\\n",
       "88         Leen     2     0            57.980777  False  1000 -147.590020   \n",
       "133        Leen     2    46            57.980777  False  3000  113.498105   \n",
       "149        Leen     3    14            57.980777  False  3000   -2.135937   \n",
       "187        Leen     4     7            57.980777  False  1000  -26.263597   \n",
       "564    leentest     2    15  [314.7077255793419]  False  3000  225.419208   \n",
       "604    leentest     3     8  [314.7077255793419]  False  1000  459.231721   \n",
       "632    leentest     3    37  [314.7077255793419]   True  3000  170.303146   \n",
       "636    leentest     3    41  [314.7077255793419]  False  1000  437.820940   \n",
       "659    leentest     4    14  [314.7077255793419]  False  1000  218.561130   \n",
       "808    leentest     7    26  [179.7077255793419]  False  3000  159.869765   \n",
       "843    leentest     8    13  [179.7077255793419]  False  1000  213.159183   \n",
       "954   leentrial     0    31                    0  False  3000  -24.807166   \n",
       "1178  leentrial     5    31                    0  False  3000   13.329256   \n",
       "1184  leentrial     5    37                    0  False  3000   95.895903   \n",
       "\n",
       "0        T_Angle     preDiff        err  choiceAngle keypressed        RT  \\\n",
       "88     34.889180  177.520800  -4.929180        29.96       None  1.351658   \n",
       "133   -63.558437  177.056542  17.478437       -46.08       None  2.350028   \n",
       "149  -179.852770  177.716833  -0.407230       179.74       None  1.999258   \n",
       "187   153.991639  179.744765   0.378361       154.37       None  3.983155   \n",
       "564    46.779311  178.639897 -10.759311        36.02       None  2.499177   \n",
       "604   -78.988985  178.220706   2.648985       -76.34       None  4.683176   \n",
       "632    -5.207308  175.510455  -2.262692        -7.47       None  1.483481   \n",
       "636  -102.118188  179.939129   6.398188       -95.72       None  2.100448   \n",
       "659    39.308258  179.252872  -4.468258        34.84       None  3.466727   \n",
       "808   -17.966950  177.836715  -8.883050       -26.85       None  1.032882   \n",
       "843    34.213639  178.945545   1.806361        36.02       None  2.715974   \n",
       "954   160.190321  175.002513   7.089679       167.28       None  1.766738   \n",
       "1178 -162.311253  175.640509   7.721253      -154.59       None  1.734249   \n",
       "1184  -80.117305  176.013208   4.007305       -76.11       None  1.700327   \n",
       "\n",
       "0    bin_Tangle bin_preDiff bin_err  \n",
       "88         32.5       177.5    -2.5  \n",
       "133       -62.5       177.5    17.5  \n",
       "149      -177.5       177.5    -2.5  \n",
       "187       152.5       177.5     2.5  \n",
       "564        47.5       177.5   -12.5  \n",
       "604       -77.5       177.5     2.5  \n",
       "632        -7.5       177.5    -2.5  \n",
       "636      -102.5       177.5     7.5  \n",
       "659        37.5       177.5    -2.5  \n",
       "808       -17.5       177.5    -7.5  \n",
       "843        32.5       177.5     2.5  \n",
       "954       162.5       177.5     7.5  \n",
       "1178     -162.5       177.5     7.5  \n",
       "1184      -82.5       177.5     2.5  "
      ]
     },
     "execution_count": 796,
     "metadata": {},
     "output_type": "execute_result"
    }
   ],
   "source": []
  },
  {
   "cell_type": "code",
   "execution_count": 780,
   "metadata": {},
   "outputs": [
    {
     "data": {
      "text/plain": [
       "[<matplotlib.lines.Line2D at 0x7fd48bc347d0>]"
      ]
     },
     "execution_count": 780,
     "metadata": {},
     "output_type": "execute_result"
    },
    {
     "data": {
      "image/png": "[encoded data removed]",
      "text/plain": [
       "<Figure size 432x288 with 1 Axes>"
      ]
     },
     "metadata": {
      "needs_background": "light"
     },
     "output_type": "display_data"
    }
   ],
   "source": [
    "plt.plot(bins,np.rad2deg(m_err))"
   ]
  },
  {
   "cell_type": "code",
   "execution_count": 735,
   "metadata": {},
   "outputs": [
    {
     "data": {
      "text/html": [
       "<div>\n",
       "<style scoped>\n",
       "    .dataframe tbody tr th:only-of-type {\n",
       "        vertical-align: middle;\n",
       "    }\n",
       "\n",
       "    .dataframe tbody tr th {\n",
       "        vertical-align: top;\n",
       "    }\n",
       "\n",
       "    .dataframe thead th {\n",
       "        text-align: right;\n",
       "    }\n",
       "</style>\n",
       "<table border=\"1\" class=\"dataframe\">\n",
       "  <thead>\n",
       "    <tr style=\"text-align: right;\">\n",
       "      <th></th>\n",
       "      <th>bin_preDiff</th>\n",
       "      <th>level_1</th>\n",
       "      <th>ref</th>\n",
       "      <th>pred</th>\n",
       "      <th>std_err</th>\n",
       "      <th>lb</th>\n",
       "      <th>hb</th>\n",
       "    </tr>\n",
       "  </thead>\n",
       "  <tbody>\n",
       "    <tr>\n",
       "      <th>0</th>\n",
       "      <td>-177.5</td>\n",
       "      <td>0</td>\n",
       "      <td>-1.635809</td>\n",
       "      <td>0.009201</td>\n",
       "      <td>0.143899</td>\n",
       "      <td>-0.134698</td>\n",
       "      <td>0.153100</td>\n",
       "    </tr>\n",
       "    <tr>\n",
       "      <th>1</th>\n",
       "      <td>-172.5</td>\n",
       "      <td>0</td>\n",
       "      <td>-0.237827</td>\n",
       "      <td>-0.024669</td>\n",
       "      <td>0.098152</td>\n",
       "      <td>-0.122821</td>\n",
       "      <td>0.073482</td>\n",
       "    </tr>\n",
       "    <tr>\n",
       "      <th>2</th>\n",
       "      <td>-167.5</td>\n",
       "      <td>0</td>\n",
       "      <td>-1.156559</td>\n",
       "      <td>-0.043282</td>\n",
       "      <td>0.198894</td>\n",
       "      <td>-0.242176</td>\n",
       "      <td>0.155612</td>\n",
       "    </tr>\n",
       "    <tr>\n",
       "      <th>3</th>\n",
       "      <td>-162.5</td>\n",
       "      <td>0</td>\n",
       "      <td>-1.989825</td>\n",
       "      <td>-0.032031</td>\n",
       "      <td>0.169742</td>\n",
       "      <td>-0.201774</td>\n",
       "      <td>0.137711</td>\n",
       "    </tr>\n",
       "    <tr>\n",
       "      <th>4</th>\n",
       "      <td>-157.5</td>\n",
       "      <td>0</td>\n",
       "      <td>-1.525491</td>\n",
       "      <td>-0.018596</td>\n",
       "      <td>0.204696</td>\n",
       "      <td>-0.223292</td>\n",
       "      <td>0.186101</td>\n",
       "    </tr>\n",
       "    <tr>\n",
       "      <th>...</th>\n",
       "      <td>...</td>\n",
       "      <td>...</td>\n",
       "      <td>...</td>\n",
       "      <td>...</td>\n",
       "      <td>...</td>\n",
       "      <td>...</td>\n",
       "      <td>...</td>\n",
       "    </tr>\n",
       "    <tr>\n",
       "      <th>67</th>\n",
       "      <td>157.5</td>\n",
       "      <td>0</td>\n",
       "      <td>1.971875</td>\n",
       "      <td>-0.055526</td>\n",
       "      <td>0.158011</td>\n",
       "      <td>-0.213537</td>\n",
       "      <td>0.102485</td>\n",
       "    </tr>\n",
       "    <tr>\n",
       "      <th>68</th>\n",
       "      <td>162.5</td>\n",
       "      <td>0</td>\n",
       "      <td>-1.966910</td>\n",
       "      <td>-0.050241</td>\n",
       "      <td>0.150453</td>\n",
       "      <td>-0.200694</td>\n",
       "      <td>0.100212</td>\n",
       "    </tr>\n",
       "    <tr>\n",
       "      <th>69</th>\n",
       "      <td>167.5</td>\n",
       "      <td>0</td>\n",
       "      <td>-0.410829</td>\n",
       "      <td>0.018258</td>\n",
       "      <td>0.082540</td>\n",
       "      <td>-0.064283</td>\n",
       "      <td>0.100798</td>\n",
       "    </tr>\n",
       "    <tr>\n",
       "      <th>70</th>\n",
       "      <td>172.5</td>\n",
       "      <td>0</td>\n",
       "      <td>-0.915080</td>\n",
       "      <td>-0.036624</td>\n",
       "      <td>0.111282</td>\n",
       "      <td>-0.147905</td>\n",
       "      <td>0.074658</td>\n",
       "    </tr>\n",
       "    <tr>\n",
       "      <th>71</th>\n",
       "      <td>177.5</td>\n",
       "      <td>0</td>\n",
       "      <td>2.505888</td>\n",
       "      <td>0.019599</td>\n",
       "      <td>0.124216</td>\n",
       "      <td>-0.104617</td>\n",
       "      <td>0.143815</td>\n",
       "    </tr>\n",
       "  </tbody>\n",
       "</table>\n",
       "<p>72 rows × 7 columns</p>\n",
       "</div>"
      ],
      "text/plain": [
       "   bin_preDiff  level_1       ref      pred   std_err        lb        hb\n",
       "0       -177.5        0 -1.635809  0.009201  0.143899 -0.134698  0.153100\n",
       "1       -172.5        0 -0.237827 -0.024669  0.098152 -0.122821  0.073482\n",
       "2       -167.5        0 -1.156559 -0.043282  0.198894 -0.242176  0.155612\n",
       "3       -162.5        0 -1.989825 -0.032031  0.169742 -0.201774  0.137711\n",
       "4       -157.5        0 -1.525491 -0.018596  0.204696 -0.223292  0.186101\n",
       "..         ...      ...       ...       ...       ...       ...       ...\n",
       "67       157.5        0  1.971875 -0.055526  0.158011 -0.213537  0.102485\n",
       "68       162.5        0 -1.966910 -0.050241  0.150453 -0.200694  0.100212\n",
       "69       167.5        0 -0.410829  0.018258  0.082540 -0.064283  0.100798\n",
       "70       172.5        0 -0.915080 -0.036624  0.111282 -0.147905  0.074658\n",
       "71       177.5        0  2.505888  0.019599  0.124216 -0.104617  0.143815\n",
       "\n",
       "[72 rows x 7 columns]"
      ]
     },
     "execution_count": 735,
     "metadata": {},
     "output_type": "execute_result"
    }
   ],
   "source": [
    "test"
   ]
  },
  {
   "cell_type": "code",
   "execution_count": null,
   "metadata": {},
   "outputs": [
    {
     "data": {
      "text/plain": [
       "[<matplotlib.lines.Line2D at 0x7fd48eaf2950>]"
      ]
     },
     "metadata": {},
     "output_type": "display_data"
    },
    {
     "data": {
      "image/png": "[encoded data removed]",
      "text/plain": [
       "<Figure size 432x288 with 1 Axes>"
      ]
     },
     "metadata": {},
     "output_type": "display_data"
    }
   ],
   "source": [
    "plt.plot(np.rad2deg(xxx+w2/2),np.rad2deg(m_err))"
   ]
  },
  {
   "cell_type": "code",
   "execution_count": 698,
   "metadata": {},
   "outputs": [
    {
     "data": {
      "text/html": [
       "<div>\n",
       "<style scoped>\n",
       "    .dataframe tbody tr th:only-of-type {\n",
       "        vertical-align: middle;\n",
       "    }\n",
       "\n",
       "    .dataframe tbody tr th {\n",
       "        vertical-align: top;\n",
       "    }\n",
       "\n",
       "    .dataframe thead th {\n",
       "        text-align: right;\n",
       "    }\n",
       "</style>\n",
       "<table border=\"1\" class=\"dataframe\">\n",
       "  <thead>\n",
       "    <tr style=\"text-align: right;\">\n",
       "      <th></th>\n",
       "      <th>subj</th>\n",
       "      <th>block</th>\n",
       "      <th>trial</th>\n",
       "      <th>prior</th>\n",
       "      <th>ct</th>\n",
       "      <th>delay</th>\n",
       "      <th>preT</th>\n",
       "      <th>T_Angle</th>\n",
       "      <th>preDiff</th>\n",
       "      <th>err</th>\n",
       "      <th>choiceAngle</th>\n",
       "      <th>keypressed</th>\n",
       "      <th>RT</th>\n",
       "      <th>bin_Tangle</th>\n",
       "      <th>bin_preDiff</th>\n",
       "      <th>bin_err</th>\n",
       "    </tr>\n",
       "  </thead>\n",
       "  <tbody>\n",
       "    <tr>\n",
       "      <th>0</th>\n",
       "      <td>Leen</td>\n",
       "      <td>0</td>\n",
       "      <td>1</td>\n",
       "      <td>0</td>\n",
       "      <td>False</td>\n",
       "      <td>1000</td>\n",
       "      <td>-113.216174</td>\n",
       "      <td>-34.676601</td>\n",
       "      <td>-78.539573</td>\n",
       "      <td>1.836601</td>\n",
       "      <td>-32.84</td>\n",
       "      <td>None</td>\n",
       "      <td>2.099349</td>\n",
       "      <td>-30.0</td>\n",
       "      <td>-70.0</td>\n",
       "      <td>10.0</td>\n",
       "    </tr>\n",
       "    <tr>\n",
       "      <th>1</th>\n",
       "      <td>Leen</td>\n",
       "      <td>0</td>\n",
       "      <td>2</td>\n",
       "      <td>0</td>\n",
       "      <td>False</td>\n",
       "      <td>3000</td>\n",
       "      <td>-34.676601</td>\n",
       "      <td>102.311261</td>\n",
       "      <td>-136.987861</td>\n",
       "      <td>19.508739</td>\n",
       "      <td>121.82</td>\n",
       "      <td>None</td>\n",
       "      <td>4.450077</td>\n",
       "      <td>110.0</td>\n",
       "      <td>-130.0</td>\n",
       "      <td>10.0</td>\n",
       "    </tr>\n",
       "    <tr>\n",
       "      <th>2</th>\n",
       "      <td>Leen</td>\n",
       "      <td>0</td>\n",
       "      <td>3</td>\n",
       "      <td>0</td>\n",
       "      <td>False</td>\n",
       "      <td>1000</td>\n",
       "      <td>102.311261</td>\n",
       "      <td>20.665683</td>\n",
       "      <td>81.645578</td>\n",
       "      <td>-1.505683</td>\n",
       "      <td>19.16</td>\n",
       "      <td>None</td>\n",
       "      <td>2.949058</td>\n",
       "      <td>30.0</td>\n",
       "      <td>90.0</td>\n",
       "      <td>-10.0</td>\n",
       "    </tr>\n",
       "    <tr>\n",
       "      <th>3</th>\n",
       "      <td>Leen</td>\n",
       "      <td>0</td>\n",
       "      <td>4</td>\n",
       "      <td>0</td>\n",
       "      <td>False</td>\n",
       "      <td>1000</td>\n",
       "      <td>20.665683</td>\n",
       "      <td>177.726916</td>\n",
       "      <td>-157.061232</td>\n",
       "      <td>4.453084</td>\n",
       "      <td>-177.82</td>\n",
       "      <td>None</td>\n",
       "      <td>1.933458</td>\n",
       "      <td>170.0</td>\n",
       "      <td>-150.0</td>\n",
       "      <td>10.0</td>\n",
       "    </tr>\n",
       "    <tr>\n",
       "      <th>4</th>\n",
       "      <td>Leen</td>\n",
       "      <td>0</td>\n",
       "      <td>5</td>\n",
       "      <td>0</td>\n",
       "      <td>False</td>\n",
       "      <td>3000</td>\n",
       "      <td>177.726916</td>\n",
       "      <td>-102.394972</td>\n",
       "      <td>-79.878112</td>\n",
       "      <td>-110.415028</td>\n",
       "      <td>147.19</td>\n",
       "      <td>None</td>\n",
       "      <td>3.899956</td>\n",
       "      <td>-110.0</td>\n",
       "      <td>-70.0</td>\n",
       "      <td>-110.0</td>\n",
       "    </tr>\n",
       "    <tr>\n",
       "      <th>...</th>\n",
       "      <td>...</td>\n",
       "      <td>...</td>\n",
       "      <td>...</td>\n",
       "      <td>...</td>\n",
       "      <td>...</td>\n",
       "      <td>...</td>\n",
       "      <td>...</td>\n",
       "      <td>...</td>\n",
       "      <td>...</td>\n",
       "      <td>...</td>\n",
       "      <td>...</td>\n",
       "      <td>...</td>\n",
       "      <td>...</td>\n",
       "      <td>...</td>\n",
       "      <td>...</td>\n",
       "      <td>...</td>\n",
       "    </tr>\n",
       "    <tr>\n",
       "      <th>1362</th>\n",
       "      <td>leentrial</td>\n",
       "      <td>9</td>\n",
       "      <td>45</td>\n",
       "      <td>154.8</td>\n",
       "      <td>False</td>\n",
       "      <td>1000</td>\n",
       "      <td>129.345173</td>\n",
       "      <td>-176.498824</td>\n",
       "      <td>-54.156003</td>\n",
       "      <td>9.778824</td>\n",
       "      <td>-166.72</td>\n",
       "      <td>None</td>\n",
       "      <td>3.883614</td>\n",
       "      <td>-170.0</td>\n",
       "      <td>-50.0</td>\n",
       "      <td>10.0</td>\n",
       "    </tr>\n",
       "    <tr>\n",
       "      <th>1363</th>\n",
       "      <td>leentrial</td>\n",
       "      <td>9</td>\n",
       "      <td>46</td>\n",
       "      <td>154.8</td>\n",
       "      <td>False</td>\n",
       "      <td>1000</td>\n",
       "      <td>-176.498824</td>\n",
       "      <td>129.439470</td>\n",
       "      <td>54.061706</td>\n",
       "      <td>18.530530</td>\n",
       "      <td>147.97</td>\n",
       "      <td>None</td>\n",
       "      <td>2.800078</td>\n",
       "      <td>130.0</td>\n",
       "      <td>50.0</td>\n",
       "      <td>10.0</td>\n",
       "    </tr>\n",
       "    <tr>\n",
       "      <th>1364</th>\n",
       "      <td>leentrial</td>\n",
       "      <td>9</td>\n",
       "      <td>47</td>\n",
       "      <td>154.8</td>\n",
       "      <td>False</td>\n",
       "      <td>3000</td>\n",
       "      <td>129.439470</td>\n",
       "      <td>111.157549</td>\n",
       "      <td>18.281921</td>\n",
       "      <td>-1.237549</td>\n",
       "      <td>109.92</td>\n",
       "      <td>None</td>\n",
       "      <td>1.515985</td>\n",
       "      <td>110.0</td>\n",
       "      <td>10.0</td>\n",
       "      <td>-10.0</td>\n",
       "    </tr>\n",
       "    <tr>\n",
       "      <th>1365</th>\n",
       "      <td>leentrial</td>\n",
       "      <td>9</td>\n",
       "      <td>48</td>\n",
       "      <td>154.8</td>\n",
       "      <td>False</td>\n",
       "      <td>3000</td>\n",
       "      <td>111.157549</td>\n",
       "      <td>155.383656</td>\n",
       "      <td>-44.226107</td>\n",
       "      <td>8.896344</td>\n",
       "      <td>164.28</td>\n",
       "      <td>None</td>\n",
       "      <td>2.800341</td>\n",
       "      <td>150.0</td>\n",
       "      <td>-50.0</td>\n",
       "      <td>10.0</td>\n",
       "    </tr>\n",
       "    <tr>\n",
       "      <th>1366</th>\n",
       "      <td>leentrial</td>\n",
       "      <td>9</td>\n",
       "      <td>49</td>\n",
       "      <td>154.8</td>\n",
       "      <td>False</td>\n",
       "      <td>1000</td>\n",
       "      <td>155.383656</td>\n",
       "      <td>152.582042</td>\n",
       "      <td>2.801614</td>\n",
       "      <td>-2.172042</td>\n",
       "      <td>150.41</td>\n",
       "      <td>None</td>\n",
       "      <td>2.483907</td>\n",
       "      <td>150.0</td>\n",
       "      <td>10.0</td>\n",
       "      <td>-10.0</td>\n",
       "    </tr>\n",
       "  </tbody>\n",
       "</table>\n",
       "<p>1367 rows × 16 columns</p>\n",
       "</div>"
      ],
      "text/plain": [
       "0          subj block trial  prior     ct delay        preT     T_Angle  \\\n",
       "0          Leen     0     1      0  False  1000 -113.216174  -34.676601   \n",
       "1          Leen     0     2      0  False  3000  -34.676601  102.311261   \n",
       "2          Leen     0     3      0  False  1000  102.311261   20.665683   \n",
       "3          Leen     0     4      0  False  1000   20.665683  177.726916   \n",
       "4          Leen     0     5      0  False  3000  177.726916 -102.394972   \n",
       "...         ...   ...   ...    ...    ...   ...         ...         ...   \n",
       "1362  leentrial     9    45  154.8  False  1000  129.345173 -176.498824   \n",
       "1363  leentrial     9    46  154.8  False  1000 -176.498824  129.439470   \n",
       "1364  leentrial     9    47  154.8  False  3000  129.439470  111.157549   \n",
       "1365  leentrial     9    48  154.8  False  3000  111.157549  155.383656   \n",
       "1366  leentrial     9    49  154.8  False  1000  155.383656  152.582042   \n",
       "\n",
       "0        preDiff         err  choiceAngle keypressed        RT bin_Tangle  \\\n",
       "0     -78.539573    1.836601       -32.84       None  2.099349      -30.0   \n",
       "1    -136.987861   19.508739       121.82       None  4.450077      110.0   \n",
       "2      81.645578   -1.505683        19.16       None  2.949058       30.0   \n",
       "3    -157.061232    4.453084      -177.82       None  1.933458      170.0   \n",
       "4     -79.878112 -110.415028       147.19       None  3.899956     -110.0   \n",
       "...          ...         ...          ...        ...       ...        ...   \n",
       "1362  -54.156003    9.778824      -166.72       None  3.883614     -170.0   \n",
       "1363   54.061706   18.530530       147.97       None  2.800078      130.0   \n",
       "1364   18.281921   -1.237549       109.92       None  1.515985      110.0   \n",
       "1365  -44.226107    8.896344       164.28       None  2.800341      150.0   \n",
       "1366    2.801614   -2.172042       150.41       None  2.483907      150.0   \n",
       "\n",
       "0    bin_preDiff bin_err  \n",
       "0          -70.0    10.0  \n",
       "1         -130.0    10.0  \n",
       "2           90.0   -10.0  \n",
       "3         -150.0    10.0  \n",
       "4          -70.0  -110.0  \n",
       "...          ...     ...  \n",
       "1362       -50.0    10.0  \n",
       "1363        50.0    10.0  \n",
       "1364        10.0   -10.0  \n",
       "1365       -50.0    10.0  \n",
       "1366        10.0   -10.0  \n",
       "\n",
       "[1367 rows x 16 columns]"
      ]
     },
     "execution_count": 698,
     "metadata": {},
     "output_type": "execute_result"
    }
   ],
   "source": [
    "df"
   ]
  },
  {
   "cell_type": "code",
   "execution_count": 186,
   "metadata": {},
   "outputs": [
    {
     "data": {
      "text/plain": [
       "array([0, -70.2, 154.8], dtype=object)"
      ]
     },
     "execution_count": 186,
     "metadata": {},
     "output_type": "execute_result"
    }
   ],
   "source": [
    "\n",
    "dat = df[(df['subj'] == 'leentrial')]\n",
    "dat['prior'].unique()"
   ]
  },
  {
   "cell_type": "code",
   "execution_count": 245,
   "metadata": {},
   "outputs": [
    {
     "data": {
      "image/png": "[encoded data removed]",
      "text/plain": [
       "<Figure size 360x576 with 1 Axes>"
      ]
     },
     "metadata": {
      "needs_background": "light"
     },
     "output_type": "display_data"
    }
   ],
   "source": [
    "dat = df[(df['subj'] == 'leentrial')]\n",
    "dat = dat[(dat['prior'] == -70.2)]\n",
    "\n",
    "dat.reset_index(drop=True, inplace=True)\n",
    "\n",
    "radius = np.sqrt(np.mean(dat.choice_x**2+dat.choice_y**2))\n",
    "ref_points = np.array([[radius*np.cos(np.deg2rad(dat.T_Angle.iloc[i])), radius*np.sin(np.deg2rad(dat.T_Angle.iloc[i]))] for i in range(len(dat))])\n",
    "tsr_points = np.array([[dat.choice_x.iloc[j], dat.choice_y.iloc[j]] for j in range(len(dat))])\n",
    "translation, transformation = compute_affine_transform(ref_points, tsr_points)\n",
    "ref_centroid = np.mean(ref_points, axis=0)\n",
    "tsr_centroid = np.mean(tsr_points, axis=0)\n",
    "new_points = np.empty_like(ref_points)\n",
    "for j in range(len(dat)):\n",
    "    new_points[j] = ref_centroid + np.dot(transformation, tsr_points[j] - tsr_centroid)\n",
    "\n",
    "dat['choiceAngle_corr'] = np.rad2deg(np.arctan2(new_points[:,1], new_points[:,0]))\n",
    "\n",
    "#sns.set_context('poster')\n",
    "T = radians(array(dat['T_Angle']))\n",
    "R = radians(array(dat['choiceAngle']))\n",
    "P = radians(array(dat['preT']))\n",
    "\n",
    "\n",
    "figure(figsize=[5,8])\n",
    "#plt.subplot(4,1,isubj+1)\n",
    "xxx=arange(-pi,pi-w2+w1,w1)\n",
    "flip = False\n",
    "#%%\n",
    "#figure(figsize=(10,8))\n",
    "#err,d,m_err,std_err,count,points_idx = compute_serial(R,T,xxx,flip,False)\n",
    "err,d,m_err,std_err,count,points_idx = compute_serial(R,T,P,xxx,flip,False)\n",
    "#err,d,m_err,std_err,count,points_idx = compute_serial(R,T,np.zeros(np.shape(R)),xxx,flip,False)\n",
    "#err,d,m_err,std_err,count,points_idx = compute_serial(R,T,P,xxx,flip,False)\n",
    "\n",
    "m_err=rad2deg(m_err)\n",
    "std_err=rad2deg(std_err)\n",
    "\n",
    "plot(rad2deg(xxx+w2/2),m_err,linewidth=1.5)\n",
    "fill_between(rad2deg(xxx+w2/2), m_err + std_err, m_err - std_err,alpha=.2)\n",
    "#errorbar(xxx+w2/2,m_err,std_err)\n",
    "plot(rad2deg(xxx+w2/2),zeros(len(xxx)),\"k--\",linewidth=1)\n",
    "\n",
    "xlabel(r'$\\theta_{n-1}^S - \\theta_n^S$ ($^o$)', fontsize=14); ylabel(r'$\\theta_n^e$ ($^o$)', fontsize=14);\n",
    "sns.despine()\n",
    "\n",
    "\n",
    "adict={}\n",
    "adict['m_err']=m_err\n",
    "adict['std_err']=std_err\n",
    "adict['xxx']=xxx\n",
    "adict['w2']=w2"
   ]
  },
  {
   "cell_type": "code",
   "execution_count": null,
   "metadata": {},
   "outputs": [],
   "source": [
    "\n",
    "figure(figsize=[5,8])\n",
    "#plt.subplot(4,1,isubj+1)\n",
    "xxx=arange(-pi,pi-w2+w1,w1)\n",
    "flip = False\n",
    "#%%\n",
    "#figure(figsize=(10,8))\n",
    "#err,d,m_err,std_err,count,points_idx = compute_serial(R,T,xxx,flip,False)\n",
    "err,d,m_err,std_err,count,points_idx = compute_serial(R,T,np.zeros(np.shape(R)),xxx,flip,False)\n",
    "#err,d,m_err,std_err,count,points_idx = compute_serial(R,T,P,xxx,flip,False)\n",
    "\n",
    "m_err=rad2deg(m_err)\n",
    "std_err=rad2deg(std_err)\n",
    "\n",
    "plot(rad2deg(xxx+w2/2),m_err,linewidth=1.5)\n",
    "fill_between(rad2deg(xxx+w2/2), m_err + std_err, m_err - std_err,alpha=.2)\n",
    "#errorbar(xxx+w2/2,m_err,std_err)\n",
    "plot(rad2deg(xxx+w2/2),zeros(len(xxx)),\"k--\",linewidth=1)\n",
    "\n",
    "xlabel(r'$\\theta_{n-1}^S - \\theta_n^S$ ($^o$)', fontsize=14); ylabel(r'$\\theta_n^e$ ($^o$)', fontsize=14);\n",
    "sns.despine()\n",
    "\n",
    "\n",
    "adict={}\n",
    "adict['m_err']=m_err\n",
    "adict['std_err']=std_err\n",
    "adict['xxx']=xxx\n",
    "adict['w2']=w2"
   ]
  }
 ],
 "metadata": {
  "kernelspec": {
   "display_name": "wm_exp",
   "language": "python",
   "name": "python3"
  },
  "language_info": {
   "codemirror_mode": {
    "name": "ipython",
    "version": 3
   },
   "file_extension": ".py",
   "mimetype": "text/x-python",
   "name": "python",
   "nbconvert_exporter": "python",
   "pygments_lexer": "ipython3",
   "version": "3.8.13"
  },
  "orig_nbformat": 4,
  "vscode": {
   "interpreter": {
    "hash": "cb7b30cd8bde7b8a961fa834837f79ed4000651b1d624c1829c4e4956513c364"
   }
  }
 },
 "nbformat": 4,
 "nbformat_minor": 2
}
