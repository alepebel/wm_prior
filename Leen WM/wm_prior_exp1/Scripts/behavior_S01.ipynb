{
 "cells": [
  {
   "cell_type": "code",
   "execution_count": 3,
   "metadata": {
    "ExecuteTime": {
     "end_time": "2021-08-10T19:48:08.268562Z",
     "start_time": "2021-08-10T19:48:02.087278Z"
    }
   },
   "outputs": [
    {
     "name": "stdout",
     "output_type": "stream",
     "text": [
      "Requirement already satisfied: scikits-bootstrap in /Users/leenfarah/.local/lib/python3.8/site-packages (1.1.0)\n",
      "Requirement already satisfied: numpy in /opt/anaconda3/envs/wm_exp/lib/python3.8/site-packages (from scikits-bootstrap) (1.21.5)\n",
      "Requirement already satisfied: typing-extensions in /opt/anaconda3/envs/wm_exp/lib/python3.8/site-packages (from scikits-bootstrap) (4.4.0)\n",
      "Requirement already satisfied: pyerf in /Users/leenfarah/.local/lib/python3.8/site-packages (from scikits-bootstrap) (1.0.1)\n",
      "^C\n",
      "\u001b[31mERROR: Operation cancelled by user\u001b[0m\u001b[31m\n",
      "\u001b[0mNote: you may need to restart the kernel to use updated packages.\n",
      "Requirement already satisfied: pymicro in /Users/leenfarah/.local/lib/python3.8/site-packages (0.5.1)\n",
      "Note: you may need to restart the kernel to use updated packages.\n",
      "Requirement already satisfied: vtk in /Users/leenfarah/.local/lib/python3.8/site-packages (9.2.5)\n",
      "Requirement already satisfied: matplotlib>=2.0.0 in /opt/anaconda3/envs/wm_exp/lib/python3.8/site-packages (from vtk) (3.6.2)\n",
      "Requirement already satisfied: pyparsing>=2.2.1 in /opt/anaconda3/envs/wm_exp/lib/python3.8/site-packages (from matplotlib>=2.0.0->vtk) (3.0.9)\n",
      "Requirement already satisfied: python-dateutil>=2.7 in /opt/anaconda3/envs/wm_exp/lib/python3.8/site-packages (from matplotlib>=2.0.0->vtk) (2.8.2)\n",
      "Requirement already satisfied: numpy>=1.19 in /opt/anaconda3/envs/wm_exp/lib/python3.8/site-packages (from matplotlib>=2.0.0->vtk) (1.21.5)\n",
      "Requirement already satisfied: packaging>=20.0 in /opt/anaconda3/envs/wm_exp/lib/python3.8/site-packages (from matplotlib>=2.0.0->vtk) (22.0)\n",
      "Requirement already satisfied: contourpy>=1.0.1 in /opt/anaconda3/envs/wm_exp/lib/python3.8/site-packages (from matplotlib>=2.0.0->vtk) (1.0.5)\n",
      "Requirement already satisfied: pillow>=6.2.0 in /opt/anaconda3/envs/wm_exp/lib/python3.8/site-packages (from matplotlib>=2.0.0->vtk) (9.3.0)\n",
      "Requirement already satisfied: cycler>=0.10 in /opt/anaconda3/envs/wm_exp/lib/python3.8/site-packages (from matplotlib>=2.0.0->vtk) (0.11.0)\n",
      "Requirement already satisfied: kiwisolver>=1.0.1 in /opt/anaconda3/envs/wm_exp/lib/python3.8/site-packages (from matplotlib>=2.0.0->vtk) (1.4.4)\n",
      "Requirement already satisfied: fonttools>=4.22.0 in /opt/anaconda3/envs/wm_exp/lib/python3.8/site-packages (from matplotlib>=2.0.0->vtk) (4.25.0)\n",
      "Requirement already satisfied: six>=1.5 in /opt/anaconda3/envs/wm_exp/lib/python3.8/site-packages (from python-dateutil>=2.7->matplotlib>=2.0.0->vtk) (1.16.0)\n",
      "Note: you may need to restart the kernel to use updated packages.\n"
     ]
    }
   ],
   "source": [
    "%pip install scikits-bootstrap --user\n",
    "%pip install pymicro --user\n",
    "%pip install vtk --user"
   ]
  },
  {
   "cell_type": "code",
   "execution_count": null,
   "metadata": {
    "ExecuteTime": {
     "end_time": "2021-08-10T19:48:09.245639Z",
     "start_time": "2021-08-10T19:48:08.280913Z"
    }
   },
   "outputs": [
    {
     "ename": "FileNotFoundError",
     "evalue": "[Errno 2] No such file or directory: 'S01'",
     "output_type": "error",
     "traceback": [
      "\u001b[0;31m---------------------------------------------------------------------------\u001b[0m",
      "\u001b[0;31mFileNotFoundError\u001b[0m                         Traceback (most recent call last)",
      "\u001b[0;32m/var/folders/r9/cr9dfv5j4v9ghnsqpsk0syy40000gn/T/ipykernel_954/4166777174.py\u001b[0m in \u001b[0;36m<module>\u001b[0;34m\u001b[0m\n\u001b[1;32m      9\u001b[0m \u001b[0;32mfrom\u001b[0m \u001b[0mscipy\u001b[0m\u001b[0;34m.\u001b[0m\u001b[0mio\u001b[0m \u001b[0;32mimport\u001b[0m \u001b[0;34m*\u001b[0m\u001b[0;34m\u001b[0m\u001b[0;34m\u001b[0m\u001b[0m\n\u001b[1;32m     10\u001b[0m \u001b[0;32mimport\u001b[0m \u001b[0mseaborn\u001b[0m \u001b[0;32mas\u001b[0m \u001b[0msns\u001b[0m\u001b[0;34m\u001b[0m\u001b[0;34m\u001b[0m\u001b[0m\n\u001b[0;32m---> 11\u001b[0;31m \u001b[0mos\u001b[0m\u001b[0;34m.\u001b[0m\u001b[0mchdir\u001b[0m\u001b[0;34m(\u001b[0m\u001b[0;34m'S01'\u001b[0m\u001b[0;34m)\u001b[0m                 \u001b[0;31m# Change this to change the subject\u001b[0m\u001b[0;34m\u001b[0m\u001b[0;34m\u001b[0m\u001b[0m\n\u001b[0m\u001b[1;32m     12\u001b[0m \u001b[0;32mfrom\u001b[0m \u001b[0mcirc_stats\u001b[0m \u001b[0;32mimport\u001b[0m \u001b[0;34m*\u001b[0m                                                                \u001b[0;31m# File needs to be in the wd\u001b[0m\u001b[0;34m\u001b[0m\u001b[0;34m\u001b[0m\u001b[0m\n\u001b[1;32m     13\u001b[0m \u001b[0;32mfrom\u001b[0m \u001b[0mtime\u001b[0m \u001b[0;32mimport\u001b[0m \u001b[0mtime\u001b[0m\u001b[0;34m,\u001b[0m \u001b[0msleep\u001b[0m\u001b[0;34m\u001b[0m\u001b[0;34m\u001b[0m\u001b[0m\n",
      "\u001b[0;31mFileNotFoundError\u001b[0m: [Errno 2] No such file or directory: 'S01'"
     ]
    }
   ],
   "source": [
    "from scipy import *\n",
    "from matplotlib.pyplot import *\n",
    "\n",
    "import glob,os,sys,csv\n",
    "import pandas as pd \n",
    "from random import shuffle, sample\n",
    "from numpy.linalg import norm\n",
    "import statsmodels.nonparametric.smoothers_lowess as loess\n",
    "from scipy.io import *\n",
    "import seaborn as sns\n",
    "os.chdir('S01')\t\t\t# Change this to change the subject\n",
    "from circ_stats import * \t\t\t\t\t\t\t\t# File needs to be in the wd\n",
    "from time import time, sleep\n"
   ]
  },
  {
   "cell_type": "code",
   "execution_count": 2,
   "metadata": {},
   "outputs": [
    {
     "name": "stdout",
     "output_type": "stream",
     "text": [
      "Found existing installation: PsychoPy 2021.2.3\n",
      "Uninstalling PsychoPy-2021.2.3:\n",
      "  Would remove:\n",
      "    /opt/anaconda3/envs/wm_exp/bin/psychopy\n",
      "    /opt/anaconda3/envs/wm_exp/lib/python3.8/site-packages/PsychoPy-2021.2.3.dist-info/*\n",
      "    /opt/anaconda3/envs/wm_exp/lib/python3.8/site-packages/building/*\n",
      "    /opt/anaconda3/envs/wm_exp/lib/python3.8/site-packages/psychopy/*\n",
      "Proceed (Y/n)? ^C\n",
      "\u001b[31mERROR: Operation cancelled by user\u001b[0m\u001b[31m\n",
      "\u001b[0mNote: you may need to restart the kernel to use updated packages.\n"
     ]
    }
   ],
   "source": [
    "pip uninstall psychopy"
   ]
  },
  {
   "cell_type": "code",
   "execution_count": 3,
   "metadata": {
    "ExecuteTime": {
     "end_time": "2021-08-10T19:48:09.263735Z",
     "start_time": "2021-08-10T19:48:09.248579Z"
    }
   },
   "outputs": [],
   "source": [
    "#%% FUNCTIONS\n",
    "def len2(x):\n",
    "\tif type(x) is not type([]):\n",
    "\t\tif type(x) is not type(array([])):\n",
    "\t\t\treturn -1\n",
    "\treturn len(x)\n",
    "\n",
    "def circdist(angles1,angles2):\n",
    "    if len2(angles2) < 0:\n",
    "        if len2(angles1) > 0:\n",
    "            angles2 = [angles2]*len(angles1)\n",
    "        else:\n",
    "            angles2 = [angles2]\n",
    "            angles1 = [angles1]\n",
    "    if len2(angles1) < 0:\n",
    "        angles1 = [angles1]*len(angles2)\n",
    "        \n",
    "    return np.angle(exp(1j*angles1)/exp(1j*angles2))\n",
    "        \n",
    "    #return amap(lambda a1,a2: phase2(exp(1j*a1)/exp(1j*a2)), angles1,angles2)\n",
    "\n",
    "def circ_mean(x):\n",
    "\treturn circmean(x,low=-pi,high=pi)\n",
    "\n",
    "def rem_sys_err(report,target,w):\n",
    "    n=[]\n",
    "    for x in arange(-pi,pi,w):\n",
    "        d=circdist(target,x)\n",
    "        idx = (d >= x) & (d<x+w)\n",
    "        report[idx] = circdist(report[idx],circmean(circdist(report[idx],target[idx]),low=-pi,high=pi))\n",
    "        n.append(sum(idx))\n",
    "        \n",
    "    return report,n\n",
    "\n",
    "def rem_sys_err2(report,target,frac=.25):\n",
    "    #''' Removes from the response the systematic error of the subject.'''\n",
    "    fit_resp = loess.lowess(report, target, frac = frac, return_sorted = False)\n",
    "    fit_error = circdist(fit_resp, target)\n",
    "    clean_res = circdist(report, fit_error) # Clean response ?\n",
    "    return clean_res\n",
    "\n",
    "def compute_serial(report,target,pre_target,xxx,flip=None,ref_report=False):\n",
    "\treport = rem_sys_err2(array(report),array(target))\n",
    "\terr = circdist(report,target)\n",
    "\td = circdist(pre_target,target) #Previous cue - current cue\n",
    "\tif ref_report:\n",
    "\t\td=circdist(report[:-1],target[1:])\n",
    "\t\n",
    "\t# remove outliers\n",
    "\tidx_clean=(abs(err)<3*std((err))) & (abs(err)<1)\n",
    "\t#idx_clean = idx_clean & (report[1:] !=0)\n",
    "\t\n",
    "\terr=err[idx_clean]\n",
    "\td=d[idx_clean]\n",
    "\tm_err=[]\n",
    "\tstd_err=[]\n",
    "\tcount=[]\n",
    "\tcis=[]\n",
    "\tif flip:\n",
    "\t\terr = sign(d)*err\n",
    "\t\td=abs(d)\n",
    "\tpoints_idx=[]\n",
    "\tfor t in xxx:\n",
    "\t\tidx=(d>=t)&(d<=t+w2)\n",
    "\t\tm_err.append(circ_mean(err[idx]))\n",
    "\t\tstd_err.append(circstd(err[idx])/sqrt(sum(idx)))\n",
    "\t\tcount.append(sum(idx))\n",
    "\t\tpoints_idx.append(idx)\n",
    "\treturn array(err),d,array(m_err),array(std_err),count,points_idx\n"
   ]
  },
  {
   "cell_type": "code",
   "execution_count": 4,
   "metadata": {
    "ExecuteTime": {
     "end_time": "2021-08-10T19:48:09.282841Z",
     "start_time": "2021-08-10T19:48:09.265728Z"
    }
   },
   "outputs": [
    {
     "name": "stderr",
     "output_type": "stream",
     "text": [
      "/home/albert/anaconda3/lib/python3.7/site-packages/ipykernel_launcher.py:9: SettingWithCopyWarning: \n",
      "A value is trying to be set on a copy of a slice from a DataFrame\n",
      "\n",
      "See the caveats in the documentation: https://pandas.pydata.org/pandas-docs/stable/user_guide/indexing.html#returning-a-view-versus-a-copy\n",
      "  if __name__ == '__main__':\n"
     ]
    }
   ],
   "source": [
    "#%% IMPORT DATA\n",
    "df = pd.read_csv('behav/behav.csv')\n",
    "try:\n",
    "\tdf['TMS_trial'] = df['flash'] # New version won't fail\n",
    "except:\n",
    "\tdf['flash'] = df['TMS_trial'] \t# Old version needs to have this.\n",
    "\tdf['recorded']=df['trial']\n",
    "\tdf['preT'] = roll(df['T_Angle'],1)\n",
    "\tdf['preT'][0] = nan\n"
   ]
  },
  {
   "cell_type": "code",
   "execution_count": null,
   "metadata": {
    "ExecuteTime": {
     "end_time": "2021-08-10T19:48:09.753855Z",
     "start_time": "2021-08-10T19:48:09.284233Z"
    }
   },
   "outputs": [],
   "source": [
    "from pymicro.view.vol_utils import compute_affine_transform\n",
    "# compute the affine transform from the point set\n",
    "\n",
    "radius = np.sqrt(np.mean(df.choice_x**2+df.choice_y**2))\n",
    "ref_points = np.array([[radius*np.cos(np.deg2rad(df.T_Angle[i])), radius*np.sin(np.deg2rad(df.T_Angle[i]))] for i in range(len(df))])\n",
    "tsr_points = np.array([[df.choice_x[j], df.choice_y[j]] for j in range(len(df))])\n",
    "translation, transformation = compute_affine_transform(ref_points, tsr_points)\n",
    "ref_centroid = np.mean(ref_points, axis=0)\n",
    "tsr_centroid = np.mean(tsr_points, axis=0)\n",
    "new_points = np.empty_like(ref_points)\n",
    "for j in range(len(df)):\n",
    "    new_points[j] = ref_centroid + np.dot(transformation, tsr_points[j] - tsr_centroid)\n",
    "\n",
    "df['choiceAngle_corr'] = np.rad2deg(np.arctan2(new_points[:,1], new_points[:,0]))"
   ]
  },
  {
   "cell_type": "code",
   "execution_count": 6,
   "metadata": {
    "ExecuteTime": {
     "end_time": "2021-08-10T19:48:10.179113Z",
     "start_time": "2021-08-10T19:48:09.755690Z"
    }
   },
   "outputs": [
    {
     "data": {
      "image/png": "[encoded data removed]",
      "text/plain": [
       "<Figure size 432x288 with 1 Axes>"
      ]
     },
     "metadata": {
      "needs_background": "light"
     },
     "output_type": "display_data"
    }
   ],
   "source": [
    "hist(circdist(np.deg2rad(df.choiceAngle_corr.values), np.deg2rad(df.T_Angle.values)),50, alpha=0.5);\n",
    "hist(circdist(np.deg2rad(df.choiceAngle.values), np.deg2rad(df.T_Angle.values)),50, alpha=.5);"
   ]
  },
  {
   "cell_type": "code",
   "execution_count": 7,
   "metadata": {
    "ExecuteTime": {
     "end_time": "2021-08-10T19:48:10.189073Z",
     "start_time": "2021-08-10T19:48:10.181242Z"
    }
   },
   "outputs": [],
   "source": [
    "#%% PARAMETERS\n",
    "w1=pi/50\n",
    "w2=pi/2\n",
    "xxx=arange(-pi,pi-w2+w1,w1)\n",
    "flip = False\n"
   ]
  },
  {
   "cell_type": "code",
   "execution_count": 8,
   "metadata": {
    "ExecuteTime": {
     "end_time": "2021-08-10T19:48:10.200111Z",
     "start_time": "2021-08-10T19:48:10.191885Z"
    }
   },
   "outputs": [],
   "source": [
    "#sns.set_context('poster')\n",
    "T = radians(array(df['T_Angle']))\n",
    "R = radians(array(df['choiceAngle_corr']))\n",
    "P = radians(array(df['preT']))\n",
    "TMS = array(df['TMS_trial'])\n"
   ]
  },
  {
   "cell_type": "code",
   "execution_count": 15,
   "metadata": {
    "ExecuteTime": {
     "end_time": "2021-08-10T19:57:38.281483Z",
     "start_time": "2021-08-10T19:57:37.811562Z"
    }
   },
   "outputs": [
    {
     "data": {
      "image/png": "[encoded data removed]",
      "text/plain": [
       "<Figure size 216x144 with 1 Axes>"
      ]
     },
     "metadata": {
      "needs_background": "light"
     },
     "output_type": "display_data"
    }
   ],
   "source": [
    "figure(figsize=[3,2])\n",
    "xxx=arange(-pi,pi-w2+w1,w1)\n",
    "flip = False\n",
    "#%%\n",
    "#figure(figsize=(10,8))\n",
    "#err,d,m_err,std_err,count,points_idx = compute_serial(R,T,xxx,flip,False)\n",
    "err,d,m_err,std_err,count,points_idx = compute_serial(R,T,P,xxx,flip,False)\n",
    "\n",
    "m_err=rad2deg(m_err)\n",
    "std_err=rad2deg(std_err)\n",
    "\n",
    "plot(rad2deg(xxx+w2/2),m_err,linewidth=1.5)\n",
    "fill_between(rad2deg(xxx+w2/2), m_err + std_err, m_err - std_err,alpha=.2)\n",
    "#errorbar(xxx+w2/2,m_err,std_err)\n",
    "plot(rad2deg(xxx+w2/2),zeros(len(xxx)),\"k--\",linewidth=1)\n",
    "\n",
    "xlabel(r'$\\theta_{n-1}^S - \\theta_n^S$ ($^o$)', fontsize=14); ylabel(r'$\\theta_n^e$ ($^o$)', fontsize=14);\n",
    "sns.despine()\n",
    "savefig('serialbias_S1.svg')\n",
    "\n",
    "adict={}\n",
    "adict['m_err']=m_err\n",
    "adict['std_err']=std_err\n",
    "adict['xxx']=xxx\n",
    "adict['w2']=w2\n",
    "from scipy.io import savemat\n",
    "savemat('../serialbias_S1.mat',adict)"
   ]
  },
  {
   "cell_type": "code",
   "execution_count": 10,
   "metadata": {
    "ExecuteTime": {
     "end_time": "2021-08-10T19:48:10.948410Z",
     "start_time": "2021-08-10T19:48:10.934942Z"
    }
   },
   "outputs": [],
   "source": [
    "from scipy.io import loadmat\n",
    "s01 = loadmat('../decoder_S01.mat',squeeze_me=True)"
   ]
  },
  {
   "cell_type": "code",
   "execution_count": 58,
   "metadata": {
    "ExecuteTime": {
     "end_time": "2021-08-11T11:47:25.247660Z",
     "start_time": "2021-08-11T11:47:25.226366Z"
    }
   },
   "outputs": [],
   "source": [
    "mdn=np.median(abs(s01['err_loo_fx']))\n",
    "mid=0\n",
    "lpct,hpct = np.percentile(abs(s01['err_loo_fx']),[50-mid,50+mid])\n",
    "lowtrials = abs(s01['err_loo_fx'])>hpct\n",
    "hightrials = abs(s01['err_loo_fx'])<=lpct"
   ]
  },
  {
   "cell_type": "code",
   "execution_count": 59,
   "metadata": {
    "ExecuteTime": {
     "end_time": "2021-08-11T11:47:25.807187Z",
     "start_time": "2021-08-11T11:47:25.804086Z"
    }
   },
   "outputs": [
    {
     "data": {
      "text/plain": [
       "1.487063780389146"
      ]
     },
     "execution_count": 59,
     "metadata": {},
     "output_type": "execute_result"
    }
   ],
   "source": [
    "lpct"
   ]
  },
  {
   "cell_type": "code",
   "execution_count": 60,
   "metadata": {
    "ExecuteTime": {
     "end_time": "2021-08-11T11:47:26.777979Z",
     "start_time": "2021-08-11T11:47:26.320875Z"
    }
   },
   "outputs": [
    {
     "data": {
      "image/png": "[encoded data removed]",
      "text/plain": [
       "<Figure size 432x288 with 1 Axes>"
      ]
     },
     "metadata": {
      "needs_background": "light"
     },
     "output_type": "display_data"
    }
   ],
   "source": [
    "xxx=arange(-pi,pi-w2+w1,w1)\n",
    "flip = False\n",
    "\n",
    "R0=R[1:]\n",
    "T0=T[1:]\n",
    "P0=P[1:]\n",
    "\n",
    "err_l,d,m_err_l,std_err_l,count,points_idx = compute_serial(R0[lowtrials],T0[lowtrials],P0[lowtrials],xxx,flip,False)\n",
    "err_h,d,m_err_h,std_err_h,count,points_idx = compute_serial(R0[hightrials],T0[hightrials],P0[hightrials],xxx,flip,False)\n",
    "\n",
    "plot(xxx+w2/2,m_err_l,linewidth=1.5,label='low')\n",
    "fill_between(xxx+w2/2, m_err_l + std_err_l, m_err_l - std_err_l,alpha=.2)\n",
    "plot(xxx+w2/2,m_err_h,linewidth=1.5,label='high')\n",
    "fill_between(xxx+w2/2, m_err_h + std_err_h, m_err_h - std_err_h,alpha=.2)\n",
    "#errorbar(xxx+w2/2,m_err,std_err)\n",
    "plot(xxx+w2/2,zeros(len(xxx)),\"k--\",linewidth=1)\n",
    "legend()\n",
    "\n",
    "xlabel('Angular distance (rad)'); ylabel('Error (rad)');\n",
    "sns.despine()\n",
    "#savefig('serialbias.svg')\n"
   ]
  },
  {
   "cell_type": "code",
   "execution_count": 61,
   "metadata": {
    "ExecuteTime": {
     "end_time": "2021-08-11T11:47:27.844449Z",
     "start_time": "2021-08-11T11:47:27.396505Z"
    },
    "scrolled": true
   },
   "outputs": [
    {
     "data": {
      "image/png": "[encoded data removed]",
      "text/plain": [
       "<Figure size 432x288 with 1 Axes>"
      ]
     },
     "metadata": {
      "needs_background": "light"
     },
     "output_type": "display_data"
    }
   ],
   "source": [
    "flip=True\n",
    "xxx=arange(0,pi-w2+w1,w1)\n",
    "\n",
    "R0=R[1:]\n",
    "T0=T[1:]\n",
    "P0=P[1:]\n",
    "\n",
    "err_l,d,m_err_l,std_err_l,count,points_idx = compute_serial(R0[lowtrials],T0[lowtrials],P0[lowtrials],xxx,flip,False)\n",
    "err_h,d,m_err_h,std_err_h,count,points_idx = compute_serial(R0[hightrials],T0[hightrials],P0[hightrials],xxx,flip,False)\n",
    "\n",
    "plot(xxx+w2/2,m_err_l,linewidth=1.5,label='low')\n",
    "fill_between(xxx+w2/2, m_err_l + std_err_l, m_err_l - std_err_l,alpha=.2)\n",
    "plot(xxx+w2/2,m_err_h,linewidth=1.5,label='high')\n",
    "fill_between(xxx+w2/2, m_err_h + std_err_h, m_err_h - std_err_h,alpha=.2)\n",
    "#errorbar(xxx+w2/2,m_err,std_err)\n",
    "plot(xxx+w2/2,zeros(len(xxx)),\"k--\",linewidth=1)\n",
    "legend()\n",
    "\n",
    "xlabel('Angular distance (rad)'); ylabel('Error (rad)');\n",
    "sns.despine()\n",
    "#savefig('serialbias.svg')\n",
    "\n"
   ]
  },
  {
   "cell_type": "code",
   "execution_count": 62,
   "metadata": {
    "ExecuteTime": {
     "end_time": "2021-08-11T11:47:40.554560Z",
     "start_time": "2021-08-11T11:47:40.542002Z"
    }
   },
   "outputs": [],
   "source": [
    "adict['m_err_l']=m_err_l\n",
    "adict['std_err_l']=std_err_l\n",
    "adict['m_err_h']=m_err_h\n",
    "adict['std_err_h']=std_err_h\n",
    "adict['xxx_l']=xxx\n",
    "adict['w2_l']=w2\n",
    "from scipy.io import savemat\n",
    "savemat('../serialbias_S1.mat',adict)"
   ]
  },
  {
   "cell_type": "code",
   "execution_count": 4,
   "metadata": {},
   "outputs": [
    {
     "ename": "NameError",
     "evalue": "name 'lpct' is not defined",
     "output_type": "error",
     "traceback": [
      "\u001b[0;31m---------------------------------------------------------------------------\u001b[0m",
      "\u001b[0;31mNameError\u001b[0m                                 Traceback (most recent call last)",
      "\u001b[0;32m/var/folders/r9/cr9dfv5j4v9ghnsqpsk0syy40000gn/T/ipykernel_10697/824001165.py\u001b[0m in \u001b[0;36m<module>\u001b[0;34m\u001b[0m\n\u001b[0;32m----> 1\u001b[0;31m \u001b[0mlpct\u001b[0m\u001b[0;34m\u001b[0m\u001b[0;34m\u001b[0m\u001b[0m\n\u001b[0m",
      "\u001b[0;31mNameError\u001b[0m: name 'lpct' is not defined"
     ]
    }
   ],
   "source": []
  }
 ],
 "metadata": {
  "hide_input": false,
  "kernelspec": {
   "display_name": "wm_exp",
   "language": "python",
   "name": "python3"
  },
  "language_info": {
   "codemirror_mode": {
    "name": "ipython",
    "version": 3
   },
   "file_extension": ".py",
   "mimetype": "text/x-python",
   "name": "python",
   "nbconvert_exporter": "python",
   "pygments_lexer": "ipython3",
   "version": "3.8.13"
  },
  "toc": {
   "base_numbering": 1,
   "nav_menu": {},
   "number_sections": true,
   "sideBar": true,
   "skip_h1_title": false,
   "title_cell": "Table of Contents",
   "title_sidebar": "Contents",
   "toc_cell": false,
   "toc_position": {},
   "toc_section_display": true,
   "toc_window_display": false
  },
  "varInspector": {
   "cols": {
    "lenName": 16,
    "lenType": 16,
    "lenVar": 40
   },
   "kernels_config": {
    "python": {
     "delete_cmd_postfix": "",
     "delete_cmd_prefix": "del ",
     "library": "var_list.py",
     "varRefreshCmd": "print(var_dic_list())"
    },
    "r": {
     "delete_cmd_postfix": ") ",
     "delete_cmd_prefix": "rm(",
     "library": "var_list.r",
     "varRefreshCmd": "cat(var_dic_list()) "
    }
   },
   "types_to_exclude": [
    "module",
    "function",
    "builtin_function_or_method",
    "instance",
    "_Feature"
   ],
   "window_display": false
  },
  "vscode": {
   "interpreter": {
    "hash": "cb7b30cd8bde7b8a961fa834837f79ed4000651b1d624c1829c4e4956513c364"
   }
  }
 },
 "nbformat": 4,
 "nbformat_minor": 4
}
