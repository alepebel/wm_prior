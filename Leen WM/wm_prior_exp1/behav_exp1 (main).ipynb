{
 "cells": [
  {
   "cell_type": "code",
   "execution_count": 24,
   "metadata": {},
   "outputs": [],
   "source": [
    "#pip install scikits-bootstrap --user\n",
    "#pip install pymicro --user\n",
    "#pip install vtk --user"
   ]
  },
  {
   "cell_type": "markdown",
   "metadata": {},
   "source": [
    "Basic imports"
   ]
  },
  {
   "cell_type": "code",
   "execution_count": 1,
   "metadata": {},
   "outputs": [],
   "source": [
    "import os, glob, platform, sys\n",
    "import numpy as np\n",
    "import numpy.matlib\n",
    "import pickle\n",
    "import pandas as pd\n",
    "import matplotlib.pyplot as plt\n",
    "import seaborn as sns\n",
    "import sys\n",
    "\n",
    "from scipy import *\n",
    "from matplotlib.pyplot import *"
   ]
  },
  {
   "cell_type": "code",
   "execution_count": 2,
   "metadata": {},
   "outputs": [
    {
     "name": "stdout",
     "output_type": "stream",
     "text": [
      "/Users/leenfarah/Desktop/wm_prior/SResults\n"
     ]
    }
   ],
   "source": [
    "# Importing behavioral data from experiment \n",
    "sys_dir = os.path.join('/Users','leenfarah','Desktop')\n",
    "proj_dir = os.path.join(sys_dir,'wm_prior','SResults')\n",
    "os.chdir(\"/Users/leenfarah/Desktop/wm_prior/SResults/\")\n",
    "print(os.getcwd())"
   ]
  },
  {
   "cell_type": "code",
   "execution_count": 34,
   "metadata": {},
   "outputs": [
    {
     "name": "stdout",
     "output_type": "stream",
     "text": [
      "/Users/leenfarah/Desktop/wm_prior_exp2/results\n"
     ]
    }
   ],
   "source": [
    "# EXPERIMENT 2\n",
    "# Importing behavioral data from experiment \n",
    "sys_dir = os.path.join('/Users','leenfarah','Desktop')\n",
    "proj_dir = os.path.join(sys_dir,'wm_prior_exp2','results')\n",
    "os.chdir(\"/Users/leenfarah/Desktop/wm_prior_exp2/results/\")\n",
    "print(os.getcwd())"
   ]
  },
  {
   "cell_type": "code",
   "execution_count": 3,
   "metadata": {},
   "outputs": [],
   "source": [
    "from random import shuffle, sample\n",
    "from numpy.linalg import norm\n",
    "import statsmodels.nonparametric.smoothers_lowess as loess\n",
    "from scipy.io import *\n",
    "from circ_stats import * \t\t\t\t\t\t\t\t# File needs to be in the wd\n",
    "from time import time, sleep\n",
    "\n",
    "%matplotlib inline\n",
    "\n",
    "# mne libraries\n",
    "import shutil as sh\n",
    "import mne\n",
    "from mne.datasets import eegbci\n",
    "from pymicro.view.vol_utils import compute_affine_transform\n"
   ]
  },
  {
   "cell_type": "markdown",
   "metadata": {},
   "source": [
    "__Reading the behavioral data__\n",
    "\n",
    "Generating paths"
   ]
  },
  {
   "cell_type": "code",
   "execution_count": 4,
   "metadata": {
    "ExecuteTime": {
     "end_time": "2021-08-10T19:48:09.263735Z",
     "start_time": "2021-08-10T19:48:09.248579Z"
    }
   },
   "outputs": [],
   "source": [
    "#%% FUNCTIONS\n",
    "def len2(x):\n",
    "\tif type(x) is not type([]):\n",
    "\t\tif type(x) is not type(array([])):\n",
    "\t\t\treturn -1\n",
    "\treturn len(x)\n",
    "\n",
    "def circdist(angles1,angles2):\n",
    "    if len2(angles2) < 0:\n",
    "        if len2(angles1) > 0:\n",
    "            angles2 = [angles2]*len(angles1)\n",
    "        else:\n",
    "            angles2 = [angles2]\n",
    "            angles1 = [angles1]\n",
    "    if len2(angles1) < 0:\n",
    "        angles1 = [angles1]*len(angles2)\n",
    "        \n",
    "    return np.angle(exp(1j*angles1)/exp(1j*angles2))\n",
    "        \n",
    "    #return amap(lambda a1,a2: phase2(exp(1j*a1)/exp(1j*a2)), angles1,angles2)\n",
    "\n",
    "def circ_mean(x):\n",
    "\treturn circmean(x,low=-pi,high=pi)\n",
    "\n",
    "def rem_sys_err(report,target,w):\n",
    "    n=[]\n",
    "    for x in arange(-pi,pi,w):\n",
    "        d=circdist(target,x)\n",
    "        idx = (d >= x) & (d<x+w)\n",
    "        report[idx] = circdist(report[idx],circmean(circdist(report[idx],target[idx]),low=-pi,high=pi))\n",
    "        n.append(sum(idx))\n",
    "        \n",
    "    return report,n\n",
    "\n",
    "def rem_sys_err2(report,target,frac=.25):\n",
    "    #''' Removes from the response the systematic error of the subject.'''\n",
    "    fit_resp = loess.lowess(report, target, frac = frac, return_sorted = False)\n",
    "    fit_error = circdist(fit_resp, target)\n",
    "    clean_res = circdist(report, fit_error) # Clean response ?\n",
    "    return clean_res\n",
    "\n",
    "def circdist(angles1,angles2):       \n",
    "    return np.angle(np.exp(1j*angles1)/np.exp(1j*angles2))"
   ]
  },
  {
   "cell_type": "code",
   "execution_count": 5,
   "metadata": {},
   "outputs": [],
   "source": [
    "def vfilter(x, var):\n",
    "    return x.loc[(abs(x[var] ) < 3*std(abs(x[var] ))) & (abs(x[var] ) > 1)]"
   ]
  },
  {
   "cell_type": "code",
   "execution_count": 6,
   "metadata": {},
   "outputs": [],
   "source": [
    "def circular_hist(ax, x, bins=16, density=True, offset=0, gaps=True, color = 'C0'):\n",
    "    \"\"\"\n",
    "    Produce a circular histogram of angles on ax.\n",
    "\n",
    "    Parameters\n",
    "    ----------\n",
    "    ax : matplotlib.axes._subplots.PolarAxesSubplot\n",
    "        axis instance created with subplot_kw=dict(projection='polar').\n",
    "\n",
    "    x : array\n",
    "        Angles to plot, expected in units of radians.\n",
    "\n",
    "    bins : int, optional\n",
    "        Defines the number of equal-width bins in the range. The default is 16.\n",
    "\n",
    "    density : bool, optional\n",
    "        If True plot frequency proportional to area. If False plot frequency\n",
    "        proportional to radius. The default is True.\n",
    "\n",
    "    offset : float, optional\n",
    "        Sets the offset for the location of the 0 direction in units of\n",
    "        radians. The default is 0.\n",
    "\n",
    "    gaps : bool, optional\n",
    "        Whether to allow gaps between bins. When gaps = False the bins are\n",
    "        forced to partition the entire [-pi, pi] range. The default is True.\n",
    "\n",
    "    Returns\n",
    "    -------\n",
    "    n : array or list of arrays\n",
    "        The number of values in each bin.\n",
    "\n",
    "    bins : array\n",
    "        The edges of the bins.\n",
    "\n",
    "    patches : `.BarContainer` or list of a single `.Polygon`\n",
    "        Container of individual artists used to create the histogram\n",
    "        or list of such containers if there are multiple input datasets.\n",
    "    \"\"\"\n",
    "    # Wrap angles to [-pi, pi)\n",
    "    x = (x+np.pi) % (2*np.pi) - np.pi\n",
    "\n",
    "    # Force bins to partition entire circle\n",
    "    if not gaps:\n",
    "        bins = np.linspace(-np.pi, np.pi, num=bins+1)\n",
    "\n",
    "    # Bin data and record counts\n",
    "    n, bins = np.histogram(x, bins=bins)\n",
    "\n",
    "    # Compute width of each bin\n",
    "    widths = np.diff(bins)\n",
    "\n",
    "    # By default plot frequency proportional to area\n",
    "    if density:\n",
    "        # Area to assign each bin\n",
    "        area = n / x.size\n",
    "        # Calculate corresponding bin radius\n",
    "        radius = (area/np.pi) ** .5\n",
    "    # Otherwise plot frequency proportional to radius\n",
    "    else:\n",
    "        radius = n\n",
    "\n",
    "    # Plot data on ax\n",
    "    patches = ax.bar(bins[:-1], radius, zorder=1, align='edge', width=widths,\n",
    "                     edgecolor=color, fill=False, linewidth=1)\n",
    "\n",
    "    # Set the direction of the zero angle\n",
    "    ax.set_theta_offset(offset)\n",
    "\n",
    "    # Remove ylabels for area plots (they are mostly obstructive)\n",
    "    if density:\n",
    "        ax.set_yticks([])\n",
    "\n",
    "    return n, bins, patches"
   ]
  },
  {
   "cell_type": "code",
   "execution_count": 7,
   "metadata": {},
   "outputs": [],
   "source": [
    "all_df = pd.DataFrame([]) # concatenate all behav subject data together\n",
    "ddata = pd.DataFrame([]) # concatenate here behav data + dv + orientations"
   ]
  },
  {
   "cell_type": "code",
   "execution_count": 8,
   "metadata": {},
   "outputs": [],
   "source": [
    "# RUNNING PER PARTICIPANT\n",
    "import os\n",
    "import glob\n",
    "import pandas as pd\n",
    "import pickle\n",
    "\n",
    "all_df = pd.DataFrame([]) # concatenate all behav subject data together\n",
    "ddata = pd.DataFrame([]) # concatenate here behav data + dv + orientations\n",
    "\n",
    "for file in sorted(glob.glob(\"*.psydat\")):\n",
    "    if file.startswith(\"leen\"):  # check if the file name starts with S05\n",
    "        subjdata = pd.DataFrame([]) # initialize individual subject data variable container\n",
    "        pfile =  open(os.path.join(proj_dir, file),\"rb\")\n",
    "        dat = pickle.load(pfile)\n",
    "        for block in dat['main_exp']['Exp_blocks']:\n",
    "            ddata = pd.DataFrame(block['data'])\n",
    "            ddata.columns = ddata.iloc[0]\n",
    "            ddata = ddata.iloc[1:,:]\n",
    "            ddata.reset_index(drop=True, inplace=True)\n",
    "            subjdata = pd.concat([subjdata, ddata], axis = 0)\n",
    "        all_df = pd.concat([all_df, subjdata], axis = 0) #concatenate each new subject\n"
   ]
  },
  {
   "cell_type": "code",
   "execution_count": 9,
   "metadata": {},
   "outputs": [],
   "source": [
    "pfile =  open(os.path.join(proj_dir, file), \"rb\")\n",
    "dat = pickle.load(pfile)"
   ]
  },
  {
   "cell_type": "code",
   "execution_count": 10,
   "metadata": {},
   "outputs": [
    {
     "ename": "TypeError",
     "evalue": "'NoneType' object is not subscriptable",
     "output_type": "error",
     "traceback": [
      "\u001b[0;31m---------------------------------------------------------------------------\u001b[0m",
      "\u001b[0;31mTypeError\u001b[0m                                 Traceback (most recent call last)",
      "\u001b[0;32m/var/folders/r9/cr9dfv5j4v9ghnsqpsk0syy40000gn/T/ipykernel_68134/2076579183.py\u001b[0m in \u001b[0;36m<module>\u001b[0;34m\u001b[0m\n\u001b[1;32m      8\u001b[0m     \u001b[0msubjdata\u001b[0m \u001b[0;34m=\u001b[0m \u001b[0mpd\u001b[0m\u001b[0;34m.\u001b[0m\u001b[0mDataFrame\u001b[0m\u001b[0;34m(\u001b[0m\u001b[0;34m[\u001b[0m\u001b[0;34m]\u001b[0m\u001b[0;34m)\u001b[0m \u001b[0;31m# initialize individual subject data variable container\u001b[0m\u001b[0;34m\u001b[0m\u001b[0;34m\u001b[0m\u001b[0m\n\u001b[1;32m      9\u001b[0m     \u001b[0;32mfor\u001b[0m \u001b[0mblock\u001b[0m \u001b[0;32min\u001b[0m \u001b[0mdat\u001b[0m\u001b[0;34m[\u001b[0m\u001b[0;34m'main_exp'\u001b[0m\u001b[0;34m]\u001b[0m\u001b[0;34m[\u001b[0m\u001b[0;34m'Exp_blocks'\u001b[0m\u001b[0;34m]\u001b[0m\u001b[0;34m:\u001b[0m\u001b[0;34m\u001b[0m\u001b[0;34m\u001b[0m\u001b[0m\n\u001b[0;32m---> 10\u001b[0;31m         \u001b[0mddata\u001b[0m \u001b[0;34m=\u001b[0m \u001b[0mpd\u001b[0m\u001b[0;34m.\u001b[0m\u001b[0mDataFrame\u001b[0m\u001b[0;34m(\u001b[0m\u001b[0mblock\u001b[0m\u001b[0;34m[\u001b[0m\u001b[0;34m'data'\u001b[0m\u001b[0;34m]\u001b[0m\u001b[0;34m)\u001b[0m\u001b[0;34m\u001b[0m\u001b[0;34m\u001b[0m\u001b[0m\n\u001b[0m\u001b[1;32m     11\u001b[0m         \u001b[0mddata\u001b[0m\u001b[0;34m.\u001b[0m\u001b[0mcolumns\u001b[0m \u001b[0;34m=\u001b[0m \u001b[0mddata\u001b[0m\u001b[0;34m.\u001b[0m\u001b[0miloc\u001b[0m\u001b[0;34m[\u001b[0m\u001b[0;36m0\u001b[0m\u001b[0;34m]\u001b[0m\u001b[0;34m\u001b[0m\u001b[0;34m\u001b[0m\u001b[0m\n\u001b[1;32m     12\u001b[0m         \u001b[0mddata\u001b[0m \u001b[0;34m=\u001b[0m \u001b[0mddata\u001b[0m\u001b[0;34m.\u001b[0m\u001b[0miloc\u001b[0m\u001b[0;34m[\u001b[0m\u001b[0;36m1\u001b[0m\u001b[0;34m:\u001b[0m\u001b[0;34m,\u001b[0m\u001b[0;34m:\u001b[0m\u001b[0;34m]\u001b[0m\u001b[0;34m\u001b[0m\u001b[0;34m\u001b[0m\u001b[0m\n",
      "\u001b[0;31mTypeError\u001b[0m: 'NoneType' object is not subscriptable"
     ]
    }
   ],
   "source": [
    "\n",
    "all_df = pd.DataFrame([]) # concatenate all behav subject data together\n",
    "ddata = pd.DataFrame([]) # concatenate here behav data + dv + orientations\n",
    "\n",
    "for file in sorted(glob.glob(\"*.psydat\")): \n",
    "    subjdata = pd.DataFrame([]) # initialize individual subject data variable container\n",
    "    pfile =  open(os.path.join(proj_dir, file),\"rb\")\n",
    "    dat = pickle.load(pfile)\n",
    "    subjdata = pd.DataFrame([]) # initialize individual subject data variable container\n",
    "    for block in dat['main_exp']['Exp_blocks']:\n",
    "        ddata = pd.DataFrame(block['data'])\n",
    "        ddata.columns = ddata.iloc[0]\n",
    "        ddata = ddata.iloc[1:,:]\n",
    "        ddata.reset_index(drop=True, inplace=True)\n",
    "        subjdata = pd.concat([subjdata, ddata], axis = 0)\n",
    "    \n",
    "    \n",
    "    all_df = pd.concat([all_df, subjdata], axis = 0) #concatenate each new subject\n",
    "\n",
    "\n",
    "# changing the format of the prior column from array to value\n",
    "all_df.reset_index(drop=True, inplace=True)\n",
    "for i in range(len(all_df.prior)):\n",
    "    try:\n",
    "        all_df.prior[i] = all_df.prior[i][0]\n",
    "    except:\n",
    "        pass\n",
    "\n",
    "\n",
    "\n",
    "# Here I am reaaranging orientations to fall between -180 and 180\n",
    "all_df['T_Angle'] = all_df['T_Angle'].astype(float)\n",
    "\n",
    "# remeber to remove the first trial of each block\n",
    "\n",
    "all_df['preT'] = all_df['T_Angle'].shift(1) \n",
    "all_df['preT'] = all_df['preT'].astype(float)\n",
    "\n",
    "all_df['choiceAngle'] = all_df['choiceAngle'].astype(float)\n",
    "mask = (all_df['choiceAngle']>180)\n",
    "df_valid = all_df[mask]\n",
    "all_df.loc[mask, 'choiceAngle'] = df_valid['choiceAngle'] - 360\n",
    "mask = (all_df['T_Angle']>180)\n",
    "df_valid = all_df[mask]\n",
    "all_df.loc[mask, 'T_Angle'] = df_valid['T_Angle'] - 360\n",
    "\n",
    "\n",
    "all_df.reset_index(drop=True, inplace=True)\n",
    "\n",
    "all_df.head(-4)"
   ]
  },
  {
   "cell_type": "markdown",
   "metadata": {},
   "source": [
    "Filtering data without catchtrials"
   ]
  },
  {
   "cell_type": "markdown",
   "metadata": {},
   "source": [
    "__Creating bins for data plotting__"
   ]
  },
  {
   "cell_type": "markdown",
   "metadata": {},
   "source": [
    "breaks = 20 # step size\n",
    "bins = arange(-180,180+breaks,breaks)\n",
    "bin_labels = []\n",
    "for i in arange(len(bins)):\n",
    "    #bin_labels.append(bins[i]+breaks/2)\n",
    "    bin_labels.append(bins[i]+breaks/2)\n",
    "bin_labels = bin_labels[:-1]"
   ]
  },
  {
   "cell_type": "code",
   "execution_count": 11,
   "metadata": {},
   "outputs": [
    {
     "ename": "KeyError",
     "evalue": "\"['preT'] not in index\"",
     "output_type": "error",
     "traceback": [
      "\u001b[0;31m---------------------------------------------------------------------------\u001b[0m",
      "\u001b[0;31mKeyError\u001b[0m                                  Traceback (most recent call last)",
      "\u001b[0;32m/var/folders/r9/cr9dfv5j4v9ghnsqpsk0syy40000gn/T/ipykernel_68134/3871498575.py\u001b[0m in \u001b[0;36m<module>\u001b[0;34m\u001b[0m\n\u001b[0;32m----> 1\u001b[0;31m \u001b[0mdf\u001b[0m \u001b[0;34m=\u001b[0m \u001b[0mall_df\u001b[0m\u001b[0;34m[\u001b[0m\u001b[0;34m[\u001b[0m\u001b[0;34m'subj'\u001b[0m\u001b[0;34m,\u001b[0m\u001b[0;34m'block'\u001b[0m\u001b[0;34m,\u001b[0m\u001b[0;34m'trial'\u001b[0m\u001b[0;34m,\u001b[0m\u001b[0;34m'prior'\u001b[0m\u001b[0;34m,\u001b[0m\u001b[0;34m'ct'\u001b[0m\u001b[0;34m,\u001b[0m\u001b[0;34m'delay'\u001b[0m\u001b[0;34m,\u001b[0m\u001b[0;34m'preT'\u001b[0m\u001b[0;34m,\u001b[0m\u001b[0;34m'T_Angle'\u001b[0m\u001b[0;34m,\u001b[0m\u001b[0;34m'choiceAngle'\u001b[0m\u001b[0;34m,\u001b[0m\u001b[0;34m'keypressed'\u001b[0m\u001b[0;34m,\u001b[0m\u001b[0;34m'RT'\u001b[0m\u001b[0;34m]\u001b[0m\u001b[0;34m]\u001b[0m\u001b[0;34m\u001b[0m\u001b[0;34m\u001b[0m\u001b[0m\n\u001b[0m\u001b[1;32m      2\u001b[0m \u001b[0;34m\u001b[0m\u001b[0m\n\u001b[1;32m      3\u001b[0m \u001b[0;31m# removing preT nan values\u001b[0m\u001b[0;34m\u001b[0m\u001b[0;34m\u001b[0m\u001b[0;34m\u001b[0m\u001b[0m\n\u001b[1;32m      4\u001b[0m \u001b[0mdf\u001b[0m \u001b[0;34m=\u001b[0m \u001b[0mdf\u001b[0m\u001b[0;34m.\u001b[0m\u001b[0mdropna\u001b[0m\u001b[0;34m(\u001b[0m\u001b[0msubset\u001b[0m\u001b[0;34m=\u001b[0m\u001b[0;34m[\u001b[0m\u001b[0;34m'preT'\u001b[0m\u001b[0;34m]\u001b[0m\u001b[0;34m)\u001b[0m\u001b[0;34m\u001b[0m\u001b[0;34m\u001b[0m\u001b[0m\n\u001b[1;32m      5\u001b[0m \u001b[0mdf\u001b[0m \u001b[0;34m=\u001b[0m \u001b[0mdf\u001b[0m\u001b[0;34m[\u001b[0m\u001b[0mdf\u001b[0m\u001b[0;34m[\u001b[0m\u001b[0;34m'keypressed'\u001b[0m\u001b[0;34m]\u001b[0m \u001b[0;34m!=\u001b[0m \u001b[0;34m'space'\u001b[0m\u001b[0;34m]\u001b[0m\u001b[0;34m\u001b[0m\u001b[0;34m\u001b[0m\u001b[0m\n",
      "\u001b[0;32m/opt/anaconda3/envs/wm_exp/lib/python3.8/site-packages/pandas/core/frame.py\u001b[0m in \u001b[0;36m__getitem__\u001b[0;34m(self, key)\u001b[0m\n\u001b[1;32m   3462\u001b[0m             \u001b[0;32mif\u001b[0m \u001b[0mis_iterator\u001b[0m\u001b[0;34m(\u001b[0m\u001b[0mkey\u001b[0m\u001b[0;34m)\u001b[0m\u001b[0;34m:\u001b[0m\u001b[0;34m\u001b[0m\u001b[0;34m\u001b[0m\u001b[0m\n\u001b[1;32m   3463\u001b[0m                 \u001b[0mkey\u001b[0m \u001b[0;34m=\u001b[0m \u001b[0mlist\u001b[0m\u001b[0;34m(\u001b[0m\u001b[0mkey\u001b[0m\u001b[0;34m)\u001b[0m\u001b[0;34m\u001b[0m\u001b[0;34m\u001b[0m\u001b[0m\n\u001b[0;32m-> 3464\u001b[0;31m             \u001b[0mindexer\u001b[0m \u001b[0;34m=\u001b[0m \u001b[0mself\u001b[0m\u001b[0;34m.\u001b[0m\u001b[0mloc\u001b[0m\u001b[0;34m.\u001b[0m\u001b[0m_get_listlike_indexer\u001b[0m\u001b[0;34m(\u001b[0m\u001b[0mkey\u001b[0m\u001b[0;34m,\u001b[0m \u001b[0maxis\u001b[0m\u001b[0;34m=\u001b[0m\u001b[0;36m1\u001b[0m\u001b[0;34m)\u001b[0m\u001b[0;34m[\u001b[0m\u001b[0;36m1\u001b[0m\u001b[0;34m]\u001b[0m\u001b[0;34m\u001b[0m\u001b[0;34m\u001b[0m\u001b[0m\n\u001b[0m\u001b[1;32m   3465\u001b[0m \u001b[0;34m\u001b[0m\u001b[0m\n\u001b[1;32m   3466\u001b[0m         \u001b[0;31m# take() does not accept boolean indexers\u001b[0m\u001b[0;34m\u001b[0m\u001b[0;34m\u001b[0m\u001b[0;34m\u001b[0m\u001b[0m\n",
      "\u001b[0;32m/opt/anaconda3/envs/wm_exp/lib/python3.8/site-packages/pandas/core/indexing.py\u001b[0m in \u001b[0;36m_get_listlike_indexer\u001b[0;34m(self, key, axis)\u001b[0m\n\u001b[1;32m   1312\u001b[0m             \u001b[0mkeyarr\u001b[0m\u001b[0;34m,\u001b[0m \u001b[0mindexer\u001b[0m\u001b[0;34m,\u001b[0m \u001b[0mnew_indexer\u001b[0m \u001b[0;34m=\u001b[0m \u001b[0max\u001b[0m\u001b[0;34m.\u001b[0m\u001b[0m_reindex_non_unique\u001b[0m\u001b[0;34m(\u001b[0m\u001b[0mkeyarr\u001b[0m\u001b[0;34m)\u001b[0m\u001b[0;34m\u001b[0m\u001b[0;34m\u001b[0m\u001b[0m\n\u001b[1;32m   1313\u001b[0m \u001b[0;34m\u001b[0m\u001b[0m\n\u001b[0;32m-> 1314\u001b[0;31m         \u001b[0mself\u001b[0m\u001b[0;34m.\u001b[0m\u001b[0m_validate_read_indexer\u001b[0m\u001b[0;34m(\u001b[0m\u001b[0mkeyarr\u001b[0m\u001b[0;34m,\u001b[0m \u001b[0mindexer\u001b[0m\u001b[0;34m,\u001b[0m \u001b[0maxis\u001b[0m\u001b[0;34m)\u001b[0m\u001b[0;34m\u001b[0m\u001b[0;34m\u001b[0m\u001b[0m\n\u001b[0m\u001b[1;32m   1315\u001b[0m \u001b[0;34m\u001b[0m\u001b[0m\n\u001b[1;32m   1316\u001b[0m         if needs_i8_conversion(ax.dtype) or isinstance(\n",
      "\u001b[0;32m/opt/anaconda3/envs/wm_exp/lib/python3.8/site-packages/pandas/core/indexing.py\u001b[0m in \u001b[0;36m_validate_read_indexer\u001b[0;34m(self, key, indexer, axis)\u001b[0m\n\u001b[1;32m   1375\u001b[0m \u001b[0;34m\u001b[0m\u001b[0m\n\u001b[1;32m   1376\u001b[0m             \u001b[0mnot_found\u001b[0m \u001b[0;34m=\u001b[0m \u001b[0mlist\u001b[0m\u001b[0;34m(\u001b[0m\u001b[0mensure_index\u001b[0m\u001b[0;34m(\u001b[0m\u001b[0mkey\u001b[0m\u001b[0;34m)\u001b[0m\u001b[0;34m[\u001b[0m\u001b[0mmissing_mask\u001b[0m\u001b[0;34m.\u001b[0m\u001b[0mnonzero\u001b[0m\u001b[0;34m(\u001b[0m\u001b[0;34m)\u001b[0m\u001b[0;34m[\u001b[0m\u001b[0;36m0\u001b[0m\u001b[0;34m]\u001b[0m\u001b[0;34m]\u001b[0m\u001b[0;34m.\u001b[0m\u001b[0munique\u001b[0m\u001b[0;34m(\u001b[0m\u001b[0;34m)\u001b[0m\u001b[0;34m)\u001b[0m\u001b[0;34m\u001b[0m\u001b[0;34m\u001b[0m\u001b[0m\n\u001b[0;32m-> 1377\u001b[0;31m             \u001b[0;32mraise\u001b[0m \u001b[0mKeyError\u001b[0m\u001b[0;34m(\u001b[0m\u001b[0;34mf\"{not_found} not in index\"\u001b[0m\u001b[0;34m)\u001b[0m\u001b[0;34m\u001b[0m\u001b[0;34m\u001b[0m\u001b[0m\n\u001b[0m\u001b[1;32m   1378\u001b[0m \u001b[0;34m\u001b[0m\u001b[0m\n\u001b[1;32m   1379\u001b[0m \u001b[0;34m\u001b[0m\u001b[0m\n",
      "\u001b[0;31mKeyError\u001b[0m: \"['preT'] not in index\""
     ]
    }
   ],
   "source": [
    "df = all_df[['subj','block','trial','prior','ct','delay','preT','T_Angle','choiceAngle','keypressed','RT']]\n",
    "\n",
    "# removing preT nan values\n",
    "df = df.dropna(subset=['preT'])\n",
    "df = df[df['keypressed'] != 'space']\n",
    "df.reset_index(drop=True, inplace=True)\n",
    "\n",
    "df.insert(8, 'preDiff', np.rad2deg(circdist( np.deg2rad(df['preT']),np.deg2rad(df['T_Angle'])))) \n",
    "df['preDiff'] = df['preDiff'].astype(float)\n",
    "df.insert(9, 'err', np.rad2deg(circdist( np.deg2rad(df['choiceAngle']),np.deg2rad(df['T_Angle'])))) \n",
    "df['prior'] = df['prior'].astype(float)\n",
    "\n",
    "#df['bin_Tangle'] = pd.cut(df['T_Angle'], bins=bins, labels = bin_labels)\n",
    "#df['bin_preDiff'] = pd.cut(df['preDiff'], bins=bins, labels = bin_labels)\n",
    "#df['bin_err'] = pd.cut(df['err'], bins=bins, labels = bin_labels)\n",
    "#df['bin_preDiff'] = df['bin_preDiff'].astype(float)\n"
   ]
  },
  {
   "cell_type": "code",
   "execution_count": 12,
   "metadata": {},
   "outputs": [],
   "source": [
    "#%% PARAMETERS\n",
    "flip = False\n",
    "rm_bias = True\n",
    "bins = {}\n",
    "bins['step'] =  pi/50\n",
    "bins['step_int'] =  pi/2\n",
    "bins['x'] = arange(-pi,pi-bins['step_int']+bins['step'],bins['step'])\n"
   ]
  },
  {
   "cell_type": "code",
   "execution_count": 13,
   "metadata": {},
   "outputs": [],
   "source": [
    "def compute_serial(x, report,target,ref_target,bins,flip=None, rm_bias = False, ref_report=False):\n",
    "\treport = radians(x[report])\n",
    "\ttarget = radians(x[target])\n",
    "\tif ref_target == 'null':\n",
    "\t\tref_target = zeros(len(target))\n",
    "\telse:\n",
    "\t\tref_target = radians(x[ref_target])\n",
    "\t\t\n",
    "\txxx = bins['x']\n",
    "\n",
    "\tif rm_bias:\n",
    "\t\treport = rem_sys_err2(array(report),array(target))\n",
    "\t\t\n",
    "\t# calculating difference between estimates and targets\t\n",
    "\terr = circdist(report,target)\n",
    "\t\n",
    "\t# a reference orientation - current cue (e.g. previous, 0 or prior)\n",
    "\td = circdist(ref_target,target) #\n",
    "\n",
    "\tif ref_report:\n",
    "\t\td=circdist(report[:-1],target[1:])\n",
    "\t\n",
    "\t# remove outliers\n",
    "\tidx_clean=(abs(err)<3*std((err))) & (abs(err)<1)\n",
    "\t#idx_clean = idx_clean & (report[1:] !=0)\n",
    "\t\n",
    "\terr=err[idx_clean]\n",
    "\td=d[idx_clean]\n",
    "\t\n",
    "\tm_err=[]; std_err=[]; count=[]; cis=[]\n",
    "\tif flip:\n",
    "\t\terr = sign(d)*err\n",
    "\t\td=abs(d)\n",
    "\t\n",
    "\tpoints_idx= []\n",
    "\t\n",
    "\tfor t in xxx:\n",
    "\t\tidx=(d>=t)&(d<=t+bins['step_int'])\n",
    "\t\tm_err.append(circ_mean(err[idx]))\n",
    "\t\tstd_err.append(circstd(err[idx])/sqrt(sum(idx)))\n",
    "\t\t#count.append(sum(idx))\n",
    "\t\t#points_idx.append(idx)\n",
    "\t\n",
    "\tx = xxx #+bins['step_int']\n",
    "\tout = pd.DataFrame([x ,m_err, std_err]).T\n",
    "\tout.columns=['x','m_err','std_err']\n",
    "\t\n",
    "\treturn out\n",
    "\n",
    "\n",
    "#  creating a bin with foor loops on:\n",
    "# calculating the error 'err', which is the difference between the target and the report\n",
    "# calculating the reference orientation 'd', which is the difference between 'ref_target' and 'target'\n",
    "# removing the outliers 'idx_clean'\n",
    "# overall having the output be the dataframe with additional oclumns of 'x', 'm_err', and 'std_err'\n",
    "\n",
    "\n"
   ]
  },
  {
   "cell_type": "code",
   "execution_count": 14,
   "metadata": {},
   "outputs": [],
   "source": [
    "# to plot:\n",
    "# choice angle vs target angle \n",
    "# serial dependence: choices are dependent on previous orientation of stimuli = correlation between choice angle and pevious choice angle \n",
    "# working memory bias: plot relationship between reference angle 'T_Angle' and choice angle 'choiceAngle'\n",
    "# prior effects: relationsip between choice angle and prior\n"
   ]
  },
  {
   "cell_type": "markdown",
   "metadata": {},
   "source": [
    "__Plotting histograms of T_angles per block types and subjects__ "
   ]
  },
  {
   "cell_type": "code",
   "execution_count": 15,
   "metadata": {},
   "outputs": [
    {
     "data": {
      "text/plain": [
       "array(['S01', 'S02', 'S03', 'S04'], dtype=object)"
      ]
     },
     "execution_count": 15,
     "metadata": {},
     "output_type": "execute_result"
    }
   ],
   "source": [
    "all_df.subj.unique()"
   ]
  },
  {
   "cell_type": "code",
   "execution_count": 16,
   "metadata": {},
   "outputs": [
    {
     "ename": "NameError",
     "evalue": "name 'df' is not defined",
     "output_type": "error",
     "traceback": [
      "\u001b[0;31m---------------------------------------------------------------------------\u001b[0m",
      "\u001b[0;31mNameError\u001b[0m                                 Traceback (most recent call last)",
      "\u001b[0;32m/var/folders/r9/cr9dfv5j4v9ghnsqpsk0syy40000gn/T/ipykernel_68134/1013578270.py\u001b[0m in \u001b[0;36m<module>\u001b[0;34m\u001b[0m\n\u001b[0;32m----> 1\u001b[0;31m \u001b[0mdf_subj\u001b[0m \u001b[0;34m=\u001b[0m \u001b[0mdf\u001b[0m\u001b[0;34m[\u001b[0m\u001b[0mdf\u001b[0m\u001b[0;34m[\u001b[0m\u001b[0;34m'subj'\u001b[0m\u001b[0;34m]\u001b[0m \u001b[0;34m==\u001b[0m \u001b[0;34m'leen'\u001b[0m\u001b[0;34m]\u001b[0m                                                       \u001b[0;31m# define which subject you want to analyse\u001b[0m\u001b[0;34m\u001b[0m\u001b[0;34m\u001b[0m\u001b[0m\n\u001b[0m\u001b[1;32m      2\u001b[0m \u001b[0mpriors\u001b[0m \u001b[0;34m=\u001b[0m \u001b[0mdf_subj\u001b[0m\u001b[0;34m.\u001b[0m\u001b[0mprior\u001b[0m\u001b[0;34m.\u001b[0m\u001b[0munique\u001b[0m\u001b[0;34m(\u001b[0m\u001b[0;34m)\u001b[0m\u001b[0;34m\u001b[0m\u001b[0;34m\u001b[0m\u001b[0m\n\u001b[1;32m      3\u001b[0m \u001b[0;34m\u001b[0m\u001b[0m\n\u001b[1;32m      4\u001b[0m \u001b[0mangles0\u001b[0m \u001b[0;34m=\u001b[0m \u001b[0mnp\u001b[0m\u001b[0;34m.\u001b[0m\u001b[0mdeg2rad\u001b[0m\u001b[0;34m(\u001b[0m\u001b[0mdf_subj\u001b[0m\u001b[0;34m[\u001b[0m\u001b[0mdf_subj\u001b[0m\u001b[0;34m.\u001b[0m\u001b[0mprior\u001b[0m \u001b[0;34m==\u001b[0m  \u001b[0mpriors\u001b[0m\u001b[0;34m[\u001b[0m\u001b[0;36m0\u001b[0m\u001b[0;34m]\u001b[0m\u001b[0;34m]\u001b[0m\u001b[0;34m.\u001b[0m\u001b[0mT_Angle\u001b[0m\u001b[0;34m)\u001b[0m\u001b[0;34m\u001b[0m\u001b[0;34m\u001b[0m\u001b[0m\n\u001b[1;32m      5\u001b[0m \u001b[0mangles1\u001b[0m \u001b[0;34m=\u001b[0m \u001b[0mnp\u001b[0m\u001b[0;34m.\u001b[0m\u001b[0mdeg2rad\u001b[0m\u001b[0;34m(\u001b[0m\u001b[0mdf_subj\u001b[0m\u001b[0;34m[\u001b[0m\u001b[0mdf_subj\u001b[0m\u001b[0;34m.\u001b[0m\u001b[0mprior\u001b[0m \u001b[0;34m==\u001b[0m  \u001b[0mpriors\u001b[0m\u001b[0;34m[\u001b[0m\u001b[0;36m1\u001b[0m\u001b[0;34m]\u001b[0m\u001b[0;34m]\u001b[0m\u001b[0;34m.\u001b[0m\u001b[0mT_Angle\u001b[0m\u001b[0;34m)\u001b[0m\u001b[0;34m\u001b[0m\u001b[0;34m\u001b[0m\u001b[0m\n",
      "\u001b[0;31mNameError\u001b[0m: name 'df' is not defined"
     ]
    }
   ],
   "source": [
    "df_subj = df[df['subj'] == 'leen']                                                       # define which subject you want to analyse\n",
    "priors = df_subj.prior.unique()\n",
    "\n",
    "angles0 = np.deg2rad(df_subj[df_subj.prior ==  priors[0]].T_Angle)\n",
    "angles1 = np.deg2rad(df_subj[df_subj.prior ==  priors[1]].T_Angle)\n",
    "angles2 = np.deg2rad(df_subj[df_subj.prior ==  priors[2]].T_Angle)\n",
    "\n",
    "# Construct figure and axis to plot on\n",
    "fig, ax = plt.subplots(1, 1, subplot_kw=dict(projection='polar'))\n",
    "\n",
    "# Visualise by area of bins\n",
    "circular_hist(ax, angles0, color = 'blue')\n",
    "circular_hist(ax, angles1, color = 'red')\n",
    "circular_hist(ax, angles2, color = 'green')\n",
    "\n",
    "# circular output = each colour codes for the different priors of where the stimuli was presented\n",
    "# blue prior = 0, stimuli was randmly presented all over\n",
    "# red prior = mean of where the stimuli was presented in that block \n",
    "# green prior = mean of where the stimuli was presented in that block\n"
   ]
  },
  {
   "cell_type": "code",
   "execution_count": 50,
   "metadata": {},
   "outputs": [
    {
     "data": {
      "text/html": [
       "<div>\n",
       "<style scoped>\n",
       "    .dataframe tbody tr th:only-of-type {\n",
       "        vertical-align: middle;\n",
       "    }\n",
       "\n",
       "    .dataframe tbody tr th {\n",
       "        vertical-align: top;\n",
       "    }\n",
       "\n",
       "    .dataframe thead th {\n",
       "        text-align: right;\n",
       "    }\n",
       "</style>\n",
       "<table border=\"1\" class=\"dataframe\">\n",
       "  <thead>\n",
       "    <tr style=\"text-align: right;\">\n",
       "      <th></th>\n",
       "      <th>subj</th>\n",
       "      <th>trial</th>\n",
       "      <th>block</th>\n",
       "      <th>prior</th>\n",
       "      <th>kappa</th>\n",
       "      <th>ct</th>\n",
       "      <th>delay</th>\n",
       "      <th>fix</th>\n",
       "      <th>keypressed</th>\n",
       "      <th>R</th>\n",
       "      <th>...</th>\n",
       "      <th>ts_b</th>\n",
       "      <th>ts_f</th>\n",
       "      <th>ts_p</th>\n",
       "      <th>ts_d</th>\n",
       "      <th>ts_r</th>\n",
       "      <th>ts_e</th>\n",
       "      <th>m_pos_x</th>\n",
       "      <th>m_pos_y</th>\n",
       "      <th>m_clock</th>\n",
       "      <th>preT</th>\n",
       "    </tr>\n",
       "  </thead>\n",
       "  <tbody>\n",
       "    <tr>\n",
       "      <th>0</th>\n",
       "      <td>leen</td>\n",
       "      <td>0</td>\n",
       "      <td>0</td>\n",
       "      <td>0</td>\n",
       "      <td>1</td>\n",
       "      <td>False</td>\n",
       "      <td>3000</td>\n",
       "      <td>True</td>\n",
       "      <td>None</td>\n",
       "      <td>11</td>\n",
       "      <td>...</td>\n",
       "      <td>1683554761.82436</td>\n",
       "      <td>1683554761.839058</td>\n",
       "      <td>1683554762.592077</td>\n",
       "      <td>1683554762.842072</td>\n",
       "      <td>1683554765.842058</td>\n",
       "      <td>1683554767.975399</td>\n",
       "      <td>[-8.413300868900984, -8.413300868900984, -8.53...</td>\n",
       "      <td>[7.084884942232408, 7.084884942232408, 7.08488...</td>\n",
       "      <td>[0.0005317000000104599, 0.017400500000348984, ...</td>\n",
       "      <td>NaN</td>\n",
       "    </tr>\n",
       "    <tr>\n",
       "      <th>1</th>\n",
       "      <td>leen</td>\n",
       "      <td>1</td>\n",
       "      <td>0</td>\n",
       "      <td>0</td>\n",
       "      <td>1</td>\n",
       "      <td>False</td>\n",
       "      <td>3000</td>\n",
       "      <td>True</td>\n",
       "      <td>None</td>\n",
       "      <td>11</td>\n",
       "      <td>...</td>\n",
       "      <td>1683554768.738449</td>\n",
       "      <td>1683554768.755764</td>\n",
       "      <td>1683554769.509752</td>\n",
       "      <td>1683554769.758728</td>\n",
       "      <td>1683554772.758722</td>\n",
       "      <td>1683554774.12641</td>\n",
       "      <td>[-10.184522104459086, -10.121264203189154, -10...</td>\n",
       "      <td>[4.206650434450492, 4.206650434450492, 4.26990...</td>\n",
       "      <td>[0.0003276999996160157, 0.017383299999892188, ...</td>\n",
       "      <td>-14.235676</td>\n",
       "    </tr>\n",
       "    <tr>\n",
       "      <th>2</th>\n",
       "      <td>leen</td>\n",
       "      <td>2</td>\n",
       "      <td>0</td>\n",
       "      <td>0</td>\n",
       "      <td>1</td>\n",
       "      <td>False</td>\n",
       "      <td>3000</td>\n",
       "      <td>True</td>\n",
       "      <td>None</td>\n",
       "      <td>11</td>\n",
       "      <td>...</td>\n",
       "      <td>1683554774.949816</td>\n",
       "      <td>1683554774.955749</td>\n",
       "      <td>1683554775.708714</td>\n",
       "      <td>1683554775.959711</td>\n",
       "      <td>1683554778.959731</td>\n",
       "      <td>1683554780.992703</td>\n",
       "      <td>[-9.4254272892199, -9.4254272892199, -9.425427...</td>\n",
       "      <td>[-5.724840064928865, -5.724840064928865, -5.72...</td>\n",
       "      <td>[0.0006803999999647203, 0.018270399999892106, ...</td>\n",
       "      <td>131.500190</td>\n",
       "    </tr>\n",
       "    <tr>\n",
       "      <th>3</th>\n",
       "      <td>leen</td>\n",
       "      <td>3</td>\n",
       "      <td>0</td>\n",
       "      <td>0</td>\n",
       "      <td>1</td>\n",
       "      <td>False</td>\n",
       "      <td>3000</td>\n",
       "      <td>True</td>\n",
       "      <td>None</td>\n",
       "      <td>11</td>\n",
       "      <td>...</td>\n",
       "      <td>1683554781.713435</td>\n",
       "      <td>1683554781.7224</td>\n",
       "      <td>1683554782.475365</td>\n",
       "      <td>1683554782.725372</td>\n",
       "      <td>1683554785.725773</td>\n",
       "      <td>1683554788.72657</td>\n",
       "      <td>[7.622577103026831, 7.622577103026831, 7.62257...</td>\n",
       "      <td>[-7.9072376587415265, -7.938866609376492, -7.9...</td>\n",
       "      <td>[0.00033540000003995374, 0.017493500000000495,...</td>\n",
       "      <td>-46.916553</td>\n",
       "    </tr>\n",
       "    <tr>\n",
       "      <th>4</th>\n",
       "      <td>leen</td>\n",
       "      <td>4</td>\n",
       "      <td>0</td>\n",
       "      <td>0</td>\n",
       "      <td>1</td>\n",
       "      <td>False</td>\n",
       "      <td>3000</td>\n",
       "      <td>True</td>\n",
       "      <td>None</td>\n",
       "      <td>11</td>\n",
       "      <td>...</td>\n",
       "      <td>1683554789.520459</td>\n",
       "      <td>1683554789.53905</td>\n",
       "      <td>1683554790.292017</td>\n",
       "      <td>1683554790.542014</td>\n",
       "      <td>1683554793.541992</td>\n",
       "      <td>1683554795.69301</td>\n",
       "      <td>[10.15289315382412, 10.15289315382412, 10.1528...</td>\n",
       "      <td>[4.1750214838155255, 4.1750214838155255, 4.175...</td>\n",
       "      <td>[0.0003100000003541936, 0.017453800000112096, ...</td>\n",
       "      <td>-158.888375</td>\n",
       "    </tr>\n",
       "  </tbody>\n",
       "</table>\n",
       "<p>5 rows × 29 columns</p>\n",
       "</div>"
      ],
      "text/plain": [
       "0  subj trial block prior kappa     ct delay   fix keypressed   R  ...  \\\n",
       "0  leen     0     0     0     1  False  3000  True       None  11  ...   \n",
       "1  leen     1     0     0     1  False  3000  True       None  11  ...   \n",
       "2  leen     2     0     0     1  False  3000  True       None  11  ...   \n",
       "3  leen     3     0     0     1  False  3000  True       None  11  ...   \n",
       "4  leen     4     0     0     1  False  3000  True       None  11  ...   \n",
       "\n",
       "0               ts_b               ts_f               ts_p               ts_d  \\\n",
       "0   1683554761.82436  1683554761.839058  1683554762.592077  1683554762.842072   \n",
       "1  1683554768.738449  1683554768.755764  1683554769.509752  1683554769.758728   \n",
       "2  1683554774.949816  1683554774.955749  1683554775.708714  1683554775.959711   \n",
       "3  1683554781.713435    1683554781.7224  1683554782.475365  1683554782.725372   \n",
       "4  1683554789.520459   1683554789.53905  1683554790.292017  1683554790.542014   \n",
       "\n",
       "0               ts_r               ts_e  \\\n",
       "0  1683554765.842058  1683554767.975399   \n",
       "1  1683554772.758722   1683554774.12641   \n",
       "2  1683554778.959731  1683554780.992703   \n",
       "3  1683554785.725773   1683554788.72657   \n",
       "4  1683554793.541992   1683554795.69301   \n",
       "\n",
       "0                                            m_pos_x  \\\n",
       "0  [-8.413300868900984, -8.413300868900984, -8.53...   \n",
       "1  [-10.184522104459086, -10.121264203189154, -10...   \n",
       "2  [-9.4254272892199, -9.4254272892199, -9.425427...   \n",
       "3  [7.622577103026831, 7.622577103026831, 7.62257...   \n",
       "4  [10.15289315382412, 10.15289315382412, 10.1528...   \n",
       "\n",
       "0                                            m_pos_y  \\\n",
       "0  [7.084884942232408, 7.084884942232408, 7.08488...   \n",
       "1  [4.206650434450492, 4.206650434450492, 4.26990...   \n",
       "2  [-5.724840064928865, -5.724840064928865, -5.72...   \n",
       "3  [-7.9072376587415265, -7.938866609376492, -7.9...   \n",
       "4  [4.1750214838155255, 4.1750214838155255, 4.175...   \n",
       "\n",
       "0                                            m_clock        preT  \n",
       "0  [0.0005317000000104599, 0.017400500000348984, ...         NaN  \n",
       "1  [0.0003276999996160157, 0.017383299999892188, ...  -14.235676  \n",
       "2  [0.0006803999999647203, 0.018270399999892106, ...  131.500190  \n",
       "3  [0.00033540000003995374, 0.017493500000000495,...  -46.916553  \n",
       "4  [0.0003100000003541936, 0.017453800000112096, ... -158.888375  \n",
       "\n",
       "[5 rows x 29 columns]"
      ]
     },
     "execution_count": 50,
     "metadata": {},
     "output_type": "execute_result"
    }
   ],
   "source": [
    "all_df.head()"
   ]
  },
  {
   "cell_type": "code",
   "execution_count": 51,
   "metadata": {},
   "outputs": [],
   "source": [
    "test = df.groupby(['subj', 'prior']).apply(compute_serial,'choiceAngle','T_Angle','preT',bins,flip=None, rm_bias = False, ref_report=False) \n",
    "test.reset_index( inplace=True)\n",
    "test['abs_err'] = abs(test.m_err)\n",
    "test.x = rad2deg(test.x+bins['step_int']/2)\n",
    "\n",
    "# grouping 'subj' and 'prior' and giving an output table of 'choiceAngle', 'T_Angle', and 'preT' and having the output be a new dataframe called 'test'\n",
    "# add a new column in  the test dataframe called 'abs_err', which is the absolute error of the 'm_err' column in the test dataframe\n",
    "# converts the x values in the test dataframe from radians to degrees\n"
   ]
  },
  {
   "cell_type": "code",
   "execution_count": 52,
   "metadata": {},
   "outputs": [
    {
     "data": {
      "image/png": "[encoded data removed]",
      "text/plain": [
       "<Figure size 640x480 with 1 Axes>"
      ]
     },
     "metadata": {},
     "output_type": "display_data"
    }
   ],
   "source": [
    "# filter data for any Ss only\n",
    "#Ss = test[(test.subj == 'S22') & (test.prior == 0)]\n",
    "\n",
    "# plot Ss data\n",
    "#ax = sns.lineplot(data=Ss, x=\"x\", y=\"m_err\", linewidth=2)\n",
    "\n",
    "# plot all Ss\n",
    "ax = sns.lineplot(data=test[test.prior == 0], x=\"x\", y=\"m_err\",hue = 'subj',linewidth = 2)\n",
    "\n",
    "# output displays that when the prior was at 0, what the response mean error was \n",
    "# for a perfect computer, we would see a horizontal line, that there is no mean error and that the value is always right \n",
    "# the peaks up or down show the systematic biases towards the previous stimulus\n",
    "# potive or negative dips display distance and direction from the prior (the mean stimuli presented of the block)?"
   ]
  },
  {
   "cell_type": "code",
   "execution_count": 53,
   "metadata": {},
   "outputs": [],
   "source": [
    "test = df.groupby(['subj', 'prior']).apply(compute_serial,'choiceAngle','T_Angle','prior',bins,flip=None, rm_bias = False, ref_report=False)\n",
    "test.reset_index(inplace=True)\n",
    "test['abs_err'] = abs(test.m_err)\n",
    "test.x = rad2deg(test.x+bins['step_int']/2)\n",
    "\n",
    "# grouping 'subj' and 'prior' and giving an output table of 'choiceAngle', 'T_Angle', and 'prior' and having the output be a new dataframe called 'test'\n",
    "# add a new column in  the test dataframe called 'abs_err', which is the absolute error of the 'm_err' column in the test dataframe\n",
    "# converts the x values in the test dataframe from radians to degrees"
   ]
  },
  {
   "cell_type": "code",
   "execution_count": 54,
   "metadata": {},
   "outputs": [
    {
     "data": {
      "image/png": "[encoded data removed]",
      "text/plain": [
       "<Figure size 640x480 with 1 Axes>"
      ]
     },
     "metadata": {},
     "output_type": "display_data"
    }
   ],
   "source": [
    "ax = sns.lineplot(data=test[test.prior != 0], x=\"x\", y=\"m_err\",linewidth = 2)\n",
    "\n",
    "# output displays that when the prior was not at 0, what the response mean error was \n",
    "# when the priors are not equal to 0 and the mean error of that "
   ]
  },
  {
   "cell_type": "code",
   "execution_count": 55,
   "metadata": {},
   "outputs": [],
   "source": [
    "test = df.groupby(['subj', 'prior']).apply(compute_serial,'choiceAngle','T_Angle','null',bins,flip=None, rm_bias = False, ref_report=False)\n",
    "test.reset_index( inplace=True)\n",
    "test['abs_err'] = abs(test.m_err)\n",
    "test.x = rad2deg(test.x+bins['step_int']/2)\n",
    "\n",
    "# grouping 'subj' and 'prior' and giving an output table of 'choiceAngle', 'T_Angle', and 'null' and having the output be a new dataframe called 'test'"
   ]
  },
  {
   "cell_type": "code",
   "execution_count": 56,
   "metadata": {},
   "outputs": [
    {
     "data": {
      "image/png": "[encoded data removed]",
      "text/plain": [
       "<Figure size 640x480 with 1 Axes>"
      ]
     },
     "metadata": {},
     "output_type": "display_data"
    }
   ],
   "source": [
    "ax = sns.lineplot(data=test[test.prior == 0], x=\"x\", y=\"abs_err\", hue = 'subj', linewidth = 2)\n",
    "\n",
    "# output displays that when the prior was at 0, what the absolute value of the error was (absolute values, so all positive)"
   ]
  },
  {
   "cell_type": "code",
   "execution_count": 57,
   "metadata": {},
   "outputs": [
    {
     "data": {
      "text/plain": [
       "(array([ 9., 10.,  9., 14.,  7., 12., 12., 13., 11.,  9.,  9., 14., 16.,\n",
       "        13., 21., 11., 13.,  9., 19.,  8., 16., 20.,  8., 20., 16., 11.,\n",
       "         5.,  6.,  6.,  6.,  6.,  8.,  6.,  1.,  4.,  6.,  7.,  2.,  3.,\n",
       "         4.,  6.,  5.,  3.,  6.,  3., 10.,  5.,  6.,  6.,  5.]),\n",
       " array([-1.79073522e+02, -1.71910232e+02, -1.64746942e+02, -1.57583651e+02,\n",
       "        -1.50420361e+02, -1.43257071e+02, -1.36093780e+02, -1.28930490e+02,\n",
       "        -1.21767200e+02, -1.14603910e+02, -1.07440619e+02, -1.00277329e+02,\n",
       "        -9.31140387e+01, -8.59507484e+01, -7.87874582e+01, -7.16241679e+01,\n",
       "        -6.44608776e+01, -5.72975873e+01, -5.01342970e+01, -4.29710068e+01,\n",
       "        -3.58077165e+01, -2.86444262e+01, -2.14811359e+01, -1.43178456e+01,\n",
       "        -7.15455536e+00,  8.73491842e-03,  7.17202520e+00,  1.43353155e+01,\n",
       "         2.14986058e+01,  2.86618960e+01,  3.58251863e+01,  4.29884766e+01,\n",
       "         5.01517669e+01,  5.73150572e+01,  6.44783474e+01,  7.16416377e+01,\n",
       "         7.88049280e+01,  8.59682183e+01,  9.31315086e+01,  1.00294799e+02,\n",
       "         1.07458089e+02,  1.14621379e+02,  1.21784670e+02,  1.28947960e+02,\n",
       "         1.36111250e+02,  1.43274541e+02,  1.50437831e+02,  1.57601121e+02,\n",
       "         1.64764411e+02,  1.71927702e+02,  1.79090992e+02]),\n",
       " <BarContainer object of 50 artists>)"
      ]
     },
     "execution_count": 57,
     "metadata": {},
     "output_type": "execute_result"
    },
    {
     "data": {
      "image/png": "[encoded data removed]",
      "text/plain": [
       "<Figure size 640x480 with 1 Axes>"
      ]
     },
     "metadata": {},
     "output_type": "display_data"
    }
   ],
   "source": [
    "plt.hist((df.T_Angle), bins=50)             # plot histogram of all subjects\n",
    "\n",
    "#df_subj = df[df['subj'] == 'S02']           # if you do not want to plt for all subjects, define the subject\n",
    "#plt.hist(df_subj['T_Angle'], bins=50)       # plt the histogram for the subject you previously defined\n",
    "\n",
    "# bins 50 means that the T_Angle will be divided into 50 interval bins\n",
    "# x axis = the T_Angles\n",
    "# y axis = the frequency of those angles"
   ]
  },
  {
   "cell_type": "code",
   "execution_count": 58,
   "metadata": {},
   "outputs": [
    {
     "name": "stdout",
     "output_type": "stream",
     "text": [
      "[9.98787420e-01 8.57310553e-05 9.76270560e-01]\n"
     ]
    },
    {
     "data": {
      "image/png": "[encoded data removed]",
      "text/plain": [
       "<Figure size 640x480 with 1 Axes>"
      ]
     },
     "metadata": {},
     "output_type": "display_data"
    }
   ],
   "source": [
    "from scipy.optimize import curve_fit\n",
    "\n",
    "def derivative_gaussian(x, A, mu, sigma):\n",
    "    return -A * (x - mu) * np.exp(-(x - mu)**2 / (2 * sigma**2)) / sigma**2\n",
    "\n",
    "# Generate some example data\n",
    "x_data = np.linspace(-5, 5, 100)\n",
    "y_data = derivative_gaussian(x_data, 1, 0, 1) + np.random.normal(0, 0.1, 100)\n",
    "\n",
    "# Fit the function to the data\n",
    "popt, pcov = curve_fit(derivative_gaussian, x_data, y_data)\n",
    "\n",
    "# Print the optimized parameters\n",
    "print(popt)\n",
    "\n",
    "# Plot the original data and the fitted curve\n",
    "import matplotlib.pyplot as plt\n",
    "plt.scatter(x_data, y_data)\n",
    "plt.plot(x_data, derivative_gaussian(x_data, *popt), 'r-', label='fit')\n",
    "plt.legend()\n",
    "plt.show()\n",
    "\n",
    "# plot a gaussian curve with 100 evenly spaced points from -5 to 5\n",
    "# evaluate the pints in x_data with an amplitude of 1, mean 0, and standard deviation of 1 \n",
    "# popt are the optimal values, and we are printing the optimized paramaters\n",
    "# output shows a scatterplott generated with the data of x_data and y_data, and a gaussian curve to fit the function\n"
   ]
  },
  {
   "cell_type": "code",
   "execution_count": 59,
   "metadata": {},
   "outputs": [
    {
     "data": {
      "text/html": [
       "<div>\n",
       "<style scoped>\n",
       "    .dataframe tbody tr th:only-of-type {\n",
       "        vertical-align: middle;\n",
       "    }\n",
       "\n",
       "    .dataframe tbody tr th {\n",
       "        vertical-align: top;\n",
       "    }\n",
       "\n",
       "    .dataframe thead th {\n",
       "        text-align: right;\n",
       "    }\n",
       "</style>\n",
       "<table border=\"1\" class=\"dataframe\">\n",
       "  <thead>\n",
       "    <tr style=\"text-align: right;\">\n",
       "      <th></th>\n",
       "      <th>x</th>\n",
       "      <th>m_err</th>\n",
       "      <th>std_err</th>\n",
       "    </tr>\n",
       "  </thead>\n",
       "  <tbody>\n",
       "    <tr>\n",
       "      <th>0</th>\n",
       "      <td>-3.141593</td>\n",
       "      <td>-0.025415</td>\n",
       "      <td>0.014803</td>\n",
       "    </tr>\n",
       "    <tr>\n",
       "      <th>1</th>\n",
       "      <td>-3.078761</td>\n",
       "      <td>-0.032981</td>\n",
       "      <td>0.016089</td>\n",
       "    </tr>\n",
       "    <tr>\n",
       "      <th>2</th>\n",
       "      <td>-3.015929</td>\n",
       "      <td>-0.031663</td>\n",
       "      <td>0.016055</td>\n",
       "    </tr>\n",
       "    <tr>\n",
       "      <th>3</th>\n",
       "      <td>-2.953097</td>\n",
       "      <td>-0.032100</td>\n",
       "      <td>0.015887</td>\n",
       "    </tr>\n",
       "    <tr>\n",
       "      <th>4</th>\n",
       "      <td>-2.890265</td>\n",
       "      <td>-0.025264</td>\n",
       "      <td>0.015639</td>\n",
       "    </tr>\n",
       "    <tr>\n",
       "      <th>...</th>\n",
       "      <td>...</td>\n",
       "      <td>...</td>\n",
       "      <td>...</td>\n",
       "    </tr>\n",
       "    <tr>\n",
       "      <th>71</th>\n",
       "      <td>1.319469</td>\n",
       "      <td>0.038670</td>\n",
       "      <td>0.015110</td>\n",
       "    </tr>\n",
       "    <tr>\n",
       "      <th>72</th>\n",
       "      <td>1.382301</td>\n",
       "      <td>0.037323</td>\n",
       "      <td>0.015047</td>\n",
       "    </tr>\n",
       "    <tr>\n",
       "      <th>73</th>\n",
       "      <td>1.445133</td>\n",
       "      <td>0.038823</td>\n",
       "      <td>0.015334</td>\n",
       "    </tr>\n",
       "    <tr>\n",
       "      <th>74</th>\n",
       "      <td>1.507964</td>\n",
       "      <td>0.040699</td>\n",
       "      <td>0.015165</td>\n",
       "    </tr>\n",
       "    <tr>\n",
       "      <th>75</th>\n",
       "      <td>1.570796</td>\n",
       "      <td>0.041258</td>\n",
       "      <td>0.015346</td>\n",
       "    </tr>\n",
       "  </tbody>\n",
       "</table>\n",
       "<p>76 rows × 3 columns</p>\n",
       "</div>"
      ],
      "text/plain": [
       "           x     m_err   std_err\n",
       "0  -3.141593 -0.025415  0.014803\n",
       "1  -3.078761 -0.032981  0.016089\n",
       "2  -3.015929 -0.031663  0.016055\n",
       "3  -2.953097 -0.032100  0.015887\n",
       "4  -2.890265 -0.025264  0.015639\n",
       "..       ...       ...       ...\n",
       "71  1.319469  0.038670  0.015110\n",
       "72  1.382301  0.037323  0.015047\n",
       "73  1.445133  0.038823  0.015334\n",
       "74  1.507964  0.040699  0.015165\n",
       "75  1.570796  0.041258  0.015346\n",
       "\n",
       "[76 rows x 3 columns]"
      ]
     },
     "execution_count": 59,
     "metadata": {},
     "output_type": "execute_result"
    }
   ],
   "source": [
    "compute_serial(df, 'choiceAngle','T_Angle','preT',bins,flip=None, rm_bias = False, ref_report=False)"
   ]
  },
  {
   "cell_type": "code",
   "execution_count": 62,
   "metadata": {},
   "outputs": [],
   "source": [
    "report = radians(df.choiceAngle)\n",
    "target = radians(df.T_Angle)\n",
    "ref_target = radians(df.preT)"
   ]
  },
  {
   "cell_type": "code",
   "execution_count": 65,
   "metadata": {},
   "outputs": [],
   "source": []
  },
  {
   "cell_type": "code",
   "execution_count": 73,
   "metadata": {},
   "outputs": [
    {
     "name": "stderr",
     "output_type": "stream",
     "text": [
      "/var/folders/r9/cr9dfv5j4v9ghnsqpsk0syy40000gn/T/ipykernel_7722/2893488765.py:2: UserWarning: The palette list has more values (2) than needed (1), which may not be intended.\n",
      "  ax = sns.lineplot(data=sys_eff, x=\"x\", y=\"m_err\", hue = 'delay', linewidth = 2, palette = ['red', 'blue'])\n",
      "/var/folders/r9/cr9dfv5j4v9ghnsqpsk0syy40000gn/T/ipykernel_7722/2893488765.py:3: UserWarning: The palette list has more values (2) than needed (1), which may not be intended.\n",
      "  sns.scatterplot(data=sys_eff, x=\"x\", y=\"m_err\", hue = 'delay', ax = ax, palette = ['red', 'blue'], alpha = 0.5, s = 1, legend = False)\n"
     ]
    },
    {
     "data": {
      "text/plain": [
       "([<matplotlib.axis.YTick at 0x1457a9070>,\n",
       "  <matplotlib.axis.YTick at 0x145778880>,\n",
       "  <matplotlib.axis.YTick at 0x14a59ee20>,\n",
       "  <matplotlib.axis.YTick at 0x14a5c50d0>,\n",
       "  <matplotlib.axis.YTick at 0x14a5a5be0>],\n",
       " [Text(0, -10, '−10'),\n",
       "  Text(0, -5, '−5'),\n",
       "  Text(0, 0, '0'),\n",
       "  Text(0, 5, '5'),\n",
       "  Text(0, 10, '10')])"
      ]
     },
     "execution_count": 73,
     "metadata": {},
     "output_type": "execute_result"
    },
    {
     "data": {
      "image/png": "[encoded data removed]",
      "text/plain": [
       "<Figure size 500x600 with 1 Axes>"
      ]
     },
     "metadata": {},
     "output_type": "display_data"
    }
   ],
   "source": [
    "fig, axes = plt.subplots(1,1, figsize=(5,6))\n",
    "ax = sns.lineplot(data=sys_eff, x=\"x\", y=\"m_err\", hue = 'delay', linewidth = 2, palette = ['red', 'blue'])\n",
    "sns.scatterplot(data=sys_eff, x=\"x\", y=\"m_err\", hue = 'delay', ax = ax, palette = ['red', 'blue'], alpha = 0.5, s = 1, legend = False)\n",
    "ax.axvline(0, ls='--', color= 'black', alpha=0.3)\n",
    "ax.axvline(-90, ls='--', color= 'black', alpha=0.3)\n",
    "ax.axvline(90, ls='--', color= 'black', alpha=0.3)\n",
    "ax.axhline(0, ls='--', color= 'black', alpha=0.3)\n",
    "ax.set_xlabel(r'$\\theta_n^S$ ($^o$)', fontdict={'size':25}, labelpad=5); #plt.xticks(np.arange(-180, 181, step=90), fontsize = 15)\n",
    "ax.set_ylabel(r'$error$ ($^o$)', fontdict={'size':25}, labelpad=5); plt.xticks(np.arange(-180, 181, step=90), fontsize = 15)\n",
    "plt.ylim([-13, 13]); plt.yticks(np.arange(-10, 11, step=5), fontsize = 15)"
   ]
  },
  {
   "cell_type": "code",
   "execution_count": 69,
   "metadata": {},
   "outputs": [],
   "source": [
    "#%% PARAMETERS\n",
    "flip = False\n",
    "rm_bias = False\n",
    "bins = {}\n",
    "bins['step'] =  pi/50\n",
    "bins['step_int'] =  pi/2\n",
    "bins['x'] = arange(-pi,pi-bins['step_int']+bins['step'],bins['step'])"
   ]
  },
  {
   "cell_type": "code",
   "execution_count": 71,
   "metadata": {},
   "outputs": [
    {
     "ename": "KeyError",
     "evalue": "'contrast'",
     "output_type": "error",
     "traceback": [
      "\u001b[0;31m---------------------------------------------------------------------------\u001b[0m",
      "\u001b[0;31mKeyError\u001b[0m                                  Traceback (most recent call last)",
      "\u001b[0;32m/var/folders/r9/cr9dfv5j4v9ghnsqpsk0syy40000gn/T/ipykernel_7722/3041504862.py\u001b[0m in \u001b[0;36m<module>\u001b[0;34m\u001b[0m\n\u001b[0;32m----> 1\u001b[0;31m \u001b[0mpreT_eff\u001b[0m \u001b[0;34m=\u001b[0m \u001b[0mdf\u001b[0m\u001b[0;34m.\u001b[0m\u001b[0mgroupby\u001b[0m\u001b[0;34m(\u001b[0m\u001b[0;34m[\u001b[0m\u001b[0;34m'contrast'\u001b[0m\u001b[0;34m,\u001b[0m  \u001b[0;34m'delay'\u001b[0m\u001b[0;34m]\u001b[0m\u001b[0;34m)\u001b[0m\u001b[0;34m.\u001b[0m\u001b[0mapply\u001b[0m\u001b[0;34m(\u001b[0m\u001b[0mcompute_serial\u001b[0m\u001b[0;34m,\u001b[0m\u001b[0;34m'choiceAngle'\u001b[0m\u001b[0;34m,\u001b[0m\u001b[0;34m'T_Angle'\u001b[0m\u001b[0;34m,\u001b[0m\u001b[0;34m'preT'\u001b[0m\u001b[0;34m,\u001b[0m\u001b[0mbins\u001b[0m\u001b[0;34m,\u001b[0m\u001b[0mflip\u001b[0m\u001b[0;34m=\u001b[0m\u001b[0mflip\u001b[0m\u001b[0;34m,\u001b[0m \u001b[0mrm_bias\u001b[0m \u001b[0;34m=\u001b[0m \u001b[0;32mFalse\u001b[0m\u001b[0;34m,\u001b[0m \u001b[0mref_report\u001b[0m\u001b[0;34m=\u001b[0m\u001b[0;32mFalse\u001b[0m\u001b[0;34m)\u001b[0m\u001b[0;34m\u001b[0m\u001b[0;34m\u001b[0m\u001b[0m\n\u001b[0m\u001b[1;32m      2\u001b[0m \u001b[0mpreT_eff\u001b[0m\u001b[0;34m.\u001b[0m\u001b[0mreset_index\u001b[0m\u001b[0;34m(\u001b[0m \u001b[0minplace\u001b[0m\u001b[0;34m=\u001b[0m\u001b[0;32mTrue\u001b[0m\u001b[0;34m)\u001b[0m\u001b[0;34m\u001b[0m\u001b[0;34m\u001b[0m\u001b[0m\n\u001b[1;32m      3\u001b[0m \u001b[0mpreT_eff\u001b[0m\u001b[0;34m.\u001b[0m\u001b[0mm_err\u001b[0m \u001b[0;34m=\u001b[0m \u001b[0mrad2deg\u001b[0m\u001b[0;34m(\u001b[0m\u001b[0mpreT_eff\u001b[0m\u001b[0;34m.\u001b[0m\u001b[0mm_err\u001b[0m\u001b[0;34m)\u001b[0m\u001b[0;34m\u001b[0m\u001b[0;34m\u001b[0m\u001b[0m\n\u001b[1;32m      4\u001b[0m \u001b[0mpreT_eff\u001b[0m\u001b[0;34m[\u001b[0m\u001b[0;34m'abs_err'\u001b[0m\u001b[0;34m]\u001b[0m \u001b[0;34m=\u001b[0m \u001b[0mabs\u001b[0m\u001b[0;34m(\u001b[0m\u001b[0mpreT_eff\u001b[0m\u001b[0;34m.\u001b[0m\u001b[0mm_err\u001b[0m\u001b[0;34m)\u001b[0m\u001b[0;34m\u001b[0m\u001b[0;34m\u001b[0m\u001b[0m\n\u001b[1;32m      5\u001b[0m \u001b[0mpreT_eff\u001b[0m\u001b[0;34m.\u001b[0m\u001b[0mx\u001b[0m \u001b[0;34m=\u001b[0m \u001b[0mrad2deg\u001b[0m\u001b[0;34m(\u001b[0m\u001b[0mpreT_eff\u001b[0m\u001b[0;34m.\u001b[0m\u001b[0mx\u001b[0m\u001b[0;34m+\u001b[0m\u001b[0mbins\u001b[0m\u001b[0;34m[\u001b[0m\u001b[0;34m'step_int'\u001b[0m\u001b[0;34m]\u001b[0m\u001b[0;34m/\u001b[0m\u001b[0;36m2\u001b[0m\u001b[0;34m)\u001b[0m\u001b[0;34m\u001b[0m\u001b[0;34m\u001b[0m\u001b[0m\n",
      "\u001b[0;32m/opt/anaconda3/envs/wm_exp/lib/python3.8/site-packages/pandas/core/frame.py\u001b[0m in \u001b[0;36mgroupby\u001b[0;34m(self, by, axis, level, as_index, sort, group_keys, squeeze, observed, dropna)\u001b[0m\n\u001b[1;32m   7629\u001b[0m         \u001b[0;31m# error: Argument \"squeeze\" to \"DataFrameGroupBy\" has incompatible type\u001b[0m\u001b[0;34m\u001b[0m\u001b[0;34m\u001b[0m\u001b[0;34m\u001b[0m\u001b[0m\n\u001b[1;32m   7630\u001b[0m         \u001b[0;31m# \"Union[bool, NoDefault]\"; expected \"bool\"\u001b[0m\u001b[0;34m\u001b[0m\u001b[0;34m\u001b[0m\u001b[0;34m\u001b[0m\u001b[0m\n\u001b[0;32m-> 7631\u001b[0;31m         return DataFrameGroupBy(\n\u001b[0m\u001b[1;32m   7632\u001b[0m             \u001b[0mobj\u001b[0m\u001b[0;34m=\u001b[0m\u001b[0mself\u001b[0m\u001b[0;34m,\u001b[0m\u001b[0;34m\u001b[0m\u001b[0;34m\u001b[0m\u001b[0m\n\u001b[1;32m   7633\u001b[0m             \u001b[0mkeys\u001b[0m\u001b[0;34m=\u001b[0m\u001b[0mby\u001b[0m\u001b[0;34m,\u001b[0m\u001b[0;34m\u001b[0m\u001b[0;34m\u001b[0m\u001b[0m\n",
      "\u001b[0;32m/opt/anaconda3/envs/wm_exp/lib/python3.8/site-packages/pandas/core/groupby/groupby.py\u001b[0m in \u001b[0;36m__init__\u001b[0;34m(self, obj, keys, axis, level, grouper, exclusions, selection, as_index, sort, group_keys, squeeze, observed, mutated, dropna)\u001b[0m\n\u001b[1;32m    887\u001b[0m             \u001b[0;32mfrom\u001b[0m \u001b[0mpandas\u001b[0m\u001b[0;34m.\u001b[0m\u001b[0mcore\u001b[0m\u001b[0;34m.\u001b[0m\u001b[0mgroupby\u001b[0m\u001b[0;34m.\u001b[0m\u001b[0mgrouper\u001b[0m \u001b[0;32mimport\u001b[0m \u001b[0mget_grouper\u001b[0m\u001b[0;34m\u001b[0m\u001b[0;34m\u001b[0m\u001b[0m\n\u001b[1;32m    888\u001b[0m \u001b[0;34m\u001b[0m\u001b[0m\n\u001b[0;32m--> 889\u001b[0;31m             grouper, exclusions, obj = get_grouper(\n\u001b[0m\u001b[1;32m    890\u001b[0m                 \u001b[0mobj\u001b[0m\u001b[0;34m,\u001b[0m\u001b[0;34m\u001b[0m\u001b[0;34m\u001b[0m\u001b[0m\n\u001b[1;32m    891\u001b[0m                 \u001b[0mkeys\u001b[0m\u001b[0;34m,\u001b[0m\u001b[0;34m\u001b[0m\u001b[0;34m\u001b[0m\u001b[0m\n",
      "\u001b[0;32m/opt/anaconda3/envs/wm_exp/lib/python3.8/site-packages/pandas/core/groupby/grouper.py\u001b[0m in \u001b[0;36mget_grouper\u001b[0;34m(obj, key, axis, level, sort, observed, mutated, validate, dropna)\u001b[0m\n\u001b[1;32m    860\u001b[0m                 \u001b[0min_axis\u001b[0m\u001b[0;34m,\u001b[0m \u001b[0mlevel\u001b[0m\u001b[0;34m,\u001b[0m \u001b[0mgpr\u001b[0m \u001b[0;34m=\u001b[0m \u001b[0;32mFalse\u001b[0m\u001b[0;34m,\u001b[0m \u001b[0mgpr\u001b[0m\u001b[0;34m,\u001b[0m \u001b[0;32mNone\u001b[0m\u001b[0;34m\u001b[0m\u001b[0;34m\u001b[0m\u001b[0m\n\u001b[1;32m    861\u001b[0m             \u001b[0;32melse\u001b[0m\u001b[0;34m:\u001b[0m\u001b[0;34m\u001b[0m\u001b[0;34m\u001b[0m\u001b[0m\n\u001b[0;32m--> 862\u001b[0;31m                 \u001b[0;32mraise\u001b[0m \u001b[0mKeyError\u001b[0m\u001b[0;34m(\u001b[0m\u001b[0mgpr\u001b[0m\u001b[0;34m)\u001b[0m\u001b[0;34m\u001b[0m\u001b[0;34m\u001b[0m\u001b[0m\n\u001b[0m\u001b[1;32m    863\u001b[0m         \u001b[0;32melif\u001b[0m \u001b[0misinstance\u001b[0m\u001b[0;34m(\u001b[0m\u001b[0mgpr\u001b[0m\u001b[0;34m,\u001b[0m \u001b[0mGrouper\u001b[0m\u001b[0;34m)\u001b[0m \u001b[0;32mand\u001b[0m \u001b[0mgpr\u001b[0m\u001b[0;34m.\u001b[0m\u001b[0mkey\u001b[0m \u001b[0;32mis\u001b[0m \u001b[0;32mnot\u001b[0m \u001b[0;32mNone\u001b[0m\u001b[0;34m:\u001b[0m\u001b[0;34m\u001b[0m\u001b[0;34m\u001b[0m\u001b[0m\n\u001b[1;32m    864\u001b[0m             \u001b[0;31m# Add key to exclusions\u001b[0m\u001b[0;34m\u001b[0m\u001b[0;34m\u001b[0m\u001b[0;34m\u001b[0m\u001b[0m\n",
      "\u001b[0;31mKeyError\u001b[0m: 'contrast'"
     ]
    }
   ],
   "source": [
    "preT_eff = df.groupby(['contrast',  'delay']).apply(compute_serial,'choiceAngle','T_Angle','preT',bins,flip=flip, rm_bias = False, ref_report=False)\n",
    "preT_eff.reset_index( inplace=True)\n",
    "preT_eff.m_err = rad2deg(preT_eff.m_err)\n",
    "preT_eff['abs_err'] = abs(preT_eff.m_err)\n",
    "preT_eff.x = rad2deg(preT_eff.x+bins['step_int']/2)"
   ]
  },
  {
   "cell_type": "code",
   "execution_count": 75,
   "metadata": {},
   "outputs": [
    {
     "name": "stderr",
     "output_type": "stream",
     "text": [
      "/var/folders/r9/cr9dfv5j4v9ghnsqpsk0syy40000gn/T/ipykernel_7722/3531303225.py:1: UserWarning: The palette list has more values (2) than needed (1), which may not be intended.\n",
      "  ax = sns.lineplot(data=preT_eff, x=\"x\", y=\"m_err\",hue = 'delay', linewidth = 2, palette = ['red', 'blue']) # [preT_eff.prior == 0]\n"
     ]
    },
    {
     "data": {
      "text/plain": [
       "<matplotlib.lines.Line2D at 0x145569910>"
      ]
     },
     "execution_count": 75,
     "metadata": {},
     "output_type": "execute_result"
    },
    {
     "data": {
      "image/png": "[encoded data removed]",
      "text/plain": [
       "<Figure size 640x480 with 1 Axes>"
      ]
     },
     "metadata": {},
     "output_type": "display_data"
    }
   ],
   "source": [
    "ax = sns.lineplot(data=preT_eff, x=\"x\", y=\"m_err\",hue = 'delay', linewidth = 2, palette = ['red', 'blue']) # [preT_eff.prior == 0]\n",
    "ax.axvline(0, ls='--', color= 'black', alpha=0.2)\n",
    "ax.axhline(0, ls='--', color= 'black', alpha=0.2)"
   ]
  },
  {
   "cell_type": "code",
   "execution_count": 79,
   "metadata": {},
   "outputs": [],
   "source": [
    "preT_eff = df.groupby(['subj',  'delay']).apply(compute_serial,'choiceAngle','T_Angle','preT',bins,flip=flip, rm_bias = False, ref_report=False)\n",
    "preT_eff.reset_index( inplace=True)\n",
    "preT_eff.m_err = rad2deg(preT_eff.m_err)\n",
    "preT_eff['abs_err'] = abs(preT_eff.m_err)\n",
    "preT_eff.x = rad2deg(preT_eff.x+bins['step_int']/2)"
   ]
  },
  {
   "cell_type": "code",
   "execution_count": 81,
   "metadata": {},
   "outputs": [
    {
     "name": "stderr",
     "output_type": "stream",
     "text": [
      "/var/folders/r9/cr9dfv5j4v9ghnsqpsk0syy40000gn/T/ipykernel_7722/3531303225.py:1: UserWarning: The palette list has more values (2) than needed (1), which may not be intended.\n",
      "  ax = sns.lineplot(data=preT_eff, x=\"x\", y=\"m_err\",hue = 'delay', linewidth = 2, palette = ['red', 'blue']) # [preT_eff.prior == 0]\n"
     ]
    },
    {
     "data": {
      "text/plain": [
       "<matplotlib.lines.Line2D at 0x144a85460>"
      ]
     },
     "execution_count": 81,
     "metadata": {},
     "output_type": "execute_result"
    },
    {
     "data": {
      "image/png": "[encoded data removed]",
      "text/plain": [
       "<Figure size 640x480 with 1 Axes>"
      ]
     },
     "metadata": {},
     "output_type": "display_data"
    }
   ],
   "source": [
    "ax = sns.lineplot(data=preT_eff, x=\"x\", y=\"m_err\",hue = 'delay', linewidth = 2, palette = ['red', 'blue']) # [preT_eff.prior == 0]\n",
    "ax.axvline(0, ls='--', color= 'black', alpha=0.2)\n",
    "ax.axhline(0, ls='--', color= 'black', alpha=0.2)"
   ]
  },
  {
   "cell_type": "code",
   "execution_count": 85,
   "metadata": {},
   "outputs": [
    {
     "ename": "KeyError",
     "evalue": "'posT'",
     "output_type": "error",
     "traceback": [
      "\u001b[0;31m---------------------------------------------------------------------------\u001b[0m",
      "\u001b[0;31mKeyError\u001b[0m                                  Traceback (most recent call last)",
      "\u001b[0;32m/opt/anaconda3/envs/wm_exp/lib/python3.8/site-packages/pandas/core/indexes/base.py\u001b[0m in \u001b[0;36mget_loc\u001b[0;34m(self, key, method, tolerance)\u001b[0m\n\u001b[1;32m   3360\u001b[0m             \u001b[0;32mtry\u001b[0m\u001b[0;34m:\u001b[0m\u001b[0;34m\u001b[0m\u001b[0;34m\u001b[0m\u001b[0m\n\u001b[0;32m-> 3361\u001b[0;31m                 \u001b[0;32mreturn\u001b[0m \u001b[0mself\u001b[0m\u001b[0;34m.\u001b[0m\u001b[0m_engine\u001b[0m\u001b[0;34m.\u001b[0m\u001b[0mget_loc\u001b[0m\u001b[0;34m(\u001b[0m\u001b[0mcasted_key\u001b[0m\u001b[0;34m)\u001b[0m\u001b[0;34m\u001b[0m\u001b[0;34m\u001b[0m\u001b[0m\n\u001b[0m\u001b[1;32m   3362\u001b[0m             \u001b[0;32mexcept\u001b[0m \u001b[0mKeyError\u001b[0m \u001b[0;32mas\u001b[0m \u001b[0merr\u001b[0m\u001b[0;34m:\u001b[0m\u001b[0;34m\u001b[0m\u001b[0;34m\u001b[0m\u001b[0m\n",
      "\u001b[0;32m/opt/anaconda3/envs/wm_exp/lib/python3.8/site-packages/pandas/_libs/index.pyx\u001b[0m in \u001b[0;36mpandas._libs.index.IndexEngine.get_loc\u001b[0;34m()\u001b[0m\n",
      "\u001b[0;32m/opt/anaconda3/envs/wm_exp/lib/python3.8/site-packages/pandas/_libs/index.pyx\u001b[0m in \u001b[0;36mpandas._libs.index.IndexEngine.get_loc\u001b[0;34m()\u001b[0m\n",
      "\u001b[0;32mpandas/_libs/hashtable_class_helper.pxi\u001b[0m in \u001b[0;36mpandas._libs.hashtable.PyObjectHashTable.get_item\u001b[0;34m()\u001b[0m\n",
      "\u001b[0;32mpandas/_libs/hashtable_class_helper.pxi\u001b[0m in \u001b[0;36mpandas._libs.hashtable.PyObjectHashTable.get_item\u001b[0;34m()\u001b[0m\n",
      "\u001b[0;31mKeyError\u001b[0m: 'posT'",
      "\nThe above exception was the direct cause of the following exception:\n",
      "\u001b[0;31mKeyError\u001b[0m                                  Traceback (most recent call last)",
      "\u001b[0;32m/var/folders/r9/cr9dfv5j4v9ghnsqpsk0syy40000gn/T/ipykernel_7722/2708903170.py\u001b[0m in \u001b[0;36m<module>\u001b[0;34m\u001b[0m\n\u001b[0;32m----> 1\u001b[0;31m \u001b[0mposT_eff\u001b[0m \u001b[0;34m=\u001b[0m \u001b[0mdf\u001b[0m\u001b[0;34m.\u001b[0m\u001b[0mgroupby\u001b[0m\u001b[0;34m(\u001b[0m\u001b[0;34m[\u001b[0m\u001b[0;34m'subj'\u001b[0m\u001b[0;34m,\u001b[0m \u001b[0;34m'delay'\u001b[0m\u001b[0;34m]\u001b[0m\u001b[0;34m)\u001b[0m\u001b[0;34m.\u001b[0m\u001b[0mapply\u001b[0m\u001b[0;34m(\u001b[0m\u001b[0mcompute_serial\u001b[0m\u001b[0;34m,\u001b[0m\u001b[0;34m'choiceAngle'\u001b[0m\u001b[0;34m,\u001b[0m\u001b[0;34m'T_Angle'\u001b[0m\u001b[0;34m,\u001b[0m\u001b[0;34m'posT'\u001b[0m\u001b[0;34m,\u001b[0m\u001b[0mbins\u001b[0m\u001b[0;34m,\u001b[0m\u001b[0mflip\u001b[0m\u001b[0;34m=\u001b[0m\u001b[0mflip\u001b[0m\u001b[0;34m,\u001b[0m \u001b[0mrm_bias\u001b[0m \u001b[0;34m=\u001b[0m \u001b[0;32mFalse\u001b[0m\u001b[0;34m,\u001b[0m \u001b[0mref_report\u001b[0m\u001b[0;34m=\u001b[0m\u001b[0;32mFalse\u001b[0m\u001b[0;34m)\u001b[0m\u001b[0;34m\u001b[0m\u001b[0;34m\u001b[0m\u001b[0m\n\u001b[0m\u001b[1;32m      2\u001b[0m \u001b[0mposT_eff\u001b[0m\u001b[0;34m.\u001b[0m\u001b[0mreset_index\u001b[0m\u001b[0;34m(\u001b[0m\u001b[0minplace\u001b[0m\u001b[0;34m=\u001b[0m\u001b[0;32mTrue\u001b[0m\u001b[0;34m)\u001b[0m\u001b[0;34m\u001b[0m\u001b[0;34m\u001b[0m\u001b[0m\n\u001b[1;32m      3\u001b[0m \u001b[0mposT_eff\u001b[0m\u001b[0;34m[\u001b[0m\u001b[0;34m'abs_err'\u001b[0m\u001b[0;34m]\u001b[0m \u001b[0;34m=\u001b[0m \u001b[0mabs\u001b[0m\u001b[0;34m(\u001b[0m\u001b[0mposT_eff\u001b[0m\u001b[0;34m.\u001b[0m\u001b[0mm_err\u001b[0m\u001b[0;34m)\u001b[0m\u001b[0;34m\u001b[0m\u001b[0;34m\u001b[0m\u001b[0m\n\u001b[1;32m      4\u001b[0m \u001b[0mposT_eff\u001b[0m\u001b[0;34m.\u001b[0m\u001b[0mm_err\u001b[0m \u001b[0;34m=\u001b[0m \u001b[0mrad2deg\u001b[0m\u001b[0;34m(\u001b[0m\u001b[0mposT_eff\u001b[0m\u001b[0;34m.\u001b[0m\u001b[0mm_err\u001b[0m\u001b[0;34m)\u001b[0m\u001b[0;34m\u001b[0m\u001b[0;34m\u001b[0m\u001b[0m\n\u001b[1;32m      5\u001b[0m \u001b[0mposT_eff\u001b[0m\u001b[0;34m.\u001b[0m\u001b[0mx\u001b[0m \u001b[0;34m=\u001b[0m \u001b[0mrad2deg\u001b[0m\u001b[0;34m(\u001b[0m\u001b[0mposT_eff\u001b[0m\u001b[0;34m.\u001b[0m\u001b[0mx\u001b[0m\u001b[0;34m+\u001b[0m\u001b[0mbins\u001b[0m\u001b[0;34m[\u001b[0m\u001b[0;34m'step_int'\u001b[0m\u001b[0;34m]\u001b[0m\u001b[0;34m/\u001b[0m\u001b[0;36m2\u001b[0m\u001b[0;34m)\u001b[0m\u001b[0;34m\u001b[0m\u001b[0;34m\u001b[0m\u001b[0m\n",
      "\u001b[0;32m/opt/anaconda3/envs/wm_exp/lib/python3.8/site-packages/pandas/core/groupby/groupby.py\u001b[0m in \u001b[0;36mapply\u001b[0;34m(self, func, *args, **kwargs)\u001b[0m\n\u001b[1;32m   1273\u001b[0m         \u001b[0;32mwith\u001b[0m \u001b[0moption_context\u001b[0m\u001b[0;34m(\u001b[0m\u001b[0;34m\"mode.chained_assignment\"\u001b[0m\u001b[0;34m,\u001b[0m \u001b[0;32mNone\u001b[0m\u001b[0;34m)\u001b[0m\u001b[0;34m:\u001b[0m\u001b[0;34m\u001b[0m\u001b[0;34m\u001b[0m\u001b[0m\n\u001b[1;32m   1274\u001b[0m             \u001b[0;32mtry\u001b[0m\u001b[0;34m:\u001b[0m\u001b[0;34m\u001b[0m\u001b[0;34m\u001b[0m\u001b[0m\n\u001b[0;32m-> 1275\u001b[0;31m                 \u001b[0mresult\u001b[0m \u001b[0;34m=\u001b[0m \u001b[0mself\u001b[0m\u001b[0;34m.\u001b[0m\u001b[0m_python_apply_general\u001b[0m\u001b[0;34m(\u001b[0m\u001b[0mf\u001b[0m\u001b[0;34m,\u001b[0m \u001b[0mself\u001b[0m\u001b[0;34m.\u001b[0m\u001b[0m_selected_obj\u001b[0m\u001b[0;34m)\u001b[0m\u001b[0;34m\u001b[0m\u001b[0;34m\u001b[0m\u001b[0m\n\u001b[0m\u001b[1;32m   1276\u001b[0m             \u001b[0;32mexcept\u001b[0m \u001b[0mTypeError\u001b[0m\u001b[0;34m:\u001b[0m\u001b[0;34m\u001b[0m\u001b[0;34m\u001b[0m\u001b[0m\n\u001b[1;32m   1277\u001b[0m                 \u001b[0;31m# gh-20949\u001b[0m\u001b[0;34m\u001b[0m\u001b[0;34m\u001b[0m\u001b[0;34m\u001b[0m\u001b[0m\n",
      "\u001b[0;32m/opt/anaconda3/envs/wm_exp/lib/python3.8/site-packages/pandas/core/groupby/groupby.py\u001b[0m in \u001b[0;36m_python_apply_general\u001b[0;34m(self, f, data)\u001b[0m\n\u001b[1;32m   1307\u001b[0m             \u001b[0mdata\u001b[0m \u001b[0mafter\u001b[0m \u001b[0mapplying\u001b[0m \u001b[0mf\u001b[0m\u001b[0;34m\u001b[0m\u001b[0;34m\u001b[0m\u001b[0m\n\u001b[1;32m   1308\u001b[0m         \"\"\"\n\u001b[0;32m-> 1309\u001b[0;31m         \u001b[0mkeys\u001b[0m\u001b[0;34m,\u001b[0m \u001b[0mvalues\u001b[0m\u001b[0;34m,\u001b[0m \u001b[0mmutated\u001b[0m \u001b[0;34m=\u001b[0m \u001b[0mself\u001b[0m\u001b[0;34m.\u001b[0m\u001b[0mgrouper\u001b[0m\u001b[0;34m.\u001b[0m\u001b[0mapply\u001b[0m\u001b[0;34m(\u001b[0m\u001b[0mf\u001b[0m\u001b[0;34m,\u001b[0m \u001b[0mdata\u001b[0m\u001b[0;34m,\u001b[0m \u001b[0mself\u001b[0m\u001b[0;34m.\u001b[0m\u001b[0maxis\u001b[0m\u001b[0;34m)\u001b[0m\u001b[0;34m\u001b[0m\u001b[0;34m\u001b[0m\u001b[0m\n\u001b[0m\u001b[1;32m   1310\u001b[0m \u001b[0;34m\u001b[0m\u001b[0m\n\u001b[1;32m   1311\u001b[0m         return self._wrap_applied_output(\n",
      "\u001b[0;32m/opt/anaconda3/envs/wm_exp/lib/python3.8/site-packages/pandas/core/groupby/ops.py\u001b[0m in \u001b[0;36mapply\u001b[0;34m(self, f, data, axis)\u001b[0m\n\u001b[1;32m    813\u001b[0m             \u001b[0;32mtry\u001b[0m\u001b[0;34m:\u001b[0m\u001b[0;34m\u001b[0m\u001b[0;34m\u001b[0m\u001b[0m\n\u001b[1;32m    814\u001b[0m                 \u001b[0msdata\u001b[0m \u001b[0;34m=\u001b[0m \u001b[0msplitter\u001b[0m\u001b[0;34m.\u001b[0m\u001b[0msorted_data\u001b[0m\u001b[0;34m\u001b[0m\u001b[0;34m\u001b[0m\u001b[0m\n\u001b[0;32m--> 815\u001b[0;31m                 \u001b[0mresult_values\u001b[0m\u001b[0;34m,\u001b[0m \u001b[0mmutated\u001b[0m \u001b[0;34m=\u001b[0m \u001b[0msplitter\u001b[0m\u001b[0;34m.\u001b[0m\u001b[0mfast_apply\u001b[0m\u001b[0;34m(\u001b[0m\u001b[0mf\u001b[0m\u001b[0;34m,\u001b[0m \u001b[0msdata\u001b[0m\u001b[0;34m,\u001b[0m \u001b[0mgroup_keys\u001b[0m\u001b[0;34m)\u001b[0m\u001b[0;34m\u001b[0m\u001b[0;34m\u001b[0m\u001b[0m\n\u001b[0m\u001b[1;32m    816\u001b[0m \u001b[0;34m\u001b[0m\u001b[0m\n\u001b[1;32m    817\u001b[0m             \u001b[0;32mexcept\u001b[0m \u001b[0mIndexError\u001b[0m\u001b[0;34m:\u001b[0m\u001b[0;34m\u001b[0m\u001b[0;34m\u001b[0m\u001b[0m\n",
      "\u001b[0;32m/opt/anaconda3/envs/wm_exp/lib/python3.8/site-packages/pandas/core/groupby/ops.py\u001b[0m in \u001b[0;36mfast_apply\u001b[0;34m(self, f, sdata, names)\u001b[0m\n\u001b[1;32m   1358\u001b[0m         \u001b[0;31m# must return keys::list, values::list, mutated::bool\u001b[0m\u001b[0;34m\u001b[0m\u001b[0;34m\u001b[0m\u001b[0;34m\u001b[0m\u001b[0m\n\u001b[1;32m   1359\u001b[0m         \u001b[0mstarts\u001b[0m\u001b[0;34m,\u001b[0m \u001b[0mends\u001b[0m \u001b[0;34m=\u001b[0m \u001b[0mlib\u001b[0m\u001b[0;34m.\u001b[0m\u001b[0mgenerate_slices\u001b[0m\u001b[0;34m(\u001b[0m\u001b[0mself\u001b[0m\u001b[0;34m.\u001b[0m\u001b[0mslabels\u001b[0m\u001b[0;34m,\u001b[0m \u001b[0mself\u001b[0m\u001b[0;34m.\u001b[0m\u001b[0mngroups\u001b[0m\u001b[0;34m)\u001b[0m\u001b[0;34m\u001b[0m\u001b[0;34m\u001b[0m\u001b[0m\n\u001b[0;32m-> 1360\u001b[0;31m         \u001b[0;32mreturn\u001b[0m \u001b[0mlibreduction\u001b[0m\u001b[0;34m.\u001b[0m\u001b[0mapply_frame_axis0\u001b[0m\u001b[0;34m(\u001b[0m\u001b[0msdata\u001b[0m\u001b[0;34m,\u001b[0m \u001b[0mf\u001b[0m\u001b[0;34m,\u001b[0m \u001b[0mnames\u001b[0m\u001b[0;34m,\u001b[0m \u001b[0mstarts\u001b[0m\u001b[0;34m,\u001b[0m \u001b[0mends\u001b[0m\u001b[0;34m)\u001b[0m\u001b[0;34m\u001b[0m\u001b[0;34m\u001b[0m\u001b[0m\n\u001b[0m\u001b[1;32m   1361\u001b[0m \u001b[0;34m\u001b[0m\u001b[0m\n\u001b[1;32m   1362\u001b[0m     \u001b[0;32mdef\u001b[0m \u001b[0m_chop\u001b[0m\u001b[0;34m(\u001b[0m\u001b[0mself\u001b[0m\u001b[0;34m,\u001b[0m \u001b[0msdata\u001b[0m\u001b[0;34m:\u001b[0m \u001b[0mDataFrame\u001b[0m\u001b[0;34m,\u001b[0m \u001b[0mslice_obj\u001b[0m\u001b[0;34m:\u001b[0m \u001b[0mslice\u001b[0m\u001b[0;34m)\u001b[0m \u001b[0;34m->\u001b[0m \u001b[0mDataFrame\u001b[0m\u001b[0;34m:\u001b[0m\u001b[0;34m\u001b[0m\u001b[0;34m\u001b[0m\u001b[0m\n",
      "\u001b[0;32m/opt/anaconda3/envs/wm_exp/lib/python3.8/site-packages/pandas/_libs/reduction.pyx\u001b[0m in \u001b[0;36mpandas._libs.reduction.apply_frame_axis0\u001b[0;34m()\u001b[0m\n",
      "\u001b[0;32m/opt/anaconda3/envs/wm_exp/lib/python3.8/site-packages/pandas/core/groupby/groupby.py\u001b[0m in \u001b[0;36mf\u001b[0;34m(g)\u001b[0m\n\u001b[1;32m   1257\u001b[0m                 \u001b[0;32mdef\u001b[0m \u001b[0mf\u001b[0m\u001b[0;34m(\u001b[0m\u001b[0mg\u001b[0m\u001b[0;34m)\u001b[0m\u001b[0;34m:\u001b[0m\u001b[0;34m\u001b[0m\u001b[0;34m\u001b[0m\u001b[0m\n\u001b[1;32m   1258\u001b[0m                     \u001b[0;32mwith\u001b[0m \u001b[0mnp\u001b[0m\u001b[0;34m.\u001b[0m\u001b[0merrstate\u001b[0m\u001b[0;34m(\u001b[0m\u001b[0mall\u001b[0m\u001b[0;34m=\u001b[0m\u001b[0;34m\"ignore\"\u001b[0m\u001b[0;34m)\u001b[0m\u001b[0;34m:\u001b[0m\u001b[0;34m\u001b[0m\u001b[0;34m\u001b[0m\u001b[0m\n\u001b[0;32m-> 1259\u001b[0;31m                         \u001b[0;32mreturn\u001b[0m \u001b[0mfunc\u001b[0m\u001b[0;34m(\u001b[0m\u001b[0mg\u001b[0m\u001b[0;34m,\u001b[0m \u001b[0;34m*\u001b[0m\u001b[0margs\u001b[0m\u001b[0;34m,\u001b[0m \u001b[0;34m**\u001b[0m\u001b[0mkwargs\u001b[0m\u001b[0;34m)\u001b[0m\u001b[0;34m\u001b[0m\u001b[0;34m\u001b[0m\u001b[0m\n\u001b[0m\u001b[1;32m   1260\u001b[0m \u001b[0;34m\u001b[0m\u001b[0m\n\u001b[1;32m   1261\u001b[0m             \u001b[0;32melif\u001b[0m \u001b[0mhasattr\u001b[0m\u001b[0;34m(\u001b[0m\u001b[0mnanops\u001b[0m\u001b[0;34m,\u001b[0m \u001b[0;34m\"nan\"\u001b[0m \u001b[0;34m+\u001b[0m \u001b[0mfunc\u001b[0m\u001b[0;34m)\u001b[0m\u001b[0;34m:\u001b[0m\u001b[0;34m\u001b[0m\u001b[0;34m\u001b[0m\u001b[0m\n",
      "\u001b[0;32m/var/folders/r9/cr9dfv5j4v9ghnsqpsk0syy40000gn/T/ipykernel_7722/2193743420.py\u001b[0m in \u001b[0;36mcompute_serial\u001b[0;34m(x, report, target, ref_target, bins, flip, rm_bias, ref_report)\u001b[0m\n\u001b[1;32m      5\u001b[0m                 \u001b[0mref_target\u001b[0m \u001b[0;34m=\u001b[0m \u001b[0mzeros\u001b[0m\u001b[0;34m(\u001b[0m\u001b[0mlen\u001b[0m\u001b[0;34m(\u001b[0m\u001b[0mtarget\u001b[0m\u001b[0;34m)\u001b[0m\u001b[0;34m)\u001b[0m\u001b[0;34m\u001b[0m\u001b[0;34m\u001b[0m\u001b[0m\n\u001b[1;32m      6\u001b[0m         \u001b[0;32melse\u001b[0m\u001b[0;34m:\u001b[0m\u001b[0;34m\u001b[0m\u001b[0;34m\u001b[0m\u001b[0m\n\u001b[0;32m----> 7\u001b[0;31m                 \u001b[0mref_target\u001b[0m \u001b[0;34m=\u001b[0m \u001b[0mradians\u001b[0m\u001b[0;34m(\u001b[0m\u001b[0mx\u001b[0m\u001b[0;34m[\u001b[0m\u001b[0mref_target\u001b[0m\u001b[0;34m]\u001b[0m\u001b[0;34m)\u001b[0m\u001b[0;34m\u001b[0m\u001b[0;34m\u001b[0m\u001b[0m\n\u001b[0m\u001b[1;32m      8\u001b[0m \u001b[0;34m\u001b[0m\u001b[0m\n\u001b[1;32m      9\u001b[0m         \u001b[0mxxx\u001b[0m \u001b[0;34m=\u001b[0m \u001b[0mbins\u001b[0m\u001b[0;34m[\u001b[0m\u001b[0;34m'x'\u001b[0m\u001b[0;34m]\u001b[0m\u001b[0;34m\u001b[0m\u001b[0;34m\u001b[0m\u001b[0m\n",
      "\u001b[0;32m/opt/anaconda3/envs/wm_exp/lib/python3.8/site-packages/pandas/core/frame.py\u001b[0m in \u001b[0;36m__getitem__\u001b[0;34m(self, key)\u001b[0m\n\u001b[1;32m   3456\u001b[0m             \u001b[0;32mif\u001b[0m \u001b[0mself\u001b[0m\u001b[0;34m.\u001b[0m\u001b[0mcolumns\u001b[0m\u001b[0;34m.\u001b[0m\u001b[0mnlevels\u001b[0m \u001b[0;34m>\u001b[0m \u001b[0;36m1\u001b[0m\u001b[0;34m:\u001b[0m\u001b[0;34m\u001b[0m\u001b[0;34m\u001b[0m\u001b[0m\n\u001b[1;32m   3457\u001b[0m                 \u001b[0;32mreturn\u001b[0m \u001b[0mself\u001b[0m\u001b[0;34m.\u001b[0m\u001b[0m_getitem_multilevel\u001b[0m\u001b[0;34m(\u001b[0m\u001b[0mkey\u001b[0m\u001b[0;34m)\u001b[0m\u001b[0;34m\u001b[0m\u001b[0;34m\u001b[0m\u001b[0m\n\u001b[0;32m-> 3458\u001b[0;31m             \u001b[0mindexer\u001b[0m \u001b[0;34m=\u001b[0m \u001b[0mself\u001b[0m\u001b[0;34m.\u001b[0m\u001b[0mcolumns\u001b[0m\u001b[0;34m.\u001b[0m\u001b[0mget_loc\u001b[0m\u001b[0;34m(\u001b[0m\u001b[0mkey\u001b[0m\u001b[0;34m)\u001b[0m\u001b[0;34m\u001b[0m\u001b[0;34m\u001b[0m\u001b[0m\n\u001b[0m\u001b[1;32m   3459\u001b[0m             \u001b[0;32mif\u001b[0m \u001b[0mis_integer\u001b[0m\u001b[0;34m(\u001b[0m\u001b[0mindexer\u001b[0m\u001b[0;34m)\u001b[0m\u001b[0;34m:\u001b[0m\u001b[0;34m\u001b[0m\u001b[0;34m\u001b[0m\u001b[0m\n\u001b[1;32m   3460\u001b[0m                 \u001b[0mindexer\u001b[0m \u001b[0;34m=\u001b[0m \u001b[0;34m[\u001b[0m\u001b[0mindexer\u001b[0m\u001b[0;34m]\u001b[0m\u001b[0;34m\u001b[0m\u001b[0;34m\u001b[0m\u001b[0m\n",
      "\u001b[0;32m/opt/anaconda3/envs/wm_exp/lib/python3.8/site-packages/pandas/core/indexes/base.py\u001b[0m in \u001b[0;36mget_loc\u001b[0;34m(self, key, method, tolerance)\u001b[0m\n\u001b[1;32m   3361\u001b[0m                 \u001b[0;32mreturn\u001b[0m \u001b[0mself\u001b[0m\u001b[0;34m.\u001b[0m\u001b[0m_engine\u001b[0m\u001b[0;34m.\u001b[0m\u001b[0mget_loc\u001b[0m\u001b[0;34m(\u001b[0m\u001b[0mcasted_key\u001b[0m\u001b[0;34m)\u001b[0m\u001b[0;34m\u001b[0m\u001b[0;34m\u001b[0m\u001b[0m\n\u001b[1;32m   3362\u001b[0m             \u001b[0;32mexcept\u001b[0m \u001b[0mKeyError\u001b[0m \u001b[0;32mas\u001b[0m \u001b[0merr\u001b[0m\u001b[0;34m:\u001b[0m\u001b[0;34m\u001b[0m\u001b[0;34m\u001b[0m\u001b[0m\n\u001b[0;32m-> 3363\u001b[0;31m                 \u001b[0;32mraise\u001b[0m \u001b[0mKeyError\u001b[0m\u001b[0;34m(\u001b[0m\u001b[0mkey\u001b[0m\u001b[0;34m)\u001b[0m \u001b[0;32mfrom\u001b[0m \u001b[0merr\u001b[0m\u001b[0;34m\u001b[0m\u001b[0;34m\u001b[0m\u001b[0m\n\u001b[0m\u001b[1;32m   3364\u001b[0m \u001b[0;34m\u001b[0m\u001b[0m\n\u001b[1;32m   3365\u001b[0m         \u001b[0;32mif\u001b[0m \u001b[0mis_scalar\u001b[0m\u001b[0;34m(\u001b[0m\u001b[0mkey\u001b[0m\u001b[0;34m)\u001b[0m \u001b[0;32mand\u001b[0m \u001b[0misna\u001b[0m\u001b[0;34m(\u001b[0m\u001b[0mkey\u001b[0m\u001b[0;34m)\u001b[0m \u001b[0;32mand\u001b[0m \u001b[0;32mnot\u001b[0m \u001b[0mself\u001b[0m\u001b[0;34m.\u001b[0m\u001b[0mhasnans\u001b[0m\u001b[0;34m:\u001b[0m\u001b[0;34m\u001b[0m\u001b[0;34m\u001b[0m\u001b[0m\n",
      "\u001b[0;31mKeyError\u001b[0m: 'posT'"
     ]
    }
   ],
   "source": [
    "posT_eff = df.groupby(['subj', 'delay']).apply(compute_serial,'choiceAngle','T_Angle','posT',bins,flip=flip, rm_bias = False, ref_report=False)\n",
    "posT_eff.reset_index(inplace=True)\n",
    "posT_eff['abs_err'] = abs(posT_eff.m_err)\n",
    "posT_eff.m_err = rad2deg(posT_eff.m_err)\n",
    "posT_eff.x = rad2deg(posT_eff.x+bins['step_int']/2)"
   ]
  },
  {
   "cell_type": "code",
   "execution_count": 83,
   "metadata": {},
   "outputs": [
    {
     "ename": "NameError",
     "evalue": "name 'posT_eff' is not defined",
     "output_type": "error",
     "traceback": [
      "\u001b[0;31m---------------------------------------------------------------------------\u001b[0m",
      "\u001b[0;31mNameError\u001b[0m                                 Traceback (most recent call last)",
      "\u001b[0;32m/var/folders/r9/cr9dfv5j4v9ghnsqpsk0syy40000gn/T/ipykernel_7722/3572802729.py\u001b[0m in \u001b[0;36m<module>\u001b[0;34m\u001b[0m\n\u001b[1;32m      1\u001b[0m \u001b[0mseq_eff\u001b[0m \u001b[0;34m=\u001b[0m \u001b[0mpreT_eff\u001b[0m\u001b[0;34m.\u001b[0m\u001b[0mcopy\u001b[0m\u001b[0;34m(\u001b[0m\u001b[0;34m)\u001b[0m\u001b[0;34m\u001b[0m\u001b[0;34m\u001b[0m\u001b[0m\n\u001b[0;32m----> 2\u001b[0;31m \u001b[0mseq_eff\u001b[0m\u001b[0;34m[\u001b[0m\u001b[0;34m'm_err'\u001b[0m\u001b[0;34m]\u001b[0m \u001b[0;34m=\u001b[0m \u001b[0mpreT_eff\u001b[0m\u001b[0;34m.\u001b[0m\u001b[0mm_err\u001b[0m \u001b[0;34m-\u001b[0m \u001b[0mposT_eff\u001b[0m\u001b[0;34m.\u001b[0m\u001b[0mm_err\u001b[0m\u001b[0;34m\u001b[0m\u001b[0;34m\u001b[0m\u001b[0m\n\u001b[0m",
      "\u001b[0;31mNameError\u001b[0m: name 'posT_eff' is not defined"
     ]
    }
   ],
   "source": [
    "seq_eff = preT_eff.copy()\n",
    "seq_eff['m_err'] = preT_eff.m_err - posT_eff.m_err"
   ]
  },
  {
   "cell_type": "code",
   "execution_count": 76,
   "metadata": {},
   "outputs": [
    {
     "ename": "NameError",
     "evalue": "name 'seq_eff' is not defined",
     "output_type": "error",
     "traceback": [
      "\u001b[0;31m---------------------------------------------------------------------------\u001b[0m",
      "\u001b[0;31mNameError\u001b[0m                                 Traceback (most recent call last)",
      "\u001b[0;32m/var/folders/r9/cr9dfv5j4v9ghnsqpsk0syy40000gn/T/ipykernel_7722/3283160763.py\u001b[0m in \u001b[0;36m<module>\u001b[0;34m\u001b[0m\n\u001b[1;32m      1\u001b[0m \u001b[0mfig\u001b[0m\u001b[0;34m,\u001b[0m \u001b[0maxes\u001b[0m \u001b[0;34m=\u001b[0m \u001b[0mplt\u001b[0m\u001b[0;34m.\u001b[0m\u001b[0msubplots\u001b[0m\u001b[0;34m(\u001b[0m\u001b[0;36m1\u001b[0m\u001b[0;34m,\u001b[0m\u001b[0;36m1\u001b[0m\u001b[0;34m,\u001b[0m \u001b[0mfigsize\u001b[0m\u001b[0;34m=\u001b[0m\u001b[0;34m(\u001b[0m\u001b[0;36m5\u001b[0m\u001b[0;34m,\u001b[0m\u001b[0;36m6\u001b[0m\u001b[0;34m)\u001b[0m\u001b[0;34m)\u001b[0m\u001b[0;34m\u001b[0m\u001b[0;34m\u001b[0m\u001b[0m\n\u001b[0;32m----> 2\u001b[0;31m \u001b[0max\u001b[0m \u001b[0;34m=\u001b[0m \u001b[0msns\u001b[0m\u001b[0;34m.\u001b[0m\u001b[0mlineplot\u001b[0m\u001b[0;34m(\u001b[0m\u001b[0mdata\u001b[0m\u001b[0;34m=\u001b[0m\u001b[0mseq_eff\u001b[0m\u001b[0;34m,\u001b[0m \u001b[0mx\u001b[0m\u001b[0;34m=\u001b[0m\u001b[0;34m\"x\"\u001b[0m\u001b[0;34m,\u001b[0m \u001b[0my\u001b[0m\u001b[0;34m=\u001b[0m\u001b[0;34m\"m_err\"\u001b[0m\u001b[0;34m,\u001b[0m \u001b[0mhue\u001b[0m \u001b[0;34m=\u001b[0m \u001b[0;34m'delay'\u001b[0m\u001b[0;34m,\u001b[0m \u001b[0mlinewidth\u001b[0m \u001b[0;34m=\u001b[0m \u001b[0;36m2\u001b[0m\u001b[0;34m,\u001b[0m \u001b[0mpalette\u001b[0m \u001b[0;34m=\u001b[0m \u001b[0;34m[\u001b[0m\u001b[0;34m'red'\u001b[0m\u001b[0;34m,\u001b[0m \u001b[0;34m'blue'\u001b[0m\u001b[0;34m]\u001b[0m\u001b[0;34m)\u001b[0m\u001b[0;34m\u001b[0m\u001b[0;34m\u001b[0m\u001b[0m\n\u001b[0m\u001b[1;32m      3\u001b[0m \u001b[0;31m#sns.scatterplot(data=seq_eff, x=\"x\", y=\"m_err\", hue = 'delay', ax = ax, palette = ['red', 'blue'], alpha = 0.5, s = 1, legend = False)\u001b[0m\u001b[0;34m\u001b[0m\u001b[0;34m\u001b[0m\u001b[0;34m\u001b[0m\u001b[0m\n\u001b[1;32m      4\u001b[0m \u001b[0max\u001b[0m\u001b[0;34m.\u001b[0m\u001b[0maxvline\u001b[0m\u001b[0;34m(\u001b[0m\u001b[0;36m0\u001b[0m\u001b[0;34m,\u001b[0m \u001b[0mls\u001b[0m\u001b[0;34m=\u001b[0m\u001b[0;34m'--'\u001b[0m\u001b[0;34m,\u001b[0m \u001b[0mcolor\u001b[0m\u001b[0;34m=\u001b[0m \u001b[0;34m'black'\u001b[0m\u001b[0;34m,\u001b[0m \u001b[0malpha\u001b[0m\u001b[0;34m=\u001b[0m\u001b[0;36m0.3\u001b[0m\u001b[0;34m)\u001b[0m\u001b[0;34m\u001b[0m\u001b[0;34m\u001b[0m\u001b[0m\n\u001b[1;32m      5\u001b[0m \u001b[0max\u001b[0m\u001b[0;34m.\u001b[0m\u001b[0maxvline\u001b[0m\u001b[0;34m(\u001b[0m\u001b[0;34m-\u001b[0m\u001b[0;36m90\u001b[0m\u001b[0;34m,\u001b[0m \u001b[0mls\u001b[0m\u001b[0;34m=\u001b[0m\u001b[0;34m'--'\u001b[0m\u001b[0;34m,\u001b[0m \u001b[0mcolor\u001b[0m\u001b[0;34m=\u001b[0m \u001b[0;34m'black'\u001b[0m\u001b[0;34m,\u001b[0m \u001b[0malpha\u001b[0m\u001b[0;34m=\u001b[0m\u001b[0;36m0.3\u001b[0m\u001b[0;34m)\u001b[0m\u001b[0;34m\u001b[0m\u001b[0;34m\u001b[0m\u001b[0m\n",
      "\u001b[0;31mNameError\u001b[0m: name 'seq_eff' is not defined"
     ]
    },
    {
     "data": {
      "image/png": "[encoded data removed]",
      "text/plain": [
       "<Figure size 500x600 with 1 Axes>"
      ]
     },
     "metadata": {},
     "output_type": "display_data"
    }
   ],
   "source": [
    "fig, axes = plt.subplots(1,1, figsize=(5,6))\n",
    "ax = sns.lineplot(data=seq_eff, x=\"x\", y=\"m_err\", hue = 'delay', linewidth = 2, palette = ['red', 'blue'])\n",
    "#sns.scatterplot(data=seq_eff, x=\"x\", y=\"m_err\", hue = 'delay', ax = ax, palette = ['red', 'blue'], alpha = 0.5, s = 1, legend = False)\n",
    "ax.axvline(0, ls='--', color= 'black', alpha=0.3)\n",
    "ax.axvline(-90, ls='--', color= 'black', alpha=0.3)\n",
    "ax.axvline(90, ls='--', color= 'black', alpha=0.3)\n",
    "ax.axhline(0, ls='--', color= 'black', alpha=0.3)\n",
    "\n",
    "ax.set_xlabel(r'$\\theta_{n-1}^S - \\theta_n^S$ ($^o$)', fontdict={'size':25}, labelpad=5); #plt.xticks(np.arange(-180, 181, step=90), fontsize = 15)\n",
    "ax.set_ylabel(r'$error$ ($^o$)', fontdict={'size':25}, labelpad=5); plt.xticks(np.arange(-180, 181, step=90), fontsize = 15)\n",
    "plt.ylim([-3,3]); plt.yticks(np.arange(-2, 3, step=2), fontsize = 15)"
   ]
  },
  {
   "cell_type": "code",
   "execution_count": 86,
   "metadata": {},
   "outputs": [
    {
     "ename": "KeyError",
     "evalue": "'contrast'",
     "output_type": "error",
     "traceback": [
      "\u001b[0;31m---------------------------------------------------------------------------\u001b[0m",
      "\u001b[0;31mKeyError\u001b[0m                                  Traceback (most recent call last)",
      "\u001b[0;32m/var/folders/r9/cr9dfv5j4v9ghnsqpsk0syy40000gn/T/ipykernel_7722/2294309766.py\u001b[0m in \u001b[0;36m<module>\u001b[0;34m\u001b[0m\n\u001b[0;32m----> 1\u001b[0;31m \u001b[0mtest\u001b[0m \u001b[0;34m=\u001b[0m \u001b[0mdf\u001b[0m\u001b[0;34m.\u001b[0m\u001b[0mgroupby\u001b[0m\u001b[0;34m(\u001b[0m\u001b[0;34m[\u001b[0m\u001b[0;34m'contrast'\u001b[0m\u001b[0;34m,\u001b[0m \u001b[0;34m'prior'\u001b[0m\u001b[0;34m]\u001b[0m\u001b[0;34m)\u001b[0m\u001b[0;34m.\u001b[0m\u001b[0mapply\u001b[0m\u001b[0;34m(\u001b[0m\u001b[0mcompute_serial\u001b[0m\u001b[0;34m,\u001b[0m\u001b[0;34m'choiceAngle'\u001b[0m\u001b[0;34m,\u001b[0m\u001b[0;34m'T_Angle'\u001b[0m\u001b[0;34m,\u001b[0m\u001b[0;34m'prior'\u001b[0m\u001b[0;34m,\u001b[0m\u001b[0mbins\u001b[0m\u001b[0;34m,\u001b[0m\u001b[0mflip\u001b[0m\u001b[0;34m=\u001b[0m\u001b[0;32mNone\u001b[0m\u001b[0;34m,\u001b[0m \u001b[0mrm_bias\u001b[0m \u001b[0;34m=\u001b[0m \u001b[0;32mFalse\u001b[0m\u001b[0;34m,\u001b[0m \u001b[0mref_report\u001b[0m\u001b[0;34m=\u001b[0m\u001b[0;32mFalse\u001b[0m\u001b[0;34m)\u001b[0m\u001b[0;34m\u001b[0m\u001b[0;34m\u001b[0m\u001b[0m\n\u001b[0m\u001b[1;32m      2\u001b[0m \u001b[0mtest\u001b[0m\u001b[0;34m.\u001b[0m\u001b[0mreset_index\u001b[0m\u001b[0;34m(\u001b[0m\u001b[0minplace\u001b[0m\u001b[0;34m=\u001b[0m\u001b[0;32mTrue\u001b[0m\u001b[0;34m)\u001b[0m\u001b[0;34m\u001b[0m\u001b[0;34m\u001b[0m\u001b[0m\n\u001b[1;32m      3\u001b[0m \u001b[0mtest\u001b[0m\u001b[0;34m[\u001b[0m\u001b[0;34m'abs_err'\u001b[0m\u001b[0;34m]\u001b[0m \u001b[0;34m=\u001b[0m \u001b[0mabs\u001b[0m\u001b[0;34m(\u001b[0m\u001b[0mtest\u001b[0m\u001b[0;34m.\u001b[0m\u001b[0mm_err\u001b[0m\u001b[0;34m)\u001b[0m\u001b[0;34m\u001b[0m\u001b[0;34m\u001b[0m\u001b[0m\n\u001b[1;32m      4\u001b[0m \u001b[0mtest\u001b[0m\u001b[0;34m.\u001b[0m\u001b[0mx\u001b[0m \u001b[0;34m=\u001b[0m \u001b[0mrad2deg\u001b[0m\u001b[0;34m(\u001b[0m\u001b[0mtest\u001b[0m\u001b[0;34m.\u001b[0m\u001b[0mx\u001b[0m\u001b[0;34m+\u001b[0m\u001b[0mbins\u001b[0m\u001b[0;34m[\u001b[0m\u001b[0;34m'step_int'\u001b[0m\u001b[0;34m]\u001b[0m\u001b[0;34m/\u001b[0m\u001b[0;36m2\u001b[0m\u001b[0;34m)\u001b[0m\u001b[0;34m\u001b[0m\u001b[0;34m\u001b[0m\u001b[0m\n\u001b[1;32m      5\u001b[0m \u001b[0;34m\u001b[0m\u001b[0m\n",
      "\u001b[0;32m/opt/anaconda3/envs/wm_exp/lib/python3.8/site-packages/pandas/core/frame.py\u001b[0m in \u001b[0;36mgroupby\u001b[0;34m(self, by, axis, level, as_index, sort, group_keys, squeeze, observed, dropna)\u001b[0m\n\u001b[1;32m   7629\u001b[0m         \u001b[0;31m# error: Argument \"squeeze\" to \"DataFrameGroupBy\" has incompatible type\u001b[0m\u001b[0;34m\u001b[0m\u001b[0;34m\u001b[0m\u001b[0;34m\u001b[0m\u001b[0m\n\u001b[1;32m   7630\u001b[0m         \u001b[0;31m# \"Union[bool, NoDefault]\"; expected \"bool\"\u001b[0m\u001b[0;34m\u001b[0m\u001b[0;34m\u001b[0m\u001b[0;34m\u001b[0m\u001b[0m\n\u001b[0;32m-> 7631\u001b[0;31m         return DataFrameGroupBy(\n\u001b[0m\u001b[1;32m   7632\u001b[0m             \u001b[0mobj\u001b[0m\u001b[0;34m=\u001b[0m\u001b[0mself\u001b[0m\u001b[0;34m,\u001b[0m\u001b[0;34m\u001b[0m\u001b[0;34m\u001b[0m\u001b[0m\n\u001b[1;32m   7633\u001b[0m             \u001b[0mkeys\u001b[0m\u001b[0;34m=\u001b[0m\u001b[0mby\u001b[0m\u001b[0;34m,\u001b[0m\u001b[0;34m\u001b[0m\u001b[0;34m\u001b[0m\u001b[0m\n",
      "\u001b[0;32m/opt/anaconda3/envs/wm_exp/lib/python3.8/site-packages/pandas/core/groupby/groupby.py\u001b[0m in \u001b[0;36m__init__\u001b[0;34m(self, obj, keys, axis, level, grouper, exclusions, selection, as_index, sort, group_keys, squeeze, observed, mutated, dropna)\u001b[0m\n\u001b[1;32m    887\u001b[0m             \u001b[0;32mfrom\u001b[0m \u001b[0mpandas\u001b[0m\u001b[0;34m.\u001b[0m\u001b[0mcore\u001b[0m\u001b[0;34m.\u001b[0m\u001b[0mgroupby\u001b[0m\u001b[0;34m.\u001b[0m\u001b[0mgrouper\u001b[0m \u001b[0;32mimport\u001b[0m \u001b[0mget_grouper\u001b[0m\u001b[0;34m\u001b[0m\u001b[0;34m\u001b[0m\u001b[0m\n\u001b[1;32m    888\u001b[0m \u001b[0;34m\u001b[0m\u001b[0m\n\u001b[0;32m--> 889\u001b[0;31m             grouper, exclusions, obj = get_grouper(\n\u001b[0m\u001b[1;32m    890\u001b[0m                 \u001b[0mobj\u001b[0m\u001b[0;34m,\u001b[0m\u001b[0;34m\u001b[0m\u001b[0;34m\u001b[0m\u001b[0m\n\u001b[1;32m    891\u001b[0m                 \u001b[0mkeys\u001b[0m\u001b[0;34m,\u001b[0m\u001b[0;34m\u001b[0m\u001b[0;34m\u001b[0m\u001b[0m\n",
      "\u001b[0;32m/opt/anaconda3/envs/wm_exp/lib/python3.8/site-packages/pandas/core/groupby/grouper.py\u001b[0m in \u001b[0;36mget_grouper\u001b[0;34m(obj, key, axis, level, sort, observed, mutated, validate, dropna)\u001b[0m\n\u001b[1;32m    860\u001b[0m                 \u001b[0min_axis\u001b[0m\u001b[0;34m,\u001b[0m \u001b[0mlevel\u001b[0m\u001b[0;34m,\u001b[0m \u001b[0mgpr\u001b[0m \u001b[0;34m=\u001b[0m \u001b[0;32mFalse\u001b[0m\u001b[0;34m,\u001b[0m \u001b[0mgpr\u001b[0m\u001b[0;34m,\u001b[0m \u001b[0;32mNone\u001b[0m\u001b[0;34m\u001b[0m\u001b[0;34m\u001b[0m\u001b[0m\n\u001b[1;32m    861\u001b[0m             \u001b[0;32melse\u001b[0m\u001b[0;34m:\u001b[0m\u001b[0;34m\u001b[0m\u001b[0;34m\u001b[0m\u001b[0m\n\u001b[0;32m--> 862\u001b[0;31m                 \u001b[0;32mraise\u001b[0m \u001b[0mKeyError\u001b[0m\u001b[0;34m(\u001b[0m\u001b[0mgpr\u001b[0m\u001b[0;34m)\u001b[0m\u001b[0;34m\u001b[0m\u001b[0;34m\u001b[0m\u001b[0m\n\u001b[0m\u001b[1;32m    863\u001b[0m         \u001b[0;32melif\u001b[0m \u001b[0misinstance\u001b[0m\u001b[0;34m(\u001b[0m\u001b[0mgpr\u001b[0m\u001b[0;34m,\u001b[0m \u001b[0mGrouper\u001b[0m\u001b[0;34m)\u001b[0m \u001b[0;32mand\u001b[0m \u001b[0mgpr\u001b[0m\u001b[0;34m.\u001b[0m\u001b[0mkey\u001b[0m \u001b[0;32mis\u001b[0m \u001b[0;32mnot\u001b[0m \u001b[0;32mNone\u001b[0m\u001b[0;34m:\u001b[0m\u001b[0;34m\u001b[0m\u001b[0;34m\u001b[0m\u001b[0m\n\u001b[1;32m    864\u001b[0m             \u001b[0;31m# Add key to exclusions\u001b[0m\u001b[0;34m\u001b[0m\u001b[0;34m\u001b[0m\u001b[0;34m\u001b[0m\u001b[0m\n",
      "\u001b[0;31mKeyError\u001b[0m: 'contrast'"
     ]
    }
   ],
   "source": [
    "test = df.groupby(['contrast', 'prior']).apply(compute_serial,'choiceAngle','T_Angle','prior',bins,flip=None, rm_bias = False, ref_report=False)\n",
    "test.reset_index(inplace=True)\n",
    "test['abs_err'] = abs(test.m_err)\n",
    "test.x = rad2deg(test.x+bins['step_int']/2)\n",
    "\n",
    "# grouping 'subj' and 'prior' and giving an output table of 'choiceAngle', 'T_Angle', and 'prior' and having the output be a new dataframe called 'test'\n",
    "# add a new column in  the test dataframe called 'abs_err', which is the absolute error of the 'm_err' column in the test dataframe\n",
    "# converts the x values in the test dataframe from radians to degrees"
   ]
  },
  {
   "cell_type": "code",
   "execution_count": 63,
   "metadata": {},
   "outputs": [
    {
     "ename": "NameError",
     "evalue": "name 'xxx' is not defined",
     "output_type": "error",
     "traceback": [
      "\u001b[0;31m---------------------------------------------------------------------------\u001b[0m",
      "\u001b[0;31mNameError\u001b[0m                                 Traceback (most recent call last)",
      "\u001b[0;32m/var/folders/r9/cr9dfv5j4v9ghnsqpsk0syy40000gn/T/ipykernel_7722/3852582875.py\u001b[0m in \u001b[0;36m<module>\u001b[0;34m\u001b[0m\n\u001b[1;32m     17\u001b[0m         \u001b[0md\u001b[0m\u001b[0;34m=\u001b[0m\u001b[0mabs\u001b[0m\u001b[0;34m(\u001b[0m\u001b[0md\u001b[0m\u001b[0;34m)\u001b[0m\u001b[0;34m\u001b[0m\u001b[0;34m\u001b[0m\u001b[0m\n\u001b[1;32m     18\u001b[0m \u001b[0mpoints_idx\u001b[0m\u001b[0;34m=\u001b[0m\u001b[0;34m[\u001b[0m\u001b[0;34m]\u001b[0m\u001b[0;34m\u001b[0m\u001b[0;34m\u001b[0m\u001b[0m\n\u001b[0;32m---> 19\u001b[0;31m \u001b[0;32mfor\u001b[0m \u001b[0mt\u001b[0m \u001b[0;32min\u001b[0m \u001b[0mxxx\u001b[0m\u001b[0;34m:\u001b[0m\u001b[0;34m\u001b[0m\u001b[0;34m\u001b[0m\u001b[0m\n\u001b[0m\u001b[1;32m     20\u001b[0m         \u001b[0midx\u001b[0m\u001b[0;34m=\u001b[0m\u001b[0;34m(\u001b[0m\u001b[0md\u001b[0m\u001b[0;34m>=\u001b[0m\u001b[0mt\u001b[0m\u001b[0;34m)\u001b[0m\u001b[0;34m&\u001b[0m\u001b[0;34m(\u001b[0m\u001b[0md\u001b[0m\u001b[0;34m<=\u001b[0m\u001b[0mt\u001b[0m\u001b[0;34m+\u001b[0m\u001b[0mw2\u001b[0m\u001b[0;34m)\u001b[0m\u001b[0;34m\u001b[0m\u001b[0;34m\u001b[0m\u001b[0m\n\u001b[1;32m     21\u001b[0m         \u001b[0mm_err\u001b[0m\u001b[0;34m.\u001b[0m\u001b[0mappend\u001b[0m\u001b[0;34m(\u001b[0m\u001b[0mcirc_mean\u001b[0m\u001b[0;34m(\u001b[0m\u001b[0merr\u001b[0m\u001b[0;34m[\u001b[0m\u001b[0midx\u001b[0m\u001b[0;34m]\u001b[0m\u001b[0;34m)\u001b[0m\u001b[0;34m)\u001b[0m\u001b[0;34m\u001b[0m\u001b[0;34m\u001b[0m\u001b[0m\n",
      "\u001b[0;31mNameError\u001b[0m: name 'xxx' is not defined"
     ]
    }
   ],
   "source": [
    "err = circdist(report,target)\n",
    "d = circdist(ref_target,target) #a reference orientation - current cue (e.g. previous, 0 or prior)\n",
    "err = radians(df.err)\n",
    "d = radians(df.preDiff)\n",
    "# remove outliers\n",
    "idx_clean=(abs(err)<3*std((err))) & (abs(err)<1)\n",
    "#idx_clean = idx_clean & (report[1:] !=0)\n",
    "\n",
    "err=err[idx_clean]\n",
    "d=d[idx_clean]\n",
    "m_err=[]\n",
    "std_err=[]\n",
    "count=[]\n",
    "cis=[]\n",
    "if flip:\n",
    "\terr = sign(d)*err\n",
    "\td=abs(d)\n",
    "points_idx=[]\n",
    "for t in xxx:\n",
    "\tidx=(d>=t)&(d<=t+w2)\n",
    "\tm_err.append(circ_mean(err[idx]))\n",
    "\tstd_err.append(circstd(err[idx])/sqrt(sum(idx)))\n",
    "\tcount.append(sum(idx))\n",
    "\tpoints_idx.append(idx)\n"
   ]
  },
  {
   "cell_type": "code",
   "execution_count": 67,
   "metadata": {},
   "outputs": [
    {
     "ename": "NameError",
     "evalue": "name 'xxx' is not defined",
     "output_type": "error",
     "traceback": [
      "\u001b[0;31m---------------------------------------------------------------------------\u001b[0m",
      "\u001b[0;31mNameError\u001b[0m                                 Traceback (most recent call last)",
      "\u001b[0;32m/var/folders/r9/cr9dfv5j4v9ghnsqpsk0syy40000gn/T/ipykernel_35999/2882889370.py\u001b[0m in \u001b[0;36m<module>\u001b[0;34m\u001b[0m\n\u001b[0;32m----> 1\u001b[0;31m \u001b[0mplt\u001b[0m\u001b[0;34m.\u001b[0m\u001b[0mplot\u001b[0m\u001b[0;34m(\u001b[0m\u001b[0mnp\u001b[0m\u001b[0;34m.\u001b[0m\u001b[0mrad2deg\u001b[0m\u001b[0;34m(\u001b[0m\u001b[0mxxx\u001b[0m\u001b[0;34m+\u001b[0m\u001b[0mw2\u001b[0m\u001b[0;34m/\u001b[0m\u001b[0;36m2\u001b[0m\u001b[0;34m)\u001b[0m\u001b[0;34m,\u001b[0m\u001b[0mnp\u001b[0m\u001b[0;34m.\u001b[0m\u001b[0mrad2deg\u001b[0m\u001b[0;34m(\u001b[0m\u001b[0mm_err\u001b[0m\u001b[0;34m)\u001b[0m\u001b[0;34m)\u001b[0m\u001b[0;34m\u001b[0m\u001b[0;34m\u001b[0m\u001b[0m\n\u001b[0m\u001b[1;32m      2\u001b[0m \u001b[0;34m\u001b[0m\u001b[0m\n\u001b[1;32m      3\u001b[0m \u001b[0;31m# output would be plotting mean error in degrees\u001b[0m\u001b[0;34m\u001b[0m\u001b[0;34m\u001b[0m\u001b[0;34m\u001b[0m\u001b[0m\n",
      "\u001b[0;31mNameError\u001b[0m: name 'xxx' is not defined"
     ]
    }
   ],
   "source": [
    "plt.plot(np.rad2deg(xxx+w2/2),np.rad2deg(m_err))\n",
    "\n",
    "# output would be plotting mean error in degrees"
   ]
  },
  {
   "cell_type": "code",
   "execution_count": 68,
   "metadata": {},
   "outputs": [],
   "source": [
    "def circ_stats(dat,x,y): # this function was used to calculate the log linear regression between two vectors\n",
    "    x = circ_mean(np.deg2rad(dat[x]))\n",
    "    y = circ_mean(np.deg2rad(dat[y]))\n",
    "    #std_err = circstd(np.deg2rad(dat[y])) #/sqrt(len(dat[y]))\t 'std_err': std_err\n",
    "    out = pd.DataFrame({'x': x , 'y': y}, index=[0])\n",
    "    return out \n",
    "\n",
    "# calculate the circular mean of 'x' and 'y' in the output dataset of 'out'"
   ]
  },
  {
   "cell_type": "code",
   "execution_count": 69,
   "metadata": {},
   "outputs": [
    {
     "ename": "KeyError",
     "evalue": "'bin_Tangle'",
     "output_type": "error",
     "traceback": [
      "\u001b[0;31m---------------------------------------------------------------------------\u001b[0m",
      "\u001b[0;31mKeyError\u001b[0m                                  Traceback (most recent call last)",
      "\u001b[0;32m/var/folders/r9/cr9dfv5j4v9ghnsqpsk0syy40000gn/T/ipykernel_35999/2731101507.py\u001b[0m in \u001b[0;36m<module>\u001b[0;34m\u001b[0m\n\u001b[0;32m----> 1\u001b[0;31m \u001b[0mtest\u001b[0m \u001b[0;34m=\u001b[0m \u001b[0mdf\u001b[0m\u001b[0;34m.\u001b[0m\u001b[0mgroupby\u001b[0m\u001b[0;34m(\u001b[0m\u001b[0;34m[\u001b[0m\u001b[0;34m'subj'\u001b[0m\u001b[0;34m,\u001b[0m\u001b[0;34m'bin_Tangle'\u001b[0m\u001b[0;34m]\u001b[0m\u001b[0;34m)\u001b[0m\u001b[0;34m.\u001b[0m\u001b[0mapply\u001b[0m\u001b[0;34m(\u001b[0m\u001b[0mcirc_stats\u001b[0m\u001b[0;34m)\u001b[0m\u001b[0;34m\u001b[0m\u001b[0;34m\u001b[0m\u001b[0m\n\u001b[0m\u001b[1;32m      2\u001b[0m \u001b[0;34m\u001b[0m\u001b[0m\n\u001b[1;32m      3\u001b[0m \u001b[0;31m# for 'subj' and 'bin_Tangle' create an output table of 'test' and apply the circular statitics functin on them, adding the columns 'ref', 'pred', and 'std_err'\u001b[0m\u001b[0;34m\u001b[0m\u001b[0;34m\u001b[0m\u001b[0;34m\u001b[0m\u001b[0m\n",
      "\u001b[0;32m/opt/anaconda3/envs/wm_exp/lib/python3.8/site-packages/pandas/core/frame.py\u001b[0m in \u001b[0;36mgroupby\u001b[0;34m(self, by, axis, level, as_index, sort, group_keys, squeeze, observed, dropna)\u001b[0m\n\u001b[1;32m   7629\u001b[0m         \u001b[0;31m# error: Argument \"squeeze\" to \"DataFrameGroupBy\" has incompatible type\u001b[0m\u001b[0;34m\u001b[0m\u001b[0;34m\u001b[0m\u001b[0;34m\u001b[0m\u001b[0m\n\u001b[1;32m   7630\u001b[0m         \u001b[0;31m# \"Union[bool, NoDefault]\"; expected \"bool\"\u001b[0m\u001b[0;34m\u001b[0m\u001b[0;34m\u001b[0m\u001b[0;34m\u001b[0m\u001b[0m\n\u001b[0;32m-> 7631\u001b[0;31m         return DataFrameGroupBy(\n\u001b[0m\u001b[1;32m   7632\u001b[0m             \u001b[0mobj\u001b[0m\u001b[0;34m=\u001b[0m\u001b[0mself\u001b[0m\u001b[0;34m,\u001b[0m\u001b[0;34m\u001b[0m\u001b[0;34m\u001b[0m\u001b[0m\n\u001b[1;32m   7633\u001b[0m             \u001b[0mkeys\u001b[0m\u001b[0;34m=\u001b[0m\u001b[0mby\u001b[0m\u001b[0;34m,\u001b[0m\u001b[0;34m\u001b[0m\u001b[0;34m\u001b[0m\u001b[0m\n",
      "\u001b[0;32m/opt/anaconda3/envs/wm_exp/lib/python3.8/site-packages/pandas/core/groupby/groupby.py\u001b[0m in \u001b[0;36m__init__\u001b[0;34m(self, obj, keys, axis, level, grouper, exclusions, selection, as_index, sort, group_keys, squeeze, observed, mutated, dropna)\u001b[0m\n\u001b[1;32m    887\u001b[0m             \u001b[0;32mfrom\u001b[0m \u001b[0mpandas\u001b[0m\u001b[0;34m.\u001b[0m\u001b[0mcore\u001b[0m\u001b[0;34m.\u001b[0m\u001b[0mgroupby\u001b[0m\u001b[0;34m.\u001b[0m\u001b[0mgrouper\u001b[0m \u001b[0;32mimport\u001b[0m \u001b[0mget_grouper\u001b[0m\u001b[0;34m\u001b[0m\u001b[0;34m\u001b[0m\u001b[0m\n\u001b[1;32m    888\u001b[0m \u001b[0;34m\u001b[0m\u001b[0m\n\u001b[0;32m--> 889\u001b[0;31m             grouper, exclusions, obj = get_grouper(\n\u001b[0m\u001b[1;32m    890\u001b[0m                 \u001b[0mobj\u001b[0m\u001b[0;34m,\u001b[0m\u001b[0;34m\u001b[0m\u001b[0;34m\u001b[0m\u001b[0m\n\u001b[1;32m    891\u001b[0m                 \u001b[0mkeys\u001b[0m\u001b[0;34m,\u001b[0m\u001b[0;34m\u001b[0m\u001b[0;34m\u001b[0m\u001b[0m\n",
      "\u001b[0;32m/opt/anaconda3/envs/wm_exp/lib/python3.8/site-packages/pandas/core/groupby/grouper.py\u001b[0m in \u001b[0;36mget_grouper\u001b[0;34m(obj, key, axis, level, sort, observed, mutated, validate, dropna)\u001b[0m\n\u001b[1;32m    860\u001b[0m                 \u001b[0min_axis\u001b[0m\u001b[0;34m,\u001b[0m \u001b[0mlevel\u001b[0m\u001b[0;34m,\u001b[0m \u001b[0mgpr\u001b[0m \u001b[0;34m=\u001b[0m \u001b[0;32mFalse\u001b[0m\u001b[0;34m,\u001b[0m \u001b[0mgpr\u001b[0m\u001b[0;34m,\u001b[0m \u001b[0;32mNone\u001b[0m\u001b[0;34m\u001b[0m\u001b[0;34m\u001b[0m\u001b[0m\n\u001b[1;32m    861\u001b[0m             \u001b[0;32melse\u001b[0m\u001b[0;34m:\u001b[0m\u001b[0;34m\u001b[0m\u001b[0;34m\u001b[0m\u001b[0m\n\u001b[0;32m--> 862\u001b[0;31m                 \u001b[0;32mraise\u001b[0m \u001b[0mKeyError\u001b[0m\u001b[0;34m(\u001b[0m\u001b[0mgpr\u001b[0m\u001b[0;34m)\u001b[0m\u001b[0;34m\u001b[0m\u001b[0;34m\u001b[0m\u001b[0m\n\u001b[0m\u001b[1;32m    863\u001b[0m         \u001b[0;32melif\u001b[0m \u001b[0misinstance\u001b[0m\u001b[0;34m(\u001b[0m\u001b[0mgpr\u001b[0m\u001b[0;34m,\u001b[0m \u001b[0mGrouper\u001b[0m\u001b[0;34m)\u001b[0m \u001b[0;32mand\u001b[0m \u001b[0mgpr\u001b[0m\u001b[0;34m.\u001b[0m\u001b[0mkey\u001b[0m \u001b[0;32mis\u001b[0m \u001b[0;32mnot\u001b[0m \u001b[0;32mNone\u001b[0m\u001b[0;34m:\u001b[0m\u001b[0;34m\u001b[0m\u001b[0;34m\u001b[0m\u001b[0m\n\u001b[1;32m    864\u001b[0m             \u001b[0;31m# Add key to exclusions\u001b[0m\u001b[0;34m\u001b[0m\u001b[0;34m\u001b[0m\u001b[0;34m\u001b[0m\u001b[0m\n",
      "\u001b[0;31mKeyError\u001b[0m: 'bin_Tangle'"
     ]
    }
   ],
   "source": [
    "test = df.groupby(['subj','bin_Tangle']).apply(circ_stats)\n",
    "\n",
    "# for 'subj' and 'bin_Tangle' create an output table of 'test' and apply the circular statitics functin on them, adding the columns 'ref', 'pred', and 'std_err'"
   ]
  },
  {
   "cell_type": "code",
   "execution_count": 51,
   "metadata": {
    "ExecuteTime": {
     "end_time": "2021-08-10T19:48:10.189073Z",
     "start_time": "2021-08-10T19:48:10.181242Z"
    }
   },
   "outputs": [],
   "source": [
    "#%% PARAMETERS\n",
    "w1=pi/50\n",
    "w2=pi/2\n",
    "xxx=arange(-pi,pi-w2+w1,w1)\n",
    "flip = False\n",
    "rm_bias =True"
   ]
  },
  {
   "cell_type": "markdown",
   "metadata": {},
   "source": [
    "1. Calcula valores de error en funcion de trial anterior para cada triangular\n",
    "2. Calcula valores en funcion del prior"
   ]
  },
  {
   "cell_type": "code",
   "execution_count": 50,
   "metadata": {},
   "outputs": [
    {
     "name": "stdout",
     "output_type": "stream",
     "text": [
      "0.0\n"
     ]
    },
    {
     "name": "stderr",
     "output_type": "stream",
     "text": [
      "/var/folders/r9/cr9dfv5j4v9ghnsqpsk0syy40000gn/T/ipykernel_15930/378475445.py:4: SettingWithCopyWarning: \n",
      "A value is trying to be set on a copy of a slice from a DataFrame.\n",
      "Try using .loc[row_indexer,col_indexer] = value instead\n",
      "\n",
      "See the caveats in the documentation: https://pandas.pydata.org/pandas-docs/stable/user_guide/indexing.html#returning-a-view-versus-a-copy\n",
      "  dat_s['preT'] = dat_s['T_Angle'].shift(1)\n"
     ]
    }
   ],
   "source": [
    "prior = priors[0]\n",
    "print(prior)\n",
    "dat_s = df[(df['subj'] == 'S01') & (df['prior'] == prior)]\n",
    "dat_s['preT'] = dat_s['T_Angle'].shift(1)\n",
    "dat_s.reset_index(drop=True, inplace=True)\n",
    "\n",
    "# make prior = 0\n",
    "# create new dataframe called dat_s, where it gets the rows from 'df' where 'subj' is S01, and where 'prior' is 'prior', which is 0\n",
    "# add a new clumn to dat_s called 'preT', which cocntans the values of 'T_Angle' shifted by 1 "
   ]
  },
  {
   "cell_type": "code",
   "execution_count": 59,
   "metadata": {},
   "outputs": [
    {
     "ename": "IndexError",
     "evalue": "arrays used as indices must be of integer (or boolean) type",
     "output_type": "error",
     "traceback": [
      "\u001b[0;31m---------------------------------------------------------------------------\u001b[0m",
      "\u001b[0;31mIndexError\u001b[0m                                Traceback (most recent call last)",
      "\u001b[0;32m/var/folders/r9/cr9dfv5j4v9ghnsqpsk0syy40000gn/T/ipykernel_15930/2516221712.py\u001b[0m in \u001b[0;36m<module>\u001b[0;34m\u001b[0m\n\u001b[0;32m----> 1\u001b[0;31m \u001b[0merr\u001b[0m\u001b[0;34m,\u001b[0m\u001b[0md\u001b[0m\u001b[0;34m,\u001b[0m\u001b[0mm_err\u001b[0m\u001b[0;34m,\u001b[0m\u001b[0mstd_err\u001b[0m\u001b[0;34m,\u001b[0m\u001b[0mcount\u001b[0m\u001b[0;34m,\u001b[0m\u001b[0mpoints_idx\u001b[0m \u001b[0;34m=\u001b[0m \u001b[0mcompute_serial\u001b[0m\u001b[0;34m(\u001b[0m\u001b[0mR\u001b[0m\u001b[0;34m,\u001b[0m\u001b[0mT\u001b[0m\u001b[0;34m,\u001b[0m\u001b[0mREF\u001b[0m\u001b[0;34m,\u001b[0m\u001b[0mxxx\u001b[0m\u001b[0;34m,\u001b[0m\u001b[0mflip\u001b[0m\u001b[0;34m,\u001b[0m\u001b[0mrm_bias\u001b[0m\u001b[0;34m,\u001b[0m\u001b[0;32mFalse\u001b[0m\u001b[0;34m)\u001b[0m\u001b[0;34m\u001b[0m\u001b[0;34m\u001b[0m\u001b[0m\n\u001b[0m\u001b[1;32m      2\u001b[0m \u001b[0;34m\u001b[0m\u001b[0m\n\u001b[1;32m      3\u001b[0m \u001b[0;34m\u001b[0m\u001b[0m\n",
      "\u001b[0;32m/var/folders/r9/cr9dfv5j4v9ghnsqpsk0syy40000gn/T/ipykernel_15930/2620398712.py\u001b[0m in \u001b[0;36mcompute_serial\u001b[0;34m(x, report, target, ref_target, bins, flip, rm_bias, ref_report)\u001b[0m\n\u001b[1;32m      1\u001b[0m \u001b[0;32mdef\u001b[0m \u001b[0mcompute_serial\u001b[0m\u001b[0;34m(\u001b[0m\u001b[0mx\u001b[0m\u001b[0;34m,\u001b[0m \u001b[0mreport\u001b[0m\u001b[0;34m,\u001b[0m\u001b[0mtarget\u001b[0m\u001b[0;34m,\u001b[0m\u001b[0mref_target\u001b[0m\u001b[0;34m,\u001b[0m\u001b[0mbins\u001b[0m\u001b[0;34m,\u001b[0m\u001b[0mflip\u001b[0m\u001b[0;34m=\u001b[0m\u001b[0;32mNone\u001b[0m\u001b[0;34m,\u001b[0m \u001b[0mrm_bias\u001b[0m \u001b[0;34m=\u001b[0m \u001b[0;32mFalse\u001b[0m\u001b[0;34m,\u001b[0m \u001b[0mref_report\u001b[0m\u001b[0;34m=\u001b[0m\u001b[0;32mFalse\u001b[0m\u001b[0;34m)\u001b[0m\u001b[0;34m:\u001b[0m\u001b[0;34m\u001b[0m\u001b[0;34m\u001b[0m\u001b[0m\n\u001b[0;32m----> 2\u001b[0;31m         \u001b[0mreport\u001b[0m \u001b[0;34m=\u001b[0m \u001b[0mradians\u001b[0m\u001b[0;34m(\u001b[0m\u001b[0mx\u001b[0m\u001b[0;34m[\u001b[0m\u001b[0mreport\u001b[0m\u001b[0;34m]\u001b[0m\u001b[0;34m)\u001b[0m\u001b[0;34m\u001b[0m\u001b[0;34m\u001b[0m\u001b[0m\n\u001b[0m\u001b[1;32m      3\u001b[0m         \u001b[0mtarget\u001b[0m \u001b[0;34m=\u001b[0m \u001b[0mradians\u001b[0m\u001b[0;34m(\u001b[0m\u001b[0mx\u001b[0m\u001b[0;34m[\u001b[0m\u001b[0mtarget\u001b[0m\u001b[0;34m]\u001b[0m\u001b[0;34m)\u001b[0m\u001b[0;34m\u001b[0m\u001b[0;34m\u001b[0m\u001b[0m\n\u001b[1;32m      4\u001b[0m         \u001b[0;32mif\u001b[0m \u001b[0mref_target\u001b[0m \u001b[0;34m==\u001b[0m \u001b[0;34m'null'\u001b[0m\u001b[0;34m:\u001b[0m\u001b[0;34m\u001b[0m\u001b[0;34m\u001b[0m\u001b[0m\n\u001b[1;32m      5\u001b[0m                 \u001b[0mref_target\u001b[0m \u001b[0;34m=\u001b[0m \u001b[0mzeros\u001b[0m\u001b[0;34m(\u001b[0m\u001b[0mlen\u001b[0m\u001b[0;34m(\u001b[0m\u001b[0mtarget\u001b[0m\u001b[0;34m)\u001b[0m\u001b[0;34m)\u001b[0m\u001b[0;34m\u001b[0m\u001b[0;34m\u001b[0m\u001b[0m\n",
      "\u001b[0;31mIndexError\u001b[0m: arrays used as indices must be of integer (or boolean) type"
     ]
    }
   ],
   "source": [
    "err,d,m_err,std_err,count,points_idx = compute_serial(R,T,REF,xxx,flip,rm_bias,False)\n",
    "\n",
    "\n"
   ]
  },
  {
   "cell_type": "code",
   "execution_count": 60,
   "metadata": {},
   "outputs": [
    {
     "ename": "IndexError",
     "evalue": "arrays used as indices must be of integer (or boolean) type",
     "output_type": "error",
     "traceback": [
      "\u001b[0;31m---------------------------------------------------------------------------\u001b[0m",
      "\u001b[0;31mIndexError\u001b[0m                                Traceback (most recent call last)",
      "\u001b[0;32m/var/folders/r9/cr9dfv5j4v9ghnsqpsk0syy40000gn/T/ipykernel_15930/2231966222.py\u001b[0m in \u001b[0;36m<module>\u001b[0;34m\u001b[0m\n\u001b[1;32m     15\u001b[0m \u001b[0;31m#REF = np.zeros(np.shape(R))\u001b[0m\u001b[0;34m\u001b[0m\u001b[0;34m\u001b[0m\u001b[0;34m\u001b[0m\u001b[0m\n\u001b[1;32m     16\u001b[0m \u001b[0;34m\u001b[0m\u001b[0m\n\u001b[0;32m---> 17\u001b[0;31m \u001b[0merr\u001b[0m\u001b[0;34m,\u001b[0m\u001b[0md\u001b[0m\u001b[0;34m,\u001b[0m\u001b[0mm_err\u001b[0m\u001b[0;34m,\u001b[0m\u001b[0mstd_err\u001b[0m\u001b[0;34m,\u001b[0m\u001b[0mcount\u001b[0m\u001b[0;34m,\u001b[0m\u001b[0mpoints_idx\u001b[0m \u001b[0;34m=\u001b[0m \u001b[0mcompute_serial\u001b[0m\u001b[0;34m(\u001b[0m\u001b[0mR\u001b[0m\u001b[0;34m,\u001b[0m\u001b[0mT\u001b[0m\u001b[0;34m,\u001b[0m\u001b[0mREF\u001b[0m\u001b[0;34m,\u001b[0m\u001b[0mxxx\u001b[0m\u001b[0;34m,\u001b[0m\u001b[0mflip\u001b[0m\u001b[0;34m,\u001b[0m\u001b[0mrm_bias\u001b[0m\u001b[0;34m,\u001b[0m\u001b[0;32mFalse\u001b[0m\u001b[0;34m)\u001b[0m\u001b[0;34m\u001b[0m\u001b[0;34m\u001b[0m\u001b[0m\n\u001b[0m\u001b[1;32m     18\u001b[0m \u001b[0;34m\u001b[0m\u001b[0m\n\u001b[1;32m     19\u001b[0m \u001b[0;34m\u001b[0m\u001b[0m\n",
      "\u001b[0;32m/var/folders/r9/cr9dfv5j4v9ghnsqpsk0syy40000gn/T/ipykernel_15930/2620398712.py\u001b[0m in \u001b[0;36mcompute_serial\u001b[0;34m(x, report, target, ref_target, bins, flip, rm_bias, ref_report)\u001b[0m\n\u001b[1;32m      1\u001b[0m \u001b[0;32mdef\u001b[0m \u001b[0mcompute_serial\u001b[0m\u001b[0;34m(\u001b[0m\u001b[0mx\u001b[0m\u001b[0;34m,\u001b[0m \u001b[0mreport\u001b[0m\u001b[0;34m,\u001b[0m\u001b[0mtarget\u001b[0m\u001b[0;34m,\u001b[0m\u001b[0mref_target\u001b[0m\u001b[0;34m,\u001b[0m\u001b[0mbins\u001b[0m\u001b[0;34m,\u001b[0m\u001b[0mflip\u001b[0m\u001b[0;34m=\u001b[0m\u001b[0;32mNone\u001b[0m\u001b[0;34m,\u001b[0m \u001b[0mrm_bias\u001b[0m \u001b[0;34m=\u001b[0m \u001b[0;32mFalse\u001b[0m\u001b[0;34m,\u001b[0m \u001b[0mref_report\u001b[0m\u001b[0;34m=\u001b[0m\u001b[0;32mFalse\u001b[0m\u001b[0;34m)\u001b[0m\u001b[0;34m:\u001b[0m\u001b[0;34m\u001b[0m\u001b[0;34m\u001b[0m\u001b[0m\n\u001b[0;32m----> 2\u001b[0;31m         \u001b[0mreport\u001b[0m \u001b[0;34m=\u001b[0m \u001b[0mradians\u001b[0m\u001b[0;34m(\u001b[0m\u001b[0mx\u001b[0m\u001b[0;34m[\u001b[0m\u001b[0mreport\u001b[0m\u001b[0;34m]\u001b[0m\u001b[0;34m)\u001b[0m\u001b[0;34m\u001b[0m\u001b[0;34m\u001b[0m\u001b[0m\n\u001b[0m\u001b[1;32m      3\u001b[0m         \u001b[0mtarget\u001b[0m \u001b[0;34m=\u001b[0m \u001b[0mradians\u001b[0m\u001b[0;34m(\u001b[0m\u001b[0mx\u001b[0m\u001b[0;34m[\u001b[0m\u001b[0mtarget\u001b[0m\u001b[0;34m]\u001b[0m\u001b[0;34m)\u001b[0m\u001b[0;34m\u001b[0m\u001b[0;34m\u001b[0m\u001b[0m\n\u001b[1;32m      4\u001b[0m         \u001b[0;32mif\u001b[0m \u001b[0mref_target\u001b[0m \u001b[0;34m==\u001b[0m \u001b[0;34m'null'\u001b[0m\u001b[0;34m:\u001b[0m\u001b[0;34m\u001b[0m\u001b[0;34m\u001b[0m\u001b[0m\n\u001b[1;32m      5\u001b[0m                 \u001b[0mref_target\u001b[0m \u001b[0;34m=\u001b[0m \u001b[0mzeros\u001b[0m\u001b[0;34m(\u001b[0m\u001b[0mlen\u001b[0m\u001b[0;34m(\u001b[0m\u001b[0mtarget\u001b[0m\u001b[0;34m)\u001b[0m\u001b[0;34m)\u001b[0m\u001b[0;34m\u001b[0m\u001b[0;34m\u001b[0m\u001b[0m\n",
      "\u001b[0;31mIndexError\u001b[0m: arrays used as indices must be of integer (or boolean) type"
     ]
    },
    {
     "data": {
      "text/plain": [
       "<Figure size 500x500 with 0 Axes>"
      ]
     },
     "metadata": {},
     "output_type": "display_data"
    }
   ],
   "source": [
    "dat = dat_s.copy()\n",
    "#sns.set_context('poster')\n",
    "T = radians(array(dat['T_Angle']))\n",
    "R = radians(array(dat['choiceAngle']))\n",
    "P = radians(array(dat['preT']))\n",
    "\n",
    "\n",
    "figure(figsize=[5,5])\n",
    "#plt.subplot(4,1,isubj+1)\n",
    "xxx=arange(-pi,pi-w2+w1,w1)\n",
    "flip = False\n",
    "\n",
    "#REF = P\n",
    "REF = radians(prior*np.ones(np.shape(R)))\n",
    "#REF = np.zeros(np.shape(R))\n",
    "\n",
    "err,d,m_err,std_err,count,points_idx = compute_serial(R,T,REF,xxx,flip,rm_bias,False)\n",
    "\n",
    "\n",
    "m_err=rad2deg(m_err)\n",
    "std_err=rad2deg(std_err)\n",
    "\n",
    "# Plot\n",
    "plot(rad2deg(xxx+w2/2),m_err,linewidth=1.5)\n",
    "fill_between(rad2deg(xxx+w2/2), m_err + std_err, m_err - std_err,alpha=.2)\n",
    "plot(rad2deg(xxx+w2/2),zeros(len(xxx)),\"k--\",linewidth=1)\n",
    "xlabel(r'$\\theta_{n-1}^S - \\theta_n^S$ ($^o$)', fontsize=14); ylabel(r'$\\theta_n^e$ ($^o$)', fontsize=14);\n",
    "sns.despine()\n",
    "\n",
    "\n",
    "adict={}\n",
    "adict['m_err']=m_err\n",
    "adict['std_err']=std_err\n",
    "adict['xxx']=xxx\n",
    "adict['w2']=w2"
   ]
  },
  {
   "cell_type": "code",
   "execution_count": 278,
   "metadata": {},
   "outputs": [
    {
     "ename": "IndexError",
     "evalue": "arrays used as indices must be of integer (or boolean) type",
     "output_type": "error",
     "traceback": [
      "\u001b[0;31m---------------------------------------------------------------------------\u001b[0m",
      "\u001b[0;31mIndexError\u001b[0m                                Traceback (most recent call last)",
      "\u001b[0;32m/var/folders/r9/cr9dfv5j4v9ghnsqpsk0syy40000gn/T/ipykernel_12190/3469470739.py\u001b[0m in \u001b[0;36m<module>\u001b[0;34m\u001b[0m\n\u001b[1;32m     15\u001b[0m \u001b[0;31m#REF = np.zeros(np.shape(R))\u001b[0m\u001b[0;34m\u001b[0m\u001b[0;34m\u001b[0m\u001b[0;34m\u001b[0m\u001b[0m\n\u001b[1;32m     16\u001b[0m \u001b[0;34m\u001b[0m\u001b[0m\n\u001b[0;32m---> 17\u001b[0;31m \u001b[0merr\u001b[0m\u001b[0;34m,\u001b[0m\u001b[0md\u001b[0m\u001b[0;34m,\u001b[0m\u001b[0mm_err\u001b[0m\u001b[0;34m,\u001b[0m\u001b[0mstd_err\u001b[0m\u001b[0;34m,\u001b[0m\u001b[0mcount\u001b[0m\u001b[0;34m,\u001b[0m\u001b[0mpoints_idx\u001b[0m \u001b[0;34m=\u001b[0m \u001b[0mcompute_serial\u001b[0m\u001b[0;34m(\u001b[0m\u001b[0mR\u001b[0m\u001b[0;34m,\u001b[0m\u001b[0mT\u001b[0m\u001b[0;34m,\u001b[0m\u001b[0mREF\u001b[0m\u001b[0;34m,\u001b[0m\u001b[0mxxx\u001b[0m\u001b[0;34m,\u001b[0m\u001b[0mflip\u001b[0m\u001b[0;34m,\u001b[0m\u001b[0mrm_bias\u001b[0m\u001b[0;34m,\u001b[0m\u001b[0;32mFalse\u001b[0m\u001b[0;34m)\u001b[0m\u001b[0;34m\u001b[0m\u001b[0;34m\u001b[0m\u001b[0m\n\u001b[0m\u001b[1;32m     18\u001b[0m \u001b[0;34m\u001b[0m\u001b[0m\n\u001b[1;32m     19\u001b[0m \u001b[0;34m\u001b[0m\u001b[0m\n",
      "\u001b[0;32m/var/folders/r9/cr9dfv5j4v9ghnsqpsk0syy40000gn/T/ipykernel_12190/2620398712.py\u001b[0m in \u001b[0;36mcompute_serial\u001b[0;34m(x, report, target, ref_target, bins, flip, rm_bias, ref_report)\u001b[0m\n\u001b[1;32m      1\u001b[0m \u001b[0;32mdef\u001b[0m \u001b[0mcompute_serial\u001b[0m\u001b[0;34m(\u001b[0m\u001b[0mx\u001b[0m\u001b[0;34m,\u001b[0m \u001b[0mreport\u001b[0m\u001b[0;34m,\u001b[0m\u001b[0mtarget\u001b[0m\u001b[0;34m,\u001b[0m\u001b[0mref_target\u001b[0m\u001b[0;34m,\u001b[0m\u001b[0mbins\u001b[0m\u001b[0;34m,\u001b[0m\u001b[0mflip\u001b[0m\u001b[0;34m=\u001b[0m\u001b[0;32mNone\u001b[0m\u001b[0;34m,\u001b[0m \u001b[0mrm_bias\u001b[0m \u001b[0;34m=\u001b[0m \u001b[0;32mFalse\u001b[0m\u001b[0;34m,\u001b[0m \u001b[0mref_report\u001b[0m\u001b[0;34m=\u001b[0m\u001b[0;32mFalse\u001b[0m\u001b[0;34m)\u001b[0m\u001b[0;34m:\u001b[0m\u001b[0;34m\u001b[0m\u001b[0;34m\u001b[0m\u001b[0m\n\u001b[0;32m----> 2\u001b[0;31m         \u001b[0mreport\u001b[0m \u001b[0;34m=\u001b[0m \u001b[0mradians\u001b[0m\u001b[0;34m(\u001b[0m\u001b[0mx\u001b[0m\u001b[0;34m[\u001b[0m\u001b[0mreport\u001b[0m\u001b[0;34m]\u001b[0m\u001b[0;34m)\u001b[0m\u001b[0;34m\u001b[0m\u001b[0;34m\u001b[0m\u001b[0m\n\u001b[0m\u001b[1;32m      3\u001b[0m         \u001b[0mtarget\u001b[0m \u001b[0;34m=\u001b[0m \u001b[0mradians\u001b[0m\u001b[0;34m(\u001b[0m\u001b[0mx\u001b[0m\u001b[0;34m[\u001b[0m\u001b[0mtarget\u001b[0m\u001b[0;34m]\u001b[0m\u001b[0;34m)\u001b[0m\u001b[0;34m\u001b[0m\u001b[0;34m\u001b[0m\u001b[0m\n\u001b[1;32m      4\u001b[0m         \u001b[0;32mif\u001b[0m \u001b[0mref_target\u001b[0m \u001b[0;34m==\u001b[0m \u001b[0;34m'null'\u001b[0m\u001b[0;34m:\u001b[0m\u001b[0;34m\u001b[0m\u001b[0;34m\u001b[0m\u001b[0m\n\u001b[1;32m      5\u001b[0m                 \u001b[0mref_target\u001b[0m \u001b[0;34m=\u001b[0m \u001b[0mzeros\u001b[0m\u001b[0;34m(\u001b[0m\u001b[0mlen\u001b[0m\u001b[0;34m(\u001b[0m\u001b[0mtarget\u001b[0m\u001b[0;34m)\u001b[0m\u001b[0;34m)\u001b[0m\u001b[0;34m\u001b[0m\u001b[0;34m\u001b[0m\u001b[0m\n",
      "\u001b[0;31mIndexError\u001b[0m: arrays used as indices must be of integer (or boolean) type"
     ]
    },
    {
     "data": {
      "text/plain": [
       "<Figure size 500x500 with 0 Axes>"
      ]
     },
     "metadata": {},
     "output_type": "display_data"
    }
   ],
   "source": [
    "dat = df.copy()\n",
    "#sns.set_context('poster')\n",
    "T = radians(array(dat['T_Angle']))\n",
    "R = radians(array(dat['choiceAngle']))\n",
    "P = radians(array(dat['preT']))\n",
    "\n",
    "\n",
    "figure(figsize=[5,5])\n",
    "#plt.subplot(4,1,isubj+1)\n",
    "xxx=arange(-pi,pi-w2+w1,w1)\n",
    "flip = False\n",
    "\n",
    "REF = P\n",
    "#REF = radians(prior*np.ones(np.shape(R)))\n",
    "#REF = np.zeros(np.shape(R))\n",
    "\n",
    "err,d,m_err,std_err,count,points_idx = compute_serial(R,T,REF,xxx,flip,rm_bias,False)\n",
    "\n",
    "\n",
    "m_err=rad2deg(m_err)\n",
    "std_err=rad2deg(std_err)\n",
    "\n",
    "# Plot\n",
    "plot(rad2deg(xxx+w2/2),m_err,linewidth=1.5)\n",
    "fill_between(rad2deg(xxx+w2/2), m_err + std_err, m_err - std_err,alpha=.2)\n",
    "plot(rad2deg(xxx+w2/2),zeros(len(xxx)),\"k--\",linewidth=1)\n",
    "xlabel(r'$\\theta_{n-1}^S - \\theta_n^S$ ($^o$)', fontsize=14); ylabel(r'$\\theta_n^e$ ($^o$)', fontsize=14);\n",
    "sns.despine()\n",
    "\n",
    "\n",
    "adict={}\n",
    "adict['m_err']=m_err\n",
    "adict['std_err']=std_err\n",
    "adict['xxx']=xxx\n",
    "adict['w2']=w2"
   ]
  },
  {
   "cell_type": "code",
   "execution_count": 37,
   "metadata": {},
   "outputs": [],
   "source": [
    "breaks = 30 # step size\n",
    "bins = arange(-180,180+breaks,breaks)\n",
    "bin_labels = []\n",
    "for i in arange(len(bins)):\n",
    "    #bin_labels.append(bins[i]+breaks/2)\n",
    "    bin_labels.append(bins[i]+breaks/2)\n",
    "bin_labels = bin_labels[:-1]\n",
    "\n",
    "# set bins to 30 and arranges the values from -180 to 180 degrees in steps of 30\n",
    "# 'bin_labels' would be the adjacet midpoinnt of each pair of bin edges\n"
   ]
  },
  {
   "cell_type": "code",
   "execution_count": 38,
   "metadata": {},
   "outputs": [
    {
     "name": "stderr",
     "output_type": "stream",
     "text": [
      "/var/folders/r9/cr9dfv5j4v9ghnsqpsk0syy40000gn/T/ipykernel_15930/1201712060.py:2: SettingWithCopyWarning: \n",
      "A value is trying to be set on a copy of a slice from a DataFrame.\n",
      "Try using .loc[row_indexer,col_indexer] = value instead\n",
      "\n",
      "See the caveats in the documentation: https://pandas.pydata.org/pandas-docs/stable/user_guide/indexing.html#returning-a-view-versus-a-copy\n",
      "  df['bin_Tangle'] = pd.cut(df['T_Angle'], bins=bins, labels = bin_labels)\n"
     ]
    }
   ],
   "source": [
    "df = all_df[['subj','block','trial','prior','ct','delay','preT','T_Angle','choiceAngle','keypressed','RT']]\n",
    "df['bin_Tangle'] = pd.cut(df['T_Angle'], bins=bins, labels = bin_labels)\n",
    "\n",
    "# removing preT nan values\n",
    "df = df.dropna(subset=['preT'])\n",
    "df = df[df['keypressed'] != 'space']\n",
    "\n",
    "\n",
    "df.insert(8, 'preDiff', np.rad2deg(circdist( np.deg2rad(df['preT']),np.deg2rad(df['T_Angle'])))) \n",
    "df.insert(9, 'err', np.rad2deg(circdist( np.deg2rad(df['choiceAngle']),np.deg2rad(df['T_Angle'])))) \n",
    "\n",
    "df['bin_preDiff'] = pd.cut(df['preDiff'], bins=bins, labels = bin_labels)\n",
    "df['bin_err'] = pd.cut(df['err'], bins=bins, labels = bin_labels)\n",
    "df['bin_preDiff'] = df['bin_preDiff'].astype(float)\n",
    "df['preDiff'] = df['preDiff'].astype(float)\n",
    "df.reset_index(drop=True, inplace=True)\n",
    "\n",
    "# select all columns from df thatt are 'subj','block','trial','prior','ct','delay','preT','T_Angle','choiceAngle','keypressed','RT'\n",
    "# create new column in df called 'bin_Tangle' that uses the bin_labels from previous chunk\n",
    "# remove in preT where key pressed is space and NaN\n",
    "# 'preDiff' = circular distance between 'preT' and 'T_Angle'\n",
    "# 'err' = circular distance between 'choiceAngle' and 'T_Angle'\n",
    "# in df add columns 'bin_preDiff' and 'bin_err'"
   ]
  },
  {
   "cell_type": "code",
   "execution_count": 290,
   "metadata": {},
   "outputs": [
    {
     "data": {
      "text/html": [
       "<div>\n",
       "<style scoped>\n",
       "    .dataframe tbody tr th:only-of-type {\n",
       "        vertical-align: middle;\n",
       "    }\n",
       "\n",
       "    .dataframe tbody tr th {\n",
       "        vertical-align: top;\n",
       "    }\n",
       "\n",
       "    .dataframe thead th {\n",
       "        text-align: right;\n",
       "    }\n",
       "</style>\n",
       "<table border=\"1\" class=\"dataframe\">\n",
       "  <thead>\n",
       "    <tr style=\"text-align: right;\">\n",
       "      <th></th>\n",
       "      <th>subj</th>\n",
       "      <th>block</th>\n",
       "      <th>trial</th>\n",
       "      <th>prior</th>\n",
       "      <th>ct</th>\n",
       "      <th>delay</th>\n",
       "      <th>preT</th>\n",
       "      <th>T_Angle</th>\n",
       "      <th>preDiff</th>\n",
       "      <th>err</th>\n",
       "      <th>choiceAngle</th>\n",
       "      <th>keypressed</th>\n",
       "      <th>RT</th>\n",
       "      <th>bin_Tangle</th>\n",
       "      <th>bin_preDiff</th>\n",
       "      <th>bin_err</th>\n",
       "    </tr>\n",
       "  </thead>\n",
       "  <tbody>\n",
       "    <tr>\n",
       "      <th>0</th>\n",
       "      <td>S01</td>\n",
       "      <td>0</td>\n",
       "      <td>1</td>\n",
       "      <td>0</td>\n",
       "      <td>True</td>\n",
       "      <td>3000</td>\n",
       "      <td>77.308098</td>\n",
       "      <td>139.469019</td>\n",
       "      <td>-62.160921</td>\n",
       "      <td>9.760981</td>\n",
       "      <td>149.23</td>\n",
       "      <td>None</td>\n",
       "      <td>5.749991</td>\n",
       "      <td>135.0</td>\n",
       "      <td>-75.0</td>\n",
       "      <td>15.0</td>\n",
       "    </tr>\n",
       "    <tr>\n",
       "      <th>1</th>\n",
       "      <td>S01</td>\n",
       "      <td>0</td>\n",
       "      <td>2</td>\n",
       "      <td>0</td>\n",
       "      <td>True</td>\n",
       "      <td>1000</td>\n",
       "      <td>139.469019</td>\n",
       "      <td>78.503047</td>\n",
       "      <td>60.965972</td>\n",
       "      <td>-4.753047</td>\n",
       "      <td>73.75</td>\n",
       "      <td>None</td>\n",
       "      <td>4.33456</td>\n",
       "      <td>75.0</td>\n",
       "      <td>75.0</td>\n",
       "      <td>-15.0</td>\n",
       "    </tr>\n",
       "    <tr>\n",
       "      <th>2</th>\n",
       "      <td>S01</td>\n",
       "      <td>0</td>\n",
       "      <td>3</td>\n",
       "      <td>0</td>\n",
       "      <td>False</td>\n",
       "      <td>3000</td>\n",
       "      <td>78.503047</td>\n",
       "      <td>-111.634428</td>\n",
       "      <td>-169.862525</td>\n",
       "      <td>-9.785572</td>\n",
       "      <td>-121.42</td>\n",
       "      <td>None</td>\n",
       "      <td>4.166987</td>\n",
       "      <td>-105.0</td>\n",
       "      <td>-165.0</td>\n",
       "      <td>-15.0</td>\n",
       "    </tr>\n",
       "    <tr>\n",
       "      <th>3</th>\n",
       "      <td>S01</td>\n",
       "      <td>0</td>\n",
       "      <td>4</td>\n",
       "      <td>0</td>\n",
       "      <td>False</td>\n",
       "      <td>3000</td>\n",
       "      <td>-111.634428</td>\n",
       "      <td>-163.381749</td>\n",
       "      <td>51.747321</td>\n",
       "      <td>14.151749</td>\n",
       "      <td>-149.23</td>\n",
       "      <td>None</td>\n",
       "      <td>3.150066</td>\n",
       "      <td>-165.0</td>\n",
       "      <td>45.0</td>\n",
       "      <td>15.0</td>\n",
       "    </tr>\n",
       "    <tr>\n",
       "      <th>4</th>\n",
       "      <td>S01</td>\n",
       "      <td>0</td>\n",
       "      <td>5</td>\n",
       "      <td>0</td>\n",
       "      <td>False</td>\n",
       "      <td>1000</td>\n",
       "      <td>-163.381749</td>\n",
       "      <td>-35.046439</td>\n",
       "      <td>-128.335310</td>\n",
       "      <td>-12.623561</td>\n",
       "      <td>-47.67</td>\n",
       "      <td>None</td>\n",
       "      <td>6.366445</td>\n",
       "      <td>-45.0</td>\n",
       "      <td>-135.0</td>\n",
       "      <td>-15.0</td>\n",
       "    </tr>\n",
       "  </tbody>\n",
       "</table>\n",
       "</div>"
      ],
      "text/plain": [
       "0 subj block trial prior     ct delay        preT     T_Angle     preDiff  \\\n",
       "0  S01     0     1     0   True  3000   77.308098  139.469019  -62.160921   \n",
       "1  S01     0     2     0   True  1000  139.469019   78.503047   60.965972   \n",
       "2  S01     0     3     0  False  3000   78.503047 -111.634428 -169.862525   \n",
       "3  S01     0     4     0  False  3000 -111.634428 -163.381749   51.747321   \n",
       "4  S01     0     5     0  False  1000 -163.381749  -35.046439 -128.335310   \n",
       "\n",
       "0        err  choiceAngle keypressed        RT bin_Tangle  bin_preDiff bin_err  \n",
       "0   9.760981       149.23       None  5.749991      135.0        -75.0    15.0  \n",
       "1  -4.753047        73.75       None   4.33456       75.0         75.0   -15.0  \n",
       "2  -9.785572      -121.42       None  4.166987     -105.0       -165.0   -15.0  \n",
       "3  14.151749      -149.23       None  3.150066     -165.0         45.0    15.0  \n",
       "4 -12.623561       -47.67       None  6.366445      -45.0       -135.0   -15.0  "
      ]
     },
     "execution_count": 290,
     "metadata": {},
     "output_type": "execute_result"
    }
   ],
   "source": [
    "df.head()"
   ]
  },
  {
   "cell_type": "code",
   "execution_count": 39,
   "metadata": {},
   "outputs": [],
   "source": [
    "def circ_stats(dat,x,y): # this function was used to calculate the log linear regression between two vectors\n",
    "    ref = np.rad2deg(circ_mean(np.deg2rad(dat[x])))\n",
    "    pred = np.rad2deg(circ_mean(np.deg2rad(dat[y])))\n",
    "    std_err = np.rad2deg(circstd(np.deg2rad(dat[y]))) #/sqrt(len(dat[y]))\t\n",
    "    out = pd.DataFrame({'ref': ref , 'pred': pred, 'std_err': std_err}, index=[0])\n",
    "    return out "
   ]
  },
  {
   "cell_type": "code",
   "execution_count": 40,
   "metadata": {},
   "outputs": [],
   "source": [
    "test = df.groupby(['subj','bin_Tangle']).apply(circ_stats, x = 'T_Angle', y = 'err')\n",
    "test.reset_index(inplace=True)\n",
    "test['lb'] = test.pred - test.std_err\n",
    "test['hb'] = test.pred + test.std_err\n",
    "\n",
    "# computes ccircular statisitcs for 'T_Angle' and 'err' for each level of 'subj' and 'bin_Tangle'\n",
    "# compute confidence intervals for the circular mean of the 'err'\n",
    "# lower bound is the circular mean - the standard error of the circular mean\n",
    "# upper bound is the circular mean + the standard error of the circular mean\n",
    "\n"
   ]
  },
  {
   "cell_type": "code",
   "execution_count": 41,
   "metadata": {},
   "outputs": [],
   "source": [
    "def circ_stats(dat,x,y): # this function was used to calculate the log linear regression between two vectors\n",
    "    ref = np.rad2deg(circ_mean(np.deg2rad(dat[x])))\n",
    "    pred = np.rad2deg(circ_mean(np.deg2rad(dat[y])))\n",
    "    std_err = np.rad2deg(circstd(np.deg2rad(dat[y]))) #/sqrt(len(dat[y]))\t\n",
    "    out = pd.DataFrame({'ref': ref , 'pred': pred, 'std_err': std_err}, index=[0])\n",
    "    return out \n",
    "\n",
    "# 'ref' = circular mean of 'x'\n",
    "# 'pred' = circular mean of 'y'\n",
    "# 'std_err' = standrd error of the circular mean of 'y'\n"
   ]
  },
  {
   "cell_type": "code",
   "execution_count": 42,
   "metadata": {},
   "outputs": [],
   "source": [
    "def circ_stats(dat): # this function was used to calculate the log linear regression between two vectors\n",
    "    ref = np.rad2deg(circ_mean(np.deg2rad(dat.preDiff)))\n",
    "    pred = np.rad2deg(circ_mean(np.deg2rad(dat.err)))\n",
    "    std_err = np.rad2deg(circstd(np.deg2rad(dat.err))) #/sqrt(len(dat[y]))\t\n",
    "    out = pd.DataFrame({'ref': ref , 'pred': pred, 'std_err': std_err}, index=[0])\n",
    "    return out \n",
    "\n",
    "# 'ref' = circuclar mean of 'preDiff'\n",
    "# pred' = circular mean of 'err' \n",
    "# 'std_err' = standard error of the circuclar mean of 'err'"
   ]
  },
  {
   "cell_type": "code",
   "execution_count": 44,
   "metadata": {},
   "outputs": [],
   "source": [
    "test = df.groupby(['bin_preDiff']).apply(circ_stats)\n",
    "#test.ref = np.rad2deg(test.ref)\n",
    "#test.pred = np.rad2deg(test.pred)\n",
    "test.reset_index(inplace=True)\n",
    "test['lb'] = test.pred - test.std_err\n",
    "test['hb'] = test.pred + test.std_err\n"
   ]
  },
  {
   "cell_type": "code",
   "execution_count": 43,
   "metadata": {},
   "outputs": [
    {
     "ename": "ValueError",
     "evalue": "Could not interpret value `bin_preDiff` for parameter `x`",
     "output_type": "error",
     "traceback": [
      "\u001b[0;31m---------------------------------------------------------------------------\u001b[0m",
      "\u001b[0;31mValueError\u001b[0m                                Traceback (most recent call last)",
      "\u001b[0;32m/var/folders/r9/cr9dfv5j4v9ghnsqpsk0syy40000gn/T/ipykernel_15930/2746874618.py\u001b[0m in \u001b[0;36m<module>\u001b[0;34m\u001b[0m\n\u001b[0;32m----> 1\u001b[0;31m \u001b[0max\u001b[0m \u001b[0;34m=\u001b[0m \u001b[0msns\u001b[0m\u001b[0;34m.\u001b[0m\u001b[0mlineplot\u001b[0m\u001b[0;34m(\u001b[0m\u001b[0mdata\u001b[0m\u001b[0;34m=\u001b[0m\u001b[0mtest\u001b[0m\u001b[0;34m,\u001b[0m \u001b[0mx\u001b[0m\u001b[0;34m=\u001b[0m\u001b[0;34m\"bin_preDiff\"\u001b[0m\u001b[0;34m,\u001b[0m \u001b[0my\u001b[0m\u001b[0;34m=\u001b[0m\u001b[0;34m\"pred\"\u001b[0m\u001b[0;34m,\u001b[0m\u001b[0mlinewidth\u001b[0m \u001b[0;34m=\u001b[0m \u001b[0;36m2\u001b[0m\u001b[0;34m)\u001b[0m\u001b[0;34m\u001b[0m\u001b[0;34m\u001b[0m\u001b[0m\n\u001b[0m",
      "\u001b[0;32m/opt/anaconda3/envs/wm_exp/lib/python3.8/site-packages/seaborn/relational.py\u001b[0m in \u001b[0;36mlineplot\u001b[0;34m(data, x, y, hue, size, style, units, palette, hue_order, hue_norm, sizes, size_order, size_norm, dashes, markers, style_order, estimator, errorbar, n_boot, seed, orient, sort, err_style, err_kws, legend, ci, ax, **kwargs)\u001b[0m\n\u001b[1;32m    616\u001b[0m \u001b[0;34m\u001b[0m\u001b[0m\n\u001b[1;32m    617\u001b[0m     \u001b[0mvariables\u001b[0m \u001b[0;34m=\u001b[0m \u001b[0m_LinePlotter\u001b[0m\u001b[0;34m.\u001b[0m\u001b[0mget_semantics\u001b[0m\u001b[0;34m(\u001b[0m\u001b[0mlocals\u001b[0m\u001b[0;34m(\u001b[0m\u001b[0;34m)\u001b[0m\u001b[0;34m)\u001b[0m\u001b[0;34m\u001b[0m\u001b[0;34m\u001b[0m\u001b[0m\n\u001b[0;32m--> 618\u001b[0;31m     p = _LinePlotter(\n\u001b[0m\u001b[1;32m    619\u001b[0m         \u001b[0mdata\u001b[0m\u001b[0;34m=\u001b[0m\u001b[0mdata\u001b[0m\u001b[0;34m,\u001b[0m \u001b[0mvariables\u001b[0m\u001b[0;34m=\u001b[0m\u001b[0mvariables\u001b[0m\u001b[0;34m,\u001b[0m\u001b[0;34m\u001b[0m\u001b[0;34m\u001b[0m\u001b[0m\n\u001b[1;32m    620\u001b[0m         \u001b[0mestimator\u001b[0m\u001b[0;34m=\u001b[0m\u001b[0mestimator\u001b[0m\u001b[0;34m,\u001b[0m \u001b[0mn_boot\u001b[0m\u001b[0;34m=\u001b[0m\u001b[0mn_boot\u001b[0m\u001b[0;34m,\u001b[0m \u001b[0mseed\u001b[0m\u001b[0;34m=\u001b[0m\u001b[0mseed\u001b[0m\u001b[0;34m,\u001b[0m \u001b[0merrorbar\u001b[0m\u001b[0;34m=\u001b[0m\u001b[0merrorbar\u001b[0m\u001b[0;34m,\u001b[0m\u001b[0;34m\u001b[0m\u001b[0;34m\u001b[0m\u001b[0m\n",
      "\u001b[0;32m/opt/anaconda3/envs/wm_exp/lib/python3.8/site-packages/seaborn/relational.py\u001b[0m in \u001b[0;36m__init__\u001b[0;34m(self, data, variables, estimator, n_boot, seed, errorbar, sort, orient, err_style, err_kws, legend)\u001b[0m\n\u001b[1;32m    363\u001b[0m         )\n\u001b[1;32m    364\u001b[0m \u001b[0;34m\u001b[0m\u001b[0m\n\u001b[0;32m--> 365\u001b[0;31m         \u001b[0msuper\u001b[0m\u001b[0;34m(\u001b[0m\u001b[0;34m)\u001b[0m\u001b[0;34m.\u001b[0m\u001b[0m__init__\u001b[0m\u001b[0;34m(\u001b[0m\u001b[0mdata\u001b[0m\u001b[0;34m=\u001b[0m\u001b[0mdata\u001b[0m\u001b[0;34m,\u001b[0m \u001b[0mvariables\u001b[0m\u001b[0;34m=\u001b[0m\u001b[0mvariables\u001b[0m\u001b[0;34m)\u001b[0m\u001b[0;34m\u001b[0m\u001b[0;34m\u001b[0m\u001b[0m\n\u001b[0m\u001b[1;32m    366\u001b[0m \u001b[0;34m\u001b[0m\u001b[0m\n\u001b[1;32m    367\u001b[0m         \u001b[0mself\u001b[0m\u001b[0;34m.\u001b[0m\u001b[0mestimator\u001b[0m \u001b[0;34m=\u001b[0m \u001b[0mestimator\u001b[0m\u001b[0;34m\u001b[0m\u001b[0;34m\u001b[0m\u001b[0m\n",
      "\u001b[0;32m/opt/anaconda3/envs/wm_exp/lib/python3.8/site-packages/seaborn/_oldcore.py\u001b[0m in \u001b[0;36m__init__\u001b[0;34m(self, data, variables)\u001b[0m\n\u001b[1;32m    638\u001b[0m         \u001b[0;31m# information for numeric axes would be information about log scales.\u001b[0m\u001b[0;34m\u001b[0m\u001b[0;34m\u001b[0m\u001b[0;34m\u001b[0m\u001b[0m\n\u001b[1;32m    639\u001b[0m         \u001b[0mself\u001b[0m\u001b[0;34m.\u001b[0m\u001b[0m_var_ordered\u001b[0m \u001b[0;34m=\u001b[0m \u001b[0;34m{\u001b[0m\u001b[0;34m\"x\"\u001b[0m\u001b[0;34m:\u001b[0m \u001b[0;32mFalse\u001b[0m\u001b[0;34m,\u001b[0m \u001b[0;34m\"y\"\u001b[0m\u001b[0;34m:\u001b[0m \u001b[0;32mFalse\u001b[0m\u001b[0;34m}\u001b[0m  \u001b[0;31m# alt., used DefaultDict\u001b[0m\u001b[0;34m\u001b[0m\u001b[0;34m\u001b[0m\u001b[0m\n\u001b[0;32m--> 640\u001b[0;31m         \u001b[0mself\u001b[0m\u001b[0;34m.\u001b[0m\u001b[0massign_variables\u001b[0m\u001b[0;34m(\u001b[0m\u001b[0mdata\u001b[0m\u001b[0;34m,\u001b[0m \u001b[0mvariables\u001b[0m\u001b[0;34m)\u001b[0m\u001b[0;34m\u001b[0m\u001b[0;34m\u001b[0m\u001b[0m\n\u001b[0m\u001b[1;32m    641\u001b[0m \u001b[0;34m\u001b[0m\u001b[0m\n\u001b[1;32m    642\u001b[0m         \u001b[0;32mfor\u001b[0m \u001b[0mvar\u001b[0m\u001b[0;34m,\u001b[0m \u001b[0mcls\u001b[0m \u001b[0;32min\u001b[0m \u001b[0mself\u001b[0m\u001b[0;34m.\u001b[0m\u001b[0m_semantic_mappings\u001b[0m\u001b[0;34m.\u001b[0m\u001b[0mitems\u001b[0m\u001b[0;34m(\u001b[0m\u001b[0;34m)\u001b[0m\u001b[0;34m:\u001b[0m\u001b[0;34m\u001b[0m\u001b[0;34m\u001b[0m\u001b[0m\n",
      "\u001b[0;32m/opt/anaconda3/envs/wm_exp/lib/python3.8/site-packages/seaborn/_oldcore.py\u001b[0m in \u001b[0;36massign_variables\u001b[0;34m(self, data, variables)\u001b[0m\n\u001b[1;32m    699\u001b[0m         \u001b[0;32melse\u001b[0m\u001b[0;34m:\u001b[0m\u001b[0;34m\u001b[0m\u001b[0;34m\u001b[0m\u001b[0m\n\u001b[1;32m    700\u001b[0m             \u001b[0mself\u001b[0m\u001b[0;34m.\u001b[0m\u001b[0minput_format\u001b[0m \u001b[0;34m=\u001b[0m \u001b[0;34m\"long\"\u001b[0m\u001b[0;34m\u001b[0m\u001b[0;34m\u001b[0m\u001b[0m\n\u001b[0;32m--> 701\u001b[0;31m             plot_data, variables = self._assign_variables_longform(\n\u001b[0m\u001b[1;32m    702\u001b[0m                 \u001b[0mdata\u001b[0m\u001b[0;34m,\u001b[0m \u001b[0;34m**\u001b[0m\u001b[0mvariables\u001b[0m\u001b[0;34m,\u001b[0m\u001b[0;34m\u001b[0m\u001b[0;34m\u001b[0m\u001b[0m\n\u001b[1;32m    703\u001b[0m             )\n",
      "\u001b[0;32m/opt/anaconda3/envs/wm_exp/lib/python3.8/site-packages/seaborn/_oldcore.py\u001b[0m in \u001b[0;36m_assign_variables_longform\u001b[0;34m(self, data, **kwargs)\u001b[0m\n\u001b[1;32m    936\u001b[0m \u001b[0;34m\u001b[0m\u001b[0m\n\u001b[1;32m    937\u001b[0m                 \u001b[0merr\u001b[0m \u001b[0;34m=\u001b[0m \u001b[0;34mf\"Could not interpret value `{val}` for parameter `{key}`\"\u001b[0m\u001b[0;34m\u001b[0m\u001b[0;34m\u001b[0m\u001b[0m\n\u001b[0;32m--> 938\u001b[0;31m                 \u001b[0;32mraise\u001b[0m \u001b[0mValueError\u001b[0m\u001b[0;34m(\u001b[0m\u001b[0merr\u001b[0m\u001b[0;34m)\u001b[0m\u001b[0;34m\u001b[0m\u001b[0;34m\u001b[0m\u001b[0m\n\u001b[0m\u001b[1;32m    939\u001b[0m \u001b[0;34m\u001b[0m\u001b[0m\n\u001b[1;32m    940\u001b[0m             \u001b[0;32melse\u001b[0m\u001b[0;34m:\u001b[0m\u001b[0;34m\u001b[0m\u001b[0;34m\u001b[0m\u001b[0m\n",
      "\u001b[0;31mValueError\u001b[0m: Could not interpret value `bin_preDiff` for parameter `x`"
     ]
    }
   ],
   "source": [
    "ax = sns.lineplot(data=test, x=\"bin_preDiff\", y=\"pred\",linewidth = 2)"
   ]
  },
  {
   "cell_type": "code",
   "execution_count": 45,
   "metadata": {},
   "outputs": [],
   "source": [
    "df['bin_preDiffbinrads'] = np.deg2rad(df.bin_preDiff)\n",
    "df['err_rads'] = np.deg2rad(df.err)"
   ]
  },
  {
   "cell_type": "code",
   "execution_count": 46,
   "metadata": {},
   "outputs": [
    {
     "data": {
      "text/plain": [
       "Index(['subj', 'block', 'trial', 'prior', 'ct', 'delay', 'preT', 'T_Angle',\n",
       "       'preDiff', 'err', 'choiceAngle', 'keypressed', 'RT', 'bin_Tangle',\n",
       "       'bin_preDiff', 'bin_err', 'bin_preDiffbinrads', 'err_rads'],\n",
       "      dtype='object', name=0)"
      ]
     },
     "execution_count": 46,
     "metadata": {},
     "output_type": "execute_result"
    }
   ],
   "source": [
    "df.columns"
   ]
  },
  {
   "cell_type": "code",
   "execution_count": 47,
   "metadata": {},
   "outputs": [
    {
     "ename": "NameError",
     "evalue": "name 't' is not defined",
     "output_type": "error",
     "traceback": [
      "\u001b[0;31m---------------------------------------------------------------------------\u001b[0m",
      "\u001b[0;31mNameError\u001b[0m                                 Traceback (most recent call last)",
      "\u001b[0;32m/var/folders/r9/cr9dfv5j4v9ghnsqpsk0syy40000gn/T/ipykernel_15930/4067513245.py\u001b[0m in \u001b[0;36m<module>\u001b[0;34m\u001b[0m\n\u001b[0;32m----> 1\u001b[0;31m \u001b[0mdf\u001b[0m\u001b[0;34m.\u001b[0m\u001b[0mbin_preDiffbinrads\u001b[0m \u001b[0;34m==\u001b[0m \u001b[0mt\u001b[0m\u001b[0;34m\u001b[0m\u001b[0;34m\u001b[0m\u001b[0m\n\u001b[0m",
      "\u001b[0;31mNameError\u001b[0m: name 't' is not defined"
     ]
    }
   ],
   "source": [
    "df.bin_preDiffbinrads == t"
   ]
  },
  {
   "cell_type": "code",
   "execution_count": 48,
   "metadata": {},
   "outputs": [
    {
     "ename": "NameError",
     "evalue": "name 't' is not defined",
     "output_type": "error",
     "traceback": [
      "\u001b[0;31m---------------------------------------------------------------------------\u001b[0m",
      "\u001b[0;31mNameError\u001b[0m                                 Traceback (most recent call last)",
      "\u001b[0;32m/var/folders/r9/cr9dfv5j4v9ghnsqpsk0syy40000gn/T/ipykernel_15930/983665331.py\u001b[0m in \u001b[0;36m<module>\u001b[0;34m\u001b[0m\n\u001b[0;32m----> 1\u001b[0;31m \u001b[0mdf\u001b[0m\u001b[0;34m[\u001b[0m\u001b[0mdf\u001b[0m\u001b[0;34m.\u001b[0m\u001b[0mbin_preDiffbinrads\u001b[0m \u001b[0;34m==\u001b[0m \u001b[0mt\u001b[0m \u001b[0;34m]\u001b[0m\u001b[0;34m.\u001b[0m\u001b[0merr_rads\u001b[0m\u001b[0;34m\u001b[0m\u001b[0;34m\u001b[0m\u001b[0m\n\u001b[0m",
      "\u001b[0;31mNameError\u001b[0m: name 't' is not defined"
     ]
    }
   ],
   "source": [
    "df[df.bin_preDiffbinrads == t ].err_rads"
   ]
  },
  {
   "cell_type": "code",
   "execution_count": 231,
   "metadata": {},
   "outputs": [
    {
     "data": {
      "text/plain": [
       "array([-3.14159265e+00, -3.07876080e+00, -3.01592895e+00, -2.95309709e+00,\n",
       "       -2.89026524e+00, -2.82743339e+00, -2.76460154e+00, -2.70176968e+00,\n",
       "       -2.63893783e+00, -2.57610598e+00, -2.51327412e+00, -2.45044227e+00,\n",
       "       -2.38761042e+00, -2.32477856e+00, -2.26194671e+00, -2.19911486e+00,\n",
       "       -2.13628300e+00, -2.07345115e+00, -2.01061930e+00, -1.94778745e+00,\n",
       "       -1.88495559e+00, -1.82212374e+00, -1.75929189e+00, -1.69646003e+00,\n",
       "       -1.63362818e+00, -1.57079633e+00, -1.50796447e+00, -1.44513262e+00,\n",
       "       -1.38230077e+00, -1.31946891e+00, -1.25663706e+00, -1.19380521e+00,\n",
       "       -1.13097336e+00, -1.06814150e+00, -1.00530965e+00, -9.42477796e-01,\n",
       "       -8.79645943e-01, -8.16814090e-01, -7.53982237e-01, -6.91150384e-01,\n",
       "       -6.28318531e-01, -5.65486678e-01, -5.02654825e-01, -4.39822972e-01,\n",
       "       -3.76991118e-01, -3.14159265e-01, -2.51327412e-01, -1.88495559e-01,\n",
       "       -1.25663706e-01, -6.28318531e-02,  4.44089210e-15,  6.28318531e-02,\n",
       "        1.25663706e-01,  1.88495559e-01,  2.51327412e-01,  3.14159265e-01,\n",
       "        3.76991118e-01,  4.39822972e-01,  5.02654825e-01,  5.65486678e-01,\n",
       "        6.28318531e-01,  6.91150384e-01,  7.53982237e-01,  8.16814090e-01,\n",
       "        8.79645943e-01,  9.42477796e-01,  1.00530965e+00,  1.06814150e+00,\n",
       "        1.13097336e+00,  1.19380521e+00,  1.25663706e+00,  1.31946891e+00,\n",
       "        1.38230077e+00,  1.44513262e+00,  1.50796447e+00,  1.57079633e+00])"
      ]
     },
     "execution_count": 231,
     "metadata": {},
     "output_type": "execute_result"
    }
   ],
   "source": [
    "xxx"
   ]
  },
  {
   "cell_type": "code",
   "execution_count": 232,
   "metadata": {},
   "outputs": [],
   "source": [
    "m_err=[]\n",
    "std_err=[]\n",
    "count=[]\n",
    "cis=[]\n",
    "if flip:\n",
    "\terr = sign(d)*err\n",
    "\td=abs(d)\n",
    "points_idx=[]\n",
    "\n",
    "for t in df.bin_preDiffbinrads.unique():\n",
    "\tx  =df[df.bin_preDiffbinrads == t ].err_rads\n",
    "\tx.reset_index(drop=True, inplace=True)\n",
    "\tm_err.append(circ_mean(x))\n",
    "\t#idx=(d>=t)&(d<=t+w2)\n",
    "\t#m_err.append(circ_mean(err[idx]))\n",
    "\t#std_err.append(circstd(err[idx])/sqrt(sum(idx)))\n",
    "\t#count.append(sum(idx))\n",
    "\t#points_idx.append(idx)\n"
   ]
  },
  {
   "cell_type": "code",
   "execution_count": 233,
   "metadata": {},
   "outputs": [
    {
     "data": {
      "text/plain": [
       "array([ -75.,   75., -165.,   45., -135.,  165.,  -45.,  105., -105.,\n",
       "        135.,  -15.,   15.])"
      ]
     },
     "execution_count": 233,
     "metadata": {},
     "output_type": "execute_result"
    }
   ],
   "source": [
    "df.bin_preDiff.unique()"
   ]
  },
  {
   "cell_type": "code",
   "execution_count": 234,
   "metadata": {},
   "outputs": [
    {
     "data": {
      "text/plain": [
       "[<matplotlib.lines.Line2D at 0x13b20f7f0>]"
      ]
     },
     "execution_count": 234,
     "metadata": {},
     "output_type": "execute_result"
    },
    {
     "data": {
      "image/png": "[encoded data removed]",
      "text/plain": [
       "<Figure size 640x480 with 1 Axes>"
      ]
     },
     "metadata": {},
     "output_type": "display_data"
    }
   ],
   "source": [
    "plt.plot(np.unique(df.bin_preDiff ),np.rad2deg(m_err))"
   ]
  },
  {
   "cell_type": "code",
   "execution_count": 235,
   "metadata": {},
   "outputs": [
    {
     "data": {
      "text/html": [
       "<div>\n",
       "<style scoped>\n",
       "    .dataframe tbody tr th:only-of-type {\n",
       "        vertical-align: middle;\n",
       "    }\n",
       "\n",
       "    .dataframe tbody tr th {\n",
       "        vertical-align: top;\n",
       "    }\n",
       "\n",
       "    .dataframe thead th {\n",
       "        text-align: right;\n",
       "    }\n",
       "</style>\n",
       "<table border=\"1\" class=\"dataframe\">\n",
       "  <thead>\n",
       "    <tr style=\"text-align: right;\">\n",
       "      <th></th>\n",
       "      <th>subj</th>\n",
       "      <th>block</th>\n",
       "      <th>trial</th>\n",
       "      <th>prior</th>\n",
       "      <th>ct</th>\n",
       "      <th>delay</th>\n",
       "      <th>preT</th>\n",
       "      <th>T_Angle</th>\n",
       "      <th>preDiff</th>\n",
       "      <th>err</th>\n",
       "      <th>choiceAngle</th>\n",
       "      <th>keypressed</th>\n",
       "      <th>RT</th>\n",
       "      <th>bin_Tangle</th>\n",
       "      <th>bin_preDiff</th>\n",
       "      <th>bin_err</th>\n",
       "      <th>bin_preDiffbinrads</th>\n",
       "      <th>err_rads</th>\n",
       "    </tr>\n",
       "  </thead>\n",
       "  <tbody>\n",
       "  </tbody>\n",
       "</table>\n",
       "</div>"
      ],
      "text/plain": [
       "Empty DataFrame\n",
       "Columns: [subj, block, trial, prior, ct, delay, preT, T_Angle, preDiff, err, choiceAngle, keypressed, RT, bin_Tangle, bin_preDiff, bin_err, bin_preDiffbinrads, err_rads]\n",
       "Index: []"
      ]
     },
     "execution_count": 235,
     "metadata": {},
     "output_type": "execute_result"
    }
   ],
   "source": [
    "df[df.bin_preDiff == t ]"
   ]
  },
  {
   "cell_type": "code",
   "execution_count": 236,
   "metadata": {},
   "outputs": [
    {
     "ename": "ValueError",
     "evalue": "x and y must have same first dimension, but have shapes (13,) and (12,)",
     "output_type": "error",
     "traceback": [
      "\u001b[0;31m---------------------------------------------------------------------------\u001b[0m",
      "\u001b[0;31mValueError\u001b[0m                                Traceback (most recent call last)",
      "\u001b[0;32m/var/folders/r9/cr9dfv5j4v9ghnsqpsk0syy40000gn/T/ipykernel_12190/3590078496.py\u001b[0m in \u001b[0;36m<module>\u001b[0;34m\u001b[0m\n\u001b[0;32m----> 1\u001b[0;31m \u001b[0mplt\u001b[0m\u001b[0;34m.\u001b[0m\u001b[0mplot\u001b[0m\u001b[0;34m(\u001b[0m\u001b[0mbins\u001b[0m\u001b[0;34m,\u001b[0m\u001b[0mnp\u001b[0m\u001b[0;34m.\u001b[0m\u001b[0mrad2deg\u001b[0m\u001b[0;34m(\u001b[0m\u001b[0mm_err\u001b[0m\u001b[0;34m)\u001b[0m\u001b[0;34m)\u001b[0m\u001b[0;34m\u001b[0m\u001b[0;34m\u001b[0m\u001b[0m\n\u001b[0m",
      "\u001b[0;32m/opt/anaconda3/envs/wm_exp/lib/python3.8/site-packages/matplotlib/pyplot.py\u001b[0m in \u001b[0;36mplot\u001b[0;34m(scalex, scaley, data, *args, **kwargs)\u001b[0m\n\u001b[1;32m   2738\u001b[0m \u001b[0;34m@\u001b[0m\u001b[0m_copy_docstring_and_deprecators\u001b[0m\u001b[0;34m(\u001b[0m\u001b[0mAxes\u001b[0m\u001b[0;34m.\u001b[0m\u001b[0mplot\u001b[0m\u001b[0;34m)\u001b[0m\u001b[0;34m\u001b[0m\u001b[0;34m\u001b[0m\u001b[0m\n\u001b[1;32m   2739\u001b[0m \u001b[0;32mdef\u001b[0m \u001b[0mplot\u001b[0m\u001b[0;34m(\u001b[0m\u001b[0;34m*\u001b[0m\u001b[0margs\u001b[0m\u001b[0;34m,\u001b[0m \u001b[0mscalex\u001b[0m\u001b[0;34m=\u001b[0m\u001b[0;32mTrue\u001b[0m\u001b[0;34m,\u001b[0m \u001b[0mscaley\u001b[0m\u001b[0;34m=\u001b[0m\u001b[0;32mTrue\u001b[0m\u001b[0;34m,\u001b[0m \u001b[0mdata\u001b[0m\u001b[0;34m=\u001b[0m\u001b[0;32mNone\u001b[0m\u001b[0;34m,\u001b[0m \u001b[0;34m**\u001b[0m\u001b[0mkwargs\u001b[0m\u001b[0;34m)\u001b[0m\u001b[0;34m:\u001b[0m\u001b[0;34m\u001b[0m\u001b[0;34m\u001b[0m\u001b[0m\n\u001b[0;32m-> 2740\u001b[0;31m     return gca().plot(\n\u001b[0m\u001b[1;32m   2741\u001b[0m         \u001b[0;34m*\u001b[0m\u001b[0margs\u001b[0m\u001b[0;34m,\u001b[0m \u001b[0mscalex\u001b[0m\u001b[0;34m=\u001b[0m\u001b[0mscalex\u001b[0m\u001b[0;34m,\u001b[0m \u001b[0mscaley\u001b[0m\u001b[0;34m=\u001b[0m\u001b[0mscaley\u001b[0m\u001b[0;34m,\u001b[0m\u001b[0;34m\u001b[0m\u001b[0;34m\u001b[0m\u001b[0m\n\u001b[1;32m   2742\u001b[0m         **({\"data\": data} if data is not None else {}), **kwargs)\n",
      "\u001b[0;32m/opt/anaconda3/envs/wm_exp/lib/python3.8/site-packages/matplotlib/axes/_axes.py\u001b[0m in \u001b[0;36mplot\u001b[0;34m(self, scalex, scaley, data, *args, **kwargs)\u001b[0m\n\u001b[1;32m   1660\u001b[0m         \"\"\"\n\u001b[1;32m   1661\u001b[0m         \u001b[0mkwargs\u001b[0m \u001b[0;34m=\u001b[0m \u001b[0mcbook\u001b[0m\u001b[0;34m.\u001b[0m\u001b[0mnormalize_kwargs\u001b[0m\u001b[0;34m(\u001b[0m\u001b[0mkwargs\u001b[0m\u001b[0;34m,\u001b[0m \u001b[0mmlines\u001b[0m\u001b[0;34m.\u001b[0m\u001b[0mLine2D\u001b[0m\u001b[0;34m)\u001b[0m\u001b[0;34m\u001b[0m\u001b[0;34m\u001b[0m\u001b[0m\n\u001b[0;32m-> 1662\u001b[0;31m         \u001b[0mlines\u001b[0m \u001b[0;34m=\u001b[0m \u001b[0;34m[\u001b[0m\u001b[0;34m*\u001b[0m\u001b[0mself\u001b[0m\u001b[0;34m.\u001b[0m\u001b[0m_get_lines\u001b[0m\u001b[0;34m(\u001b[0m\u001b[0;34m*\u001b[0m\u001b[0margs\u001b[0m\u001b[0;34m,\u001b[0m \u001b[0mdata\u001b[0m\u001b[0;34m=\u001b[0m\u001b[0mdata\u001b[0m\u001b[0;34m,\u001b[0m \u001b[0;34m**\u001b[0m\u001b[0mkwargs\u001b[0m\u001b[0;34m)\u001b[0m\u001b[0;34m]\u001b[0m\u001b[0;34m\u001b[0m\u001b[0;34m\u001b[0m\u001b[0m\n\u001b[0m\u001b[1;32m   1663\u001b[0m         \u001b[0;32mfor\u001b[0m \u001b[0mline\u001b[0m \u001b[0;32min\u001b[0m \u001b[0mlines\u001b[0m\u001b[0;34m:\u001b[0m\u001b[0;34m\u001b[0m\u001b[0;34m\u001b[0m\u001b[0m\n\u001b[1;32m   1664\u001b[0m             \u001b[0mself\u001b[0m\u001b[0;34m.\u001b[0m\u001b[0madd_line\u001b[0m\u001b[0;34m(\u001b[0m\u001b[0mline\u001b[0m\u001b[0;34m)\u001b[0m\u001b[0;34m\u001b[0m\u001b[0;34m\u001b[0m\u001b[0m\n",
      "\u001b[0;32m/opt/anaconda3/envs/wm_exp/lib/python3.8/site-packages/matplotlib/axes/_base.py\u001b[0m in \u001b[0;36m__call__\u001b[0;34m(self, data, *args, **kwargs)\u001b[0m\n\u001b[1;32m    309\u001b[0m                 \u001b[0mthis\u001b[0m \u001b[0;34m+=\u001b[0m \u001b[0margs\u001b[0m\u001b[0;34m[\u001b[0m\u001b[0;36m0\u001b[0m\u001b[0;34m]\u001b[0m\u001b[0;34m,\u001b[0m\u001b[0;34m\u001b[0m\u001b[0;34m\u001b[0m\u001b[0m\n\u001b[1;32m    310\u001b[0m                 \u001b[0margs\u001b[0m \u001b[0;34m=\u001b[0m \u001b[0margs\u001b[0m\u001b[0;34m[\u001b[0m\u001b[0;36m1\u001b[0m\u001b[0;34m:\u001b[0m\u001b[0;34m]\u001b[0m\u001b[0;34m\u001b[0m\u001b[0;34m\u001b[0m\u001b[0m\n\u001b[0;32m--> 311\u001b[0;31m             yield from self._plot_args(\n\u001b[0m\u001b[1;32m    312\u001b[0m                 this, kwargs, ambiguous_fmt_datakey=ambiguous_fmt_datakey)\n\u001b[1;32m    313\u001b[0m \u001b[0;34m\u001b[0m\u001b[0m\n",
      "\u001b[0;32m/opt/anaconda3/envs/wm_exp/lib/python3.8/site-packages/matplotlib/axes/_base.py\u001b[0m in \u001b[0;36m_plot_args\u001b[0;34m(self, tup, kwargs, return_kwargs, ambiguous_fmt_datakey)\u001b[0m\n\u001b[1;32m    502\u001b[0m \u001b[0;34m\u001b[0m\u001b[0m\n\u001b[1;32m    503\u001b[0m         \u001b[0;32mif\u001b[0m \u001b[0mx\u001b[0m\u001b[0;34m.\u001b[0m\u001b[0mshape\u001b[0m\u001b[0;34m[\u001b[0m\u001b[0;36m0\u001b[0m\u001b[0;34m]\u001b[0m \u001b[0;34m!=\u001b[0m \u001b[0my\u001b[0m\u001b[0;34m.\u001b[0m\u001b[0mshape\u001b[0m\u001b[0;34m[\u001b[0m\u001b[0;36m0\u001b[0m\u001b[0;34m]\u001b[0m\u001b[0;34m:\u001b[0m\u001b[0;34m\u001b[0m\u001b[0;34m\u001b[0m\u001b[0m\n\u001b[0;32m--> 504\u001b[0;31m             raise ValueError(f\"x and y must have same first dimension, but \"\n\u001b[0m\u001b[1;32m    505\u001b[0m                              f\"have shapes {x.shape} and {y.shape}\")\n\u001b[1;32m    506\u001b[0m         \u001b[0;32mif\u001b[0m \u001b[0mx\u001b[0m\u001b[0;34m.\u001b[0m\u001b[0mndim\u001b[0m \u001b[0;34m>\u001b[0m \u001b[0;36m2\u001b[0m \u001b[0;32mor\u001b[0m \u001b[0my\u001b[0m\u001b[0;34m.\u001b[0m\u001b[0mndim\u001b[0m \u001b[0;34m>\u001b[0m \u001b[0;36m2\u001b[0m\u001b[0;34m:\u001b[0m\u001b[0;34m\u001b[0m\u001b[0;34m\u001b[0m\u001b[0m\n",
      "\u001b[0;31mValueError\u001b[0m: x and y must have same first dimension, but have shapes (13,) and (12,)"
     ]
    },
    {
     "data": {
      "image/png": "[encoded data removed]",
      "text/plain": [
       "<Figure size 640x480 with 1 Axes>"
      ]
     },
     "metadata": {},
     "output_type": "display_data"
    }
   ],
   "source": [
    "plt.plot(bins,np.rad2deg(m_err))"
   ]
  },
  {
   "cell_type": "code",
   "execution_count": 237,
   "metadata": {},
   "outputs": [
    {
     "data": {
      "text/plain": [
       "0.2617993877991494"
      ]
     },
     "execution_count": 237,
     "metadata": {},
     "output_type": "execute_result"
    }
   ],
   "source": [
    "t"
   ]
  },
  {
   "cell_type": "code",
   "execution_count": 238,
   "metadata": {},
   "outputs": [
    {
     "data": {
      "text/plain": [
       "array([-165., -135., -105.,  -75.,  -45.,  -15.,   15.,   45.,   75.,\n",
       "        105.,  135.,  165.])"
      ]
     },
     "execution_count": 238,
     "metadata": {},
     "output_type": "execute_result"
    }
   ],
   "source": [
    "np.unique(df.bin_preDiff )"
   ]
  },
  {
   "cell_type": "code",
   "execution_count": 239,
   "metadata": {},
   "outputs": [
    {
     "ename": "ValueError",
     "evalue": "x and y must have same first dimension, but have shapes (13,) and (12,)",
     "output_type": "error",
     "traceback": [
      "\u001b[0;31m---------------------------------------------------------------------------\u001b[0m",
      "\u001b[0;31mValueError\u001b[0m                                Traceback (most recent call last)",
      "\u001b[0;32m/var/folders/r9/cr9dfv5j4v9ghnsqpsk0syy40000gn/T/ipykernel_12190/3590078496.py\u001b[0m in \u001b[0;36m<module>\u001b[0;34m\u001b[0m\n\u001b[0;32m----> 1\u001b[0;31m \u001b[0mplt\u001b[0m\u001b[0;34m.\u001b[0m\u001b[0mplot\u001b[0m\u001b[0;34m(\u001b[0m\u001b[0mbins\u001b[0m\u001b[0;34m,\u001b[0m\u001b[0mnp\u001b[0m\u001b[0;34m.\u001b[0m\u001b[0mrad2deg\u001b[0m\u001b[0;34m(\u001b[0m\u001b[0mm_err\u001b[0m\u001b[0;34m)\u001b[0m\u001b[0;34m)\u001b[0m\u001b[0;34m\u001b[0m\u001b[0;34m\u001b[0m\u001b[0m\n\u001b[0m",
      "\u001b[0;32m/opt/anaconda3/envs/wm_exp/lib/python3.8/site-packages/matplotlib/pyplot.py\u001b[0m in \u001b[0;36mplot\u001b[0;34m(scalex, scaley, data, *args, **kwargs)\u001b[0m\n\u001b[1;32m   2738\u001b[0m \u001b[0;34m@\u001b[0m\u001b[0m_copy_docstring_and_deprecators\u001b[0m\u001b[0;34m(\u001b[0m\u001b[0mAxes\u001b[0m\u001b[0;34m.\u001b[0m\u001b[0mplot\u001b[0m\u001b[0;34m)\u001b[0m\u001b[0;34m\u001b[0m\u001b[0;34m\u001b[0m\u001b[0m\n\u001b[1;32m   2739\u001b[0m \u001b[0;32mdef\u001b[0m \u001b[0mplot\u001b[0m\u001b[0;34m(\u001b[0m\u001b[0;34m*\u001b[0m\u001b[0margs\u001b[0m\u001b[0;34m,\u001b[0m \u001b[0mscalex\u001b[0m\u001b[0;34m=\u001b[0m\u001b[0;32mTrue\u001b[0m\u001b[0;34m,\u001b[0m \u001b[0mscaley\u001b[0m\u001b[0;34m=\u001b[0m\u001b[0;32mTrue\u001b[0m\u001b[0;34m,\u001b[0m \u001b[0mdata\u001b[0m\u001b[0;34m=\u001b[0m\u001b[0;32mNone\u001b[0m\u001b[0;34m,\u001b[0m \u001b[0;34m**\u001b[0m\u001b[0mkwargs\u001b[0m\u001b[0;34m)\u001b[0m\u001b[0;34m:\u001b[0m\u001b[0;34m\u001b[0m\u001b[0;34m\u001b[0m\u001b[0m\n\u001b[0;32m-> 2740\u001b[0;31m     return gca().plot(\n\u001b[0m\u001b[1;32m   2741\u001b[0m         \u001b[0;34m*\u001b[0m\u001b[0margs\u001b[0m\u001b[0;34m,\u001b[0m \u001b[0mscalex\u001b[0m\u001b[0;34m=\u001b[0m\u001b[0mscalex\u001b[0m\u001b[0;34m,\u001b[0m \u001b[0mscaley\u001b[0m\u001b[0;34m=\u001b[0m\u001b[0mscaley\u001b[0m\u001b[0;34m,\u001b[0m\u001b[0;34m\u001b[0m\u001b[0;34m\u001b[0m\u001b[0m\n\u001b[1;32m   2742\u001b[0m         **({\"data\": data} if data is not None else {}), **kwargs)\n",
      "\u001b[0;32m/opt/anaconda3/envs/wm_exp/lib/python3.8/site-packages/matplotlib/axes/_axes.py\u001b[0m in \u001b[0;36mplot\u001b[0;34m(self, scalex, scaley, data, *args, **kwargs)\u001b[0m\n\u001b[1;32m   1660\u001b[0m         \"\"\"\n\u001b[1;32m   1661\u001b[0m         \u001b[0mkwargs\u001b[0m \u001b[0;34m=\u001b[0m \u001b[0mcbook\u001b[0m\u001b[0;34m.\u001b[0m\u001b[0mnormalize_kwargs\u001b[0m\u001b[0;34m(\u001b[0m\u001b[0mkwargs\u001b[0m\u001b[0;34m,\u001b[0m \u001b[0mmlines\u001b[0m\u001b[0;34m.\u001b[0m\u001b[0mLine2D\u001b[0m\u001b[0;34m)\u001b[0m\u001b[0;34m\u001b[0m\u001b[0;34m\u001b[0m\u001b[0m\n\u001b[0;32m-> 1662\u001b[0;31m         \u001b[0mlines\u001b[0m \u001b[0;34m=\u001b[0m \u001b[0;34m[\u001b[0m\u001b[0;34m*\u001b[0m\u001b[0mself\u001b[0m\u001b[0;34m.\u001b[0m\u001b[0m_get_lines\u001b[0m\u001b[0;34m(\u001b[0m\u001b[0;34m*\u001b[0m\u001b[0margs\u001b[0m\u001b[0;34m,\u001b[0m \u001b[0mdata\u001b[0m\u001b[0;34m=\u001b[0m\u001b[0mdata\u001b[0m\u001b[0;34m,\u001b[0m \u001b[0;34m**\u001b[0m\u001b[0mkwargs\u001b[0m\u001b[0;34m)\u001b[0m\u001b[0;34m]\u001b[0m\u001b[0;34m\u001b[0m\u001b[0;34m\u001b[0m\u001b[0m\n\u001b[0m\u001b[1;32m   1663\u001b[0m         \u001b[0;32mfor\u001b[0m \u001b[0mline\u001b[0m \u001b[0;32min\u001b[0m \u001b[0mlines\u001b[0m\u001b[0;34m:\u001b[0m\u001b[0;34m\u001b[0m\u001b[0;34m\u001b[0m\u001b[0m\n\u001b[1;32m   1664\u001b[0m             \u001b[0mself\u001b[0m\u001b[0;34m.\u001b[0m\u001b[0madd_line\u001b[0m\u001b[0;34m(\u001b[0m\u001b[0mline\u001b[0m\u001b[0;34m)\u001b[0m\u001b[0;34m\u001b[0m\u001b[0;34m\u001b[0m\u001b[0m\n",
      "\u001b[0;32m/opt/anaconda3/envs/wm_exp/lib/python3.8/site-packages/matplotlib/axes/_base.py\u001b[0m in \u001b[0;36m__call__\u001b[0;34m(self, data, *args, **kwargs)\u001b[0m\n\u001b[1;32m    309\u001b[0m                 \u001b[0mthis\u001b[0m \u001b[0;34m+=\u001b[0m \u001b[0margs\u001b[0m\u001b[0;34m[\u001b[0m\u001b[0;36m0\u001b[0m\u001b[0;34m]\u001b[0m\u001b[0;34m,\u001b[0m\u001b[0;34m\u001b[0m\u001b[0;34m\u001b[0m\u001b[0m\n\u001b[1;32m    310\u001b[0m                 \u001b[0margs\u001b[0m \u001b[0;34m=\u001b[0m \u001b[0margs\u001b[0m\u001b[0;34m[\u001b[0m\u001b[0;36m1\u001b[0m\u001b[0;34m:\u001b[0m\u001b[0;34m]\u001b[0m\u001b[0;34m\u001b[0m\u001b[0;34m\u001b[0m\u001b[0m\n\u001b[0;32m--> 311\u001b[0;31m             yield from self._plot_args(\n\u001b[0m\u001b[1;32m    312\u001b[0m                 this, kwargs, ambiguous_fmt_datakey=ambiguous_fmt_datakey)\n\u001b[1;32m    313\u001b[0m \u001b[0;34m\u001b[0m\u001b[0m\n",
      "\u001b[0;32m/opt/anaconda3/envs/wm_exp/lib/python3.8/site-packages/matplotlib/axes/_base.py\u001b[0m in \u001b[0;36m_plot_args\u001b[0;34m(self, tup, kwargs, return_kwargs, ambiguous_fmt_datakey)\u001b[0m\n\u001b[1;32m    502\u001b[0m \u001b[0;34m\u001b[0m\u001b[0m\n\u001b[1;32m    503\u001b[0m         \u001b[0;32mif\u001b[0m \u001b[0mx\u001b[0m\u001b[0;34m.\u001b[0m\u001b[0mshape\u001b[0m\u001b[0;34m[\u001b[0m\u001b[0;36m0\u001b[0m\u001b[0;34m]\u001b[0m \u001b[0;34m!=\u001b[0m \u001b[0my\u001b[0m\u001b[0;34m.\u001b[0m\u001b[0mshape\u001b[0m\u001b[0;34m[\u001b[0m\u001b[0;36m0\u001b[0m\u001b[0;34m]\u001b[0m\u001b[0;34m:\u001b[0m\u001b[0;34m\u001b[0m\u001b[0;34m\u001b[0m\u001b[0m\n\u001b[0;32m--> 504\u001b[0;31m             raise ValueError(f\"x and y must have same first dimension, but \"\n\u001b[0m\u001b[1;32m    505\u001b[0m                              f\"have shapes {x.shape} and {y.shape}\")\n\u001b[1;32m    506\u001b[0m         \u001b[0;32mif\u001b[0m \u001b[0mx\u001b[0m\u001b[0;34m.\u001b[0m\u001b[0mndim\u001b[0m \u001b[0;34m>\u001b[0m \u001b[0;36m2\u001b[0m \u001b[0;32mor\u001b[0m \u001b[0my\u001b[0m\u001b[0;34m.\u001b[0m\u001b[0mndim\u001b[0m \u001b[0;34m>\u001b[0m \u001b[0;36m2\u001b[0m\u001b[0;34m:\u001b[0m\u001b[0;34m\u001b[0m\u001b[0;34m\u001b[0m\u001b[0m\n",
      "\u001b[0;31mValueError\u001b[0m: x and y must have same first dimension, but have shapes (13,) and (12,)"
     ]
    },
    {
     "data": {
      "image/png": "[encoded data removed]",
      "text/plain": [
       "<Figure size 640x480 with 1 Axes>"
      ]
     },
     "metadata": {},
     "output_type": "display_data"
    }
   ],
   "source": [
    "plt.plot(bins,np.rad2deg(m_err))"
   ]
  },
  {
   "cell_type": "code",
   "execution_count": 240,
   "metadata": {},
   "outputs": [
    {
     "data": {
      "text/html": [
       "<div>\n",
       "<style scoped>\n",
       "    .dataframe tbody tr th:only-of-type {\n",
       "        vertical-align: middle;\n",
       "    }\n",
       "\n",
       "    .dataframe tbody tr th {\n",
       "        vertical-align: top;\n",
       "    }\n",
       "\n",
       "    .dataframe thead th {\n",
       "        text-align: right;\n",
       "    }\n",
       "</style>\n",
       "<table border=\"1\" class=\"dataframe\">\n",
       "  <thead>\n",
       "    <tr style=\"text-align: right;\">\n",
       "      <th></th>\n",
       "      <th>bin_preDiff</th>\n",
       "      <th>level_1</th>\n",
       "      <th>ref</th>\n",
       "      <th>pred</th>\n",
       "      <th>std_err</th>\n",
       "      <th>lb</th>\n",
       "      <th>hb</th>\n",
       "    </tr>\n",
       "  </thead>\n",
       "  <tbody>\n",
       "    <tr>\n",
       "      <th>0</th>\n",
       "      <td>-165.0</td>\n",
       "      <td>0</td>\n",
       "      <td>-165.411963</td>\n",
       "      <td>-1.778919</td>\n",
       "      <td>14.492773</td>\n",
       "      <td>-16.271691</td>\n",
       "      <td>12.713854</td>\n",
       "    </tr>\n",
       "    <tr>\n",
       "      <th>1</th>\n",
       "      <td>-135.0</td>\n",
       "      <td>0</td>\n",
       "      <td>-134.321409</td>\n",
       "      <td>0.451057</td>\n",
       "      <td>8.651990</td>\n",
       "      <td>-8.200933</td>\n",
       "      <td>9.103047</td>\n",
       "    </tr>\n",
       "    <tr>\n",
       "      <th>2</th>\n",
       "      <td>-105.0</td>\n",
       "      <td>0</td>\n",
       "      <td>-104.595761</td>\n",
       "      <td>-0.795356</td>\n",
       "      <td>8.414752</td>\n",
       "      <td>-9.210108</td>\n",
       "      <td>7.619395</td>\n",
       "    </tr>\n",
       "    <tr>\n",
       "      <th>3</th>\n",
       "      <td>-75.0</td>\n",
       "      <td>0</td>\n",
       "      <td>-75.073861</td>\n",
       "      <td>0.128895</td>\n",
       "      <td>8.504876</td>\n",
       "      <td>-8.375981</td>\n",
       "      <td>8.633770</td>\n",
       "    </tr>\n",
       "    <tr>\n",
       "      <th>4</th>\n",
       "      <td>-45.0</td>\n",
       "      <td>0</td>\n",
       "      <td>-43.030681</td>\n",
       "      <td>0.484556</td>\n",
       "      <td>12.039673</td>\n",
       "      <td>-11.555117</td>\n",
       "      <td>12.524229</td>\n",
       "    </tr>\n",
       "    <tr>\n",
       "      <th>5</th>\n",
       "      <td>-15.0</td>\n",
       "      <td>0</td>\n",
       "      <td>-14.594859</td>\n",
       "      <td>-0.751558</td>\n",
       "      <td>7.252306</td>\n",
       "      <td>-8.003864</td>\n",
       "      <td>6.500748</td>\n",
       "    </tr>\n",
       "    <tr>\n",
       "      <th>6</th>\n",
       "      <td>15.0</td>\n",
       "      <td>0</td>\n",
       "      <td>14.544026</td>\n",
       "      <td>-0.760371</td>\n",
       "      <td>8.816569</td>\n",
       "      <td>-9.576940</td>\n",
       "      <td>8.056198</td>\n",
       "    </tr>\n",
       "    <tr>\n",
       "      <th>7</th>\n",
       "      <td>45.0</td>\n",
       "      <td>0</td>\n",
       "      <td>45.248733</td>\n",
       "      <td>-2.694751</td>\n",
       "      <td>8.050188</td>\n",
       "      <td>-10.744938</td>\n",
       "      <td>5.355437</td>\n",
       "    </tr>\n",
       "    <tr>\n",
       "      <th>8</th>\n",
       "      <td>75.0</td>\n",
       "      <td>0</td>\n",
       "      <td>74.357397</td>\n",
       "      <td>-2.771706</td>\n",
       "      <td>14.233096</td>\n",
       "      <td>-17.004802</td>\n",
       "      <td>11.461390</td>\n",
       "    </tr>\n",
       "    <tr>\n",
       "      <th>9</th>\n",
       "      <td>105.0</td>\n",
       "      <td>0</td>\n",
       "      <td>103.802428</td>\n",
       "      <td>-0.879753</td>\n",
       "      <td>7.666098</td>\n",
       "      <td>-8.545850</td>\n",
       "      <td>6.786345</td>\n",
       "    </tr>\n",
       "    <tr>\n",
       "      <th>10</th>\n",
       "      <td>135.0</td>\n",
       "      <td>0</td>\n",
       "      <td>134.350460</td>\n",
       "      <td>0.534615</td>\n",
       "      <td>7.429743</td>\n",
       "      <td>-6.895127</td>\n",
       "      <td>7.964358</td>\n",
       "    </tr>\n",
       "    <tr>\n",
       "      <th>11</th>\n",
       "      <td>165.0</td>\n",
       "      <td>0</td>\n",
       "      <td>164.834701</td>\n",
       "      <td>-2.010277</td>\n",
       "      <td>7.645708</td>\n",
       "      <td>-9.655985</td>\n",
       "      <td>5.635432</td>\n",
       "    </tr>\n",
       "  </tbody>\n",
       "</table>\n",
       "</div>"
      ],
      "text/plain": [
       "    bin_preDiff  level_1         ref      pred    std_err         lb  \\\n",
       "0        -165.0        0 -165.411963 -1.778919  14.492773 -16.271691   \n",
       "1        -135.0        0 -134.321409  0.451057   8.651990  -8.200933   \n",
       "2        -105.0        0 -104.595761 -0.795356   8.414752  -9.210108   \n",
       "3         -75.0        0  -75.073861  0.128895   8.504876  -8.375981   \n",
       "4         -45.0        0  -43.030681  0.484556  12.039673 -11.555117   \n",
       "5         -15.0        0  -14.594859 -0.751558   7.252306  -8.003864   \n",
       "6          15.0        0   14.544026 -0.760371   8.816569  -9.576940   \n",
       "7          45.0        0   45.248733 -2.694751   8.050188 -10.744938   \n",
       "8          75.0        0   74.357397 -2.771706  14.233096 -17.004802   \n",
       "9         105.0        0  103.802428 -0.879753   7.666098  -8.545850   \n",
       "10        135.0        0  134.350460  0.534615   7.429743  -6.895127   \n",
       "11        165.0        0  164.834701 -2.010277   7.645708  -9.655985   \n",
       "\n",
       "           hb  \n",
       "0   12.713854  \n",
       "1    9.103047  \n",
       "2    7.619395  \n",
       "3    8.633770  \n",
       "4   12.524229  \n",
       "5    6.500748  \n",
       "6    8.056198  \n",
       "7    5.355437  \n",
       "8   11.461390  \n",
       "9    6.786345  \n",
       "10   7.964358  \n",
       "11   5.635432  "
      ]
     },
     "execution_count": 240,
     "metadata": {},
     "output_type": "execute_result"
    }
   ],
   "source": [
    "test"
   ]
  },
  {
   "cell_type": "code",
   "execution_count": 241,
   "metadata": {},
   "outputs": [
    {
     "ename": "ValueError",
     "evalue": "x and y must have same first dimension, but have shapes (76,) and (12,)",
     "output_type": "error",
     "traceback": [
      "\u001b[0;31m---------------------------------------------------------------------------\u001b[0m",
      "\u001b[0;31mValueError\u001b[0m                                Traceback (most recent call last)",
      "\u001b[0;32m/var/folders/r9/cr9dfv5j4v9ghnsqpsk0syy40000gn/T/ipykernel_12190/1835290376.py\u001b[0m in \u001b[0;36m<module>\u001b[0;34m\u001b[0m\n\u001b[0;32m----> 1\u001b[0;31m \u001b[0mplt\u001b[0m\u001b[0;34m.\u001b[0m\u001b[0mplot\u001b[0m\u001b[0;34m(\u001b[0m\u001b[0mnp\u001b[0m\u001b[0;34m.\u001b[0m\u001b[0mrad2deg\u001b[0m\u001b[0;34m(\u001b[0m\u001b[0mxxx\u001b[0m\u001b[0;34m+\u001b[0m\u001b[0mw2\u001b[0m\u001b[0;34m/\u001b[0m\u001b[0;36m2\u001b[0m\u001b[0;34m)\u001b[0m\u001b[0;34m,\u001b[0m\u001b[0mnp\u001b[0m\u001b[0;34m.\u001b[0m\u001b[0mrad2deg\u001b[0m\u001b[0;34m(\u001b[0m\u001b[0mm_err\u001b[0m\u001b[0;34m)\u001b[0m\u001b[0;34m)\u001b[0m\u001b[0;34m\u001b[0m\u001b[0;34m\u001b[0m\u001b[0m\n\u001b[0m",
      "\u001b[0;32m/opt/anaconda3/envs/wm_exp/lib/python3.8/site-packages/matplotlib/pyplot.py\u001b[0m in \u001b[0;36mplot\u001b[0;34m(scalex, scaley, data, *args, **kwargs)\u001b[0m\n\u001b[1;32m   2738\u001b[0m \u001b[0;34m@\u001b[0m\u001b[0m_copy_docstring_and_deprecators\u001b[0m\u001b[0;34m(\u001b[0m\u001b[0mAxes\u001b[0m\u001b[0;34m.\u001b[0m\u001b[0mplot\u001b[0m\u001b[0;34m)\u001b[0m\u001b[0;34m\u001b[0m\u001b[0;34m\u001b[0m\u001b[0m\n\u001b[1;32m   2739\u001b[0m \u001b[0;32mdef\u001b[0m \u001b[0mplot\u001b[0m\u001b[0;34m(\u001b[0m\u001b[0;34m*\u001b[0m\u001b[0margs\u001b[0m\u001b[0;34m,\u001b[0m \u001b[0mscalex\u001b[0m\u001b[0;34m=\u001b[0m\u001b[0;32mTrue\u001b[0m\u001b[0;34m,\u001b[0m \u001b[0mscaley\u001b[0m\u001b[0;34m=\u001b[0m\u001b[0;32mTrue\u001b[0m\u001b[0;34m,\u001b[0m \u001b[0mdata\u001b[0m\u001b[0;34m=\u001b[0m\u001b[0;32mNone\u001b[0m\u001b[0;34m,\u001b[0m \u001b[0;34m**\u001b[0m\u001b[0mkwargs\u001b[0m\u001b[0;34m)\u001b[0m\u001b[0;34m:\u001b[0m\u001b[0;34m\u001b[0m\u001b[0;34m\u001b[0m\u001b[0m\n\u001b[0;32m-> 2740\u001b[0;31m     return gca().plot(\n\u001b[0m\u001b[1;32m   2741\u001b[0m         \u001b[0;34m*\u001b[0m\u001b[0margs\u001b[0m\u001b[0;34m,\u001b[0m \u001b[0mscalex\u001b[0m\u001b[0;34m=\u001b[0m\u001b[0mscalex\u001b[0m\u001b[0;34m,\u001b[0m \u001b[0mscaley\u001b[0m\u001b[0;34m=\u001b[0m\u001b[0mscaley\u001b[0m\u001b[0;34m,\u001b[0m\u001b[0;34m\u001b[0m\u001b[0;34m\u001b[0m\u001b[0m\n\u001b[1;32m   2742\u001b[0m         **({\"data\": data} if data is not None else {}), **kwargs)\n",
      "\u001b[0;32m/opt/anaconda3/envs/wm_exp/lib/python3.8/site-packages/matplotlib/axes/_axes.py\u001b[0m in \u001b[0;36mplot\u001b[0;34m(self, scalex, scaley, data, *args, **kwargs)\u001b[0m\n\u001b[1;32m   1660\u001b[0m         \"\"\"\n\u001b[1;32m   1661\u001b[0m         \u001b[0mkwargs\u001b[0m \u001b[0;34m=\u001b[0m \u001b[0mcbook\u001b[0m\u001b[0;34m.\u001b[0m\u001b[0mnormalize_kwargs\u001b[0m\u001b[0;34m(\u001b[0m\u001b[0mkwargs\u001b[0m\u001b[0;34m,\u001b[0m \u001b[0mmlines\u001b[0m\u001b[0;34m.\u001b[0m\u001b[0mLine2D\u001b[0m\u001b[0;34m)\u001b[0m\u001b[0;34m\u001b[0m\u001b[0;34m\u001b[0m\u001b[0m\n\u001b[0;32m-> 1662\u001b[0;31m         \u001b[0mlines\u001b[0m \u001b[0;34m=\u001b[0m \u001b[0;34m[\u001b[0m\u001b[0;34m*\u001b[0m\u001b[0mself\u001b[0m\u001b[0;34m.\u001b[0m\u001b[0m_get_lines\u001b[0m\u001b[0;34m(\u001b[0m\u001b[0;34m*\u001b[0m\u001b[0margs\u001b[0m\u001b[0;34m,\u001b[0m \u001b[0mdata\u001b[0m\u001b[0;34m=\u001b[0m\u001b[0mdata\u001b[0m\u001b[0;34m,\u001b[0m \u001b[0;34m**\u001b[0m\u001b[0mkwargs\u001b[0m\u001b[0;34m)\u001b[0m\u001b[0;34m]\u001b[0m\u001b[0;34m\u001b[0m\u001b[0;34m\u001b[0m\u001b[0m\n\u001b[0m\u001b[1;32m   1663\u001b[0m         \u001b[0;32mfor\u001b[0m \u001b[0mline\u001b[0m \u001b[0;32min\u001b[0m \u001b[0mlines\u001b[0m\u001b[0;34m:\u001b[0m\u001b[0;34m\u001b[0m\u001b[0;34m\u001b[0m\u001b[0m\n\u001b[1;32m   1664\u001b[0m             \u001b[0mself\u001b[0m\u001b[0;34m.\u001b[0m\u001b[0madd_line\u001b[0m\u001b[0;34m(\u001b[0m\u001b[0mline\u001b[0m\u001b[0;34m)\u001b[0m\u001b[0;34m\u001b[0m\u001b[0;34m\u001b[0m\u001b[0m\n",
      "\u001b[0;32m/opt/anaconda3/envs/wm_exp/lib/python3.8/site-packages/matplotlib/axes/_base.py\u001b[0m in \u001b[0;36m__call__\u001b[0;34m(self, data, *args, **kwargs)\u001b[0m\n\u001b[1;32m    309\u001b[0m                 \u001b[0mthis\u001b[0m \u001b[0;34m+=\u001b[0m \u001b[0margs\u001b[0m\u001b[0;34m[\u001b[0m\u001b[0;36m0\u001b[0m\u001b[0;34m]\u001b[0m\u001b[0;34m,\u001b[0m\u001b[0;34m\u001b[0m\u001b[0;34m\u001b[0m\u001b[0m\n\u001b[1;32m    310\u001b[0m                 \u001b[0margs\u001b[0m \u001b[0;34m=\u001b[0m \u001b[0margs\u001b[0m\u001b[0;34m[\u001b[0m\u001b[0;36m1\u001b[0m\u001b[0;34m:\u001b[0m\u001b[0;34m]\u001b[0m\u001b[0;34m\u001b[0m\u001b[0;34m\u001b[0m\u001b[0m\n\u001b[0;32m--> 311\u001b[0;31m             yield from self._plot_args(\n\u001b[0m\u001b[1;32m    312\u001b[0m                 this, kwargs, ambiguous_fmt_datakey=ambiguous_fmt_datakey)\n\u001b[1;32m    313\u001b[0m \u001b[0;34m\u001b[0m\u001b[0m\n",
      "\u001b[0;32m/opt/anaconda3/envs/wm_exp/lib/python3.8/site-packages/matplotlib/axes/_base.py\u001b[0m in \u001b[0;36m_plot_args\u001b[0;34m(self, tup, kwargs, return_kwargs, ambiguous_fmt_datakey)\u001b[0m\n\u001b[1;32m    502\u001b[0m \u001b[0;34m\u001b[0m\u001b[0m\n\u001b[1;32m    503\u001b[0m         \u001b[0;32mif\u001b[0m \u001b[0mx\u001b[0m\u001b[0;34m.\u001b[0m\u001b[0mshape\u001b[0m\u001b[0;34m[\u001b[0m\u001b[0;36m0\u001b[0m\u001b[0;34m]\u001b[0m \u001b[0;34m!=\u001b[0m \u001b[0my\u001b[0m\u001b[0;34m.\u001b[0m\u001b[0mshape\u001b[0m\u001b[0;34m[\u001b[0m\u001b[0;36m0\u001b[0m\u001b[0;34m]\u001b[0m\u001b[0;34m:\u001b[0m\u001b[0;34m\u001b[0m\u001b[0;34m\u001b[0m\u001b[0m\n\u001b[0;32m--> 504\u001b[0;31m             raise ValueError(f\"x and y must have same first dimension, but \"\n\u001b[0m\u001b[1;32m    505\u001b[0m                              f\"have shapes {x.shape} and {y.shape}\")\n\u001b[1;32m    506\u001b[0m         \u001b[0;32mif\u001b[0m \u001b[0mx\u001b[0m\u001b[0;34m.\u001b[0m\u001b[0mndim\u001b[0m \u001b[0;34m>\u001b[0m \u001b[0;36m2\u001b[0m \u001b[0;32mor\u001b[0m \u001b[0my\u001b[0m\u001b[0;34m.\u001b[0m\u001b[0mndim\u001b[0m \u001b[0;34m>\u001b[0m \u001b[0;36m2\u001b[0m\u001b[0;34m:\u001b[0m\u001b[0;34m\u001b[0m\u001b[0;34m\u001b[0m\u001b[0m\n",
      "\u001b[0;31mValueError\u001b[0m: x and y must have same first dimension, but have shapes (76,) and (12,)"
     ]
    },
    {
     "data": {
      "image/png": "[encoded data removed]",
      "text/plain": [
       "<Figure size 640x480 with 1 Axes>"
      ]
     },
     "metadata": {},
     "output_type": "display_data"
    }
   ],
   "source": [
    "plt.plot(np.rad2deg(xxx+w2/2),np.rad2deg(m_err))"
   ]
  },
  {
   "cell_type": "code",
   "execution_count": 242,
   "metadata": {},
   "outputs": [
    {
     "data": {
      "text/html": [
       "<div>\n",
       "<style scoped>\n",
       "    .dataframe tbody tr th:only-of-type {\n",
       "        vertical-align: middle;\n",
       "    }\n",
       "\n",
       "    .dataframe tbody tr th {\n",
       "        vertical-align: top;\n",
       "    }\n",
       "\n",
       "    .dataframe thead th {\n",
       "        text-align: right;\n",
       "    }\n",
       "</style>\n",
       "<table border=\"1\" class=\"dataframe\">\n",
       "  <thead>\n",
       "    <tr style=\"text-align: right;\">\n",
       "      <th></th>\n",
       "      <th>subj</th>\n",
       "      <th>block</th>\n",
       "      <th>trial</th>\n",
       "      <th>prior</th>\n",
       "      <th>ct</th>\n",
       "      <th>delay</th>\n",
       "      <th>preT</th>\n",
       "      <th>T_Angle</th>\n",
       "      <th>preDiff</th>\n",
       "      <th>err</th>\n",
       "      <th>choiceAngle</th>\n",
       "      <th>keypressed</th>\n",
       "      <th>RT</th>\n",
       "      <th>bin_Tangle</th>\n",
       "      <th>bin_preDiff</th>\n",
       "      <th>bin_err</th>\n",
       "      <th>bin_preDiffbinrads</th>\n",
       "      <th>err_rads</th>\n",
       "    </tr>\n",
       "  </thead>\n",
       "  <tbody>\n",
       "    <tr>\n",
       "      <th>0</th>\n",
       "      <td>S01</td>\n",
       "      <td>0</td>\n",
       "      <td>1</td>\n",
       "      <td>0</td>\n",
       "      <td>True</td>\n",
       "      <td>3000</td>\n",
       "      <td>77.308098</td>\n",
       "      <td>139.469019</td>\n",
       "      <td>-62.160921</td>\n",
       "      <td>9.760981</td>\n",
       "      <td>149.23</td>\n",
       "      <td>None</td>\n",
       "      <td>5.749991</td>\n",
       "      <td>135.0</td>\n",
       "      <td>-75.0</td>\n",
       "      <td>15.0</td>\n",
       "      <td>-1.308997</td>\n",
       "      <td>0.170361</td>\n",
       "    </tr>\n",
       "    <tr>\n",
       "      <th>1</th>\n",
       "      <td>S01</td>\n",
       "      <td>0</td>\n",
       "      <td>2</td>\n",
       "      <td>0</td>\n",
       "      <td>True</td>\n",
       "      <td>1000</td>\n",
       "      <td>139.469019</td>\n",
       "      <td>78.503047</td>\n",
       "      <td>60.965972</td>\n",
       "      <td>-4.753047</td>\n",
       "      <td>73.75</td>\n",
       "      <td>None</td>\n",
       "      <td>4.33456</td>\n",
       "      <td>75.0</td>\n",
       "      <td>75.0</td>\n",
       "      <td>-15.0</td>\n",
       "      <td>1.308997</td>\n",
       "      <td>-0.082956</td>\n",
       "    </tr>\n",
       "    <tr>\n",
       "      <th>2</th>\n",
       "      <td>S01</td>\n",
       "      <td>0</td>\n",
       "      <td>3</td>\n",
       "      <td>0</td>\n",
       "      <td>False</td>\n",
       "      <td>3000</td>\n",
       "      <td>78.503047</td>\n",
       "      <td>-111.634428</td>\n",
       "      <td>-169.862525</td>\n",
       "      <td>-9.785572</td>\n",
       "      <td>-121.42</td>\n",
       "      <td>None</td>\n",
       "      <td>4.166987</td>\n",
       "      <td>-105.0</td>\n",
       "      <td>-165.0</td>\n",
       "      <td>-15.0</td>\n",
       "      <td>-2.879793</td>\n",
       "      <td>-0.170790</td>\n",
       "    </tr>\n",
       "    <tr>\n",
       "      <th>3</th>\n",
       "      <td>S01</td>\n",
       "      <td>0</td>\n",
       "      <td>4</td>\n",
       "      <td>0</td>\n",
       "      <td>False</td>\n",
       "      <td>3000</td>\n",
       "      <td>-111.634428</td>\n",
       "      <td>-163.381749</td>\n",
       "      <td>51.747321</td>\n",
       "      <td>14.151749</td>\n",
       "      <td>-149.23</td>\n",
       "      <td>None</td>\n",
       "      <td>3.150066</td>\n",
       "      <td>-165.0</td>\n",
       "      <td>45.0</td>\n",
       "      <td>15.0</td>\n",
       "      <td>0.785398</td>\n",
       "      <td>0.246995</td>\n",
       "    </tr>\n",
       "    <tr>\n",
       "      <th>4</th>\n",
       "      <td>S01</td>\n",
       "      <td>0</td>\n",
       "      <td>5</td>\n",
       "      <td>0</td>\n",
       "      <td>False</td>\n",
       "      <td>1000</td>\n",
       "      <td>-163.381749</td>\n",
       "      <td>-35.046439</td>\n",
       "      <td>-128.335310</td>\n",
       "      <td>-12.623561</td>\n",
       "      <td>-47.67</td>\n",
       "      <td>None</td>\n",
       "      <td>6.366445</td>\n",
       "      <td>-45.0</td>\n",
       "      <td>-135.0</td>\n",
       "      <td>-15.0</td>\n",
       "      <td>-2.356194</td>\n",
       "      <td>-0.220323</td>\n",
       "    </tr>\n",
       "    <tr>\n",
       "      <th>...</th>\n",
       "      <td>...</td>\n",
       "      <td>...</td>\n",
       "      <td>...</td>\n",
       "      <td>...</td>\n",
       "      <td>...</td>\n",
       "      <td>...</td>\n",
       "      <td>...</td>\n",
       "      <td>...</td>\n",
       "      <td>...</td>\n",
       "      <td>...</td>\n",
       "      <td>...</td>\n",
       "      <td>...</td>\n",
       "      <td>...</td>\n",
       "      <td>...</td>\n",
       "      <td>...</td>\n",
       "      <td>...</td>\n",
       "      <td>...</td>\n",
       "      <td>...</td>\n",
       "    </tr>\n",
       "    <tr>\n",
       "      <th>1362</th>\n",
       "      <td>S03</td>\n",
       "      <td>9</td>\n",
       "      <td>43</td>\n",
       "      <td>141.5</td>\n",
       "      <td>False</td>\n",
       "      <td>1000</td>\n",
       "      <td>121.396988</td>\n",
       "      <td>120.271245</td>\n",
       "      <td>1.125744</td>\n",
       "      <td>-4.921245</td>\n",
       "      <td>115.35</td>\n",
       "      <td>None</td>\n",
       "      <td>1.983785</td>\n",
       "      <td>135.0</td>\n",
       "      <td>15.0</td>\n",
       "      <td>-15.0</td>\n",
       "      <td>0.261799</td>\n",
       "      <td>-0.085892</td>\n",
       "    </tr>\n",
       "    <tr>\n",
       "      <th>1363</th>\n",
       "      <td>S03</td>\n",
       "      <td>9</td>\n",
       "      <td>44</td>\n",
       "      <td>141.5</td>\n",
       "      <td>False</td>\n",
       "      <td>3000</td>\n",
       "      <td>120.271245</td>\n",
       "      <td>171.793225</td>\n",
       "      <td>-51.521981</td>\n",
       "      <td>-2.703225</td>\n",
       "      <td>169.09</td>\n",
       "      <td>None</td>\n",
       "      <td>1.500116</td>\n",
       "      <td>165.0</td>\n",
       "      <td>-45.0</td>\n",
       "      <td>-15.0</td>\n",
       "      <td>-0.785398</td>\n",
       "      <td>-0.047180</td>\n",
       "    </tr>\n",
       "    <tr>\n",
       "      <th>1364</th>\n",
       "      <td>S03</td>\n",
       "      <td>9</td>\n",
       "      <td>46</td>\n",
       "      <td>141.5</td>\n",
       "      <td>False</td>\n",
       "      <td>1000</td>\n",
       "      <td>100.776084</td>\n",
       "      <td>133.686253</td>\n",
       "      <td>-32.910169</td>\n",
       "      <td>-5.646253</td>\n",
       "      <td>128.04</td>\n",
       "      <td>None</td>\n",
       "      <td>1.833832</td>\n",
       "      <td>135.0</td>\n",
       "      <td>-45.0</td>\n",
       "      <td>-15.0</td>\n",
       "      <td>-0.785398</td>\n",
       "      <td>-0.098546</td>\n",
       "    </tr>\n",
       "    <tr>\n",
       "      <th>1365</th>\n",
       "      <td>S03</td>\n",
       "      <td>9</td>\n",
       "      <td>47</td>\n",
       "      <td>141.5</td>\n",
       "      <td>False</td>\n",
       "      <td>3000</td>\n",
       "      <td>133.686253</td>\n",
       "      <td>55.202445</td>\n",
       "      <td>78.483808</td>\n",
       "      <td>-8.642445</td>\n",
       "      <td>46.56</td>\n",
       "      <td>None</td>\n",
       "      <td>1.416754</td>\n",
       "      <td>45.0</td>\n",
       "      <td>75.0</td>\n",
       "      <td>-15.0</td>\n",
       "      <td>1.308997</td>\n",
       "      <td>-0.150839</td>\n",
       "    </tr>\n",
       "    <tr>\n",
       "      <th>1366</th>\n",
       "      <td>S03</td>\n",
       "      <td>9</td>\n",
       "      <td>49</td>\n",
       "      <td>141.5</td>\n",
       "      <td>False</td>\n",
       "      <td>1000</td>\n",
       "      <td>135.618134</td>\n",
       "      <td>174.229509</td>\n",
       "      <td>-38.611375</td>\n",
       "      <td>2.110491</td>\n",
       "      <td>176.34</td>\n",
       "      <td>None</td>\n",
       "      <td>2.600826</td>\n",
       "      <td>165.0</td>\n",
       "      <td>-45.0</td>\n",
       "      <td>15.0</td>\n",
       "      <td>-0.785398</td>\n",
       "      <td>0.036835</td>\n",
       "    </tr>\n",
       "  </tbody>\n",
       "</table>\n",
       "<p>1367 rows × 18 columns</p>\n",
       "</div>"
      ],
      "text/plain": [
       "0    subj block trial  prior     ct delay        preT     T_Angle     preDiff  \\\n",
       "0     S01     0     1      0   True  3000   77.308098  139.469019  -62.160921   \n",
       "1     S01     0     2      0   True  1000  139.469019   78.503047   60.965972   \n",
       "2     S01     0     3      0  False  3000   78.503047 -111.634428 -169.862525   \n",
       "3     S01     0     4      0  False  3000 -111.634428 -163.381749   51.747321   \n",
       "4     S01     0     5      0  False  1000 -163.381749  -35.046439 -128.335310   \n",
       "...   ...   ...   ...    ...    ...   ...         ...         ...         ...   \n",
       "1362  S03     9    43  141.5  False  1000  121.396988  120.271245    1.125744   \n",
       "1363  S03     9    44  141.5  False  3000  120.271245  171.793225  -51.521981   \n",
       "1364  S03     9    46  141.5  False  1000  100.776084  133.686253  -32.910169   \n",
       "1365  S03     9    47  141.5  False  3000  133.686253   55.202445   78.483808   \n",
       "1366  S03     9    49  141.5  False  1000  135.618134  174.229509  -38.611375   \n",
       "\n",
       "0           err  choiceAngle keypressed        RT bin_Tangle  bin_preDiff  \\\n",
       "0      9.760981       149.23       None  5.749991      135.0        -75.0   \n",
       "1     -4.753047        73.75       None   4.33456       75.0         75.0   \n",
       "2     -9.785572      -121.42       None  4.166987     -105.0       -165.0   \n",
       "3     14.151749      -149.23       None  3.150066     -165.0         45.0   \n",
       "4    -12.623561       -47.67       None  6.366445      -45.0       -135.0   \n",
       "...         ...          ...        ...       ...        ...          ...   \n",
       "1362  -4.921245       115.35       None  1.983785      135.0         15.0   \n",
       "1363  -2.703225       169.09       None  1.500116      165.0        -45.0   \n",
       "1364  -5.646253       128.04       None  1.833832      135.0        -45.0   \n",
       "1365  -8.642445        46.56       None  1.416754       45.0         75.0   \n",
       "1366   2.110491       176.34       None  2.600826      165.0        -45.0   \n",
       "\n",
       "0    bin_err  bin_preDiffbinrads  err_rads  \n",
       "0       15.0           -1.308997  0.170361  \n",
       "1      -15.0            1.308997 -0.082956  \n",
       "2      -15.0           -2.879793 -0.170790  \n",
       "3       15.0            0.785398  0.246995  \n",
       "4      -15.0           -2.356194 -0.220323  \n",
       "...      ...                 ...       ...  \n",
       "1362   -15.0            0.261799 -0.085892  \n",
       "1363   -15.0           -0.785398 -0.047180  \n",
       "1364   -15.0           -0.785398 -0.098546  \n",
       "1365   -15.0            1.308997 -0.150839  \n",
       "1366    15.0           -0.785398  0.036835  \n",
       "\n",
       "[1367 rows x 18 columns]"
      ]
     },
     "execution_count": 242,
     "metadata": {},
     "output_type": "execute_result"
    }
   ],
   "source": [
    "df"
   ]
  },
  {
   "cell_type": "code",
   "execution_count": 243,
   "metadata": {},
   "outputs": [
    {
     "data": {
      "text/plain": [
       "array([], dtype=object)"
      ]
     },
     "execution_count": 243,
     "metadata": {},
     "output_type": "execute_result"
    }
   ],
   "source": [
    "\n",
    "dat = df[(df['subj'] == 'leentrial')]\n",
    "dat['prior'].unique()"
   ]
  },
  {
   "cell_type": "code",
   "execution_count": 244,
   "metadata": {},
   "outputs": [
    {
     "ename": "AttributeError",
     "evalue": "'DataFrame' object has no attribute 'choice_x'",
     "output_type": "error",
     "traceback": [
      "\u001b[0;31m---------------------------------------------------------------------------\u001b[0m",
      "\u001b[0;31mAttributeError\u001b[0m                            Traceback (most recent call last)",
      "\u001b[0;32m/var/folders/r9/cr9dfv5j4v9ghnsqpsk0syy40000gn/T/ipykernel_12190/3083634806.py\u001b[0m in \u001b[0;36m<module>\u001b[0;34m\u001b[0m\n\u001b[1;32m      4\u001b[0m \u001b[0mdat\u001b[0m\u001b[0;34m.\u001b[0m\u001b[0mreset_index\u001b[0m\u001b[0;34m(\u001b[0m\u001b[0mdrop\u001b[0m\u001b[0;34m=\u001b[0m\u001b[0;32mTrue\u001b[0m\u001b[0;34m,\u001b[0m \u001b[0minplace\u001b[0m\u001b[0;34m=\u001b[0m\u001b[0;32mTrue\u001b[0m\u001b[0;34m)\u001b[0m\u001b[0;34m\u001b[0m\u001b[0;34m\u001b[0m\u001b[0m\n\u001b[1;32m      5\u001b[0m \u001b[0;34m\u001b[0m\u001b[0m\n\u001b[0;32m----> 6\u001b[0;31m \u001b[0mradius\u001b[0m \u001b[0;34m=\u001b[0m \u001b[0mnp\u001b[0m\u001b[0;34m.\u001b[0m\u001b[0msqrt\u001b[0m\u001b[0;34m(\u001b[0m\u001b[0mnp\u001b[0m\u001b[0;34m.\u001b[0m\u001b[0mmean\u001b[0m\u001b[0;34m(\u001b[0m\u001b[0mdat\u001b[0m\u001b[0;34m.\u001b[0m\u001b[0mchoice_x\u001b[0m\u001b[0;34m**\u001b[0m\u001b[0;36m2\u001b[0m\u001b[0;34m+\u001b[0m\u001b[0mdat\u001b[0m\u001b[0;34m.\u001b[0m\u001b[0mchoice_y\u001b[0m\u001b[0;34m**\u001b[0m\u001b[0;36m2\u001b[0m\u001b[0;34m)\u001b[0m\u001b[0;34m)\u001b[0m\u001b[0;34m\u001b[0m\u001b[0;34m\u001b[0m\u001b[0m\n\u001b[0m\u001b[1;32m      7\u001b[0m \u001b[0mref_points\u001b[0m \u001b[0;34m=\u001b[0m \u001b[0mnp\u001b[0m\u001b[0;34m.\u001b[0m\u001b[0marray\u001b[0m\u001b[0;34m(\u001b[0m\u001b[0;34m[\u001b[0m\u001b[0;34m[\u001b[0m\u001b[0mradius\u001b[0m\u001b[0;34m*\u001b[0m\u001b[0mnp\u001b[0m\u001b[0;34m.\u001b[0m\u001b[0mcos\u001b[0m\u001b[0;34m(\u001b[0m\u001b[0mnp\u001b[0m\u001b[0;34m.\u001b[0m\u001b[0mdeg2rad\u001b[0m\u001b[0;34m(\u001b[0m\u001b[0mdat\u001b[0m\u001b[0;34m.\u001b[0m\u001b[0mT_Angle\u001b[0m\u001b[0;34m.\u001b[0m\u001b[0miloc\u001b[0m\u001b[0;34m[\u001b[0m\u001b[0mi\u001b[0m\u001b[0;34m]\u001b[0m\u001b[0;34m)\u001b[0m\u001b[0;34m)\u001b[0m\u001b[0;34m,\u001b[0m \u001b[0mradius\u001b[0m\u001b[0;34m*\u001b[0m\u001b[0mnp\u001b[0m\u001b[0;34m.\u001b[0m\u001b[0msin\u001b[0m\u001b[0;34m(\u001b[0m\u001b[0mnp\u001b[0m\u001b[0;34m.\u001b[0m\u001b[0mdeg2rad\u001b[0m\u001b[0;34m(\u001b[0m\u001b[0mdat\u001b[0m\u001b[0;34m.\u001b[0m\u001b[0mT_Angle\u001b[0m\u001b[0;34m.\u001b[0m\u001b[0miloc\u001b[0m\u001b[0;34m[\u001b[0m\u001b[0mi\u001b[0m\u001b[0;34m]\u001b[0m\u001b[0;34m)\u001b[0m\u001b[0;34m)\u001b[0m\u001b[0;34m]\u001b[0m \u001b[0;32mfor\u001b[0m \u001b[0mi\u001b[0m \u001b[0;32min\u001b[0m \u001b[0mrange\u001b[0m\u001b[0;34m(\u001b[0m\u001b[0mlen\u001b[0m\u001b[0;34m(\u001b[0m\u001b[0mdat\u001b[0m\u001b[0;34m)\u001b[0m\u001b[0;34m)\u001b[0m\u001b[0;34m]\u001b[0m\u001b[0;34m)\u001b[0m\u001b[0;34m\u001b[0m\u001b[0;34m\u001b[0m\u001b[0m\n\u001b[1;32m      8\u001b[0m \u001b[0mtsr_points\u001b[0m \u001b[0;34m=\u001b[0m \u001b[0mnp\u001b[0m\u001b[0;34m.\u001b[0m\u001b[0marray\u001b[0m\u001b[0;34m(\u001b[0m\u001b[0;34m[\u001b[0m\u001b[0;34m[\u001b[0m\u001b[0mdat\u001b[0m\u001b[0;34m.\u001b[0m\u001b[0mchoice_x\u001b[0m\u001b[0;34m.\u001b[0m\u001b[0miloc\u001b[0m\u001b[0;34m[\u001b[0m\u001b[0mj\u001b[0m\u001b[0;34m]\u001b[0m\u001b[0;34m,\u001b[0m \u001b[0mdat\u001b[0m\u001b[0;34m.\u001b[0m\u001b[0mchoice_y\u001b[0m\u001b[0;34m.\u001b[0m\u001b[0miloc\u001b[0m\u001b[0;34m[\u001b[0m\u001b[0mj\u001b[0m\u001b[0;34m]\u001b[0m\u001b[0;34m]\u001b[0m \u001b[0;32mfor\u001b[0m \u001b[0mj\u001b[0m \u001b[0;32min\u001b[0m \u001b[0mrange\u001b[0m\u001b[0;34m(\u001b[0m\u001b[0mlen\u001b[0m\u001b[0;34m(\u001b[0m\u001b[0mdat\u001b[0m\u001b[0;34m)\u001b[0m\u001b[0;34m)\u001b[0m\u001b[0;34m]\u001b[0m\u001b[0;34m)\u001b[0m\u001b[0;34m\u001b[0m\u001b[0;34m\u001b[0m\u001b[0m\n",
      "\u001b[0;32m/opt/anaconda3/envs/wm_exp/lib/python3.8/site-packages/pandas/core/generic.py\u001b[0m in \u001b[0;36m__getattr__\u001b[0;34m(self, name)\u001b[0m\n\u001b[1;32m   5485\u001b[0m         ):\n\u001b[1;32m   5486\u001b[0m             \u001b[0;32mreturn\u001b[0m \u001b[0mself\u001b[0m\u001b[0;34m[\u001b[0m\u001b[0mname\u001b[0m\u001b[0;34m]\u001b[0m\u001b[0;34m\u001b[0m\u001b[0;34m\u001b[0m\u001b[0m\n\u001b[0;32m-> 5487\u001b[0;31m         \u001b[0;32mreturn\u001b[0m \u001b[0mobject\u001b[0m\u001b[0;34m.\u001b[0m\u001b[0m__getattribute__\u001b[0m\u001b[0;34m(\u001b[0m\u001b[0mself\u001b[0m\u001b[0;34m,\u001b[0m \u001b[0mname\u001b[0m\u001b[0;34m)\u001b[0m\u001b[0;34m\u001b[0m\u001b[0;34m\u001b[0m\u001b[0m\n\u001b[0m\u001b[1;32m   5488\u001b[0m \u001b[0;34m\u001b[0m\u001b[0m\n\u001b[1;32m   5489\u001b[0m     \u001b[0;32mdef\u001b[0m \u001b[0m__setattr__\u001b[0m\u001b[0;34m(\u001b[0m\u001b[0mself\u001b[0m\u001b[0;34m,\u001b[0m \u001b[0mname\u001b[0m\u001b[0;34m:\u001b[0m \u001b[0mstr\u001b[0m\u001b[0;34m,\u001b[0m \u001b[0mvalue\u001b[0m\u001b[0;34m)\u001b[0m \u001b[0;34m->\u001b[0m \u001b[0;32mNone\u001b[0m\u001b[0;34m:\u001b[0m\u001b[0;34m\u001b[0m\u001b[0;34m\u001b[0m\u001b[0m\n",
      "\u001b[0;31mAttributeError\u001b[0m: 'DataFrame' object has no attribute 'choice_x'"
     ]
    }
   ],
   "source": [
    "dat = df[(df['subj'] == 'leentrial')]\n",
    "dat = dat[(dat['prior'] == -70.2)]\n",
    "\n",
    "dat.reset_index(drop=True, inplace=True)\n",
    "\n",
    "radius = np.sqrt(np.mean(dat.choice_x**2+dat.choice_y**2))\n",
    "ref_points = np.array([[radius*np.cos(np.deg2rad(dat.T_Angle.iloc[i])), radius*np.sin(np.deg2rad(dat.T_Angle.iloc[i]))] for i in range(len(dat))])\n",
    "tsr_points = np.array([[dat.choice_x.iloc[j], dat.choice_y.iloc[j]] for j in range(len(dat))])\n",
    "translation, transformation = compute_affine_transform(ref_points, tsr_points)\n",
    "ref_centroid = np.mean(ref_points, axis=0)\n",
    "tsr_centroid = np.mean(tsr_points, axis=0)\n",
    "new_points = np.empty_like(ref_points)\n",
    "for j in range(len(dat)):\n",
    "    new_points[j] = ref_centroid + np.dot(transformation, tsr_points[j] - tsr_centroid)\n",
    "\n",
    "dat['choiceAngle_corr'] = np.rad2deg(np.arctan2(new_points[:,1], new_points[:,0]))\n",
    "\n",
    "#sns.set_context('poster')\n",
    "T = radians(array(dat['T_Angle']))\n",
    "R = radians(array(dat['choiceAngle']))\n",
    "P = radians(array(dat['preT']))\n",
    "\n",
    "\n",
    "figure(figsize=[5,8])\n",
    "#plt.subplot(4,1,isubj+1)\n",
    "xxx=arange(-pi,pi-w2+w1,w1)\n",
    "flip = False\n",
    "#%%\n",
    "#figure(figsize=(10,8))\n",
    "#err,d,m_err,std_err,count,points_idx = compute_serial(R,T,xxx,flip,False)\n",
    "err,d,m_err,std_err,count,points_idx = compute_serial(R,T,P,xxx,flip,False)\n",
    "#err,d,m_err,std_err,count,points_idx = compute_serial(R,T,np.zeros(np.shape(R)),xxx,flip,False)\n",
    "#err,d,m_err,std_err,count,points_idx = compute_serial(R,T,P,xxx,flip,False)\n",
    "\n",
    "m_err=rad2deg(m_err)\n",
    "std_err=rad2deg(std_err)\n",
    "\n",
    "plot(rad2deg(xxx+w2/2),m_err,linewidth=1.5)\n",
    "fill_between(rad2deg(xxx+w2/2), m_err + std_err, m_err - std_err,alpha=.2)\n",
    "#errorbar(xxx+w2/2,m_err,std_err)\n",
    "plot(rad2deg(xxx+w2/2),zeros(len(xxx)),\"k--\",linewidth=1)\n",
    "\n",
    "xlabel(r'$\\theta_{n-1}^S - \\theta_n^S$ ($^o$)', fontsize=14); ylabel(r'$\\theta_n^e$ ($^o$)', fontsize=14);\n",
    "sns.despine()\n",
    "\n",
    "\n",
    "adict={}\n",
    "adict['m_err']=m_err\n",
    "adict['std_err']=std_err\n",
    "adict['xxx']=xxx\n",
    "adict['w2']=w2"
   ]
  },
  {
   "cell_type": "code",
   "execution_count": 245,
   "metadata": {},
   "outputs": [
    {
     "ename": "IndexError",
     "evalue": "arrays used as indices must be of integer (or boolean) type",
     "output_type": "error",
     "traceback": [
      "\u001b[0;31m---------------------------------------------------------------------------\u001b[0m",
      "\u001b[0;31mIndexError\u001b[0m                                Traceback (most recent call last)",
      "\u001b[0;32m/var/folders/r9/cr9dfv5j4v9ghnsqpsk0syy40000gn/T/ipykernel_12190/3420600625.py\u001b[0m in \u001b[0;36m<module>\u001b[0;34m\u001b[0m\n\u001b[1;32m      6\u001b[0m \u001b[0;31m#figure(figsize=(10,8))\u001b[0m\u001b[0;34m\u001b[0m\u001b[0;34m\u001b[0m\u001b[0;34m\u001b[0m\u001b[0m\n\u001b[1;32m      7\u001b[0m \u001b[0;31m#err,d,m_err,std_err,count,points_idx = compute_serial(R,T,xxx,flip,False)\u001b[0m\u001b[0;34m\u001b[0m\u001b[0;34m\u001b[0m\u001b[0;34m\u001b[0m\u001b[0m\n\u001b[0;32m----> 8\u001b[0;31m \u001b[0merr\u001b[0m\u001b[0;34m,\u001b[0m\u001b[0md\u001b[0m\u001b[0;34m,\u001b[0m\u001b[0mm_err\u001b[0m\u001b[0;34m,\u001b[0m\u001b[0mstd_err\u001b[0m\u001b[0;34m,\u001b[0m\u001b[0mcount\u001b[0m\u001b[0;34m,\u001b[0m\u001b[0mpoints_idx\u001b[0m \u001b[0;34m=\u001b[0m \u001b[0mcompute_serial\u001b[0m\u001b[0;34m(\u001b[0m\u001b[0mR\u001b[0m\u001b[0;34m,\u001b[0m\u001b[0mT\u001b[0m\u001b[0;34m,\u001b[0m\u001b[0mnp\u001b[0m\u001b[0;34m.\u001b[0m\u001b[0mzeros\u001b[0m\u001b[0;34m(\u001b[0m\u001b[0mnp\u001b[0m\u001b[0;34m.\u001b[0m\u001b[0mshape\u001b[0m\u001b[0;34m(\u001b[0m\u001b[0mR\u001b[0m\u001b[0;34m)\u001b[0m\u001b[0;34m)\u001b[0m\u001b[0;34m,\u001b[0m\u001b[0mxxx\u001b[0m\u001b[0;34m,\u001b[0m\u001b[0mflip\u001b[0m\u001b[0;34m,\u001b[0m\u001b[0;32mFalse\u001b[0m\u001b[0;34m)\u001b[0m\u001b[0;34m\u001b[0m\u001b[0;34m\u001b[0m\u001b[0m\n\u001b[0m\u001b[1;32m      9\u001b[0m \u001b[0;31m#err,d,m_err,std_err,count,points_idx = compute_serial(R,T,P,xxx,flip,False)\u001b[0m\u001b[0;34m\u001b[0m\u001b[0;34m\u001b[0m\u001b[0;34m\u001b[0m\u001b[0m\n\u001b[1;32m     10\u001b[0m \u001b[0;34m\u001b[0m\u001b[0m\n",
      "\u001b[0;32m/var/folders/r9/cr9dfv5j4v9ghnsqpsk0syy40000gn/T/ipykernel_12190/2620398712.py\u001b[0m in \u001b[0;36mcompute_serial\u001b[0;34m(x, report, target, ref_target, bins, flip, rm_bias, ref_report)\u001b[0m\n\u001b[1;32m      1\u001b[0m \u001b[0;32mdef\u001b[0m \u001b[0mcompute_serial\u001b[0m\u001b[0;34m(\u001b[0m\u001b[0mx\u001b[0m\u001b[0;34m,\u001b[0m \u001b[0mreport\u001b[0m\u001b[0;34m,\u001b[0m\u001b[0mtarget\u001b[0m\u001b[0;34m,\u001b[0m\u001b[0mref_target\u001b[0m\u001b[0;34m,\u001b[0m\u001b[0mbins\u001b[0m\u001b[0;34m,\u001b[0m\u001b[0mflip\u001b[0m\u001b[0;34m=\u001b[0m\u001b[0;32mNone\u001b[0m\u001b[0;34m,\u001b[0m \u001b[0mrm_bias\u001b[0m \u001b[0;34m=\u001b[0m \u001b[0;32mFalse\u001b[0m\u001b[0;34m,\u001b[0m \u001b[0mref_report\u001b[0m\u001b[0;34m=\u001b[0m\u001b[0;32mFalse\u001b[0m\u001b[0;34m)\u001b[0m\u001b[0;34m:\u001b[0m\u001b[0;34m\u001b[0m\u001b[0;34m\u001b[0m\u001b[0m\n\u001b[0;32m----> 2\u001b[0;31m         \u001b[0mreport\u001b[0m \u001b[0;34m=\u001b[0m \u001b[0mradians\u001b[0m\u001b[0;34m(\u001b[0m\u001b[0mx\u001b[0m\u001b[0;34m[\u001b[0m\u001b[0mreport\u001b[0m\u001b[0;34m]\u001b[0m\u001b[0;34m)\u001b[0m\u001b[0;34m\u001b[0m\u001b[0;34m\u001b[0m\u001b[0m\n\u001b[0m\u001b[1;32m      3\u001b[0m         \u001b[0mtarget\u001b[0m \u001b[0;34m=\u001b[0m \u001b[0mradians\u001b[0m\u001b[0;34m(\u001b[0m\u001b[0mx\u001b[0m\u001b[0;34m[\u001b[0m\u001b[0mtarget\u001b[0m\u001b[0;34m]\u001b[0m\u001b[0;34m)\u001b[0m\u001b[0;34m\u001b[0m\u001b[0;34m\u001b[0m\u001b[0m\n\u001b[1;32m      4\u001b[0m         \u001b[0;32mif\u001b[0m \u001b[0mref_target\u001b[0m \u001b[0;34m==\u001b[0m \u001b[0;34m'null'\u001b[0m\u001b[0;34m:\u001b[0m\u001b[0;34m\u001b[0m\u001b[0;34m\u001b[0m\u001b[0m\n\u001b[1;32m      5\u001b[0m                 \u001b[0mref_target\u001b[0m \u001b[0;34m=\u001b[0m \u001b[0mzeros\u001b[0m\u001b[0;34m(\u001b[0m\u001b[0mlen\u001b[0m\u001b[0;34m(\u001b[0m\u001b[0mtarget\u001b[0m\u001b[0;34m)\u001b[0m\u001b[0;34m)\u001b[0m\u001b[0;34m\u001b[0m\u001b[0;34m\u001b[0m\u001b[0m\n",
      "\u001b[0;31mIndexError\u001b[0m: arrays used as indices must be of integer (or boolean) type"
     ]
    },
    {
     "data": {
      "text/plain": [
       "<Figure size 500x800 with 0 Axes>"
      ]
     },
     "metadata": {},
     "output_type": "display_data"
    }
   ],
   "source": [
    "\n",
    "figure(figsize=[5,8])\n",
    "#plt.subplot(4,1,isubj+1)\n",
    "xxx=arange(-pi,pi-w2+w1,w1)\n",
    "flip = False\n",
    "#%%\n",
    "#figure(figsize=(10,8))\n",
    "#err,d,m_err,std_err,count,points_idx = compute_serial(R,T,xxx,flip,False)\n",
    "err,d,m_err,std_err,count,points_idx = compute_serial(R,T,np.zeros(np.shape(R)),xxx,flip,False)\n",
    "#err,d,m_err,std_err,count,points_idx = compute_serial(R,T,P,xxx,flip,False)\n",
    "\n",
    "m_err=rad2deg(m_err)\n",
    "std_err=rad2deg(std_err)\n",
    "\n",
    "plot(rad2deg(xxx+w2/2),m_err,linewidth=1.5)\n",
    "fill_between(rad2deg(xxx+w2/2), m_err + std_err, m_err - std_err,alpha=.2)\n",
    "#errorbar(xxx+w2/2,m_err,std_err)\n",
    "plot(rad2deg(xxx+w2/2),zeros(len(xxx)),\"k--\",linewidth=1)\n",
    "\n",
    "xlabel(r'$\\theta_{n-1}^S - \\theta_n^S$ ($^o$)', fontsize=14); ylabel(r'$\\theta_n^e$ ($^o$)', fontsize=14);\n",
    "sns.despine()\n",
    "\n",
    "\n",
    "adict={}\n",
    "adict['m_err']=m_err\n",
    "adict['std_err']=std_err\n",
    "adict['xxx']=xxx\n",
    "adict['w2']=w2"
   ]
  }
 ],
 "metadata": {
  "kernelspec": {
   "display_name": "Python 3 (ipykernel)",
   "language": "python",
   "name": "python3"
  },
  "language_info": {
   "codemirror_mode": {
    "name": "ipython",
    "version": 3
   },
   "file_extension": ".py",
   "mimetype": "text/x-python",
   "name": "python",
   "nbconvert_exporter": "python",
   "pygments_lexer": "ipython3",
   "version": "3.8.13"
  },
  "vscode": {
   "interpreter": {
    "hash": "cb7b30cd8bde7b8a961fa834837f79ed4000651b1d624c1829c4e4956513c364"
   }
  }
 },
 "nbformat": 4,
 "nbformat_minor": 4
}
